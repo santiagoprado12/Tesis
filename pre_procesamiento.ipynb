{
  "nbformat": 4,
  "nbformat_minor": 0,
  "metadata": {
    "colab": {
      "name": "pre_procesamiento.ipynb",
      "provenance": [],
      "collapsed_sections": [],
      "include_colab_link": true
    },
    "kernelspec": {
      "name": "python3",
      "display_name": "Python 3"
    }
  },
  "cells": [
    {
      "cell_type": "markdown",
      "metadata": {
        "id": "view-in-github",
        "colab_type": "text"
      },
      "source": [
        "<a href=\"https://colab.research.google.com/github/santiagoprado12/Tesis/blob/main/pre_procesamiento.ipynb\" target=\"_parent\"><img src=\"https://colab.research.google.com/assets/colab-badge.svg\" alt=\"Open In Colab\"/></a>"
      ]
    },
    {
      "cell_type": "code",
      "metadata": {
        "colab": {
          "base_uri": "https://localhost:8080/"
        },
        "id": "wmnn0mHftfts",
        "outputId": "2bf7ca0f-0fda-4c49-db3f-72fde0a907a3"
      },
      "source": [
        "# make sure to install these packages before running:\n",
        "#!pip install pandas\n",
        "!pip install sodapy\n",
        "##\n",
        "##\n",
        "import pandas as pd\n",
        "from sodapy import Socrata\n",
        " \n",
        "# Unauthenticated client only works with public data sets. Note 'None'\n",
        "# in place of application token, and no username or password:\n",
        "client = Socrata(\"www.datos.gov.co\", None)\n",
        " \n",
        "# Example authenticated client (needed for non-public datasets):\n",
        "# client = Socrata(www.datos.gov.co,\n",
        "#                  MyAppToken,\n",
        "#                  userame=\"user@example.com\",\n",
        "#                  password=\"AFakePassword\")\n",
        " \n",
        "# First 2000 results, returned as JSON from API / converted to Python list of\n",
        "# dictionaries by sodapy.\n",
        "results = client.get(\"gt2j-8ykr\",limit=2100000) \n",
        " \n",
        "# Convert to pandas DataFrame\n",
        "results_df = pd.DataFrame.from_records(results)"
      ],
      "execution_count": 1,
      "outputs": [
        {
          "output_type": "stream",
          "text": [
            "Collecting sodapy\n",
            "  Downloading https://files.pythonhosted.org/packages/9e/74/95fb7d45bbe7f1de43caac45d7dd4807ef1e15881564a00eef489a3bb5c6/sodapy-2.1.0-py2.py3-none-any.whl\n",
            "Requirement already satisfied: requests>=2.20.0 in /usr/local/lib/python3.6/dist-packages (from sodapy) (2.23.0)\n",
            "Requirement already satisfied: chardet<4,>=3.0.2 in /usr/local/lib/python3.6/dist-packages (from requests>=2.20.0->sodapy) (3.0.4)\n",
            "Requirement already satisfied: urllib3!=1.25.0,!=1.25.1,<1.26,>=1.21.1 in /usr/local/lib/python3.6/dist-packages (from requests>=2.20.0->sodapy) (1.24.3)\n",
            "Requirement already satisfied: idna<3,>=2.5 in /usr/local/lib/python3.6/dist-packages (from requests>=2.20.0->sodapy) (2.10)\n",
            "Requirement already satisfied: certifi>=2017.4.17 in /usr/local/lib/python3.6/dist-packages (from requests>=2.20.0->sodapy) (2020.12.5)\n",
            "Installing collected packages: sodapy\n",
            "Successfully installed sodapy-2.1.0\n"
          ],
          "name": "stdout"
        },
        {
          "output_type": "stream",
          "text": [
            "WARNING:root:Requests made without an app_token will be subject to strict throttling limits.\n"
          ],
          "name": "stderr"
        }
      ]
    },
    {
      "cell_type": "code",
      "metadata": {
        "id": "NT8Htj1mcHKf"
      },
      "source": [
        "import datetime \r\n",
        "import numpy as np"
      ],
      "execution_count": 2,
      "outputs": []
    },
    {
      "cell_type": "code",
      "metadata": {
        "colab": {
          "base_uri": "https://localhost:8080/"
        },
        "id": "dxpiXLHimkAd",
        "outputId": "09d659cd-a240-4020-8f15-b53381a0b5f0"
      },
      "source": [
        "print(pd.isnull(results_df[\"fecha_diagnostico\"]).values.ravel().sum())#Cuantos NA hay en la columna de fecha de diagnóstico\n",
        " \n",
        "results_df[\"fecha_diagnostico\"]=results_df[\"fecha_diagnostico\"].fillna(method=\"ffill\")#rellenar con el ultimo valor diferente de NAN"
      ],
      "execution_count": 3,
      "outputs": [
        {
          "output_type": "stream",
          "text": [
            "4283\n"
          ],
          "name": "stdout"
        }
      ]
    },
    {
      "cell_type": "code",
      "metadata": {
        "id": "APDkV59bmtAC"
      },
      "source": [
        "results_df[\"muerte/recuperacion\"]=results_df[\"fecha_recuperado\"] #Creando una columna Muertos/Recuperados donde se pone la fecha de recuperado o en su defecto la de muerte\r\n",
        "results_df[\"muerte/recuperacion\"].fillna(results_df[\"fecha_muerte\"], inplace=True) #Rellenar valores faltantes con las fechas de fallecimientos\r\n",
        "results_df[\"muerte/recuperacion\"]=results_df[\"muerte/recuperacion\"].fillna(method=\"ffill\")#rellenar con el ultimo valor diferente de NAN"
      ],
      "execution_count": 4,
      "outputs": []
    },
    {
      "cell_type": "code",
      "metadata": {
        "id": "cX7ITxSHHZUF"
      },
      "source": [
        "results_df[\"Fecha_diag_date_fmat\"]=[datetime.datetime.strptime(str(x),\"%d/%m/%Y %H:%M:%S\") for x in results_df[\"fecha_diagnostico\"]]#Creando una nueva columna formato datetime\r\n",
        "results_df[\"Fecha_M/R_date_fmat\"]=[datetime.datetime.strptime(str(x),\"%d/%m/%Y %H:%M:%S\") for x in results_df[\"muerte/recuperacion\"]]#Creando una nueva columna formato datetime"
      ],
      "execution_count": null,
      "outputs": []
    },
    {
      "cell_type": "code",
      "metadata": {
        "id": "C1AP66LtG-qD"
      },
      "source": [
        "muertes=results_df[pd.notnull(results_df[\"fecha_muerte\"])][\"fecha_muerte\"]\r\n",
        "muertes_date_fmat=[datetime.datetime.strptime(str(x),\"%d/%m/%Y %H:%M:%S\") for x in muertes]#Creando una nueva columna formato datetime\r\n",
        "df_muertes_date_fmat=pd.DataFrame({'muertes': muertes_date_fmat})"
      ],
      "execution_count": 28,
      "outputs": []
    },
    {
      "cell_type": "code",
      "metadata": {
        "colab": {
          "base_uri": "https://localhost:8080/",
          "height": 224
        },
        "id": "AquP989Pilvs",
        "outputId": "aa9e7590-ffca-4e1e-9556-5de6857e3486"
      },
      "source": [
        "results_df.head()"
      ],
      "execution_count": 7,
      "outputs": [
        {
          "output_type": "execute_result",
          "data": {
            "text/html": [
              "<div>\n",
              "<style scoped>\n",
              "    .dataframe tbody tr th:only-of-type {\n",
              "        vertical-align: middle;\n",
              "    }\n",
              "\n",
              "    .dataframe tbody tr th {\n",
              "        vertical-align: top;\n",
              "    }\n",
              "\n",
              "    .dataframe thead th {\n",
              "        text-align: right;\n",
              "    }\n",
              "</style>\n",
              "<table border=\"1\" class=\"dataframe\">\n",
              "  <thead>\n",
              "    <tr style=\"text-align: right;\">\n",
              "      <th></th>\n",
              "      <th>fecha_reporte_web</th>\n",
              "      <th>id_de_caso</th>\n",
              "      <th>fecha_de_notificaci_n</th>\n",
              "      <th>departamento</th>\n",
              "      <th>departamento_nom</th>\n",
              "      <th>ciudad_municipio</th>\n",
              "      <th>ciudad_municipio_nom</th>\n",
              "      <th>edad</th>\n",
              "      <th>unidad_medida</th>\n",
              "      <th>sexo</th>\n",
              "      <th>fuente_tipo_contagio</th>\n",
              "      <th>ubicacion</th>\n",
              "      <th>estado</th>\n",
              "      <th>pais_viajo_1_cod</th>\n",
              "      <th>pais_viajo_1_nom</th>\n",
              "      <th>recuperado</th>\n",
              "      <th>fecha_inicio_sintomas</th>\n",
              "      <th>fecha_diagnostico</th>\n",
              "      <th>fecha_recuperado</th>\n",
              "      <th>tipo_recuperacion</th>\n",
              "      <th>per_etn_</th>\n",
              "      <th>nom_grupo_</th>\n",
              "      <th>fecha_muerte</th>\n",
              "      <th>muerte/recuperacion</th>\n",
              "      <th>Fecha_diag_date_fmat</th>\n",
              "      <th>Fecha_M/R_date_fmat</th>\n",
              "    </tr>\n",
              "  </thead>\n",
              "  <tbody>\n",
              "    <tr>\n",
              "      <th>0</th>\n",
              "      <td>6/3/2020 0:00:00</td>\n",
              "      <td>1</td>\n",
              "      <td>2/3/2020 0:00:00</td>\n",
              "      <td>11</td>\n",
              "      <td>BOGOTA</td>\n",
              "      <td>11001</td>\n",
              "      <td>BOGOTA</td>\n",
              "      <td>19</td>\n",
              "      <td>1</td>\n",
              "      <td>F</td>\n",
              "      <td>Importado</td>\n",
              "      <td>Casa</td>\n",
              "      <td>Leve</td>\n",
              "      <td>380</td>\n",
              "      <td>ITALIA</td>\n",
              "      <td>Recuperado</td>\n",
              "      <td>27/2/2020 0:00:00</td>\n",
              "      <td>6/3/2020 0:00:00</td>\n",
              "      <td>13/3/2020 0:00:00</td>\n",
              "      <td>PCR</td>\n",
              "      <td>6</td>\n",
              "      <td>NaN</td>\n",
              "      <td>NaN</td>\n",
              "      <td>13/3/2020 0:00:00</td>\n",
              "      <td>2020-03-06</td>\n",
              "      <td>2020-03-13</td>\n",
              "    </tr>\n",
              "    <tr>\n",
              "      <th>1</th>\n",
              "      <td>9/3/2020 0:00:00</td>\n",
              "      <td>2</td>\n",
              "      <td>6/3/2020 0:00:00</td>\n",
              "      <td>76</td>\n",
              "      <td>VALLE</td>\n",
              "      <td>76111</td>\n",
              "      <td>BUGA</td>\n",
              "      <td>34</td>\n",
              "      <td>1</td>\n",
              "      <td>M</td>\n",
              "      <td>Importado</td>\n",
              "      <td>Casa</td>\n",
              "      <td>Leve</td>\n",
              "      <td>724</td>\n",
              "      <td>ESPAÑA</td>\n",
              "      <td>Recuperado</td>\n",
              "      <td>4/3/2020 0:00:00</td>\n",
              "      <td>9/3/2020 0:00:00</td>\n",
              "      <td>19/3/2020 0:00:00</td>\n",
              "      <td>PCR</td>\n",
              "      <td>5</td>\n",
              "      <td>NaN</td>\n",
              "      <td>NaN</td>\n",
              "      <td>19/3/2020 0:00:00</td>\n",
              "      <td>2020-03-09</td>\n",
              "      <td>2020-03-19</td>\n",
              "    </tr>\n",
              "    <tr>\n",
              "      <th>2</th>\n",
              "      <td>9/3/2020 0:00:00</td>\n",
              "      <td>3</td>\n",
              "      <td>7/3/2020 0:00:00</td>\n",
              "      <td>5</td>\n",
              "      <td>ANTIOQUIA</td>\n",
              "      <td>5001</td>\n",
              "      <td>MEDELLIN</td>\n",
              "      <td>50</td>\n",
              "      <td>1</td>\n",
              "      <td>F</td>\n",
              "      <td>Importado</td>\n",
              "      <td>Casa</td>\n",
              "      <td>Leve</td>\n",
              "      <td>724</td>\n",
              "      <td>ESPAÑA</td>\n",
              "      <td>Recuperado</td>\n",
              "      <td>29/2/2020 0:00:00</td>\n",
              "      <td>9/3/2020 0:00:00</td>\n",
              "      <td>15/3/2020 0:00:00</td>\n",
              "      <td>PCR</td>\n",
              "      <td>6</td>\n",
              "      <td>NaN</td>\n",
              "      <td>NaN</td>\n",
              "      <td>15/3/2020 0:00:00</td>\n",
              "      <td>2020-03-09</td>\n",
              "      <td>2020-03-15</td>\n",
              "    </tr>\n",
              "    <tr>\n",
              "      <th>3</th>\n",
              "      <td>11/3/2020 0:00:00</td>\n",
              "      <td>4</td>\n",
              "      <td>9/3/2020 0:00:00</td>\n",
              "      <td>5</td>\n",
              "      <td>ANTIOQUIA</td>\n",
              "      <td>5001</td>\n",
              "      <td>MEDELLIN</td>\n",
              "      <td>55</td>\n",
              "      <td>1</td>\n",
              "      <td>M</td>\n",
              "      <td>Relacionado</td>\n",
              "      <td>Casa</td>\n",
              "      <td>Leve</td>\n",
              "      <td>NaN</td>\n",
              "      <td>NaN</td>\n",
              "      <td>Recuperado</td>\n",
              "      <td>6/3/2020 0:00:00</td>\n",
              "      <td>11/3/2020 0:00:00</td>\n",
              "      <td>26/3/2020 0:00:00</td>\n",
              "      <td>PCR</td>\n",
              "      <td>6</td>\n",
              "      <td>NaN</td>\n",
              "      <td>NaN</td>\n",
              "      <td>26/3/2020 0:00:00</td>\n",
              "      <td>2020-03-11</td>\n",
              "      <td>2020-03-26</td>\n",
              "    </tr>\n",
              "    <tr>\n",
              "      <th>4</th>\n",
              "      <td>11/3/2020 0:00:00</td>\n",
              "      <td>5</td>\n",
              "      <td>9/3/2020 0:00:00</td>\n",
              "      <td>5</td>\n",
              "      <td>ANTIOQUIA</td>\n",
              "      <td>5001</td>\n",
              "      <td>MEDELLIN</td>\n",
              "      <td>25</td>\n",
              "      <td>1</td>\n",
              "      <td>M</td>\n",
              "      <td>Relacionado</td>\n",
              "      <td>Casa</td>\n",
              "      <td>Leve</td>\n",
              "      <td>NaN</td>\n",
              "      <td>NaN</td>\n",
              "      <td>Recuperado</td>\n",
              "      <td>8/3/2020 0:00:00</td>\n",
              "      <td>11/3/2020 0:00:00</td>\n",
              "      <td>23/3/2020 0:00:00</td>\n",
              "      <td>PCR</td>\n",
              "      <td>6</td>\n",
              "      <td>NaN</td>\n",
              "      <td>NaN</td>\n",
              "      <td>23/3/2020 0:00:00</td>\n",
              "      <td>2020-03-11</td>\n",
              "      <td>2020-03-23</td>\n",
              "    </tr>\n",
              "  </tbody>\n",
              "</table>\n",
              "</div>"
            ],
            "text/plain": [
              "   fecha_reporte_web id_de_caso  ... Fecha_diag_date_fmat Fecha_M/R_date_fmat\n",
              "0   6/3/2020 0:00:00          1  ...           2020-03-06          2020-03-13\n",
              "1   9/3/2020 0:00:00          2  ...           2020-03-09          2020-03-19\n",
              "2   9/3/2020 0:00:00          3  ...           2020-03-09          2020-03-15\n",
              "3  11/3/2020 0:00:00          4  ...           2020-03-11          2020-03-26\n",
              "4  11/3/2020 0:00:00          5  ...           2020-03-11          2020-03-23\n",
              "\n",
              "[5 rows x 26 columns]"
            ]
          },
          "metadata": {
            "tags": []
          },
          "execution_count": 7
        }
      ]
    },
    {
      "cell_type": "code",
      "metadata": {
        "id": "40NrsqDbJHpi"
      },
      "source": [
        "def ta_todo(f):\r\n",
        "    e=results_df[(results_df[\"Fecha_diag_date_fmat\"]<f) & (f<results_df[\"Fecha_M/R_date_fmat\"])].shape[0]\r\n",
        "    r=results_df[(results_df[\"Fecha_M/R_date_fmat\"]<f) & pd.isnull(results_df[\"fecha_muerte\"])].shape[0]\r\n",
        "    fa=results_df[(results_df[\"Fecha_M/R_date_fmat\"]<f) & ~pd.isnull(results_df[\"fecha_muerte\"])].shape[0]\r\n",
        "    mr=results_df[results_df[\"Fecha_M/R_date_fmat\"]<f].shape[0]\r\n",
        "    ar=results_df[(results_df[\"Fecha_diag_date_fmat\"]<f)].shape[0]\r\n",
        "    return e, r, fa, mr, ar"
      ],
      "execution_count": 10,
      "outputs": []
    },
    {
      "cell_type": "code",
      "metadata": {
        "id": "uCLwIQuZFvBh"
      },
      "source": [
        ""
      ],
      "execution_count": null,
      "outputs": []
    },
    {
      "cell_type": "code",
      "metadata": {
        "id": "USIedfEG8pX_"
      },
      "source": [
        "fecha_mayor=str(results_df[\"fecha_de_notificaci_n\"].unique()[-1])\r\n",
        "fecha_mayor1=datetime.datetime.strptime(str(fecha_mayor),\"%d/%m/%Y %H:%M:%S\")"
      ],
      "execution_count": 11,
      "outputs": []
    },
    {
      "cell_type": "code",
      "metadata": {
        "id": "GJyCzO2M11EK"
      },
      "source": [
        "c=str(results_df[\"fecha_de_notificaci_n\"][0])\r\n",
        "c1=datetime.datetime.strptime(c,\"%d/%m/%Y %H:%M:%S\")\r\n",
        "c2=[c1]\r\n",
        "i=1\r\n",
        "while c2[-1] != fecha_mayor1:\r\n",
        "    c2.append(c2[0]+datetime.timedelta(days=i))\r\n",
        "    i+=1"
      ],
      "execution_count": 12,
      "outputs": []
    },
    {
      "cell_type": "code",
      "metadata": {
        "id": "X7hSHghf9Vel"
      },
      "source": [
        "casos_diarios={}\r\n",
        "casos_diarios[\"fechas\"]=c2\r\n",
        "casos_diarios_DF=pd.DataFrame(data=casos_diarios)"
      ],
      "execution_count": 13,
      "outputs": []
    },
    {
      "cell_type": "code",
      "metadata": {
        "id": "zNFadhql2nvA"
      },
      "source": [
        "casos_diarios_DF.tail()"
      ],
      "execution_count": null,
      "outputs": []
    },
    {
      "cell_type": "code",
      "metadata": {
        "id": "8fbv-mwa_UbA"
      },
      "source": [
        "a=np.array(list(map(ta_todo, casos_diarios_DF[\"fechas\"])))"
      ],
      "execution_count": null,
      "outputs": []
    },
    {
      "cell_type": "code",
      "metadata": {
        "id": "A2wVWmcUEO6z"
      },
      "source": [
        "casos_diarios_DF[\"activos_diarios\"]=list(a[:,0])\r\n",
        "casos_diarios_DF[\"recuperados_diarios\"]=list(a[:,1])\r\n",
        "casos_diarios_DF[\"fallecidos_diarios\"]=list(a[:,3])\r\n",
        "casos_diarios_DF[\"acumulado diarios\"]=list(a[:,4])"
      ],
      "execution_count": null,
      "outputs": []
    },
    {
      "cell_type": "code",
      "metadata": {
        "id": "QWB2FY5xPkWV"
      },
      "source": [
        "#casos_diarios_DF[\"comprobacion\"]=list(map(lambda x, y, z: x+y==z, casos_diarios_DF[\"recuperados_diarios\"],casos_diarios_DF[\"fallecidos_diarios\"],casos_diarios_DF[\"m/r_diarios\"]))"
      ],
      "execution_count": null,
      "outputs": []
    },
    {
      "cell_type": "code",
      "metadata": {
        "id": "k7eTM0yIP6b_"
      },
      "source": [
        "#sum(~casos_diarios_DF[\"comprobacion\"])"
      ],
      "execution_count": null,
      "outputs": []
    },
    {
      "cell_type": "code",
      "metadata": {
        "id": "H2ix1hswYLmN"
      },
      "source": [
        "casos_diarios_DF[\"casos diarios\"]=list(map(lambda f: (results_df[results_df[\"Fecha_diag_date_fmat\"]==f].shape[0]), casos_diarios_DF[\"fechas\"]))\r\n",
        "#casos_diarios_DF[\"fallecidos por dia\"]=list(map(lambda f: (results_df[results_df[\"Fecha_muerte\"]==f].shape[0]), casos_diarios_DF[\"fechas\"]))\r\n",
        "#casos_diarios_DF[\"recuperados por dia\"]=list(map(lambda f: (results_df[results_df[\"Fecha_diag_date_fmat\"]==f].shape[0]), casos_diarios_DF[\"fechas\"]))"
      ],
      "execution_count": 34,
      "outputs": []
    },
    {
      "cell_type": "code",
      "metadata": {
        "id": "syLxfkSSHvoK"
      },
      "source": [
        "casos_diarios_DF[\"fallecidos por dia\"]=list(map(lambda f: (df_muertes_date_fmat[df_muertes_date_fmat['muertes']==f].shape[0]), casos_diarios_DF[\"fechas\"]))"
      ],
      "execution_count": 29,
      "outputs": []
    },
    {
      "cell_type": "code",
      "metadata": {
        "id": "bUIE_2JdeK_6"
      },
      "source": [
        "#results_df[results_df[\"Fecha_diag_date_fmat\"]==casos_diarios_DF[\"fechas\"][300]].shape"
      ],
      "execution_count": null,
      "outputs": []
    },
    {
      "cell_type": "code",
      "metadata": {
        "id": "zvvH6JprN4g3"
      },
      "source": [
        "casos_diarios_DF"
      ],
      "execution_count": null,
      "outputs": []
    },
    {
      "cell_type": "code",
      "metadata": {
        "id": "tI9p8hFCTbMc"
      },
      "source": [
        "import matplotlib.pyplot as plt"
      ],
      "execution_count": 32,
      "outputs": []
    },
    {
      "cell_type": "code",
      "metadata": {
        "colab": {
          "base_uri": "https://localhost:8080/",
          "height": 282
        },
        "id": "-iwWMCoWIoAA",
        "outputId": "91f53b7d-0f24-4b91-f635-91bb79f7bbbd"
      },
      "source": [
        "plt.plot(casos_diarios_DF[\"fechas\"],casos_diarios_DF[\"fallecidos por dia\"])"
      ],
      "execution_count": 33,
      "outputs": [
        {
          "output_type": "execute_result",
          "data": {
            "text/plain": [
              "[<matplotlib.lines.Line2D at 0x7fde08e24e48>]"
            ]
          },
          "metadata": {
            "tags": []
          },
          "execution_count": 33
        },
        {
          "output_type": "display_data",
          "data": {
            "image/png": "[encoded data removed]",
            "text/plain": [
              "<Figure size 432x288 with 1 Axes>"
            ]
          },
          "metadata": {
            "tags": [],
            "needs_background": "light"
          }
        }
      ]
    },
    {
      "cell_type": "code",
      "metadata": {
        "id": "r92RS0jbTc_F"
      },
      "source": [
        "plt.plot(casos_diarios_DF[\"fechas\"],casos_diarios_DF[\"activos_diarios\"])"
      ],
      "execution_count": null,
      "outputs": []
    },
    {
      "cell_type": "code",
      "metadata": {
        "id": "fDWIhZDgTk0c"
      },
      "source": [
        "casos_diarios_DF[\"acumulado diarios\"]=list(map(lambda f: results_df[(results_df[\"Fecha_diag_date_fmat\"]<f)], casos_diarios_DF[\"fechas\"]))\r\n",
        "plt.plot(casos_diarios_DF[\"fechas\"],casos_diarios_DF[\"acumulado diarios\"])\r\n",
        "plt.plot(casos_diarios_DF[\"fechas\"],casos_diarios_DF[\"recuperados_diarios\"])\r\n",
        "plt.plot(casos_diarios_DF[\"fechas\"],casos_diarios_DF[\"fallecidos_diarios\"])"
      ],
      "execution_count": null,
      "outputs": []
    },
    {
      "cell_type": "markdown",
      "metadata": {
        "id": "naPkmXy5CXQB"
      },
      "source": [
        "![Captura de pantalla 2021-02-13 195545.png](data:image/png;base64,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)"
      ]
    },
    {
      "cell_type": "code",
      "metadata": {
        "id": "pw9tGObqWnV_"
      },
      "source": [
        "plt.plot(casos_diarios_DF[\"fechas\"],casos_diarios_DF[\"casos diarios\"])"
      ],
      "execution_count": null,
      "outputs": []
    },
    {
      "cell_type": "code",
      "metadata": {
        "id": "6MWbIANxfDYk"
      },
      "source": [
        "casos_diarios_DF[\"casos diarios\"].max()"
      ],
      "execution_count": null,
      "outputs": []
    },
    {
      "cell_type": "code",
      "metadata": {
        "id": "C9kZVUQxDcTs"
      },
      "source": [
        "casos_diarios_DF[\"casos diarios 7 dias\"] = casos_diarios_DF[\"casos diarios\"].rolling(7, min_periods=1).mean()"
      ],
      "execution_count": null,
      "outputs": []
    },
    {
      "cell_type": "code",
      "metadata": {
        "id": "stsGpIIwOdro"
      },
      "source": [
        "plt.plot(casos_diarios_DF[\"fechas\"],casos_diarios_DF[\"casos diarios\"])\r\n",
        "plt.plot(casos_diarios_DF[\"fechas\"],casos_diarios_DF[\"casos diarios 7 dias\"],linewidth=5)"
      ],
      "execution_count": null,
      "outputs": []
    },
    {
      "cell_type": "code",
      "metadata": {
        "id": "0r5Ehc4eOfrF"
      },
      "source": [
        "data=plt.hist(results_df[\"fecha_reporte_web\"],bins=len(results_df[\"fecha_reporte_web\"].unique())-1)"
      ],
      "execution_count": null,
      "outputs": []
    },
    {
      "cell_type": "code",
      "metadata": {
        "id": "vVnclDOtQ4aa"
      },
      "source": [
        "dataFrameAux={}\r\n",
        "dataFrameAux[\"enfermos dias\"]=data[0]\r\n",
        "dataFrameAux_DF=pd.DataFrame(data=dataFrameAux)\r\n",
        "dataFrameAux_DF[\"enfermos dias media 7 dias\"] = dataFrameAux_DF[\"enfermos dias\"].rolling(7, min_periods=1).mean()"
      ],
      "execution_count": 36,
      "outputs": []
    },
    {
      "cell_type": "code",
      "metadata": {
        "id": "XiT8yLvoSKb_"
      },
      "source": [
        "plt.plot(dataFrameAux_DF[\"enfermos dias\"],)\r\n",
        "plt.plot(dataFrameAux_DF[\"enfermos dias media 7 dias\"], linewidth=5)"
      ],
      "execution_count": null,
      "outputs": []
    },
    {
      "cell_type": "code",
      "metadata": {
        "colab": {
          "base_uri": "https://localhost:8080/",
          "height": 282
        },
        "id": "Xm1X36eTVaaq",
        "outputId": "fdccb0b0-6628-4f10-c9f4-bb3d83bb5f4f"
      },
      "source": [
        "data=plt.hist(results_df[\"fecha_reporte_web\"],bins=len(results_df[\"fecha_reporte_web\"].unique())-1)\r\n",
        "plt.plot(dataFrameAux_DF[\"enfermos dias media 7 dias\"], linewidth=5)"
      ],
      "execution_count": 37,
      "outputs": [
        {
          "output_type": "execute_result",
          "data": {
            "text/plain": [
              "[<matplotlib.lines.Line2D at 0x7fde00159a20>]"
            ]
          },
          "metadata": {
            "tags": []
          },
          "execution_count": 37
        },
        {
          "output_type": "display_data",
          "data": {
            "image/png": "[encoded data removed]",
            "text/plain": [
              "<Figure size 432x288 with 1 Axes>"
            ]
          },
          "metadata": {
            "tags": [],
            "needs_background": "light"
          }
        }
      ]
    },
    {
      "cell_type": "markdown",
      "metadata": {
        "id": "5pMH2YSACf8x"
      },
      "source": [
        "![Captura de pantalla 2021-02-13 195429.png](data:image/png;base64,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)"
      ]
    },
    {
      "cell_type": "code",
      "metadata": {
        "id": "tRsEeYJqXHQt"
      },
      "source": [
        "dataR=plt.hist(results_df[pd.notna(results_df[\"fecha_recuperado\"])][\"fecha_recuperado\"],bins=len(results_df[pd.notna(results_df[\"fecha_recuperado\"])][\"fecha_recuperado\"].unique())-1)"
      ],
      "execution_count": null,
      "outputs": []
    },
    {
      "cell_type": "code",
      "metadata": {
        "id": "5wDDZ3BBY9GU"
      },
      "source": [
        "dataFrameAuxR={}\r\n",
        "dataFrameAuxR[\"recuperados dias\"]=dataR[0]\r\n",
        "dataFrameAuxR_DF=pd.DataFrame(data=dataFrameAuxR)\r\n",
        "dataFrameAuxR_DF[\"recuperados dias media 7 dias\"] = dataFrameAuxR_DF[\"recuperados dias\"].rolling(7, min_periods=1).mean()"
      ],
      "execution_count": null,
      "outputs": []
    },
    {
      "cell_type": "code",
      "metadata": {
        "id": "ghSLCN2ZaQ0o"
      },
      "source": [
        "dataR=plt.hist(results_df[pd.notna(results_df[\"fecha_recuperado\"])][\"fecha_recuperado\"],bins=len(results_df[pd.notna(results_df[\"fecha_recuperado\"])][\"fecha_recuperado\"].unique())-1)\r\n",
        "plt.plot(dataFrameAuxR_DF[\"recuperados dias media 7 dias\"], linewidth=5)"
      ],
      "execution_count": null,
      "outputs": []
    },
    {
      "cell_type": "code",
      "metadata": {
        "id": "PVcuKUw9bHjO"
      },
      "source": [
        "dataM=plt.hist(results_df[pd.notna(results_df[\"fecha_muerte\"])][\"fecha_muerte\"],bins=len(results_df[pd.notna(results_df[\"fecha_muerte\"])][\"fecha_muerte\"].unique())-1)"
      ],
      "execution_count": null,
      "outputs": []
    },
    {
      "cell_type": "code",
      "metadata": {
        "id": "VHQlNMnnbdeL"
      },
      "source": [
        "dataFrameAuxM={}\r\n",
        "dataFrameAuxM[\"muertos dias\"]=dataM[0]\r\n",
        "dataFrameAuxM_DF=pd.DataFrame(data=dataFrameAuxM)\r\n",
        "dataFrameAuxM_DF[\"muertos dias media 7 dias\"] = dataFrameAuxM_DF[\"muertos dias\"].rolling(7, min_periods=1).mean()"
      ],
      "execution_count": null,
      "outputs": []
    },
    {
      "cell_type": "code",
      "metadata": {
        "id": "WzVX-HHyd2ir"
      },
      "source": [
        "dataM=plt.hist(results_df[pd.notna(results_df[\"fecha_muerte\"])][\"fecha_muerte\"],bins=len(results_df[pd.notna(results_df[\"fecha_muerte\"])][\"fecha_muerte\"].unique())-1)\r\n",
        "plt.plot(dataFrameAuxM_DF[\"muertos dias media 7 dias\"], linewidth=5)"
      ],
      "execution_count": null,
      "outputs": []
    },
    {
      "cell_type": "code",
      "metadata": {
        "id": "tqho1fHwd8WJ"
      },
      "source": [
        "dataM=plt.hist(results_df[pd.notna(results_df[\"fecha_muerte\"])][\"fecha_reporte_web\"],bins=len(results_df[pd.notna(results_df[\"fecha_muerte\"])][\"fecha_reporte_web\"].unique())-1)"
      ],
      "execution_count": null,
      "outputs": []
    },
    {
      "cell_type": "code",
      "metadata": {
        "id": "6B5c5DGoMCuQ"
      },
      "source": [
        ""
      ],
      "execution_count": null,
      "outputs": []
    }
  ]
}