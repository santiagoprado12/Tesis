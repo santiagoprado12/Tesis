{
  "nbformat": 4,
  "nbformat_minor": 0,
  "metadata": {
    "colab": {
      "name": "pre_procesamiento.ipynb",
      "provenance": [],
      "collapsed_sections": [],
      "include_colab_link": true
    },
    "kernelspec": {
      "name": "python3",
      "display_name": "Python 3"
    }
  },
  "cells": [
    {
      "cell_type": "markdown",
      "metadata": {
        "id": "view-in-github",
        "colab_type": "text"
      },
      "source": [
        "<a href=\"https://colab.research.google.com/github/santiagoprado12/Tesis/blob/main/pre_procesamiento.ipynb\" target=\"_parent\"><img src=\"https://colab.research.google.com/assets/colab-badge.svg\" alt=\"Open In Colab\"/></a>"
      ]
    },
    {
      "cell_type": "code",
      "metadata": {
        "colab": {
          "base_uri": "https://localhost:8080/"
        },
        "id": "c9uj84mFULZx",
        "outputId": "5d0a6321-fb0c-44c1-81c6-923bcf396a43"
      },
      "source": [
        "!pip install geopandas\r\n",
        "import geopandas\r\n",
        "import datetime \r\n",
        "import numpy as np\r\n",
        "import matplotlib.pyplot as plt\r\n",
        "import plotly.offline as py\r\n",
        "import plotly.graph_objects as go"
      ],
      "execution_count": null,
      "outputs": [
        {
          "output_type": "stream",
          "text": [
            "Requirement already satisfied: geopandas in /usr/local/lib/python3.6/dist-packages (0.8.2)\n",
            "Requirement already satisfied: shapely in /usr/local/lib/python3.6/dist-packages (from geopandas) (1.7.1)\n",
            "Requirement already satisfied: fiona in /usr/local/lib/python3.6/dist-packages (from geopandas) (1.8.18)\n",
            "Requirement already satisfied: pyproj>=2.2.0 in /usr/local/lib/python3.6/dist-packages (from geopandas) (3.0.0.post1)\n",
            "Requirement already satisfied: pandas>=0.23.0 in /usr/local/lib/python3.6/dist-packages (from geopandas) (1.1.5)\n",
            "Requirement already satisfied: attrs>=17 in /usr/local/lib/python3.6/dist-packages (from fiona->geopandas) (20.3.0)\n",
            "Requirement already satisfied: cligj>=0.5 in /usr/local/lib/python3.6/dist-packages (from fiona->geopandas) (0.7.1)\n",
            "Requirement already satisfied: munch in /usr/local/lib/python3.6/dist-packages (from fiona->geopandas) (2.5.0)\n",
            "Requirement already satisfied: click<8,>=4.0 in /usr/local/lib/python3.6/dist-packages (from fiona->geopandas) (7.1.2)\n",
            "Requirement already satisfied: six>=1.7 in /usr/local/lib/python3.6/dist-packages (from fiona->geopandas) (1.15.0)\n",
            "Requirement already satisfied: click-plugins>=1.0 in /usr/local/lib/python3.6/dist-packages (from fiona->geopandas) (1.1.1)\n",
            "Requirement already satisfied: certifi in /usr/local/lib/python3.6/dist-packages (from fiona->geopandas) (2020.12.5)\n",
            "Requirement already satisfied: numpy>=1.15.4 in /usr/local/lib/python3.6/dist-packages (from pandas>=0.23.0->geopandas) (1.19.5)\n",
            "Requirement already satisfied: python-dateutil>=2.7.3 in /usr/local/lib/python3.6/dist-packages (from pandas>=0.23.0->geopandas) (2.8.1)\n",
            "Requirement already satisfied: pytz>=2017.2 in /usr/local/lib/python3.6/dist-packages (from pandas>=0.23.0->geopandas) (2018.9)\n"
          ],
          "name": "stdout"
        }
      ]
    },
    {
      "cell_type": "code",
      "metadata": {
        "colab": {
          "base_uri": "https://localhost:8080/"
        },
        "id": "wmnn0mHftfts",
        "outputId": "277a2328-889e-499e-b6aa-1a8513192bab"
      },
      "source": [
        "# make sure to install these packages before running:\n",
        "#!pip install pandas\n",
        "!pip install sodapy\n",
        "##\n",
        "##\n",
        "import pandas as pd\n",
        "from sodapy import Socrata\n",
        " \n",
        "# Unauthenticated client only works with public data sets. Note 'None'\n",
        "# in place of application token, and no username or password:\n",
        "client = Socrata(\"www.datos.gov.co\", None)\n",
        " \n",
        "# Example authenticated client (needed for non-public datasets):\n",
        "# client = Socrata(www.datos.gov.co,\n",
        "#                  MyAppToken,\n",
        "#                  userame=\"user@example.com\",\n",
        "#                  password=\"AFakePassword\")\n",
        " \n",
        "# First 2000 results, returned as JSON from API / converted to Python list of\n",
        "# dictionaries by sodapy.\n",
        "results = client.get(\"gt2j-8ykr\",limit=2200000) \n",
        " \n",
        "# Convert to pandas DataFrame\n",
        "results_df = pd.DataFrame.from_records(results)\n",
        "\n",
        "################################################################################\n",
        "\n",
        "url = \"https://opendata.arcgis.com/datasets/782122624f364fbdbd7e287b96c4a358_6.geojson\"\n",
        "df = geopandas.read_file(url)"
      ],
      "execution_count": null,
      "outputs": [
        {
          "output_type": "stream",
          "text": [
            "Requirement already satisfied: sodapy in /usr/local/lib/python3.6/dist-packages (2.1.0)\n",
            "Requirement already satisfied: requests>=2.20.0 in /usr/local/lib/python3.6/dist-packages (from sodapy) (2.23.0)\n",
            "Requirement already satisfied: chardet<4,>=3.0.2 in /usr/local/lib/python3.6/dist-packages (from requests>=2.20.0->sodapy) (3.0.4)\n",
            "Requirement already satisfied: urllib3!=1.25.0,!=1.25.1,<1.26,>=1.21.1 in /usr/local/lib/python3.6/dist-packages (from requests>=2.20.0->sodapy) (1.24.3)\n",
            "Requirement already satisfied: certifi>=2017.4.17 in /usr/local/lib/python3.6/dist-packages (from requests>=2.20.0->sodapy) (2020.12.5)\n",
            "Requirement already satisfied: idna<3,>=2.5 in /usr/local/lib/python3.6/dist-packages (from requests>=2.20.0->sodapy) (2.10)\n"
          ],
          "name": "stdout"
        },
        {
          "output_type": "stream",
          "text": [
            "WARNING:root:Requests made without an app_token will be subject to strict throttling limits.\n"
          ],
          "name": "stderr"
        }
      ]
    },
    {
      "cell_type": "code",
      "metadata": {
        "colab": {
          "base_uri": "https://localhost:8080/",
          "height": 224
        },
        "id": "HnW2OiUU8NOv",
        "outputId": "f66d6a2d-513d-4775-b8c6-dbe01bdcc4f4"
      },
      "source": [
        "results_df.head()"
      ],
      "execution_count": null,
      "outputs": [
        {
          "output_type": "execute_result",
          "data": {
            "text/html": [
              "<div>\n",
              "<style scoped>\n",
              "    .dataframe tbody tr th:only-of-type {\n",
              "        vertical-align: middle;\n",
              "    }\n",
              "\n",
              "    .dataframe tbody tr th {\n",
              "        vertical-align: top;\n",
              "    }\n",
              "\n",
              "    .dataframe thead th {\n",
              "        text-align: right;\n",
              "    }\n",
              "</style>\n",
              "<table border=\"1\" class=\"dataframe\">\n",
              "  <thead>\n",
              "    <tr style=\"text-align: right;\">\n",
              "      <th></th>\n",
              "      <th>fecha_reporte_web</th>\n",
              "      <th>id_de_caso</th>\n",
              "      <th>fecha_de_notificaci_n</th>\n",
              "      <th>departamento</th>\n",
              "      <th>departamento_nom</th>\n",
              "      <th>ciudad_municipio</th>\n",
              "      <th>ciudad_municipio_nom</th>\n",
              "      <th>edad</th>\n",
              "      <th>unidad_medida</th>\n",
              "      <th>sexo</th>\n",
              "      <th>fuente_tipo_contagio</th>\n",
              "      <th>ubicacion</th>\n",
              "      <th>estado</th>\n",
              "      <th>pais_viajo_1_cod</th>\n",
              "      <th>pais_viajo_1_nom</th>\n",
              "      <th>recuperado</th>\n",
              "      <th>fecha_inicio_sintomas</th>\n",
              "      <th>fecha_diagnostico</th>\n",
              "      <th>fecha_recuperado</th>\n",
              "      <th>tipo_recuperacion</th>\n",
              "      <th>per_etn_</th>\n",
              "      <th>nom_grupo_</th>\n",
              "      <th>fecha_muerte</th>\n",
              "    </tr>\n",
              "  </thead>\n",
              "  <tbody>\n",
              "    <tr>\n",
              "      <th>0</th>\n",
              "      <td>6/3/2020 0:00:00</td>\n",
              "      <td>1</td>\n",
              "      <td>2/3/2020 0:00:00</td>\n",
              "      <td>11</td>\n",
              "      <td>BOGOTA</td>\n",
              "      <td>11001</td>\n",
              "      <td>BOGOTA</td>\n",
              "      <td>19</td>\n",
              "      <td>1</td>\n",
              "      <td>F</td>\n",
              "      <td>Importado</td>\n",
              "      <td>Casa</td>\n",
              "      <td>Leve</td>\n",
              "      <td>380</td>\n",
              "      <td>ITALIA</td>\n",
              "      <td>Recuperado</td>\n",
              "      <td>27/2/2020 0:00:00</td>\n",
              "      <td>6/3/2020 0:00:00</td>\n",
              "      <td>13/3/2020 0:00:00</td>\n",
              "      <td>PCR</td>\n",
              "      <td>6</td>\n",
              "      <td>NaN</td>\n",
              "      <td>NaN</td>\n",
              "    </tr>\n",
              "    <tr>\n",
              "      <th>1</th>\n",
              "      <td>9/3/2020 0:00:00</td>\n",
              "      <td>2</td>\n",
              "      <td>6/3/2020 0:00:00</td>\n",
              "      <td>76</td>\n",
              "      <td>VALLE</td>\n",
              "      <td>76111</td>\n",
              "      <td>BUGA</td>\n",
              "      <td>34</td>\n",
              "      <td>1</td>\n",
              "      <td>M</td>\n",
              "      <td>Importado</td>\n",
              "      <td>Casa</td>\n",
              "      <td>Leve</td>\n",
              "      <td>724</td>\n",
              "      <td>ESPAÑA</td>\n",
              "      <td>Recuperado</td>\n",
              "      <td>4/3/2020 0:00:00</td>\n",
              "      <td>9/3/2020 0:00:00</td>\n",
              "      <td>19/3/2020 0:00:00</td>\n",
              "      <td>PCR</td>\n",
              "      <td>5</td>\n",
              "      <td>NaN</td>\n",
              "      <td>NaN</td>\n",
              "    </tr>\n",
              "    <tr>\n",
              "      <th>2</th>\n",
              "      <td>9/3/2020 0:00:00</td>\n",
              "      <td>3</td>\n",
              "      <td>7/3/2020 0:00:00</td>\n",
              "      <td>5</td>\n",
              "      <td>ANTIOQUIA</td>\n",
              "      <td>5001</td>\n",
              "      <td>MEDELLIN</td>\n",
              "      <td>50</td>\n",
              "      <td>1</td>\n",
              "      <td>F</td>\n",
              "      <td>Importado</td>\n",
              "      <td>Casa</td>\n",
              "      <td>Leve</td>\n",
              "      <td>724</td>\n",
              "      <td>ESPAÑA</td>\n",
              "      <td>Recuperado</td>\n",
              "      <td>29/2/2020 0:00:00</td>\n",
              "      <td>9/3/2020 0:00:00</td>\n",
              "      <td>15/3/2020 0:00:00</td>\n",
              "      <td>PCR</td>\n",
              "      <td>6</td>\n",
              "      <td>NaN</td>\n",
              "      <td>NaN</td>\n",
              "    </tr>\n",
              "    <tr>\n",
              "      <th>3</th>\n",
              "      <td>11/3/2020 0:00:00</td>\n",
              "      <td>4</td>\n",
              "      <td>9/3/2020 0:00:00</td>\n",
              "      <td>5</td>\n",
              "      <td>ANTIOQUIA</td>\n",
              "      <td>5001</td>\n",
              "      <td>MEDELLIN</td>\n",
              "      <td>55</td>\n",
              "      <td>1</td>\n",
              "      <td>M</td>\n",
              "      <td>Relacionado</td>\n",
              "      <td>Casa</td>\n",
              "      <td>Leve</td>\n",
              "      <td>NaN</td>\n",
              "      <td>NaN</td>\n",
              "      <td>Recuperado</td>\n",
              "      <td>6/3/2020 0:00:00</td>\n",
              "      <td>11/3/2020 0:00:00</td>\n",
              "      <td>26/3/2020 0:00:00</td>\n",
              "      <td>PCR</td>\n",
              "      <td>6</td>\n",
              "      <td>NaN</td>\n",
              "      <td>NaN</td>\n",
              "    </tr>\n",
              "    <tr>\n",
              "      <th>4</th>\n",
              "      <td>11/3/2020 0:00:00</td>\n",
              "      <td>5</td>\n",
              "      <td>9/3/2020 0:00:00</td>\n",
              "      <td>5</td>\n",
              "      <td>ANTIOQUIA</td>\n",
              "      <td>5001</td>\n",
              "      <td>MEDELLIN</td>\n",
              "      <td>25</td>\n",
              "      <td>1</td>\n",
              "      <td>M</td>\n",
              "      <td>Relacionado</td>\n",
              "      <td>Casa</td>\n",
              "      <td>Leve</td>\n",
              "      <td>NaN</td>\n",
              "      <td>NaN</td>\n",
              "      <td>Recuperado</td>\n",
              "      <td>8/3/2020 0:00:00</td>\n",
              "      <td>11/3/2020 0:00:00</td>\n",
              "      <td>23/3/2020 0:00:00</td>\n",
              "      <td>PCR</td>\n",
              "      <td>6</td>\n",
              "      <td>NaN</td>\n",
              "      <td>NaN</td>\n",
              "    </tr>\n",
              "  </tbody>\n",
              "</table>\n",
              "</div>"
            ],
            "text/plain": [
              "   fecha_reporte_web id_de_caso  ... nom_grupo_ fecha_muerte\n",
              "0   6/3/2020 0:00:00          1  ...        NaN          NaN\n",
              "1   9/3/2020 0:00:00          2  ...        NaN          NaN\n",
              "2   9/3/2020 0:00:00          3  ...        NaN          NaN\n",
              "3  11/3/2020 0:00:00          4  ...        NaN          NaN\n",
              "4  11/3/2020 0:00:00          5  ...        NaN          NaN\n",
              "\n",
              "[5 rows x 23 columns]"
            ]
          },
          "metadata": {
            "tags": []
          },
          "execution_count": 123
        }
      ]
    },
    {
      "cell_type": "code",
      "metadata": {
        "colab": {
          "base_uri": "https://localhost:8080/"
        },
        "id": "6CMh4QoOcJKV",
        "outputId": "3e742b76-5e1e-4443-e3ae-59bb71d8a5ef"
      },
      "source": [
        "results_df[\"estado\"].unique()"
      ],
      "execution_count": null,
      "outputs": [
        {
          "output_type": "execute_result",
          "data": {
            "text/plain": [
              "array(['Leve', 'Fallecido', 'N/A', 'Moderado', 'Grave', 'moderado',\n",
              "       'leve', 'LEVE'], dtype=object)"
            ]
          },
          "metadata": {
            "tags": []
          },
          "execution_count": 149
        }
      ]
    },
    {
      "cell_type": "code",
      "metadata": {
        "id": "sTOUaOcEWQCB",
        "colab": {
          "base_uri": "https://localhost:8080/",
          "height": 626
        },
        "outputId": "58f002fc-f478-4a3a-cf65-5b8ffaa53c55"
      },
      "source": [
        "results_df[pd.isnull(results_df[\"tipo_recuperacion\"]) & pd.notnull(results_df[\"fecha_muerte\"])]"
      ],
      "execution_count": null,
      "outputs": [
        {
          "output_type": "execute_result",
          "data": {
            "text/html": [
              "<div>\n",
              "<style scoped>\n",
              "    .dataframe tbody tr th:only-of-type {\n",
              "        vertical-align: middle;\n",
              "    }\n",
              "\n",
              "    .dataframe tbody tr th {\n",
              "        vertical-align: top;\n",
              "    }\n",
              "\n",
              "    .dataframe thead th {\n",
              "        text-align: right;\n",
              "    }\n",
              "</style>\n",
              "<table border=\"1\" class=\"dataframe\">\n",
              "  <thead>\n",
              "    <tr style=\"text-align: right;\">\n",
              "      <th></th>\n",
              "      <th>fecha_reporte_web</th>\n",
              "      <th>id_de_caso</th>\n",
              "      <th>fecha_de_notificaci_n</th>\n",
              "      <th>departamento</th>\n",
              "      <th>departamento_nom</th>\n",
              "      <th>ciudad_municipio</th>\n",
              "      <th>ciudad_municipio_nom</th>\n",
              "      <th>edad</th>\n",
              "      <th>unidad_medida</th>\n",
              "      <th>sexo</th>\n",
              "      <th>fuente_tipo_contagio</th>\n",
              "      <th>ubicacion</th>\n",
              "      <th>estado</th>\n",
              "      <th>pais_viajo_1_cod</th>\n",
              "      <th>pais_viajo_1_nom</th>\n",
              "      <th>recuperado</th>\n",
              "      <th>fecha_inicio_sintomas</th>\n",
              "      <th>fecha_diagnostico</th>\n",
              "      <th>fecha_recuperado</th>\n",
              "      <th>tipo_recuperacion</th>\n",
              "      <th>per_etn_</th>\n",
              "      <th>nom_grupo_</th>\n",
              "      <th>fecha_muerte</th>\n",
              "    </tr>\n",
              "  </thead>\n",
              "  <tbody>\n",
              "    <tr>\n",
              "      <th>151</th>\n",
              "      <td>20/3/2020 0:00:00</td>\n",
              "      <td>152</td>\n",
              "      <td>18/3/2020 0:00:00</td>\n",
              "      <td>11</td>\n",
              "      <td>BOGOTA</td>\n",
              "      <td>11001</td>\n",
              "      <td>BOGOTA</td>\n",
              "      <td>65</td>\n",
              "      <td>1</td>\n",
              "      <td>M</td>\n",
              "      <td>Importado</td>\n",
              "      <td>Fallecido</td>\n",
              "      <td>Fallecido</td>\n",
              "      <td>840</td>\n",
              "      <td>ESTADOS UNIDOS DE AMÉRICA</td>\n",
              "      <td>Fallecido</td>\n",
              "      <td>10/3/2020 0:00:00</td>\n",
              "      <td>20/3/2020 0:00:00</td>\n",
              "      <td>NaN</td>\n",
              "      <td>NaN</td>\n",
              "      <td>6</td>\n",
              "      <td>NaN</td>\n",
              "      <td>5/4/2020 0:00:00</td>\n",
              "    </tr>\n",
              "    <tr>\n",
              "      <th>152</th>\n",
              "      <td>20/3/2020 0:00:00</td>\n",
              "      <td>153</td>\n",
              "      <td>18/3/2020 0:00:00</td>\n",
              "      <td>11</td>\n",
              "      <td>BOGOTA</td>\n",
              "      <td>11001</td>\n",
              "      <td>BOGOTA</td>\n",
              "      <td>53</td>\n",
              "      <td>1</td>\n",
              "      <td>F</td>\n",
              "      <td>Relacionado</td>\n",
              "      <td>Fallecido</td>\n",
              "      <td>Fallecido</td>\n",
              "      <td>NaN</td>\n",
              "      <td>NaN</td>\n",
              "      <td>Fallecido</td>\n",
              "      <td>18/3/2020 0:00:00</td>\n",
              "      <td>20/3/2020 0:00:00</td>\n",
              "      <td>NaN</td>\n",
              "      <td>NaN</td>\n",
              "      <td>6</td>\n",
              "      <td>NaN</td>\n",
              "      <td>6/4/2020 0:00:00</td>\n",
              "    </tr>\n",
              "    <tr>\n",
              "      <th>156</th>\n",
              "      <td>20/3/2020 0:00:00</td>\n",
              "      <td>157</td>\n",
              "      <td>20/3/2020 0:00:00</td>\n",
              "      <td>47001</td>\n",
              "      <td>STA MARTA D.E.</td>\n",
              "      <td>47001</td>\n",
              "      <td>SANTA MARTA</td>\n",
              "      <td>88</td>\n",
              "      <td>1</td>\n",
              "      <td>M</td>\n",
              "      <td>Relacionado</td>\n",
              "      <td>Fallecido</td>\n",
              "      <td>Fallecido</td>\n",
              "      <td>NaN</td>\n",
              "      <td>NaN</td>\n",
              "      <td>Fallecido</td>\n",
              "      <td>12/3/2020 0:00:00</td>\n",
              "      <td>20/3/2020 0:00:00</td>\n",
              "      <td>NaN</td>\n",
              "      <td>NaN</td>\n",
              "      <td>6</td>\n",
              "      <td>NaN</td>\n",
              "      <td>23/3/2020 0:00:00</td>\n",
              "    </tr>\n",
              "    <tr>\n",
              "      <th>187</th>\n",
              "      <td>21/3/2020 0:00:00</td>\n",
              "      <td>188</td>\n",
              "      <td>17/3/2020 0:00:00</td>\n",
              "      <td>76</td>\n",
              "      <td>VALLE</td>\n",
              "      <td>76892</td>\n",
              "      <td>YUMBO</td>\n",
              "      <td>70</td>\n",
              "      <td>1</td>\n",
              "      <td>F</td>\n",
              "      <td>Relacionado</td>\n",
              "      <td>Fallecido</td>\n",
              "      <td>Fallecido</td>\n",
              "      <td>NaN</td>\n",
              "      <td>NaN</td>\n",
              "      <td>Fallecido</td>\n",
              "      <td>8/3/2020 0:00:00</td>\n",
              "      <td>21/3/2020 0:00:00</td>\n",
              "      <td>NaN</td>\n",
              "      <td>NaN</td>\n",
              "      <td>6</td>\n",
              "      <td>NaN</td>\n",
              "      <td>22/3/2020 0:00:00</td>\n",
              "    </tr>\n",
              "    <tr>\n",
              "      <th>196</th>\n",
              "      <td>16/3/2020 0:00:00</td>\n",
              "      <td>197</td>\n",
              "      <td>13/3/2020 0:00:00</td>\n",
              "      <td>13001</td>\n",
              "      <td>CARTAGENA</td>\n",
              "      <td>13001</td>\n",
              "      <td>CARTAGENA</td>\n",
              "      <td>58</td>\n",
              "      <td>1</td>\n",
              "      <td>M</td>\n",
              "      <td>Relacionado</td>\n",
              "      <td>Fallecido</td>\n",
              "      <td>Fallecido</td>\n",
              "      <td>NaN</td>\n",
              "      <td>NaN</td>\n",
              "      <td>Fallecido</td>\n",
              "      <td>6/3/2020 0:00:00</td>\n",
              "      <td>16/3/2020 0:00:00</td>\n",
              "      <td>NaN</td>\n",
              "      <td>NaN</td>\n",
              "      <td>6</td>\n",
              "      <td>NaN</td>\n",
              "      <td>16/3/2020 0:00:00</td>\n",
              "    </tr>\n",
              "    <tr>\n",
              "      <th>...</th>\n",
              "      <td>...</td>\n",
              "      <td>...</td>\n",
              "      <td>...</td>\n",
              "      <td>...</td>\n",
              "      <td>...</td>\n",
              "      <td>...</td>\n",
              "      <td>...</td>\n",
              "      <td>...</td>\n",
              "      <td>...</td>\n",
              "      <td>...</td>\n",
              "      <td>...</td>\n",
              "      <td>...</td>\n",
              "      <td>...</td>\n",
              "      <td>...</td>\n",
              "      <td>...</td>\n",
              "      <td>...</td>\n",
              "      <td>...</td>\n",
              "      <td>...</td>\n",
              "      <td>...</td>\n",
              "      <td>...</td>\n",
              "      <td>...</td>\n",
              "      <td>...</td>\n",
              "      <td>...</td>\n",
              "    </tr>\n",
              "    <tr>\n",
              "      <th>2193855</th>\n",
              "      <td>14/2/2021 0:00:00</td>\n",
              "      <td>2193896</td>\n",
              "      <td>1/2/2021 0:00:00</td>\n",
              "      <td>68</td>\n",
              "      <td>SANTANDER</td>\n",
              "      <td>68081</td>\n",
              "      <td>BARRANCABERMEJA</td>\n",
              "      <td>80</td>\n",
              "      <td>1</td>\n",
              "      <td>F</td>\n",
              "      <td>En estudio</td>\n",
              "      <td>Fallecido</td>\n",
              "      <td>Fallecido</td>\n",
              "      <td>NaN</td>\n",
              "      <td>NaN</td>\n",
              "      <td>Fallecido</td>\n",
              "      <td>27/1/2021 0:00:00</td>\n",
              "      <td>12/2/2021 0:00:00</td>\n",
              "      <td>NaN</td>\n",
              "      <td>NaN</td>\n",
              "      <td>NaN</td>\n",
              "      <td>NaN</td>\n",
              "      <td>9/2/2021 0:00:00</td>\n",
              "    </tr>\n",
              "    <tr>\n",
              "      <th>2194372</th>\n",
              "      <td>14/2/2021 0:00:00</td>\n",
              "      <td>2194413</td>\n",
              "      <td>2/2/2021 0:00:00</td>\n",
              "      <td>73</td>\n",
              "      <td>TOLIMA</td>\n",
              "      <td>73217</td>\n",
              "      <td>COYAIMA</td>\n",
              "      <td>89</td>\n",
              "      <td>1</td>\n",
              "      <td>M</td>\n",
              "      <td>En estudio</td>\n",
              "      <td>Fallecido</td>\n",
              "      <td>Fallecido</td>\n",
              "      <td>NaN</td>\n",
              "      <td>NaN</td>\n",
              "      <td>Fallecido</td>\n",
              "      <td>30/1/2021 0:00:00</td>\n",
              "      <td>13/2/2021 0:00:00</td>\n",
              "      <td>NaN</td>\n",
              "      <td>NaN</td>\n",
              "      <td>NaN</td>\n",
              "      <td>NaN</td>\n",
              "      <td>12/2/2021 0:00:00</td>\n",
              "    </tr>\n",
              "    <tr>\n",
              "      <th>2194557</th>\n",
              "      <td>14/2/2021 0:00:00</td>\n",
              "      <td>2194598</td>\n",
              "      <td>26/12/2020 0:00:00</td>\n",
              "      <td>8</td>\n",
              "      <td>ATLANTICO</td>\n",
              "      <td>8433</td>\n",
              "      <td>MALAMBO</td>\n",
              "      <td>19</td>\n",
              "      <td>1</td>\n",
              "      <td>F</td>\n",
              "      <td>En estudio</td>\n",
              "      <td>N/A</td>\n",
              "      <td>N/A</td>\n",
              "      <td>NaN</td>\n",
              "      <td>NaN</td>\n",
              "      <td>N/A</td>\n",
              "      <td>22/12/2020 0:00:00</td>\n",
              "      <td>13/2/2021 0:00:00</td>\n",
              "      <td>NaN</td>\n",
              "      <td>NaN</td>\n",
              "      <td>NaN</td>\n",
              "      <td>NaN</td>\n",
              "      <td>26/12/2020 0:00:00</td>\n",
              "    </tr>\n",
              "    <tr>\n",
              "      <th>2194664</th>\n",
              "      <td>14/2/2021 0:00:00</td>\n",
              "      <td>2194705</td>\n",
              "      <td>1/2/2021 0:00:00</td>\n",
              "      <td>19</td>\n",
              "      <td>CAUCA</td>\n",
              "      <td>19532</td>\n",
              "      <td>PATIA (EL BORDO)</td>\n",
              "      <td>84</td>\n",
              "      <td>1</td>\n",
              "      <td>M</td>\n",
              "      <td>En estudio</td>\n",
              "      <td>Fallecido</td>\n",
              "      <td>Fallecido</td>\n",
              "      <td>NaN</td>\n",
              "      <td>NaN</td>\n",
              "      <td>Fallecido</td>\n",
              "      <td>27/1/2021 0:00:00</td>\n",
              "      <td>12/2/2021 0:00:00</td>\n",
              "      <td>NaN</td>\n",
              "      <td>NaN</td>\n",
              "      <td>NaN</td>\n",
              "      <td>NaN</td>\n",
              "      <td>12/2/2021 0:00:00</td>\n",
              "    </tr>\n",
              "    <tr>\n",
              "      <th>2194961</th>\n",
              "      <td>14/2/2021 0:00:00</td>\n",
              "      <td>2195002</td>\n",
              "      <td>25/1/2021 0:00:00</td>\n",
              "      <td>25</td>\n",
              "      <td>CUNDINAMARCA</td>\n",
              "      <td>25513</td>\n",
              "      <td>PACHO</td>\n",
              "      <td>82</td>\n",
              "      <td>1</td>\n",
              "      <td>M</td>\n",
              "      <td>En estudio</td>\n",
              "      <td>Fallecido</td>\n",
              "      <td>Fallecido</td>\n",
              "      <td>NaN</td>\n",
              "      <td>NaN</td>\n",
              "      <td>Fallecido</td>\n",
              "      <td>21/1/2021 0:00:00</td>\n",
              "      <td>5/2/2021 0:00:00</td>\n",
              "      <td>NaN</td>\n",
              "      <td>NaN</td>\n",
              "      <td>NaN</td>\n",
              "      <td>NaN</td>\n",
              "      <td>13/2/2021 0:00:00</td>\n",
              "    </tr>\n",
              "  </tbody>\n",
              "</table>\n",
              "<p>64288 rows × 23 columns</p>\n",
              "</div>"
            ],
            "text/plain": [
              "         fecha_reporte_web id_de_caso  ... nom_grupo_        fecha_muerte\n",
              "151      20/3/2020 0:00:00        152  ...        NaN    5/4/2020 0:00:00\n",
              "152      20/3/2020 0:00:00        153  ...        NaN    6/4/2020 0:00:00\n",
              "156      20/3/2020 0:00:00        157  ...        NaN   23/3/2020 0:00:00\n",
              "187      21/3/2020 0:00:00        188  ...        NaN   22/3/2020 0:00:00\n",
              "196      16/3/2020 0:00:00        197  ...        NaN   16/3/2020 0:00:00\n",
              "...                    ...        ...  ...        ...                 ...\n",
              "2193855  14/2/2021 0:00:00    2193896  ...        NaN    9/2/2021 0:00:00\n",
              "2194372  14/2/2021 0:00:00    2194413  ...        NaN   12/2/2021 0:00:00\n",
              "2194557  14/2/2021 0:00:00    2194598  ...        NaN  26/12/2020 0:00:00\n",
              "2194664  14/2/2021 0:00:00    2194705  ...        NaN   12/2/2021 0:00:00\n",
              "2194961  14/2/2021 0:00:00    2195002  ...        NaN   13/2/2021 0:00:00\n",
              "\n",
              "[64288 rows x 23 columns]"
            ]
          },
          "metadata": {
            "tags": []
          },
          "execution_count": 135
        }
      ]
    },
    {
      "cell_type": "code",
      "metadata": {
        "id": "cX7ITxSHHZUF"
      },
      "source": [
        "diagnosticados=results_df[pd.notnull(results_df[\"fecha_de_notificaci_n\"])][\"fecha_de_notificaci_n\"]\r\n",
        "diagnosticados_date_fmat=[datetime.datetime.strptime(str(x),\"%d/%m/%Y %H:%M:%S\") for x in diagnosticados]#Creando una nueva columna formato datetime\r\n",
        "df_diagnosticados_date_fmat=pd.DataFrame({'diagnosticados': diagnosticados_date_fmat})"
      ],
      "execution_count": null,
      "outputs": []
    },
    {
      "cell_type": "code",
      "metadata": {
        "id": "C1AP66LtG-qD"
      },
      "source": [
        "muertes=results_df[(pd.notnull(results_df[\"fecha_muerte\"])) & ((results_df[\"recuperado\"]=='fallecido') | (results_df[\"tipo_recuperacion\"]=='Tiempo'))][\"fecha_muerte\"]\r\n",
        "muertes_date_fmat=[datetime.datetime.strptime(str(x),\"%d/%m/%Y %H:%M:%S\") for x in muertes]#Creando una nueva columna formato datetime\r\n",
        "df_muertes_date_fmat=pd.DataFrame({'muertes': muertes_date_fmat})"
      ],
      "execution_count": null,
      "outputs": []
    },
    {
      "cell_type": "code",
      "metadata": {
        "id": "M5fhrl5BbAuh"
      },
      "source": [
        "#recuperados=results_df[(pd.notnull(results_df[\"fecha_recuperado\"]))][\"fecha_recuperado\"]\r\n",
        "recuperados=results_df[results_df[\"recuperado\"]==\"Recuperado\"][\"fecha_recuperado\"]\r\n",
        "recuperados_date_fmat=[datetime.datetime.strptime(str(x),\"%d/%m/%Y %H:%M:%S\") for x in recuperados]#Creando una nueva columna formato datetime\r\n",
        "df_recuperados_date_fmat=pd.DataFrame({'recuperados': recuperados_date_fmat})"
      ],
      "execution_count": null,
      "outputs": []
    },
    {
      "cell_type": "code",
      "metadata": {
        "id": "USIedfEG8pX_"
      },
      "source": [
        "fecha_mayor=str(results_df[\"fecha_de_notificaci_n\"].unique()[-1])\r\n",
        "fecha_mayor1=datetime.datetime.strptime(str(fecha_mayor),\"%d/%m/%Y %H:%M:%S\")"
      ],
      "execution_count": null,
      "outputs": []
    },
    {
      "cell_type": "code",
      "metadata": {
        "id": "GJyCzO2M11EK"
      },
      "source": [
        "c=str(results_df[\"fecha_reporte_web\"][0])\r\n",
        "c1=datetime.datetime.strptime(c,\"%d/%m/%Y %H:%M:%S\")\r\n",
        "c2=[c1]\r\n",
        "i=1\r\n",
        "while c2[-1] != fecha_mayor1:\r\n",
        "    c2.append(c2[0]+datetime.timedelta(days=i))\r\n",
        "    i+=1"
      ],
      "execution_count": null,
      "outputs": []
    },
    {
      "cell_type": "code",
      "metadata": {
        "id": "X7hSHghf9Vel"
      },
      "source": [
        "casos_diarios={}\r\n",
        "casos_diarios[\"fechas\"]=c2\r\n",
        "casos_diarios_DF=pd.DataFrame(data=casos_diarios)"
      ],
      "execution_count": null,
      "outputs": []
    },
    {
      "cell_type": "code",
      "metadata": {
        "id": "zNFadhql2nvA",
        "colab": {
          "base_uri": "https://localhost:8080/",
          "height": 204
        },
        "outputId": "948bba03-7a3b-445c-ecb6-747de5002db1"
      },
      "source": [
        "casos_diarios_DF.tail()"
      ],
      "execution_count": null,
      "outputs": [
        {
          "output_type": "execute_result",
          "data": {
            "text/html": [
              "<div>\n",
              "<style scoped>\n",
              "    .dataframe tbody tr th:only-of-type {\n",
              "        vertical-align: middle;\n",
              "    }\n",
              "\n",
              "    .dataframe tbody tr th {\n",
              "        vertical-align: top;\n",
              "    }\n",
              "\n",
              "    .dataframe thead th {\n",
              "        text-align: right;\n",
              "    }\n",
              "</style>\n",
              "<table border=\"1\" class=\"dataframe\">\n",
              "  <thead>\n",
              "    <tr style=\"text-align: right;\">\n",
              "      <th></th>\n",
              "      <th>fechas</th>\n",
              "    </tr>\n",
              "  </thead>\n",
              "  <tbody>\n",
              "    <tr>\n",
              "      <th>342</th>\n",
              "      <td>2021-02-11</td>\n",
              "    </tr>\n",
              "    <tr>\n",
              "      <th>343</th>\n",
              "      <td>2021-02-12</td>\n",
              "    </tr>\n",
              "    <tr>\n",
              "      <th>344</th>\n",
              "      <td>2021-02-13</td>\n",
              "    </tr>\n",
              "    <tr>\n",
              "      <th>345</th>\n",
              "      <td>2021-02-14</td>\n",
              "    </tr>\n",
              "    <tr>\n",
              "      <th>346</th>\n",
              "      <td>2021-02-15</td>\n",
              "    </tr>\n",
              "  </tbody>\n",
              "</table>\n",
              "</div>"
            ],
            "text/plain": [
              "        fechas\n",
              "342 2021-02-11\n",
              "343 2021-02-12\n",
              "344 2021-02-13\n",
              "345 2021-02-14\n",
              "346 2021-02-15"
            ]
          },
          "metadata": {
            "tags": []
          },
          "execution_count": 108
        }
      ]
    },
    {
      "cell_type": "code",
      "metadata": {
        "colab": {
          "base_uri": "https://localhost:8080/",
          "height": 204
        },
        "id": "sjor1NseZbAl",
        "outputId": "34f46d18-c4f7-4ece-d47b-e17ac2c1140a"
      },
      "source": [
        "fecha_Actu=[f.split('+')[0] for f in df[\"FECHA_ACTUALIZACION\"]]\r\n",
        "FECHA_ACTUALIZACION_DATE_FMAT=[datetime.datetime.strptime(str(x),\"%Y-%m-%dT%H:%M:%S\") for x in fecha_Actu]#Creando una nueva columna formato datetime\r\n",
        "df.tail()"
      ],
      "execution_count": null,
      "outputs": [
        {
          "output_type": "execute_result",
          "data": {
            "text/html": [
              "<div>\n",
              "<style scoped>\n",
              "    .dataframe tbody tr th:only-of-type {\n",
              "        vertical-align: middle;\n",
              "    }\n",
              "\n",
              "    .dataframe tbody tr th {\n",
              "        vertical-align: top;\n",
              "    }\n",
              "\n",
              "    .dataframe thead th {\n",
              "        text-align: right;\n",
              "    }\n",
              "</style>\n",
              "<table border=\"1\" class=\"dataframe\">\n",
              "  <thead>\n",
              "    <tr style=\"text-align: right;\">\n",
              "      <th></th>\n",
              "      <th>OBJECTID</th>\n",
              "      <th>NUEVOS_CASOS</th>\n",
              "      <th>TOTAL_CASOS</th>\n",
              "      <th>TOTAL_MUERTES</th>\n",
              "      <th>TOTAL_RECUPERADOS</th>\n",
              "      <th>FECHA_ACTUALIZACION</th>\n",
              "      <th>GlobalID</th>\n",
              "      <th>NUEVOS_MUERTOS</th>\n",
              "      <th>NUEVO_RECUPERADOS</th>\n",
              "      <th>geometry</th>\n",
              "    </tr>\n",
              "  </thead>\n",
              "  <tbody>\n",
              "    <tr>\n",
              "      <th>342</th>\n",
              "      <td>894</td>\n",
              "      <td>6294</td>\n",
              "      <td>2179641</td>\n",
              "      <td>56983</td>\n",
              "      <td>2065209</td>\n",
              "      <td>2021-02-11T05:00:00+00:00</td>\n",
              "      <td>adea36cc-ce8d-4947-bd3d-52d86fe94f2d</td>\n",
              "      <td>250</td>\n",
              "      <td>9741</td>\n",
              "      <td>None</td>\n",
              "    </tr>\n",
              "    <tr>\n",
              "      <th>343</th>\n",
              "      <td>895</td>\n",
              "      <td>5528</td>\n",
              "      <td>2185169</td>\n",
              "      <td>57196</td>\n",
              "      <td>2072793</td>\n",
              "      <td>2021-02-12T05:00:00+00:00</td>\n",
              "      <td>07fc282f-7f51-4ffd-9c6b-9528eef802df</td>\n",
              "      <td>213</td>\n",
              "      <td>7584</td>\n",
              "      <td>None</td>\n",
              "    </tr>\n",
              "    <tr>\n",
              "      <th>344</th>\n",
              "      <td>896</td>\n",
              "      <td>4947</td>\n",
              "      <td>2190116</td>\n",
              "      <td>57425</td>\n",
              "      <td>2078391</td>\n",
              "      <td>2021-02-13T05:00:00+00:00</td>\n",
              "      <td>6afbf3d0-bbfd-4ba3-8cc8-548c7054c9a2</td>\n",
              "      <td>229</td>\n",
              "      <td>5598</td>\n",
              "      <td>None</td>\n",
              "    </tr>\n",
              "    <tr>\n",
              "      <th>345</th>\n",
              "      <td>897</td>\n",
              "      <td>4923</td>\n",
              "      <td>2195039</td>\n",
              "      <td>57605</td>\n",
              "      <td>2083551</td>\n",
              "      <td>2021-02-14T05:00:00+00:00</td>\n",
              "      <td>3aa97797-a92d-480b-9ec9-efc4afe7426e</td>\n",
              "      <td>180</td>\n",
              "      <td>5160</td>\n",
              "      <td>None</td>\n",
              "    </tr>\n",
              "    <tr>\n",
              "      <th>346</th>\n",
              "      <td>898</td>\n",
              "      <td>3510</td>\n",
              "      <td>2198549</td>\n",
              "      <td>57786</td>\n",
              "      <td>2090467</td>\n",
              "      <td>2021-02-15T05:00:00+00:00</td>\n",
              "      <td>05405380-7cfd-4cca-9830-8da96255b2c2</td>\n",
              "      <td>181</td>\n",
              "      <td>6916</td>\n",
              "      <td>None</td>\n",
              "    </tr>\n",
              "  </tbody>\n",
              "</table>\n",
              "</div>"
            ],
            "text/plain": [
              "     OBJECTID  NUEVOS_CASOS  ...  NUEVO_RECUPERADOS  geometry\n",
              "342       894          6294  ...               9741      None\n",
              "343       895          5528  ...               7584      None\n",
              "344       896          4947  ...               5598      None\n",
              "345       897          4923  ...               5160      None\n",
              "346       898          3510  ...               6916      None\n",
              "\n",
              "[5 rows x 10 columns]"
            ]
          },
          "metadata": {
            "tags": []
          },
          "execution_count": 144
        }
      ]
    },
    {
      "cell_type": "code",
      "metadata": {
        "id": "H2ix1hswYLmN"
      },
      "source": [
        "casos_diarios_DF[\"casos por dia\"]=list(map(lambda f: (df_diagnosticados_date_fmat[df_diagnosticados_date_fmat['diagnosticados']==f].shape[0]), casos_diarios_DF[\"fechas\"]))"
      ],
      "execution_count": null,
      "outputs": []
    },
    {
      "cell_type": "code",
      "metadata": {
        "id": "syLxfkSSHvoK"
      },
      "source": [
        "casos_diarios_DF[\"fallecidos por dia\"]=list(map(lambda f: (df_muertes_date_fmat[df_muertes_date_fmat['muertes']==f].shape[0]), casos_diarios_DF[\"fechas\"]))"
      ],
      "execution_count": null,
      "outputs": []
    },
    {
      "cell_type": "code",
      "metadata": {
        "id": "Vgg4rp4ZbMmL"
      },
      "source": [
        "casos_diarios_DF[\"recuperados por dia\"]=list(map(lambda f: (df_recuperados_date_fmat[df_recuperados_date_fmat['recuperados']==f].shape[0]), casos_diarios_DF[\"fechas\"]))"
      ],
      "execution_count": null,
      "outputs": []
    },
    {
      "cell_type": "code",
      "metadata": {
        "colab": {
          "base_uri": "https://localhost:8080/",
          "height": 542
        },
        "id": "Jc1IXYTF1AXR",
        "outputId": "9060e3df-03dc-4a52-8ddb-4d25a73308d7"
      },
      "source": [
        "fig = go.Figure()\r\n",
        "\r\n",
        "fig.add_trace(go.Scatter(\r\n",
        "    x=casos_diarios_DF[\"fechas\"],\r\n",
        "    y=casos_diarios_DF[\"casos por dia\"],\r\n",
        "    name=\"Preprocesamiento propio\"\r\n",
        "))\r\n",
        "\r\n",
        "\r\n",
        "fig.add_trace(go.Scatter(\r\n",
        "    x=FECHA_ACTUALIZACION_DATE_FMAT,\r\n",
        "    y=df[\"NUEVOS_CASOS\"],\r\n",
        "    name=\"base de datos\"\r\n",
        "))\r\n",
        "\r\n",
        "fig.update_layout(title=\"Casos nuevos por dia\")\r\n",
        "\r\n",
        "fig.update_layout(showlegend=True)\r\n",
        "\r\n",
        "fig.show()"
      ],
      "execution_count": null,
      "outputs": [
        {
          "output_type": "display_data",
          "data": {
            "text/html": [
              "<html>\n",
              "<head><meta charset=\"utf-8\" /></head>\n",
              "<body>\n",
              "    <div>\n",
              "            <script src=\"https://cdnjs.cloudflare.com/ajax/libs/mathjax/2.7.5/MathJax.js?config=TeX-AMS-MML_SVG\"></script><script type=\"text/javascript\">if (window.MathJax) {MathJax.Hub.Config({SVG: {font: \"STIX-Web\"}});}</script>\n",
              "                <script type=\"text/javascript\">window.PlotlyConfig = {MathJaxConfig: 'local'};</script>\n",
              "        <script src=\"https://cdn.plot.ly/plotly-latest.min.js\"></script>    \n",
              "            <div id=\"42107190-0878-45d8-9f43-15d46bbd41e5\" class=\"plotly-graph-div\" style=\"height:525px; width:100%;\"></div>\n",
              "            <script type=\"text/javascript\">\n",
              "                \n",
              "                    window.PLOTLYENV=window.PLOTLYENV || {};\n",
              "                    \n",
              "                if (document.getElementById(\"42107190-0878-45d8-9f43-15d46bbd41e5\")) {\n",
              "                    Plotly.newPlot(\n",
              "                        '42107190-0878-45d8-9f43-15d46bbd41e5',\n",
              "                        [{\"name\": \"Preprocesamiento propio\", \"type\": \"scatter\", \"x\": [\"2020-03-06T00:00:00\", \"2020-03-07T00:00:00\", \"2020-03-08T00:00:00\", \"2020-03-09T00:00:00\", \"2020-03-10T00:00:00\", \"2020-03-11T00:00:00\", \"2020-03-12T00:00:00\", \"2020-03-13T00:00:00\", \"2020-03-14T00:00:00\", \"2020-03-15T00:00:00\", \"2020-03-16T00:00:00\", \"2020-03-17T00:00:00\", \"2020-03-18T00:00:00\", \"2020-03-19T00:00:00\", \"2020-03-20T00:00:00\", \"2020-03-21T00:00:00\", \"2020-03-22T00:00:00\", \"2020-03-23T00:00:00\", \"2020-03-24T00:00:00\", \"2020-03-25T00:00:00\", \"2020-03-26T00:00:00\", \"2020-03-27T00:00:00\", \"2020-03-28T00:00:00\", \"2020-03-29T00:00:00\", \"2020-03-30T00:00:00\", \"2020-03-31T00:00:00\", \"2020-04-01T00:00:00\", \"2020-04-02T00:00:00\", \"2020-04-03T00:00:00\", \"2020-04-04T00:00:00\", \"2020-04-05T00:00:00\", \"2020-04-06T00:00:00\", \"2020-04-07T00:00:00\", \"2020-04-08T00:00:00\", \"2020-04-09T00:00:00\", \"2020-04-10T00:00:00\", \"2020-04-11T00:00:00\", \"2020-04-12T00:00:00\", \"2020-04-13T00:00:00\", \"2020-04-14T00:00:00\", \"2020-04-15T00:00:00\", \"2020-04-16T00:00:00\", \"2020-04-17T00:00:00\", \"2020-04-18T00:00:00\", \"2020-04-19T00:00:00\", \"2020-04-20T00:00:00\", \"2020-04-21T00:00:00\", \"2020-04-22T00:00:00\", \"2020-04-23T00:00:00\", \"2020-04-24T00:00:00\", \"2020-04-25T00:00:00\", \"2020-04-26T00:00:00\", \"2020-04-27T00:00:00\", \"2020-04-28T00:00:00\", \"2020-04-29T00:00:00\", \"2020-04-30T00:00:00\", \"2020-05-01T00:00:00\", \"2020-05-02T00:00:00\", \"2020-05-03T00:00:00\", \"2020-05-04T00:00:00\", \"2020-05-05T00:00:00\", \"2020-05-06T00:00:00\", \"2020-05-07T00:00:00\", \"2020-05-08T00:00:00\", \"2020-05-09T00:00:00\", \"2020-05-10T00:00:00\", \"2020-05-11T00:00:00\", \"2020-05-12T00:00:00\", \"2020-05-13T00:00:00\", \"2020-05-14T00:00:00\", \"2020-05-15T00:00:00\", \"2020-05-16T00:00:00\", \"2020-05-17T00:00:00\", \"2020-05-18T00:00:00\", \"2020-05-19T00:00:00\", \"2020-05-20T00:00:00\", \"2020-05-21T00:00:00\", \"2020-05-22T00:00:00\", \"2020-05-23T00:00:00\", \"2020-05-24T00:00:00\", \"2020-05-25T00:00:00\", \"2020-05-26T00:00:00\", \"2020-05-27T00:00:00\", \"2020-05-28T00:00:00\", \"2020-05-29T00:00:00\", \"2020-05-30T00:00:00\", \"2020-05-31T00:00:00\", \"2020-06-01T00:00:00\", \"2020-06-02T00:00:00\", \"2020-06-03T00:00:00\", \"2020-06-04T00:00:00\", \"2020-06-05T00:00:00\", \"2020-06-06T00:00:00\", \"2020-06-07T00:00:00\", \"2020-06-08T00:00:00\", \"2020-06-09T00:00:00\", \"2020-06-10T00:00:00\", \"2020-06-11T00:00:00\", \"2020-06-12T00:00:00\", \"2020-06-13T00:00:00\", \"2020-06-14T00:00:00\", \"2020-06-15T00:00:00\", \"2020-06-16T00:00:00\", \"2020-06-17T00:00:00\", \"2020-06-18T00:00:00\", \"2020-06-19T00:00:00\", \"2020-06-20T00:00:00\", \"2020-06-21T00:00:00\", \"2020-06-22T00:00:00\", \"2020-06-23T00:00:00\", \"2020-06-24T00:00:00\", \"2020-06-25T00:00:00\", \"2020-06-26T00:00:00\", \"2020-06-27T00:00:00\", \"2020-06-28T00:00:00\", \"2020-06-29T00:00:00\", \"2020-06-30T00:00:00\", \"2020-07-01T00:00:00\", \"2020-07-02T00:00:00\", \"2020-07-03T00:00:00\", \"2020-07-04T00:00:00\", \"2020-07-05T00:00:00\", \"2020-07-06T00:00:00\", \"2020-07-07T00:00:00\", \"2020-07-08T00:00:00\", \"2020-07-09T00:00:00\", \"2020-07-10T00:00:00\", \"2020-07-11T00:00:00\", \"2020-07-12T00:00:00\", \"2020-07-13T00:00:00\", \"2020-07-14T00:00:00\", \"2020-07-15T00:00:00\", \"2020-07-16T00:00:00\", \"2020-07-17T00:00:00\", \"2020-07-18T00:00:00\", \"2020-07-19T00:00:00\", \"2020-07-20T00:00:00\", \"2020-07-21T00:00:00\", \"2020-07-22T00:00:00\", \"2020-07-23T00:00:00\", \"2020-07-24T00:00:00\", \"2020-07-25T00:00:00\", \"2020-07-26T00:00:00\", \"2020-07-27T00:00:00\", \"2020-07-28T00:00:00\", \"2020-07-29T00:00:00\", \"2020-07-30T00:00:00\", \"2020-07-31T00:00:00\", \"2020-08-01T00:00:00\", \"2020-08-02T00:00:00\", \"2020-08-03T00:00:00\", \"2020-08-04T00:00:00\", \"2020-08-05T00:00:00\", \"2020-08-06T00:00:00\", \"2020-08-07T00:00:00\", \"2020-08-08T00:00:00\", \"2020-08-09T00:00:00\", \"2020-08-10T00:00:00\", \"2020-08-11T00:00:00\", \"2020-08-12T00:00:00\", \"2020-08-13T00:00:00\", \"2020-08-14T00:00:00\", \"2020-08-15T00:00:00\", \"2020-08-16T00:00:00\", \"2020-08-17T00:00:00\", \"2020-08-18T00:00:00\", \"2020-08-19T00:00:00\", \"2020-08-20T00:00:00\", \"2020-08-21T00:00:00\", \"2020-08-22T00:00:00\", \"2020-08-23T00:00:00\", \"2020-08-24T00:00:00\", \"2020-08-25T00:00:00\", \"2020-08-26T00:00:00\", \"2020-08-27T00:00:00\", \"2020-08-28T00:00:00\", \"2020-08-29T00:00:00\", \"2020-08-30T00:00:00\", \"2020-08-31T00:00:00\", \"2020-09-01T00:00:00\", \"2020-09-02T00:00:00\", \"2020-09-03T00:00:00\", \"2020-09-04T00:00:00\", \"2020-09-05T00:00:00\", \"2020-09-06T00:00:00\", \"2020-09-07T00:00:00\", \"2020-09-08T00:00:00\", \"2020-09-09T00:00:00\", \"2020-09-10T00:00:00\", \"2020-09-11T00:00:00\", \"2020-09-12T00:00:00\", \"2020-09-13T00:00:00\", \"2020-09-14T00:00:00\", \"2020-09-15T00:00:00\", \"2020-09-16T00:00:00\", \"2020-09-17T00:00:00\", \"2020-09-18T00:00:00\", \"2020-09-19T00:00:00\", \"2020-09-20T00:00:00\", \"2020-09-21T00:00:00\", \"2020-09-22T00:00:00\", \"2020-09-23T00:00:00\", \"2020-09-24T00:00:00\", \"2020-09-25T00:00:00\", \"2020-09-26T00:00:00\", \"2020-09-27T00:00:00\", \"2020-09-28T00:00:00\", \"2020-09-29T00:00:00\", \"2020-09-30T00:00:00\", \"2020-10-01T00:00:00\", \"2020-10-02T00:00:00\", \"2020-10-03T00:00:00\", \"2020-10-04T00:00:00\", \"2020-10-05T00:00:00\", \"2020-10-06T00:00:00\", \"2020-10-07T00:00:00\", \"2020-10-08T00:00:00\", \"2020-10-09T00:00:00\", \"2020-10-10T00:00:00\", \"2020-10-11T00:00:00\", \"2020-10-12T00:00:00\", \"2020-10-13T00:00:00\", \"2020-10-14T00:00:00\", \"2020-10-15T00:00:00\", \"2020-10-16T00:00:00\", \"2020-10-17T00:00:00\", \"2020-10-18T00:00:00\", \"2020-10-19T00:00:00\", \"2020-10-20T00:00:00\", \"2020-10-21T00:00:00\", \"2020-10-22T00:00:00\", \"2020-10-23T00:00:00\", \"2020-10-24T00:00:00\", \"2020-10-25T00:00:00\", \"2020-10-26T00:00:00\", \"2020-10-27T00:00:00\", \"2020-10-28T00:00:00\", \"2020-10-29T00:00:00\", \"2020-10-30T00:00:00\", \"2020-10-31T00:00:00\", \"2020-11-01T00:00:00\", \"2020-11-02T00:00:00\", \"2020-11-03T00:00:00\", \"2020-11-04T00:00:00\", \"2020-11-05T00:00:00\", \"2020-11-06T00:00:00\", \"2020-11-07T00:00:00\", \"2020-11-08T00:00:00\", \"2020-11-09T00:00:00\", \"2020-11-10T00:00:00\", \"2020-11-11T00:00:00\", \"2020-11-12T00:00:00\", \"2020-11-13T00:00:00\", \"2020-11-14T00:00:00\", \"2020-11-15T00:00:00\", \"2020-11-16T00:00:00\", \"2020-11-17T00:00:00\", \"2020-11-18T00:00:00\", \"2020-11-19T00:00:00\", \"2020-11-20T00:00:00\", \"2020-11-21T00:00:00\", \"2020-11-22T00:00:00\", \"2020-11-23T00:00:00\", \"2020-11-24T00:00:00\", \"2020-11-25T00:00:00\", \"2020-11-26T00:00:00\", \"2020-11-27T00:00:00\", \"2020-11-28T00:00:00\", \"2020-11-29T00:00:00\", \"2020-11-30T00:00:00\", \"2020-12-01T00:00:00\", \"2020-12-02T00:00:00\", \"2020-12-03T00:00:00\", \"2020-12-04T00:00:00\", \"2020-12-05T00:00:00\", \"2020-12-06T00:00:00\", \"2020-12-07T00:00:00\", \"2020-12-08T00:00:00\", \"2020-12-09T00:00:00\", \"2020-12-10T00:00:00\", \"2020-12-11T00:00:00\", \"2020-12-12T00:00:00\", \"2020-12-13T00:00:00\", \"2020-12-14T00:00:00\", \"2020-12-15T00:00:00\", \"2020-12-16T00:00:00\", \"2020-12-17T00:00:00\", \"2020-12-18T00:00:00\", \"2020-12-19T00:00:00\", \"2020-12-20T00:00:00\", \"2020-12-21T00:00:00\", \"2020-12-22T00:00:00\", \"2020-12-23T00:00:00\", \"2020-12-24T00:00:00\", \"2020-12-25T00:00:00\", \"2020-12-26T00:00:00\", \"2020-12-27T00:00:00\", \"2020-12-28T00:00:00\", \"2020-12-29T00:00:00\", \"2020-12-30T00:00:00\", \"2020-12-31T00:00:00\", \"2021-01-01T00:00:00\", \"2021-01-02T00:00:00\", \"2021-01-03T00:00:00\", \"2021-01-04T00:00:00\", \"2021-01-05T00:00:00\", \"2021-01-06T00:00:00\", \"2021-01-07T00:00:00\", \"2021-01-08T00:00:00\", \"2021-01-09T00:00:00\", \"2021-01-10T00:00:00\", \"2021-01-11T00:00:00\", \"2021-01-12T00:00:00\", \"2021-01-13T00:00:00\", \"2021-01-14T00:00:00\", \"2021-01-15T00:00:00\", \"2021-01-16T00:00:00\", \"2021-01-17T00:00:00\", \"2021-01-18T00:00:00\", \"2021-01-19T00:00:00\", \"2021-01-20T00:00:00\", \"2021-01-21T00:00:00\", \"2021-01-22T00:00:00\", \"2021-01-23T00:00:00\", \"2021-01-24T00:00:00\", \"2021-01-25T00:00:00\", \"2021-01-26T00:00:00\", \"2021-01-27T00:00:00\", \"2021-01-28T00:00:00\", \"2021-01-29T00:00:00\", \"2021-01-30T00:00:00\", \"2021-01-31T00:00:00\", \"2021-02-01T00:00:00\", \"2021-02-02T00:00:00\", \"2021-02-03T00:00:00\", \"2021-02-04T00:00:00\", \"2021-02-05T00:00:00\", \"2021-02-06T00:00:00\", \"2021-02-07T00:00:00\", \"2021-02-08T00:00:00\", \"2021-02-09T00:00:00\", \"2021-02-10T00:00:00\", \"2021-02-11T00:00:00\", \"2021-02-12T00:00:00\", \"2021-02-13T00:00:00\", \"2021-02-14T00:00:00\", \"2021-02-15T00:00:00\"], \"y\": [1, 1, 2, 3, 4, 8, 11, 13, 20, 19, 29, 42, 44, 69, 78, 80, 82, 94, 140, 162, 159, 160, 166, 139, 194, 190, 196, 166, 187, 160, 101, 152, 157, 126, 142, 121, 248, 157, 187, 238, 168, 255, 178, 205, 221, 216, 220, 248, 301, 308, 304, 253, 407, 515, 381, 475, 467, 461, 397, 511, 789, 750, 774, 979, 742, 476, 731, 874, 846, 1061, 980, 909, 842, 1200, 1162, 1396, 1365, 1413, 1424, 909, 1179, 1517, 1364, 1415, 1408, 1300, 1049, 1743, 1652, 1893, 1786, 2020, 1803, 1468, 2535, 2432, 2791, 2956, 2956, 2480, 1664, 1893, 3759, 3993, 3896, 4008, 3484, 2609, 2947, 5057, 5104, 5188, 5597, 4678, 3579, 3831, 6024, 6278, 6283, 6934, 6387, 4657, 7369, 7085, 7895, 7146, 8190, 6672, 5397, 9533, 9183, 8707, 9468, 9781, 9533, 6361, 6930, 10445, 10382, 10486, 10495, 9407, 6840, 12145, 11832, 10864, 11047, 11599, 9498, 6501, 11082, 10634, 10326, 11917, 7767, 9003, 5814, 10167, 9816, 9932, 10792, 10145, 8290, 6901, 6476, 10186, 9553, 9219, 9360, 7847, 5071, 11666, 9469, 11773, 8203, 7919, 7243, 5504, 8247, 8215, 7272, 8126, 9733, 6254, 4875, 8227, 7545, 7255, 8124, 7504, 6708, 5214, 8106, 7443, 6347, 6311, 7254, 5893, 4227, 7716, 6967, 6435, 6882, 7932, 6698, 5659, 9490, 7568, 8032, 7526, 8995, 6986, 5278, 9995, 8476, 7672, 8097, 7710, 6231, 4795, 4758, 7698, 7703, 8740, 8800, 7855, 5842, 12044, 13123, 10017, 10827, 11415, 8015, 7477, 10955, 9690, 8181, 9078, 8934, 7147, 5473, 5532, 8557, 7282, 7345, 8445, 6643, 5630, 10076, 7629, 6528, 8956, 8710, 6340, 4971, 5888, 7877, 6988, 9291, 8552, 6919, 5563, 10699, 8314, 8149, 9613, 8353, 7218, 4381, 9245, 8843, 8857, 10156, 11062, 9270, 6211, 12357, 6241, 11630, 13932, 13328, 11256, 7295, 12999, 14941, 12655, 14663, 13411, 12716, 9935, 14413, 15666, 13584, 13427, 7657, 14047, 9457, 20003, 17375, 17280, 10135, 4960, 11377, 10328, 21291, 20846, 18850, 20458, 20226, 15902, 10152, 11287, 22019, 20907, 19081, 15055, 11836, 7724, 12883, 12270, 24068, 11532, 11362, 10801, 5970, 9868, 8692, 8005, 7520, 7369, 5791, 3776, 6592, 5096, 4734, 4171, 4047, 3073, 2035, 3988, 3273, 3115, 2743, 1678, 602, 74, 9]}, {\"name\": \"base de datos\", \"type\": \"scatter\", \"x\": [\"2020-03-06T05:00:00\", \"2020-03-07T05:00:00\", \"2020-03-08T05:00:00\", \"2020-03-09T05:00:00\", \"2020-03-10T05:00:00\", \"2020-03-11T05:00:00\", \"2020-03-12T05:00:00\", \"2020-03-13T05:00:00\", \"2020-03-14T05:00:00\", \"2020-03-15T05:00:00\", \"2020-03-16T05:00:00\", \"2020-03-17T05:00:00\", \"2020-03-18T05:00:00\", \"2020-03-19T05:00:00\", \"2020-03-20T05:00:00\", \"2020-03-21T05:00:00\", \"2020-03-22T05:00:00\", \"2020-03-23T05:00:00\", \"2020-03-24T05:00:00\", \"2020-03-25T05:00:00\", \"2020-03-26T05:00:00\", \"2020-03-27T05:00:00\", \"2020-03-28T05:00:00\", \"2020-03-29T05:00:00\", \"2020-03-30T05:00:00\", \"2020-03-31T05:00:00\", \"2020-04-01T05:00:00\", \"2020-04-02T05:00:00\", \"2020-04-03T05:00:00\", \"2020-04-04T05:00:00\", \"2020-04-05T05:00:00\", \"2020-04-06T05:00:00\", \"2020-04-07T05:00:00\", \"2020-04-08T08:38:00\", \"2020-04-09T08:39:00\", \"2020-04-10T05:00:00\", \"2020-04-11T05:00:00\", \"2020-04-12T05:00:00\", \"2020-04-13T05:00:00\", \"2020-04-14T05:00:00\", \"2020-04-15T05:00:00\", \"2020-04-16T05:00:00\", \"2020-04-17T05:00:00\", \"2020-04-18T05:00:00\", \"2020-04-19T05:00:00\", \"2020-04-20T05:00:00\", \"2020-04-21T05:00:00\", \"2020-04-22T05:00:00\", \"2020-04-23T05:00:00\", \"2020-04-24T05:00:00\", \"2020-04-25T05:00:00\", \"2020-04-26T05:00:00\", \"2020-04-27T05:00:00\", \"2020-04-28T05:00:00\", \"2020-04-29T05:00:00\", \"2020-04-30T05:00:00\", \"2020-05-01T05:00:00\", \"2020-05-02T05:00:00\", \"2020-05-03T05:00:00\", \"2020-05-04T05:00:00\", \"2020-05-05T05:00:00\", \"2020-05-06T05:00:00\", \"2020-05-07T05:00:00\", \"2020-05-08T05:00:00\", \"2020-05-09T05:00:00\", \"2020-05-10T05:00:00\", \"2020-05-11T05:00:00\", \"2020-05-12T05:00:00\", \"2020-05-13T05:00:00\", \"2020-05-14T05:00:00\", \"2020-05-15T05:00:00\", \"2020-05-16T05:00:00\", \"2020-05-17T05:00:00\", \"2020-05-18T05:00:00\", \"2020-05-19T05:00:00\", \"2020-05-20T05:00:00\", \"2020-05-21T05:00:00\", \"2020-05-22T05:00:00\", \"2020-05-23T05:00:00\", \"2020-05-24T05:00:00\", \"2020-05-25T05:00:00\", \"2020-05-26T05:00:00\", \"2020-05-27T05:00:00\", \"2020-05-28T05:00:00\", \"2020-05-29T05:00:00\", \"2020-05-30T05:00:00\", \"2020-05-31T05:00:00\", \"2020-06-01T05:00:00\", \"2020-06-02T05:00:00\", \"2020-06-03T05:00:00\", \"2020-06-04T05:00:00\", \"2020-06-05T05:00:00\", \"2020-06-06T05:00:00\", \"2020-06-07T05:00:00\", \"2020-06-08T05:00:00\", \"2020-06-09T05:00:00\", \"2020-06-10T05:00:00\", \"2020-06-11T05:00:00\", \"2020-06-12T05:00:00\", \"2020-06-13T05:00:00\", \"2020-06-14T05:00:00\", \"2020-06-15T05:00:00\", \"2020-06-16T05:00:00\", \"2020-06-17T05:00:00\", \"2020-06-18T05:00:00\", \"2020-06-19T05:00:00\", \"2020-06-20T05:00:00\", \"2020-06-21T05:00:00\", \"2020-06-22T05:00:00\", \"2020-06-23T05:00:00\", \"2020-06-24T05:00:00\", \"2020-06-25T05:00:00\", \"2020-06-26T05:00:00\", \"2020-06-27T05:00:00\", \"2020-06-28T05:00:00\", \"2020-06-29T05:00:00\", \"2020-06-30T05:00:00\", \"2020-07-01T05:00:00\", \"2020-07-02T05:00:00\", \"2020-07-03T05:00:00\", \"2020-07-04T05:00:00\", \"2020-07-05T05:00:00\", \"2020-07-06T05:00:00\", \"2020-07-07T05:00:00\", \"2020-07-08T05:00:00\", \"2020-07-09T05:00:00\", \"2020-07-10T05:00:00\", \"2020-07-11T05:00:00\", \"2020-07-12T05:00:00\", \"2020-07-13T05:00:00\", \"2020-07-14T05:00:00\", \"2020-07-15T05:00:00\", \"2020-07-16T05:00:00\", \"2020-07-17T05:00:00\", \"2020-07-18T05:00:00\", \"2020-07-19T05:00:00\", \"2020-07-20T05:00:00\", \"2020-07-21T05:00:00\", \"2020-07-22T05:00:00\", \"2020-07-23T05:00:00\", \"2020-07-24T05:00:00\", \"2020-07-25T05:00:00\", \"2020-07-26T05:00:00\", \"2020-07-27T05:00:00\", \"2020-07-28T05:00:00\", \"2020-07-29T05:00:00\", \"2020-07-30T05:00:00\", \"2020-07-31T05:00:00\", \"2020-08-01T05:00:00\", \"2020-08-02T05:00:00\", \"2020-08-03T05:00:00\", \"2020-08-04T05:00:00\", \"2020-08-05T05:00:00\", \"2020-08-06T05:00:00\", \"2020-08-07T05:00:00\", \"2020-08-08T05:00:00\", \"2020-08-09T05:00:00\", \"2020-08-10T05:00:00\", \"2020-08-11T05:00:00\", \"2020-08-12T05:00:00\", \"2020-08-13T05:00:00\", \"2020-08-14T05:00:00\", \"2020-08-15T05:00:00\", \"2020-08-16T05:00:00\", \"2020-08-17T05:00:00\", \"2020-08-18T05:00:00\", \"2020-08-19T05:00:00\", \"2020-08-20T05:00:00\", \"2020-08-21T05:00:00\", \"2020-08-22T05:00:00\", \"2020-08-23T05:00:00\", \"2020-08-24T05:00:00\", \"2020-08-25T05:00:00\", \"2020-08-26T05:00:00\", \"2020-08-27T05:00:00\", \"2020-08-28T05:00:00\", \"2020-08-29T05:00:00\", \"2020-08-30T05:00:00\", \"2020-08-31T05:00:00\", \"2020-09-01T05:00:00\", \"2020-09-02T05:00:00\", \"2020-09-03T05:00:00\", \"2020-09-04T05:00:00\", \"2020-09-05T05:00:00\", \"2020-09-06T05:00:00\", \"2020-09-07T05:00:00\", \"2020-09-08T05:00:00\", \"2020-09-09T05:00:00\", \"2020-09-10T05:00:00\", \"2020-09-11T05:00:00\", \"2020-09-12T05:00:00\", \"2020-09-13T05:00:00\", \"2020-09-14T05:00:00\", \"2020-09-15T05:00:00\", \"2020-09-16T05:00:00\", \"2020-09-17T05:00:00\", \"2020-09-18T05:00:00\", \"2020-09-19T05:00:00\", \"2020-09-20T05:00:00\", \"2020-09-21T05:00:00\", \"2020-09-22T05:00:00\", \"2020-09-23T05:00:00\", \"2020-09-24T05:00:00\", \"2020-09-25T05:00:00\", \"2020-09-26T05:00:00\", \"2020-09-27T05:00:00\", \"2020-09-28T05:00:00\", \"2020-09-29T05:00:00\", \"2020-09-30T05:00:00\", \"2020-10-01T05:00:00\", \"2020-10-02T05:00:00\", \"2020-10-03T05:00:00\", \"2020-10-04T05:00:00\", \"2020-10-05T05:00:00\", \"2020-10-06T05:00:00\", \"2020-10-07T05:00:00\", \"2020-10-08T05:00:00\", \"2020-10-09T05:00:00\", \"2020-10-10T05:00:00\", \"2020-10-11T05:00:00\", \"2020-10-12T05:00:00\", \"2020-10-13T05:00:00\", \"2020-10-14T05:00:00\", \"2020-10-15T05:00:00\", \"2020-10-16T05:00:00\", \"2020-10-17T05:00:00\", \"2020-10-18T05:00:00\", \"2020-10-19T05:00:00\", \"2020-10-20T05:00:00\", \"2020-10-21T05:00:00\", \"2020-10-22T05:00:00\", \"2020-10-23T05:00:00\", \"2020-10-24T05:00:00\", \"2020-10-25T05:00:00\", \"2020-10-26T05:00:00\", \"2020-10-27T05:00:00\", \"2020-10-28T05:00:00\", \"2020-10-29T05:00:00\", \"2020-10-30T05:00:00\", \"2020-10-31T05:00:00\", \"2020-11-01T05:00:00\", \"2020-11-02T05:00:00\", \"2020-11-03T05:00:00\", \"2020-11-04T05:00:00\", \"2020-11-05T05:00:00\", \"2020-11-06T05:00:00\", \"2020-11-07T05:00:00\", \"2020-11-08T05:00:00\", \"2020-11-09T05:00:00\", \"2020-11-10T05:00:00\", \"2020-11-11T05:00:00\", \"2020-11-12T05:00:00\", \"2020-11-13T05:00:00\", \"2020-11-14T05:00:00\", \"2020-11-15T05:00:00\", \"2020-11-16T05:00:00\", \"2020-11-17T05:00:00\", \"2020-11-18T05:00:00\", \"2020-11-19T05:00:00\", \"2020-11-20T05:00:00\", \"2020-11-21T05:00:00\", \"2020-11-22T05:00:00\", \"2020-11-23T05:00:00\", \"2020-11-24T05:00:00\", \"2020-11-25T05:00:00\", \"2020-11-26T05:00:00\", \"2020-11-27T05:00:00\", \"2020-11-28T05:00:00\", \"2020-11-29T05:00:00\", \"2020-11-30T05:00:00\", \"2020-12-01T05:00:00\", \"2020-12-02T05:00:00\", \"2020-12-03T05:00:00\", \"2020-12-04T05:00:00\", \"2020-12-05T05:00:00\", \"2020-12-06T05:00:00\", \"2020-12-07T05:00:00\", \"2020-12-08T05:00:00\", \"2020-12-09T05:00:00\", \"2020-12-10T05:00:00\", \"2020-12-11T05:00:00\", \"2020-12-12T05:00:00\", \"2020-12-13T05:00:00\", \"2020-12-14T05:00:00\", \"2020-12-15T05:00:00\", \"2020-12-16T05:00:00\", \"2020-12-17T05:00:00\", \"2020-12-18T05:00:00\", \"2020-12-19T05:00:00\", \"2020-12-20T05:00:00\", \"2020-12-21T05:00:00\", \"2020-12-22T05:00:00\", \"2020-12-23T05:00:00\", \"2020-12-24T05:00:00\", \"2020-12-25T05:00:00\", \"2020-12-26T05:00:00\", \"2020-12-27T05:00:00\", \"2020-12-28T05:00:00\", \"2020-12-29T05:00:00\", \"2020-12-30T05:00:00\", \"2020-12-31T05:00:00\", \"2021-01-01T05:00:00\", \"2021-01-02T05:00:00\", \"2021-01-03T05:00:00\", \"2021-01-04T05:00:00\", \"2021-01-05T05:00:00\", \"2021-01-06T05:00:00\", \"2021-01-07T05:00:00\", \"2021-01-08T05:00:00\", \"2021-01-09T05:00:00\", \"2021-01-10T05:00:00\", \"2021-01-11T05:00:00\", \"2021-01-12T05:00:00\", \"2021-01-13T05:00:00\", \"2021-01-14T05:00:00\", \"2021-01-15T05:00:00\", \"2021-01-16T05:00:00\", \"2021-01-17T05:00:00\", \"2021-01-18T05:00:00\", \"2021-01-19T05:00:00\", \"2021-01-20T05:00:00\", \"2021-01-21T05:00:00\", \"2021-01-22T05:00:00\", \"2021-01-23T05:00:00\", \"2021-01-24T05:00:00\", \"2021-01-25T05:00:00\", \"2021-01-26T05:00:00\", \"2021-01-27T05:00:00\", \"2021-01-28T05:00:00\", \"2021-01-29T05:00:00\", \"2021-01-30T05:00:00\", \"2021-01-31T05:00:00\", \"2021-02-01T05:00:00\", \"2021-02-02T05:00:00\", \"2021-02-03T05:00:00\", \"2021-02-04T05:00:00\", \"2021-02-05T05:00:00\", \"2021-02-06T05:00:00\", \"2021-02-07T05:00:00\", \"2021-02-08T05:00:00\", \"2021-02-09T05:00:00\", \"2021-02-10T05:00:00\", \"2021-02-11T05:00:00\", \"2021-02-12T05:00:00\", \"2021-02-13T05:00:00\", \"2021-02-14T05:00:00\", \"2021-02-15T05:00:00\"], \"y\": [1, 0, 0, 2, 0, 6, 4, 3, 8, 21, 12, 18, 27, 26, 47, 35, 30, 66, 113, 62, 10, 48, 69, 94, 96, 108, 159, 96, 106, 106, 79, 94, 201, 274, 169, 250, 236, 67, 76, 127, 126, 128, 206, 182, 171, 185, 172, 207, 205, 320, 261, 237, 218, 352, 262, 296, 499, 279, 383, 305, 640, 346, 497, 595, 444, 568, 550, 659, 658, 680, 606, 723, 635, 721, 640, 752, 643, 801, 1046, 998, 806, 1022, 1101, 1262, 1322, 1548, 1147, 1110, 1340, 1521, 1766, 1515, 1392, 1209, 1483, 1359, 1604, 1530, 1646, 1888, 2193, 2124, 1868, 2115, 3171, 3059, 2357, 3019, 2531, 2389, 3541, 3486, 3843, 4149, 3178, 3274, 2803, 4163, 4101, 3395, 3884, 3721, 3171, 4213, 4144, 5335, 6803, 4586, 5083, 3832, 5621, 5271, 8037, 8934, 8560, 6578, 6727, 7033, 7390, 7945, 7168, 7254, 8181, 8125, 10284, 8670, 9965, 9488, 10673, 11470, 10199, 7129, 10735, 11996, 9486, 9674, 10611, 10142, 12830, 12066, 11286, 11306, 11578, 11643, 8328, 12462, 13056, 11541, 8419, 10965, 8044, 10549, 10432, 10142, 9752, 8498, 9394, 8024, 7230, 8901, 9270, 8235, 8488, 8394, 8065, 5327, 7665, 7338, 7813, 7424, 6826, 7355, 5573, 6698, 7787, 7568, 6526, 7927, 6678, 5359, 7102, 6731, 6555, 7494, 7721, 7018, 5150, 5836, 5637, 5660, 6192, 6616, 6905, 7106, 7650, 7875, 8496, 8121, 8447, 8569, 7767, 5013, 6063, 6823, 8372, 7017, 7201, 6311, 8256, 7561, 8570, 8672, 8769, 8174, 9167, 8166, 8717, 11187, 10029, 11033, 9137, 9935, 6136, 8692, 9893, 9756, 8714, 7440, 5176, 7612, 8651, 8686, 8685, 8307, 7742, 6471, 5911, 6875, 7487, 7954, 7049, 7924, 6562, 7515, 8497, 9496, 10023, 9103, 8763, 8430, 7986, 9297, 9233, 9285, 9642, 8854, 5997, 7510, 7523, 7778, 8998, 8163, 8702, 8742, 10130, 11953, 12196, 13277, 13990, 11160, 10845, 12526, 14233, 14940, 14941, 10196, 9594, 9310, 11015, 11639, 16314, 12105, 11528, 9412, 10311, 16835, 16805, 17576, 18221, 15795, 15537, 15003, 14179, 15898, 17121, 21078, 20855, 17379, 14719, 15939, 17908, 15366, 15073, 15551, 12516, 12261, 13606, 13953, 12270, 10058, 9173, 8078, 9622, 10091, 11025, 9790, 7248, 8547, 6009, 4246, 5442, 6443, 6294, 5528, 4947, 4923, 3510]}],\n",
              "                        {\"showlegend\": true, \"template\": {\"data\": {\"bar\": [{\"error_x\": {\"color\": \"#2a3f5f\"}, \"error_y\": {\"color\": \"#2a3f5f\"}, \"marker\": {\"line\": {\"color\": \"#E5ECF6\", \"width\": 0.5}}, \"type\": \"bar\"}], \"barpolar\": [{\"marker\": {\"line\": {\"color\": \"#E5ECF6\", \"width\": 0.5}}, \"type\": \"barpolar\"}], \"carpet\": [{\"aaxis\": {\"endlinecolor\": \"#2a3f5f\", \"gridcolor\": \"white\", \"linecolor\": \"white\", \"minorgridcolor\": \"white\", \"startlinecolor\": \"#2a3f5f\"}, \"baxis\": {\"endlinecolor\": \"#2a3f5f\", \"gridcolor\": \"white\", \"linecolor\": \"white\", \"minorgridcolor\": \"white\", \"startlinecolor\": \"#2a3f5f\"}, \"type\": \"carpet\"}], \"choropleth\": [{\"colorbar\": {\"outlinewidth\": 0, \"ticks\": \"\"}, \"type\": \"choropleth\"}], \"contour\": [{\"colorbar\": {\"outlinewidth\": 0, \"ticks\": \"\"}, \"colorscale\": [[0.0, \"#0d0887\"], [0.1111111111111111, \"#46039f\"], [0.2222222222222222, \"#7201a8\"], [0.3333333333333333, \"#9c179e\"], [0.4444444444444444, \"#bd3786\"], [0.5555555555555556, \"#d8576b\"], [0.6666666666666666, \"#ed7953\"], [0.7777777777777778, \"#fb9f3a\"], [0.8888888888888888, \"#fdca26\"], [1.0, \"#f0f921\"]], \"type\": \"contour\"}], \"contourcarpet\": [{\"colorbar\": {\"outlinewidth\": 0, \"ticks\": \"\"}, \"type\": \"contourcarpet\"}], \"heatmap\": [{\"colorbar\": {\"outlinewidth\": 0, \"ticks\": \"\"}, \"colorscale\": [[0.0, \"#0d0887\"], [0.1111111111111111, \"#46039f\"], [0.2222222222222222, \"#7201a8\"], [0.3333333333333333, \"#9c179e\"], [0.4444444444444444, \"#bd3786\"], [0.5555555555555556, \"#d8576b\"], [0.6666666666666666, \"#ed7953\"], [0.7777777777777778, \"#fb9f3a\"], [0.8888888888888888, \"#fdca26\"], [1.0, \"#f0f921\"]], \"type\": \"heatmap\"}], \"heatmapgl\": [{\"colorbar\": {\"outlinewidth\": 0, \"ticks\": \"\"}, \"colorscale\": [[0.0, \"#0d0887\"], [0.1111111111111111, \"#46039f\"], [0.2222222222222222, \"#7201a8\"], [0.3333333333333333, \"#9c179e\"], [0.4444444444444444, \"#bd3786\"], [0.5555555555555556, \"#d8576b\"], [0.6666666666666666, \"#ed7953\"], [0.7777777777777778, \"#fb9f3a\"], [0.8888888888888888, \"#fdca26\"], [1.0, \"#f0f921\"]], \"type\": \"heatmapgl\"}], \"histogram\": [{\"marker\": {\"colorbar\": {\"outlinewidth\": 0, \"ticks\": \"\"}}, \"type\": \"histogram\"}], \"histogram2d\": [{\"colorbar\": {\"outlinewidth\": 0, \"ticks\": \"\"}, \"colorscale\": [[0.0, \"#0d0887\"], [0.1111111111111111, \"#46039f\"], [0.2222222222222222, \"#7201a8\"], [0.3333333333333333, \"#9c179e\"], [0.4444444444444444, \"#bd3786\"], [0.5555555555555556, \"#d8576b\"], [0.6666666666666666, \"#ed7953\"], [0.7777777777777778, \"#fb9f3a\"], [0.8888888888888888, \"#fdca26\"], [1.0, \"#f0f921\"]], \"type\": \"histogram2d\"}], \"histogram2dcontour\": [{\"colorbar\": {\"outlinewidth\": 0, \"ticks\": \"\"}, \"colorscale\": [[0.0, \"#0d0887\"], [0.1111111111111111, \"#46039f\"], [0.2222222222222222, \"#7201a8\"], [0.3333333333333333, \"#9c179e\"], [0.4444444444444444, \"#bd3786\"], [0.5555555555555556, \"#d8576b\"], [0.6666666666666666, \"#ed7953\"], [0.7777777777777778, \"#fb9f3a\"], [0.8888888888888888, \"#fdca26\"], [1.0, \"#f0f921\"]], \"type\": \"histogram2dcontour\"}], \"mesh3d\": [{\"colorbar\": {\"outlinewidth\": 0, \"ticks\": \"\"}, \"type\": \"mesh3d\"}], \"parcoords\": [{\"line\": {\"colorbar\": {\"outlinewidth\": 0, \"ticks\": \"\"}}, \"type\": \"parcoords\"}], \"pie\": [{\"automargin\": true, \"type\": \"pie\"}], \"scatter\": [{\"marker\": {\"colorbar\": {\"outlinewidth\": 0, \"ticks\": \"\"}}, \"type\": \"scatter\"}], \"scatter3d\": [{\"line\": {\"colorbar\": {\"outlinewidth\": 0, \"ticks\": \"\"}}, \"marker\": {\"colorbar\": {\"outlinewidth\": 0, \"ticks\": \"\"}}, \"type\": \"scatter3d\"}], \"scattercarpet\": [{\"marker\": {\"colorbar\": {\"outlinewidth\": 0, \"ticks\": \"\"}}, \"type\": \"scattercarpet\"}], \"scattergeo\": [{\"marker\": {\"colorbar\": {\"outlinewidth\": 0, \"ticks\": \"\"}}, \"type\": \"scattergeo\"}], \"scattergl\": [{\"marker\": {\"colorbar\": {\"outlinewidth\": 0, \"ticks\": \"\"}}, \"type\": \"scattergl\"}], \"scattermapbox\": [{\"marker\": {\"colorbar\": {\"outlinewidth\": 0, \"ticks\": \"\"}}, \"type\": \"scattermapbox\"}], \"scatterpolar\": [{\"marker\": {\"colorbar\": {\"outlinewidth\": 0, \"ticks\": \"\"}}, \"type\": \"scatterpolar\"}], \"scatterpolargl\": [{\"marker\": {\"colorbar\": {\"outlinewidth\": 0, \"ticks\": \"\"}}, \"type\": \"scatterpolargl\"}], \"scatterternary\": [{\"marker\": {\"colorbar\": {\"outlinewidth\": 0, \"ticks\": \"\"}}, \"type\": \"scatterternary\"}], \"surface\": [{\"colorbar\": {\"outlinewidth\": 0, \"ticks\": \"\"}, \"colorscale\": [[0.0, \"#0d0887\"], [0.1111111111111111, \"#46039f\"], [0.2222222222222222, \"#7201a8\"], [0.3333333333333333, \"#9c179e\"], [0.4444444444444444, \"#bd3786\"], [0.5555555555555556, \"#d8576b\"], [0.6666666666666666, \"#ed7953\"], [0.7777777777777778, \"#fb9f3a\"], [0.8888888888888888, \"#fdca26\"], [1.0, \"#f0f921\"]], \"type\": \"surface\"}], \"table\": [{\"cells\": {\"fill\": {\"color\": \"#EBF0F8\"}, \"line\": {\"color\": \"white\"}}, \"header\": {\"fill\": {\"color\": \"#C8D4E3\"}, \"line\": {\"color\": \"white\"}}, \"type\": \"table\"}]}, \"layout\": {\"annotationdefaults\": {\"arrowcolor\": \"#2a3f5f\", \"arrowhead\": 0, \"arrowwidth\": 1}, \"coloraxis\": {\"colorbar\": {\"outlinewidth\": 0, \"ticks\": \"\"}}, \"colorscale\": {\"diverging\": [[0, \"#8e0152\"], [0.1, \"#c51b7d\"], [0.2, \"#de77ae\"], [0.3, \"#f1b6da\"], [0.4, \"#fde0ef\"], [0.5, \"#f7f7f7\"], [0.6, \"#e6f5d0\"], [0.7, \"#b8e186\"], [0.8, \"#7fbc41\"], [0.9, \"#4d9221\"], [1, \"#276419\"]], \"sequential\": [[0.0, \"#0d0887\"], [0.1111111111111111, \"#46039f\"], [0.2222222222222222, \"#7201a8\"], [0.3333333333333333, \"#9c179e\"], [0.4444444444444444, \"#bd3786\"], [0.5555555555555556, \"#d8576b\"], [0.6666666666666666, \"#ed7953\"], [0.7777777777777778, \"#fb9f3a\"], [0.8888888888888888, \"#fdca26\"], [1.0, \"#f0f921\"]], \"sequentialminus\": [[0.0, \"#0d0887\"], [0.1111111111111111, \"#46039f\"], [0.2222222222222222, \"#7201a8\"], [0.3333333333333333, \"#9c179e\"], [0.4444444444444444, \"#bd3786\"], [0.5555555555555556, \"#d8576b\"], [0.6666666666666666, \"#ed7953\"], [0.7777777777777778, \"#fb9f3a\"], [0.8888888888888888, \"#fdca26\"], [1.0, \"#f0f921\"]]}, \"colorway\": [\"#636efa\", \"#EF553B\", \"#00cc96\", \"#ab63fa\", \"#FFA15A\", \"#19d3f3\", \"#FF6692\", \"#B6E880\", \"#FF97FF\", \"#FECB52\"], \"font\": {\"color\": \"#2a3f5f\"}, \"geo\": {\"bgcolor\": \"white\", \"lakecolor\": \"white\", \"landcolor\": \"#E5ECF6\", \"showlakes\": true, \"showland\": true, \"subunitcolor\": \"white\"}, \"hoverlabel\": {\"align\": \"left\"}, \"hovermode\": \"closest\", \"mapbox\": {\"style\": \"light\"}, \"paper_bgcolor\": \"white\", \"plot_bgcolor\": \"#E5ECF6\", \"polar\": {\"angularaxis\": {\"gridcolor\": \"white\", \"linecolor\": \"white\", \"ticks\": \"\"}, \"bgcolor\": \"#E5ECF6\", \"radialaxis\": {\"gridcolor\": \"white\", \"linecolor\": \"white\", \"ticks\": \"\"}}, \"scene\": {\"xaxis\": {\"backgroundcolor\": \"#E5ECF6\", \"gridcolor\": \"white\", \"gridwidth\": 2, \"linecolor\": \"white\", \"showbackground\": true, \"ticks\": \"\", \"zerolinecolor\": \"white\"}, \"yaxis\": {\"backgroundcolor\": \"#E5ECF6\", \"gridcolor\": \"white\", \"gridwidth\": 2, \"linecolor\": \"white\", \"showbackground\": true, \"ticks\": \"\", \"zerolinecolor\": \"white\"}, \"zaxis\": {\"backgroundcolor\": \"#E5ECF6\", \"gridcolor\": \"white\", \"gridwidth\": 2, \"linecolor\": \"white\", \"showbackground\": true, \"ticks\": \"\", \"zerolinecolor\": \"white\"}}, \"shapedefaults\": {\"line\": {\"color\": \"#2a3f5f\"}}, \"ternary\": {\"aaxis\": {\"gridcolor\": \"white\", \"linecolor\": \"white\", \"ticks\": \"\"}, \"baxis\": {\"gridcolor\": \"white\", \"linecolor\": \"white\", \"ticks\": \"\"}, \"bgcolor\": \"#E5ECF6\", \"caxis\": {\"gridcolor\": \"white\", \"linecolor\": \"white\", \"ticks\": \"\"}}, \"title\": {\"x\": 0.05}, \"xaxis\": {\"automargin\": true, \"gridcolor\": \"white\", \"linecolor\": \"white\", \"ticks\": \"\", \"title\": {\"standoff\": 15}, \"zerolinecolor\": \"white\", \"zerolinewidth\": 2}, \"yaxis\": {\"automargin\": true, \"gridcolor\": \"white\", \"linecolor\": \"white\", \"ticks\": \"\", \"title\": {\"standoff\": 15}, \"zerolinecolor\": \"white\", \"zerolinewidth\": 2}}}, \"title\": {\"text\": \"Casos nuevos por dia\"}},\n",
              "                        {\"responsive\": true}\n",
              "                    ).then(function(){\n",
              "                            \n",
              "var gd = document.getElementById('42107190-0878-45d8-9f43-15d46bbd41e5');\n",
              "var x = new MutationObserver(function (mutations, observer) {{\n",
              "        var display = window.getComputedStyle(gd).display;\n",
              "        if (!display || display === 'none') {{\n",
              "            console.log([gd, 'removed!']);\n",
              "            Plotly.purge(gd);\n",
              "            observer.disconnect();\n",
              "        }}\n",
              "}});\n",
              "\n",
              "// Listen for the removal of the full notebook cells\n",
              "var notebookContainer = gd.closest('#notebook-container');\n",
              "if (notebookContainer) {{\n",
              "    x.observe(notebookContainer, {childList: true});\n",
              "}}\n",
              "\n",
              "// Listen for the clearing of the current output cell\n",
              "var outputEl = gd.closest('.output');\n",
              "if (outputEl) {{\n",
              "    x.observe(outputEl, {childList: true});\n",
              "}}\n",
              "\n",
              "                        })\n",
              "                };\n",
              "                \n",
              "            </script>\n",
              "        </div>\n",
              "</body>\n",
              "</html>"
            ]
          },
          "metadata": {
            "tags": []
          }
        }
      ]
    },
    {
      "cell_type": "code",
      "metadata": {
        "colab": {
          "base_uri": "https://localhost:8080/",
          "height": 542
        },
        "id": "rocBdmaU1Riu",
        "outputId": "8d6bc803-901a-4b91-a775-92528f1d2b37"
      },
      "source": [
        "fig = go.Figure()\r\n",
        "\r\n",
        "fig.add_trace(go.Scatter(\r\n",
        "    x=casos_diarios_DF[\"fechas\"],\r\n",
        "    y=casos_diarios_DF[\"fallecidos por dia\"],\r\n",
        "    name=\"Preprocesamiento propio\"\r\n",
        "))\r\n",
        "\r\n",
        "\r\n",
        "fig.add_trace(go.Scatter(\r\n",
        "    x=FECHA_ACTUALIZACION_DATE_FMAT,\r\n",
        "    y=df[\"NUEVOS_MUERTOS\"],\r\n",
        "    name=\"base de datos\"\r\n",
        "))\r\n",
        "\r\n",
        "fig.update_layout(title=\"Muertos por dia\")\r\n",
        "\r\n",
        "fig.update_layout(showlegend=True)\r\n",
        "\r\n",
        "fig.show()"
      ],
      "execution_count": null,
      "outputs": [
        {
          "output_type": "display_data",
          "data": {
            "text/html": [
              "<html>\n",
              "<head><meta charset=\"utf-8\" /></head>\n",
              "<body>\n",
              "    <div>\n",
              "            <script src=\"https://cdnjs.cloudflare.com/ajax/libs/mathjax/2.7.5/MathJax.js?config=TeX-AMS-MML_SVG\"></script><script type=\"text/javascript\">if (window.MathJax) {MathJax.Hub.Config({SVG: {font: \"STIX-Web\"}});}</script>\n",
              "                <script type=\"text/javascript\">window.PlotlyConfig = {MathJaxConfig: 'local'};</script>\n",
              "        <script src=\"https://cdn.plot.ly/plotly-latest.min.js\"></script>    \n",
              "            <div id=\"2352f499-da5a-4449-9134-9181d2e96205\" class=\"plotly-graph-div\" style=\"height:525px; width:100%;\"></div>\n",
              "            <script type=\"text/javascript\">\n",
              "                \n",
              "                    window.PLOTLYENV=window.PLOTLYENV || {};\n",
              "                    \n",
              "                if (document.getElementById(\"2352f499-da5a-4449-9134-9181d2e96205\")) {\n",
              "                    Plotly.newPlot(\n",
              "                        '2352f499-da5a-4449-9134-9181d2e96205',\n",
              "                        [{\"name\": \"Preprocesamiento propio\", \"type\": \"scatter\", \"x\": [\"2020-03-06T00:00:00\", \"2020-03-07T00:00:00\", \"2020-03-08T00:00:00\", \"2020-03-09T00:00:00\", \"2020-03-10T00:00:00\", \"2020-03-11T00:00:00\", \"2020-03-12T00:00:00\", \"2020-03-13T00:00:00\", \"2020-03-14T00:00:00\", \"2020-03-15T00:00:00\", \"2020-03-16T00:00:00\", \"2020-03-17T00:00:00\", \"2020-03-18T00:00:00\", \"2020-03-19T00:00:00\", \"2020-03-20T00:00:00\", \"2020-03-21T00:00:00\", \"2020-03-22T00:00:00\", \"2020-03-23T00:00:00\", \"2020-03-24T00:00:00\", \"2020-03-25T00:00:00\", \"2020-03-26T00:00:00\", \"2020-03-27T00:00:00\", \"2020-03-28T00:00:00\", \"2020-03-29T00:00:00\", \"2020-03-30T00:00:00\", \"2020-03-31T00:00:00\", \"2020-04-01T00:00:00\", \"2020-04-02T00:00:00\", \"2020-04-03T00:00:00\", \"2020-04-04T00:00:00\", \"2020-04-05T00:00:00\", \"2020-04-06T00:00:00\", \"2020-04-07T00:00:00\", \"2020-04-08T00:00:00\", \"2020-04-09T00:00:00\", \"2020-04-10T00:00:00\", \"2020-04-11T00:00:00\", \"2020-04-12T00:00:00\", \"2020-04-13T00:00:00\", \"2020-04-14T00:00:00\", \"2020-04-15T00:00:00\", \"2020-04-16T00:00:00\", \"2020-04-17T00:00:00\", \"2020-04-18T00:00:00\", \"2020-04-19T00:00:00\", \"2020-04-20T00:00:00\", \"2020-04-21T00:00:00\", \"2020-04-22T00:00:00\", \"2020-04-23T00:00:00\", \"2020-04-24T00:00:00\", \"2020-04-25T00:00:00\", \"2020-04-26T00:00:00\", \"2020-04-27T00:00:00\", \"2020-04-28T00:00:00\", \"2020-04-29T00:00:00\", \"2020-04-30T00:00:00\", \"2020-05-01T00:00:00\", \"2020-05-02T00:00:00\", \"2020-05-03T00:00:00\", \"2020-05-04T00:00:00\", \"2020-05-05T00:00:00\", \"2020-05-06T00:00:00\", \"2020-05-07T00:00:00\", \"2020-05-08T00:00:00\", \"2020-05-09T00:00:00\", \"2020-05-10T00:00:00\", \"2020-05-11T00:00:00\", \"2020-05-12T00:00:00\", \"2020-05-13T00:00:00\", \"2020-05-14T00:00:00\", \"2020-05-15T00:00:00\", \"2020-05-16T00:00:00\", \"2020-05-17T00:00:00\", \"2020-05-18T00:00:00\", \"2020-05-19T00:00:00\", \"2020-05-20T00:00:00\", \"2020-05-21T00:00:00\", \"2020-05-22T00:00:00\", \"2020-05-23T00:00:00\", \"2020-05-24T00:00:00\", \"2020-05-25T00:00:00\", \"2020-05-26T00:00:00\", \"2020-05-27T00:00:00\", \"2020-05-28T00:00:00\", \"2020-05-29T00:00:00\", \"2020-05-30T00:00:00\", \"2020-05-31T00:00:00\", \"2020-06-01T00:00:00\", \"2020-06-02T00:00:00\", \"2020-06-03T00:00:00\", \"2020-06-04T00:00:00\", \"2020-06-05T00:00:00\", \"2020-06-06T00:00:00\", \"2020-06-07T00:00:00\", \"2020-06-08T00:00:00\", \"2020-06-09T00:00:00\", \"2020-06-10T00:00:00\", \"2020-06-11T00:00:00\", \"2020-06-12T00:00:00\", \"2020-06-13T00:00:00\", \"2020-06-14T00:00:00\", \"2020-06-15T00:00:00\", \"2020-06-16T00:00:00\", \"2020-06-17T00:00:00\", \"2020-06-18T00:00:00\", \"2020-06-19T00:00:00\", \"2020-06-20T00:00:00\", \"2020-06-21T00:00:00\", \"2020-06-22T00:00:00\", \"2020-06-23T00:00:00\", \"2020-06-24T00:00:00\", \"2020-06-25T00:00:00\", \"2020-06-26T00:00:00\", \"2020-06-27T00:00:00\", \"2020-06-28T00:00:00\", \"2020-06-29T00:00:00\", \"2020-06-30T00:00:00\", \"2020-07-01T00:00:00\", \"2020-07-02T00:00:00\", \"2020-07-03T00:00:00\", \"2020-07-04T00:00:00\", \"2020-07-05T00:00:00\", \"2020-07-06T00:00:00\", \"2020-07-07T00:00:00\", \"2020-07-08T00:00:00\", \"2020-07-09T00:00:00\", \"2020-07-10T00:00:00\", \"2020-07-11T00:00:00\", \"2020-07-12T00:00:00\", \"2020-07-13T00:00:00\", \"2020-07-14T00:00:00\", \"2020-07-15T00:00:00\", \"2020-07-16T00:00:00\", \"2020-07-17T00:00:00\", \"2020-07-18T00:00:00\", \"2020-07-19T00:00:00\", \"2020-07-20T00:00:00\", \"2020-07-21T00:00:00\", \"2020-07-22T00:00:00\", \"2020-07-23T00:00:00\", \"2020-07-24T00:00:00\", \"2020-07-25T00:00:00\", \"2020-07-26T00:00:00\", \"2020-07-27T00:00:00\", \"2020-07-28T00:00:00\", \"2020-07-29T00:00:00\", \"2020-07-30T00:00:00\", \"2020-07-31T00:00:00\", \"2020-08-01T00:00:00\", \"2020-08-02T00:00:00\", \"2020-08-03T00:00:00\", \"2020-08-04T00:00:00\", \"2020-08-05T00:00:00\", \"2020-08-06T00:00:00\", \"2020-08-07T00:00:00\", \"2020-08-08T00:00:00\", \"2020-08-09T00:00:00\", \"2020-08-10T00:00:00\", \"2020-08-11T00:00:00\", \"2020-08-12T00:00:00\", \"2020-08-13T00:00:00\", \"2020-08-14T00:00:00\", \"2020-08-15T00:00:00\", \"2020-08-16T00:00:00\", \"2020-08-17T00:00:00\", \"2020-08-18T00:00:00\", \"2020-08-19T00:00:00\", \"2020-08-20T00:00:00\", \"2020-08-21T00:00:00\", \"2020-08-22T00:00:00\", \"2020-08-23T00:00:00\", \"2020-08-24T00:00:00\", \"2020-08-25T00:00:00\", \"2020-08-26T00:00:00\", \"2020-08-27T00:00:00\", \"2020-08-28T00:00:00\", \"2020-08-29T00:00:00\", \"2020-08-30T00:00:00\", \"2020-08-31T00:00:00\", \"2020-09-01T00:00:00\", \"2020-09-02T00:00:00\", \"2020-09-03T00:00:00\", \"2020-09-04T00:00:00\", \"2020-09-05T00:00:00\", \"2020-09-06T00:00:00\", \"2020-09-07T00:00:00\", \"2020-09-08T00:00:00\", \"2020-09-09T00:00:00\", \"2020-09-10T00:00:00\", \"2020-09-11T00:00:00\", \"2020-09-12T00:00:00\", \"2020-09-13T00:00:00\", \"2020-09-14T00:00:00\", \"2020-09-15T00:00:00\", \"2020-09-16T00:00:00\", \"2020-09-17T00:00:00\", \"2020-09-18T00:00:00\", \"2020-09-19T00:00:00\", \"2020-09-20T00:00:00\", \"2020-09-21T00:00:00\", \"2020-09-22T00:00:00\", \"2020-09-23T00:00:00\", \"2020-09-24T00:00:00\", \"2020-09-25T00:00:00\", \"2020-09-26T00:00:00\", \"2020-09-27T00:00:00\", \"2020-09-28T00:00:00\", \"2020-09-29T00:00:00\", \"2020-09-30T00:00:00\", \"2020-10-01T00:00:00\", \"2020-10-02T00:00:00\", \"2020-10-03T00:00:00\", \"2020-10-04T00:00:00\", \"2020-10-05T00:00:00\", \"2020-10-06T00:00:00\", \"2020-10-07T00:00:00\", \"2020-10-08T00:00:00\", \"2020-10-09T00:00:00\", \"2020-10-10T00:00:00\", \"2020-10-11T00:00:00\", \"2020-10-12T00:00:00\", \"2020-10-13T00:00:00\", \"2020-10-14T00:00:00\", \"2020-10-15T00:00:00\", \"2020-10-16T00:00:00\", \"2020-10-17T00:00:00\", \"2020-10-18T00:00:00\", \"2020-10-19T00:00:00\", \"2020-10-20T00:00:00\", \"2020-10-21T00:00:00\", \"2020-10-22T00:00:00\", \"2020-10-23T00:00:00\", \"2020-10-24T00:00:00\", \"2020-10-25T00:00:00\", \"2020-10-26T00:00:00\", \"2020-10-27T00:00:00\", \"2020-10-28T00:00:00\", \"2020-10-29T00:00:00\", \"2020-10-30T00:00:00\", \"2020-10-31T00:00:00\", \"2020-11-01T00:00:00\", \"2020-11-02T00:00:00\", \"2020-11-03T00:00:00\", \"2020-11-04T00:00:00\", \"2020-11-05T00:00:00\", \"2020-11-06T00:00:00\", \"2020-11-07T00:00:00\", \"2020-11-08T00:00:00\", \"2020-11-09T00:00:00\", \"2020-11-10T00:00:00\", \"2020-11-11T00:00:00\", \"2020-11-12T00:00:00\", \"2020-11-13T00:00:00\", \"2020-11-14T00:00:00\", \"2020-11-15T00:00:00\", \"2020-11-16T00:00:00\", \"2020-11-17T00:00:00\", \"2020-11-18T00:00:00\", \"2020-11-19T00:00:00\", \"2020-11-20T00:00:00\", \"2020-11-21T00:00:00\", \"2020-11-22T00:00:00\", \"2020-11-23T00:00:00\", \"2020-11-24T00:00:00\", \"2020-11-25T00:00:00\", \"2020-11-26T00:00:00\", \"2020-11-27T00:00:00\", \"2020-11-28T00:00:00\", \"2020-11-29T00:00:00\", \"2020-11-30T00:00:00\", \"2020-12-01T00:00:00\", \"2020-12-02T00:00:00\", \"2020-12-03T00:00:00\", \"2020-12-04T00:00:00\", \"2020-12-05T00:00:00\", \"2020-12-06T00:00:00\", \"2020-12-07T00:00:00\", \"2020-12-08T00:00:00\", \"2020-12-09T00:00:00\", \"2020-12-10T00:00:00\", \"2020-12-11T00:00:00\", \"2020-12-12T00:00:00\", \"2020-12-13T00:00:00\", \"2020-12-14T00:00:00\", \"2020-12-15T00:00:00\", \"2020-12-16T00:00:00\", \"2020-12-17T00:00:00\", \"2020-12-18T00:00:00\", \"2020-12-19T00:00:00\", \"2020-12-20T00:00:00\", \"2020-12-21T00:00:00\", \"2020-12-22T00:00:00\", \"2020-12-23T00:00:00\", \"2020-12-24T00:00:00\", \"2020-12-25T00:00:00\", \"2020-12-26T00:00:00\", \"2020-12-27T00:00:00\", \"2020-12-28T00:00:00\", \"2020-12-29T00:00:00\", \"2020-12-30T00:00:00\", \"2020-12-31T00:00:00\", \"2021-01-01T00:00:00\", \"2021-01-02T00:00:00\", \"2021-01-03T00:00:00\", \"2021-01-04T00:00:00\", \"2021-01-05T00:00:00\", \"2021-01-06T00:00:00\", \"2021-01-07T00:00:00\", \"2021-01-08T00:00:00\", \"2021-01-09T00:00:00\", \"2021-01-10T00:00:00\", \"2021-01-11T00:00:00\", \"2021-01-12T00:00:00\", \"2021-01-13T00:00:00\", \"2021-01-14T00:00:00\", \"2021-01-15T00:00:00\", \"2021-01-16T00:00:00\", \"2021-01-17T00:00:00\", \"2021-01-18T00:00:00\", \"2021-01-19T00:00:00\", \"2021-01-20T00:00:00\", \"2021-01-21T00:00:00\", \"2021-01-22T00:00:00\", \"2021-01-23T00:00:00\", \"2021-01-24T00:00:00\", \"2021-01-25T00:00:00\", \"2021-01-26T00:00:00\", \"2021-01-27T00:00:00\", \"2021-01-28T00:00:00\", \"2021-01-29T00:00:00\", \"2021-01-30T00:00:00\", \"2021-01-31T00:00:00\", \"2021-02-01T00:00:00\", \"2021-02-02T00:00:00\", \"2021-02-03T00:00:00\", \"2021-02-04T00:00:00\", \"2021-02-05T00:00:00\", \"2021-02-06T00:00:00\", \"2021-02-07T00:00:00\", \"2021-02-08T00:00:00\", \"2021-02-09T00:00:00\", \"2021-02-10T00:00:00\", \"2021-02-11T00:00:00\", \"2021-02-12T00:00:00\", \"2021-02-13T00:00:00\", \"2021-02-14T00:00:00\", \"2021-02-15T00:00:00\"], \"y\": [0, 0, 0, 0, 0, 0, 0, 0, 0, 0, 1, 0, 0, 0, 0, 0, 1, 1, 1, 4, 2, 3, 5, 1, 5, 5, 4, 7, 14, 15, 8, 12, 9, 5, 13, 5, 9, 12, 7, 11, 12, 16, 4, 13, 9, 10, 10, 8, 9, 15, 10, 18, 11, 13, 20, 22, 13, 21, 18, 21, 20, 24, 26, 20, 18, 19, 29, 11, 14, 19, 24, 19, 21, 26, 30, 31, 26, 41, 43, 40, 28, 48, 32, 40, 48, 51, 46, 52, 55, 80, 62, 75, 64, 71, 72, 81, 71, 75, 80, 82, 112, 99, 110, 106, 123, 112, 113, 141, 139, 131, 142, 141, 136, 146, 130, 149, 150, 142, 168, 179, 140, 172, 195, 208, 188, 208, 204, 211, 205, 247, 222, 237, 245, 280, 258, 251, 254, 310, 296, 303, 300, 286, 299, 320, 321, 333, 358, 334, 300, 290, 343, 301, 315, 314, 333, 354, 318, 310, 324, 290, 325, 276, 290, 276, 273, 302, 310, 261, 288, 259, 254, 264, 274, 244, 284, 277, 259, 204, 240, 237, 232, 229, 237, 214, 221, 221, 210, 196, 201, 200, 182, 185, 183, 181, 192, 187, 163, 194, 150, 198, 187, 155, 162, 159, 179, 170, 172, 172, 171, 177, 169, 154, 171, 163, 170, 135, 157, 151, 172, 174, 172, 178, 160, 167, 175, 166, 154, 179, 176, 170, 160, 198, 179, 183, 189, 189, 172, 199, 195, 171, 160, 179, 197, 202, 181, 179, 194, 151, 164, 169, 173, 182, 171, 176, 187, 184, 163, 178, 175, 177, 182, 194, 188, 202, 166, 180, 190, 186, 181, 168, 169, 177, 171, 165, 180, 172, 188, 190, 193, 177, 209, 178, 191, 181, 200, 211, 221, 217, 241, 245, 250, 230, 239, 259, 234, 275, 236, 250, 309, 293, 264, 320, 275, 256, 286, 298, 336, 365, 311, 357, 340, 371, 364, 392, 369, 376, 370, 405, 389, 413, 390, 405, 365, 326, 358, 385, 353, 329, 312, 314, 296, 282, 271, 261, 260, 258, 237, 225, 249, 195, 202, 179, 144, 180, 144, 139, 22]}, {\"name\": \"base de datos\", \"type\": \"scatter\", \"x\": [\"2020-03-06T05:00:00\", \"2020-03-07T05:00:00\", \"2020-03-08T05:00:00\", \"2020-03-09T05:00:00\", \"2020-03-10T05:00:00\", \"2020-03-11T05:00:00\", \"2020-03-12T05:00:00\", \"2020-03-13T05:00:00\", \"2020-03-14T05:00:00\", \"2020-03-15T05:00:00\", \"2020-03-16T05:00:00\", \"2020-03-17T05:00:00\", \"2020-03-18T05:00:00\", \"2020-03-19T05:00:00\", \"2020-03-20T05:00:00\", \"2020-03-21T05:00:00\", \"2020-03-22T05:00:00\", \"2020-03-23T05:00:00\", \"2020-03-24T05:00:00\", \"2020-03-25T05:00:00\", \"2020-03-26T05:00:00\", \"2020-03-27T05:00:00\", \"2020-03-28T05:00:00\", \"2020-03-29T05:00:00\", \"2020-03-30T05:00:00\", \"2020-03-31T05:00:00\", \"2020-04-01T05:00:00\", \"2020-04-02T05:00:00\", \"2020-04-03T05:00:00\", \"2020-04-04T05:00:00\", \"2020-04-05T05:00:00\", \"2020-04-06T05:00:00\", \"2020-04-07T05:00:00\", \"2020-04-08T08:38:00\", \"2020-04-09T08:39:00\", \"2020-04-10T05:00:00\", \"2020-04-11T05:00:00\", \"2020-04-12T05:00:00\", \"2020-04-13T05:00:00\", \"2020-04-14T05:00:00\", \"2020-04-15T05:00:00\", \"2020-04-16T05:00:00\", \"2020-04-17T05:00:00\", \"2020-04-18T05:00:00\", \"2020-04-19T05:00:00\", \"2020-04-20T05:00:00\", \"2020-04-21T05:00:00\", \"2020-04-22T05:00:00\", \"2020-04-23T05:00:00\", \"2020-04-24T05:00:00\", \"2020-04-25T05:00:00\", \"2020-04-26T05:00:00\", \"2020-04-27T05:00:00\", \"2020-04-28T05:00:00\", \"2020-04-29T05:00:00\", \"2020-04-30T05:00:00\", \"2020-05-01T05:00:00\", \"2020-05-02T05:00:00\", \"2020-05-03T05:00:00\", \"2020-05-04T05:00:00\", \"2020-05-05T05:00:00\", \"2020-05-06T05:00:00\", \"2020-05-07T05:00:00\", \"2020-05-08T05:00:00\", \"2020-05-09T05:00:00\", \"2020-05-10T05:00:00\", \"2020-05-11T05:00:00\", \"2020-05-12T05:00:00\", \"2020-05-13T05:00:00\", \"2020-05-14T05:00:00\", \"2020-05-15T05:00:00\", \"2020-05-16T05:00:00\", \"2020-05-17T05:00:00\", \"2020-05-18T05:00:00\", \"2020-05-19T05:00:00\", \"2020-05-20T05:00:00\", \"2020-05-21T05:00:00\", \"2020-05-22T05:00:00\", \"2020-05-23T05:00:00\", \"2020-05-24T05:00:00\", \"2020-05-25T05:00:00\", \"2020-05-26T05:00:00\", \"2020-05-27T05:00:00\", \"2020-05-28T05:00:00\", \"2020-05-29T05:00:00\", \"2020-05-30T05:00:00\", \"2020-05-31T05:00:00\", \"2020-06-01T05:00:00\", \"2020-06-02T05:00:00\", \"2020-06-03T05:00:00\", \"2020-06-04T05:00:00\", \"2020-06-05T05:00:00\", \"2020-06-06T05:00:00\", \"2020-06-07T05:00:00\", \"2020-06-08T05:00:00\", \"2020-06-09T05:00:00\", \"2020-06-10T05:00:00\", \"2020-06-11T05:00:00\", \"2020-06-12T05:00:00\", \"2020-06-13T05:00:00\", \"2020-06-14T05:00:00\", \"2020-06-15T05:00:00\", \"2020-06-16T05:00:00\", \"2020-06-17T05:00:00\", \"2020-06-18T05:00:00\", \"2020-06-19T05:00:00\", \"2020-06-20T05:00:00\", \"2020-06-21T05:00:00\", \"2020-06-22T05:00:00\", \"2020-06-23T05:00:00\", \"2020-06-24T05:00:00\", \"2020-06-25T05:00:00\", \"2020-06-26T05:00:00\", \"2020-06-27T05:00:00\", \"2020-06-28T05:00:00\", \"2020-06-29T05:00:00\", \"2020-06-30T05:00:00\", \"2020-07-01T05:00:00\", \"2020-07-02T05:00:00\", \"2020-07-03T05:00:00\", \"2020-07-04T05:00:00\", \"2020-07-05T05:00:00\", \"2020-07-06T05:00:00\", \"2020-07-07T05:00:00\", \"2020-07-08T05:00:00\", \"2020-07-09T05:00:00\", \"2020-07-10T05:00:00\", \"2020-07-11T05:00:00\", \"2020-07-12T05:00:00\", \"2020-07-13T05:00:00\", \"2020-07-14T05:00:00\", \"2020-07-15T05:00:00\", \"2020-07-16T05:00:00\", \"2020-07-17T05:00:00\", \"2020-07-18T05:00:00\", \"2020-07-19T05:00:00\", \"2020-07-20T05:00:00\", \"2020-07-21T05:00:00\", \"2020-07-22T05:00:00\", \"2020-07-23T05:00:00\", \"2020-07-24T05:00:00\", \"2020-07-25T05:00:00\", \"2020-07-26T05:00:00\", \"2020-07-27T05:00:00\", \"2020-07-28T05:00:00\", \"2020-07-29T05:00:00\", \"2020-07-30T05:00:00\", \"2020-07-31T05:00:00\", \"2020-08-01T05:00:00\", \"2020-08-02T05:00:00\", \"2020-08-03T05:00:00\", \"2020-08-04T05:00:00\", \"2020-08-05T05:00:00\", \"2020-08-06T05:00:00\", \"2020-08-07T05:00:00\", \"2020-08-08T05:00:00\", \"2020-08-09T05:00:00\", \"2020-08-10T05:00:00\", \"2020-08-11T05:00:00\", \"2020-08-12T05:00:00\", \"2020-08-13T05:00:00\", \"2020-08-14T05:00:00\", \"2020-08-15T05:00:00\", \"2020-08-16T05:00:00\", \"2020-08-17T05:00:00\", \"2020-08-18T05:00:00\", \"2020-08-19T05:00:00\", \"2020-08-20T05:00:00\", \"2020-08-21T05:00:00\", \"2020-08-22T05:00:00\", \"2020-08-23T05:00:00\", \"2020-08-24T05:00:00\", \"2020-08-25T05:00:00\", \"2020-08-26T05:00:00\", \"2020-08-27T05:00:00\", \"2020-08-28T05:00:00\", \"2020-08-29T05:00:00\", \"2020-08-30T05:00:00\", \"2020-08-31T05:00:00\", \"2020-09-01T05:00:00\", \"2020-09-02T05:00:00\", \"2020-09-03T05:00:00\", \"2020-09-04T05:00:00\", \"2020-09-05T05:00:00\", \"2020-09-06T05:00:00\", \"2020-09-07T05:00:00\", \"2020-09-08T05:00:00\", \"2020-09-09T05:00:00\", \"2020-09-10T05:00:00\", \"2020-09-11T05:00:00\", \"2020-09-12T05:00:00\", \"2020-09-13T05:00:00\", \"2020-09-14T05:00:00\", \"2020-09-15T05:00:00\", \"2020-09-16T05:00:00\", \"2020-09-17T05:00:00\", \"2020-09-18T05:00:00\", \"2020-09-19T05:00:00\", \"2020-09-20T05:00:00\", \"2020-09-21T05:00:00\", \"2020-09-22T05:00:00\", \"2020-09-23T05:00:00\", \"2020-09-24T05:00:00\", \"2020-09-25T05:00:00\", \"2020-09-26T05:00:00\", \"2020-09-27T05:00:00\", \"2020-09-28T05:00:00\", \"2020-09-29T05:00:00\", \"2020-09-30T05:00:00\", \"2020-10-01T05:00:00\", \"2020-10-02T05:00:00\", \"2020-10-03T05:00:00\", \"2020-10-04T05:00:00\", \"2020-10-05T05:00:00\", \"2020-10-06T05:00:00\", \"2020-10-07T05:00:00\", \"2020-10-08T05:00:00\", \"2020-10-09T05:00:00\", \"2020-10-10T05:00:00\", \"2020-10-11T05:00:00\", \"2020-10-12T05:00:00\", \"2020-10-13T05:00:00\", \"2020-10-14T05:00:00\", \"2020-10-15T05:00:00\", \"2020-10-16T05:00:00\", \"2020-10-17T05:00:00\", \"2020-10-18T05:00:00\", \"2020-10-19T05:00:00\", \"2020-10-20T05:00:00\", \"2020-10-21T05:00:00\", \"2020-10-22T05:00:00\", \"2020-10-23T05:00:00\", \"2020-10-24T05:00:00\", \"2020-10-25T05:00:00\", \"2020-10-26T05:00:00\", \"2020-10-27T05:00:00\", \"2020-10-28T05:00:00\", \"2020-10-29T05:00:00\", \"2020-10-30T05:00:00\", \"2020-10-31T05:00:00\", \"2020-11-01T05:00:00\", \"2020-11-02T05:00:00\", \"2020-11-03T05:00:00\", \"2020-11-04T05:00:00\", \"2020-11-05T05:00:00\", \"2020-11-06T05:00:00\", \"2020-11-07T05:00:00\", \"2020-11-08T05:00:00\", \"2020-11-09T05:00:00\", \"2020-11-10T05:00:00\", \"2020-11-11T05:00:00\", \"2020-11-12T05:00:00\", \"2020-11-13T05:00:00\", \"2020-11-14T05:00:00\", \"2020-11-15T05:00:00\", \"2020-11-16T05:00:00\", \"2020-11-17T05:00:00\", \"2020-11-18T05:00:00\", \"2020-11-19T05:00:00\", \"2020-11-20T05:00:00\", \"2020-11-21T05:00:00\", \"2020-11-22T05:00:00\", \"2020-11-23T05:00:00\", \"2020-11-24T05:00:00\", \"2020-11-25T05:00:00\", \"2020-11-26T05:00:00\", \"2020-11-27T05:00:00\", \"2020-11-28T05:00:00\", \"2020-11-29T05:00:00\", \"2020-11-30T05:00:00\", \"2020-12-01T05:00:00\", \"2020-12-02T05:00:00\", \"2020-12-03T05:00:00\", \"2020-12-04T05:00:00\", \"2020-12-05T05:00:00\", \"2020-12-06T05:00:00\", \"2020-12-07T05:00:00\", \"2020-12-08T05:00:00\", \"2020-12-09T05:00:00\", \"2020-12-10T05:00:00\", \"2020-12-11T05:00:00\", \"2020-12-12T05:00:00\", \"2020-12-13T05:00:00\", \"2020-12-14T05:00:00\", \"2020-12-15T05:00:00\", \"2020-12-16T05:00:00\", \"2020-12-17T05:00:00\", \"2020-12-18T05:00:00\", \"2020-12-19T05:00:00\", \"2020-12-20T05:00:00\", \"2020-12-21T05:00:00\", \"2020-12-22T05:00:00\", \"2020-12-23T05:00:00\", \"2020-12-24T05:00:00\", \"2020-12-25T05:00:00\", \"2020-12-26T05:00:00\", \"2020-12-27T05:00:00\", \"2020-12-28T05:00:00\", \"2020-12-29T05:00:00\", \"2020-12-30T05:00:00\", \"2020-12-31T05:00:00\", \"2021-01-01T05:00:00\", \"2021-01-02T05:00:00\", \"2021-01-03T05:00:00\", \"2021-01-04T05:00:00\", \"2021-01-05T05:00:00\", \"2021-01-06T05:00:00\", \"2021-01-07T05:00:00\", \"2021-01-08T05:00:00\", \"2021-01-09T05:00:00\", \"2021-01-10T05:00:00\", \"2021-01-11T05:00:00\", \"2021-01-12T05:00:00\", \"2021-01-13T05:00:00\", \"2021-01-14T05:00:00\", \"2021-01-15T05:00:00\", \"2021-01-16T05:00:00\", \"2021-01-17T05:00:00\", \"2021-01-18T05:00:00\", \"2021-01-19T05:00:00\", \"2021-01-20T05:00:00\", \"2021-01-21T05:00:00\", \"2021-01-22T05:00:00\", \"2021-01-23T05:00:00\", \"2021-01-24T05:00:00\", \"2021-01-25T05:00:00\", \"2021-01-26T05:00:00\", \"2021-01-27T05:00:00\", \"2021-01-28T05:00:00\", \"2021-01-29T05:00:00\", \"2021-01-30T05:00:00\", \"2021-01-31T05:00:00\", \"2021-02-01T05:00:00\", \"2021-02-02T05:00:00\", \"2021-02-03T05:00:00\", \"2021-02-04T05:00:00\", \"2021-02-05T05:00:00\", \"2021-02-06T05:00:00\", \"2021-02-07T05:00:00\", \"2021-02-08T05:00:00\", \"2021-02-09T05:00:00\", \"2021-02-10T05:00:00\", \"2021-02-11T05:00:00\", \"2021-02-12T05:00:00\", \"2021-02-13T05:00:00\", \"2021-02-14T05:00:00\", \"2021-02-15T05:00:00\"], \"y\": [0, 0, 0, 0, 0, 0, 0, 0, 0, 0, 0, 0, 0, 0, 0, 1, 1, 1, 0, 1, 2, 0, 0, 4, 4, 2, 1, 2, 6, 6, 3, 11, 4, 4, 15, 11, 20, 9, 3, 15, 4, 13, 9, 13, 13, 10, 7, 10, 9, 10, 8, 11, 9, 16, 9, 15, 21, 10, 16, 18, 20, 19, 10, 21, 17, 18, 16, 14, 16, 16, 21, 16, 12, 18, 21, 17, 22, 30, 23, 22, 23, 26, 27, 19, 31, 37, 49, 30, 40, 36, 42, 58, 60, 54, 49, 64, 61, 55, 57, 47, 75, 59, 75, 63, 86, 95, 81, 147, 37, 94, 87, 163, 157, 128, 167, 117, 111, 136, 171, 136, 165, 122, 146, 149, 168, 187, 211, 194, 188, 148, 170, 189, 215, 259, 228, 220, 193, 237, 207, 315, 287, 294, 256, 252, 297, 380, 356, 295, 225, 320, 367, 298, 309, 315, 311, 290, 302, 312, 321, 362, 308, 347, 318, 287, 275, 247, 360, 204, 385, 400, 348, 296, 277, 295, 284, 299, 297, 300, 299, 390, 295, 270, 270, 268, 356, 103, 202, 236, 222, 243, 216, 190, 199, 165, 190, 187, 185, 189, 169, 189, 173, 176, 178, 179, 193, 192, 153, 187, 170, 198, 201, 159, 156, 132, 173, 163, 151, 164, 165, 174, 151, 156, 165, 151, 159, 187, 167, 132, 170, 192, 172, 166, 198, 154, 194, 217, 188, 173, 209, 179, 201, 155, 177, 166, 196, 196, 190, 196, 183, 174, 164, 179, 178, 160, 202, 192, 158, 182, 198, 168, 175, 183, 192, 198, 183, 159, 195, 187, 183, 182, 168, 183, 188, 162, 166, 174, 188, 163, 150, 176, 185, 197, 187, 142, 161, 204, 227, 232, 249, 207, 205, 251, 243, 280, 236, 253, 228, 203, 246, 289, 304, 282, 270, 200, 222, 239, 297, 344, 364, 353, 330, 337, 331, 342, 367, 377, 388, 375, 373, 398, 390, 395, 399, 396, 392, 373, 381, 395, 390, 371, 366, 333, 289, 304, 301, 254, 272, 290, 300, 297, 217, 226, 250, 213, 229, 180, 181]}],\n",
              "                        {\"showlegend\": true, \"template\": {\"data\": {\"bar\": [{\"error_x\": {\"color\": \"#2a3f5f\"}, \"error_y\": {\"color\": \"#2a3f5f\"}, \"marker\": {\"line\": {\"color\": \"#E5ECF6\", \"width\": 0.5}}, \"type\": \"bar\"}], \"barpolar\": [{\"marker\": {\"line\": {\"color\": \"#E5ECF6\", \"width\": 0.5}}, \"type\": \"barpolar\"}], \"carpet\": [{\"aaxis\": {\"endlinecolor\": \"#2a3f5f\", \"gridcolor\": \"white\", \"linecolor\": \"white\", \"minorgridcolor\": \"white\", \"startlinecolor\": \"#2a3f5f\"}, \"baxis\": {\"endlinecolor\": \"#2a3f5f\", \"gridcolor\": \"white\", \"linecolor\": \"white\", \"minorgridcolor\": \"white\", \"startlinecolor\": \"#2a3f5f\"}, \"type\": \"carpet\"}], \"choropleth\": [{\"colorbar\": {\"outlinewidth\": 0, \"ticks\": \"\"}, \"type\": \"choropleth\"}], \"contour\": [{\"colorbar\": {\"outlinewidth\": 0, \"ticks\": \"\"}, \"colorscale\": [[0.0, \"#0d0887\"], [0.1111111111111111, \"#46039f\"], [0.2222222222222222, \"#7201a8\"], [0.3333333333333333, \"#9c179e\"], [0.4444444444444444, \"#bd3786\"], [0.5555555555555556, \"#d8576b\"], [0.6666666666666666, \"#ed7953\"], [0.7777777777777778, \"#fb9f3a\"], [0.8888888888888888, \"#fdca26\"], [1.0, \"#f0f921\"]], \"type\": \"contour\"}], \"contourcarpet\": [{\"colorbar\": {\"outlinewidth\": 0, \"ticks\": \"\"}, \"type\": \"contourcarpet\"}], \"heatmap\": [{\"colorbar\": {\"outlinewidth\": 0, \"ticks\": \"\"}, \"colorscale\": [[0.0, \"#0d0887\"], [0.1111111111111111, \"#46039f\"], [0.2222222222222222, \"#7201a8\"], [0.3333333333333333, \"#9c179e\"], [0.4444444444444444, \"#bd3786\"], [0.5555555555555556, \"#d8576b\"], [0.6666666666666666, \"#ed7953\"], [0.7777777777777778, \"#fb9f3a\"], [0.8888888888888888, \"#fdca26\"], [1.0, \"#f0f921\"]], \"type\": \"heatmap\"}], \"heatmapgl\": [{\"colorbar\": {\"outlinewidth\": 0, \"ticks\": \"\"}, \"colorscale\": [[0.0, \"#0d0887\"], [0.1111111111111111, \"#46039f\"], [0.2222222222222222, \"#7201a8\"], [0.3333333333333333, \"#9c179e\"], [0.4444444444444444, \"#bd3786\"], [0.5555555555555556, \"#d8576b\"], [0.6666666666666666, \"#ed7953\"], [0.7777777777777778, \"#fb9f3a\"], [0.8888888888888888, \"#fdca26\"], [1.0, \"#f0f921\"]], \"type\": \"heatmapgl\"}], \"histogram\": [{\"marker\": {\"colorbar\": {\"outlinewidth\": 0, \"ticks\": \"\"}}, \"type\": \"histogram\"}], \"histogram2d\": [{\"colorbar\": {\"outlinewidth\": 0, \"ticks\": \"\"}, \"colorscale\": [[0.0, \"#0d0887\"], [0.1111111111111111, \"#46039f\"], [0.2222222222222222, \"#7201a8\"], [0.3333333333333333, \"#9c179e\"], [0.4444444444444444, \"#bd3786\"], [0.5555555555555556, \"#d8576b\"], [0.6666666666666666, \"#ed7953\"], [0.7777777777777778, \"#fb9f3a\"], [0.8888888888888888, \"#fdca26\"], [1.0, \"#f0f921\"]], \"type\": \"histogram2d\"}], \"histogram2dcontour\": [{\"colorbar\": {\"outlinewidth\": 0, \"ticks\": \"\"}, \"colorscale\": [[0.0, \"#0d0887\"], [0.1111111111111111, \"#46039f\"], [0.2222222222222222, \"#7201a8\"], [0.3333333333333333, \"#9c179e\"], [0.4444444444444444, \"#bd3786\"], [0.5555555555555556, \"#d8576b\"], [0.6666666666666666, \"#ed7953\"], [0.7777777777777778, \"#fb9f3a\"], [0.8888888888888888, \"#fdca26\"], [1.0, \"#f0f921\"]], \"type\": \"histogram2dcontour\"}], \"mesh3d\": [{\"colorbar\": {\"outlinewidth\": 0, \"ticks\": \"\"}, \"type\": \"mesh3d\"}], \"parcoords\": [{\"line\": {\"colorbar\": {\"outlinewidth\": 0, \"ticks\": \"\"}}, \"type\": \"parcoords\"}], \"pie\": [{\"automargin\": true, \"type\": \"pie\"}], \"scatter\": [{\"marker\": {\"colorbar\": {\"outlinewidth\": 0, \"ticks\": \"\"}}, \"type\": \"scatter\"}], \"scatter3d\": [{\"line\": {\"colorbar\": {\"outlinewidth\": 0, \"ticks\": \"\"}}, \"marker\": {\"colorbar\": {\"outlinewidth\": 0, \"ticks\": \"\"}}, \"type\": \"scatter3d\"}], \"scattercarpet\": [{\"marker\": {\"colorbar\": {\"outlinewidth\": 0, \"ticks\": \"\"}}, \"type\": \"scattercarpet\"}], \"scattergeo\": [{\"marker\": {\"colorbar\": {\"outlinewidth\": 0, \"ticks\": \"\"}}, \"type\": \"scattergeo\"}], \"scattergl\": [{\"marker\": {\"colorbar\": {\"outlinewidth\": 0, \"ticks\": \"\"}}, \"type\": \"scattergl\"}], \"scattermapbox\": [{\"marker\": {\"colorbar\": {\"outlinewidth\": 0, \"ticks\": \"\"}}, \"type\": \"scattermapbox\"}], \"scatterpolar\": [{\"marker\": {\"colorbar\": {\"outlinewidth\": 0, \"ticks\": \"\"}}, \"type\": \"scatterpolar\"}], \"scatterpolargl\": [{\"marker\": {\"colorbar\": {\"outlinewidth\": 0, \"ticks\": \"\"}}, \"type\": \"scatterpolargl\"}], \"scatterternary\": [{\"marker\": {\"colorbar\": {\"outlinewidth\": 0, \"ticks\": \"\"}}, \"type\": \"scatterternary\"}], \"surface\": [{\"colorbar\": {\"outlinewidth\": 0, \"ticks\": \"\"}, \"colorscale\": [[0.0, \"#0d0887\"], [0.1111111111111111, \"#46039f\"], [0.2222222222222222, \"#7201a8\"], [0.3333333333333333, \"#9c179e\"], [0.4444444444444444, \"#bd3786\"], [0.5555555555555556, \"#d8576b\"], [0.6666666666666666, \"#ed7953\"], [0.7777777777777778, \"#fb9f3a\"], [0.8888888888888888, \"#fdca26\"], [1.0, \"#f0f921\"]], \"type\": \"surface\"}], \"table\": [{\"cells\": {\"fill\": {\"color\": \"#EBF0F8\"}, \"line\": {\"color\": \"white\"}}, \"header\": {\"fill\": {\"color\": \"#C8D4E3\"}, \"line\": {\"color\": \"white\"}}, \"type\": \"table\"}]}, \"layout\": {\"annotationdefaults\": {\"arrowcolor\": \"#2a3f5f\", \"arrowhead\": 0, \"arrowwidth\": 1}, \"coloraxis\": {\"colorbar\": {\"outlinewidth\": 0, \"ticks\": \"\"}}, \"colorscale\": {\"diverging\": [[0, \"#8e0152\"], [0.1, \"#c51b7d\"], [0.2, \"#de77ae\"], [0.3, \"#f1b6da\"], [0.4, \"#fde0ef\"], [0.5, \"#f7f7f7\"], [0.6, \"#e6f5d0\"], [0.7, \"#b8e186\"], [0.8, \"#7fbc41\"], [0.9, \"#4d9221\"], [1, \"#276419\"]], \"sequential\": [[0.0, \"#0d0887\"], [0.1111111111111111, \"#46039f\"], [0.2222222222222222, \"#7201a8\"], [0.3333333333333333, \"#9c179e\"], [0.4444444444444444, \"#bd3786\"], [0.5555555555555556, \"#d8576b\"], [0.6666666666666666, \"#ed7953\"], [0.7777777777777778, \"#fb9f3a\"], [0.8888888888888888, \"#fdca26\"], [1.0, \"#f0f921\"]], \"sequentialminus\": [[0.0, \"#0d0887\"], [0.1111111111111111, \"#46039f\"], [0.2222222222222222, \"#7201a8\"], [0.3333333333333333, \"#9c179e\"], [0.4444444444444444, \"#bd3786\"], [0.5555555555555556, \"#d8576b\"], [0.6666666666666666, \"#ed7953\"], [0.7777777777777778, \"#fb9f3a\"], [0.8888888888888888, \"#fdca26\"], [1.0, \"#f0f921\"]]}, \"colorway\": [\"#636efa\", \"#EF553B\", \"#00cc96\", \"#ab63fa\", \"#FFA15A\", \"#19d3f3\", \"#FF6692\", \"#B6E880\", \"#FF97FF\", \"#FECB52\"], \"font\": {\"color\": \"#2a3f5f\"}, \"geo\": {\"bgcolor\": \"white\", \"lakecolor\": \"white\", \"landcolor\": \"#E5ECF6\", \"showlakes\": true, \"showland\": true, \"subunitcolor\": \"white\"}, \"hoverlabel\": {\"align\": \"left\"}, \"hovermode\": \"closest\", \"mapbox\": {\"style\": \"light\"}, \"paper_bgcolor\": \"white\", \"plot_bgcolor\": \"#E5ECF6\", \"polar\": {\"angularaxis\": {\"gridcolor\": \"white\", \"linecolor\": \"white\", \"ticks\": \"\"}, \"bgcolor\": \"#E5ECF6\", \"radialaxis\": {\"gridcolor\": \"white\", \"linecolor\": \"white\", \"ticks\": \"\"}}, \"scene\": {\"xaxis\": {\"backgroundcolor\": \"#E5ECF6\", \"gridcolor\": \"white\", \"gridwidth\": 2, \"linecolor\": \"white\", \"showbackground\": true, \"ticks\": \"\", \"zerolinecolor\": \"white\"}, \"yaxis\": {\"backgroundcolor\": \"#E5ECF6\", \"gridcolor\": \"white\", \"gridwidth\": 2, \"linecolor\": \"white\", \"showbackground\": true, \"ticks\": \"\", \"zerolinecolor\": \"white\"}, \"zaxis\": {\"backgroundcolor\": \"#E5ECF6\", \"gridcolor\": \"white\", \"gridwidth\": 2, \"linecolor\": \"white\", \"showbackground\": true, \"ticks\": \"\", \"zerolinecolor\": \"white\"}}, \"shapedefaults\": {\"line\": {\"color\": \"#2a3f5f\"}}, \"ternary\": {\"aaxis\": {\"gridcolor\": \"white\", \"linecolor\": \"white\", \"ticks\": \"\"}, \"baxis\": {\"gridcolor\": \"white\", \"linecolor\": \"white\", \"ticks\": \"\"}, \"bgcolor\": \"#E5ECF6\", \"caxis\": {\"gridcolor\": \"white\", \"linecolor\": \"white\", \"ticks\": \"\"}}, \"title\": {\"x\": 0.05}, \"xaxis\": {\"automargin\": true, \"gridcolor\": \"white\", \"linecolor\": \"white\", \"ticks\": \"\", \"title\": {\"standoff\": 15}, \"zerolinecolor\": \"white\", \"zerolinewidth\": 2}, \"yaxis\": {\"automargin\": true, \"gridcolor\": \"white\", \"linecolor\": \"white\", \"ticks\": \"\", \"title\": {\"standoff\": 15}, \"zerolinecolor\": \"white\", \"zerolinewidth\": 2}}}, \"title\": {\"text\": \"Muertos por dia\"}},\n",
              "                        {\"responsive\": true}\n",
              "                    ).then(function(){\n",
              "                            \n",
              "var gd = document.getElementById('2352f499-da5a-4449-9134-9181d2e96205');\n",
              "var x = new MutationObserver(function (mutations, observer) {{\n",
              "        var display = window.getComputedStyle(gd).display;\n",
              "        if (!display || display === 'none') {{\n",
              "            console.log([gd, 'removed!']);\n",
              "            Plotly.purge(gd);\n",
              "            observer.disconnect();\n",
              "        }}\n",
              "}});\n",
              "\n",
              "// Listen for the removal of the full notebook cells\n",
              "var notebookContainer = gd.closest('#notebook-container');\n",
              "if (notebookContainer) {{\n",
              "    x.observe(notebookContainer, {childList: true});\n",
              "}}\n",
              "\n",
              "// Listen for the clearing of the current output cell\n",
              "var outputEl = gd.closest('.output');\n",
              "if (outputEl) {{\n",
              "    x.observe(outputEl, {childList: true});\n",
              "}}\n",
              "\n",
              "                        })\n",
              "                };\n",
              "                \n",
              "            </script>\n",
              "        </div>\n",
              "</body>\n",
              "</html>"
            ]
          },
          "metadata": {
            "tags": []
          }
        }
      ]
    },
    {
      "cell_type": "code",
      "metadata": {
        "colab": {
          "base_uri": "https://localhost:8080/",
          "height": 542
        },
        "id": "CeV-Suy81OOG",
        "outputId": "4d4e6759-804c-4114-8c23-b231655270e7"
      },
      "source": [
        "fig = go.Figure()\r\n",
        "\r\n",
        "fig.add_trace(go.Scatter(\r\n",
        "    x=casos_diarios_DF[\"fechas\"],\r\n",
        "    y=casos_diarios_DF[\"recuperados por dia\"],\r\n",
        "    name=\"Preprocesamiento propio\"\r\n",
        "))\r\n",
        "\r\n",
        "\r\n",
        "fig.add_trace(go.Scatter(\r\n",
        "    x=FECHA_ACTUALIZACION_DATE_FMAT,\r\n",
        "    y=df[\"NUEVO_RECUPERADOS\"],\r\n",
        "    name=\"base de datos\"\r\n",
        "))\r\n",
        "fig.update_layout(title=\"Recuperados por dia\")\r\n",
        "\r\n",
        "fig.update_layout(showlegend=True)\r\n",
        "\r\n",
        "fig.show()"
      ],
      "execution_count": null,
      "outputs": [
        {
          "output_type": "display_data",
          "data": {
            "text/html": [
              "<html>\n",
              "<head><meta charset=\"utf-8\" /></head>\n",
              "<body>\n",
              "    <div>\n",
              "            <script src=\"https://cdnjs.cloudflare.com/ajax/libs/mathjax/2.7.5/MathJax.js?config=TeX-AMS-MML_SVG\"></script><script type=\"text/javascript\">if (window.MathJax) {MathJax.Hub.Config({SVG: {font: \"STIX-Web\"}});}</script>\n",
              "                <script type=\"text/javascript\">window.PlotlyConfig = {MathJaxConfig: 'local'};</script>\n",
              "        <script src=\"https://cdn.plot.ly/plotly-latest.min.js\"></script>    \n",
              "            <div id=\"d23489a8-c065-4728-8f7b-d2a57fd065c3\" class=\"plotly-graph-div\" style=\"height:525px; width:100%;\"></div>\n",
              "            <script type=\"text/javascript\">\n",
              "                \n",
              "                    window.PLOTLYENV=window.PLOTLYENV || {};\n",
              "                    \n",
              "                if (document.getElementById(\"d23489a8-c065-4728-8f7b-d2a57fd065c3\")) {\n",
              "                    Plotly.newPlot(\n",
              "                        'd23489a8-c065-4728-8f7b-d2a57fd065c3',\n",
              "                        [{\"name\": \"Preprocesamiento propio\", \"type\": \"scatter\", \"x\": [\"2020-03-06T00:00:00\", \"2020-03-07T00:00:00\", \"2020-03-08T00:00:00\", \"2020-03-09T00:00:00\", \"2020-03-10T00:00:00\", \"2020-03-11T00:00:00\", \"2020-03-12T00:00:00\", \"2020-03-13T00:00:00\", \"2020-03-14T00:00:00\", \"2020-03-15T00:00:00\", \"2020-03-16T00:00:00\", \"2020-03-17T00:00:00\", \"2020-03-18T00:00:00\", \"2020-03-19T00:00:00\", \"2020-03-20T00:00:00\", \"2020-03-21T00:00:00\", \"2020-03-22T00:00:00\", \"2020-03-23T00:00:00\", \"2020-03-24T00:00:00\", \"2020-03-25T00:00:00\", \"2020-03-26T00:00:00\", \"2020-03-27T00:00:00\", \"2020-03-28T00:00:00\", \"2020-03-29T00:00:00\", \"2020-03-30T00:00:00\", \"2020-03-31T00:00:00\", \"2020-04-01T00:00:00\", \"2020-04-02T00:00:00\", \"2020-04-03T00:00:00\", \"2020-04-04T00:00:00\", \"2020-04-05T00:00:00\", \"2020-04-06T00:00:00\", \"2020-04-07T00:00:00\", \"2020-04-08T00:00:00\", \"2020-04-09T00:00:00\", \"2020-04-10T00:00:00\", \"2020-04-11T00:00:00\", \"2020-04-12T00:00:00\", \"2020-04-13T00:00:00\", \"2020-04-14T00:00:00\", \"2020-04-15T00:00:00\", \"2020-04-16T00:00:00\", \"2020-04-17T00:00:00\", \"2020-04-18T00:00:00\", \"2020-04-19T00:00:00\", \"2020-04-20T00:00:00\", \"2020-04-21T00:00:00\", \"2020-04-22T00:00:00\", \"2020-04-23T00:00:00\", \"2020-04-24T00:00:00\", \"2020-04-25T00:00:00\", \"2020-04-26T00:00:00\", \"2020-04-27T00:00:00\", \"2020-04-28T00:00:00\", \"2020-04-29T00:00:00\", \"2020-04-30T00:00:00\", \"2020-05-01T00:00:00\", \"2020-05-02T00:00:00\", \"2020-05-03T00:00:00\", \"2020-05-04T00:00:00\", \"2020-05-05T00:00:00\", \"2020-05-06T00:00:00\", \"2020-05-07T00:00:00\", \"2020-05-08T00:00:00\", \"2020-05-09T00:00:00\", \"2020-05-10T00:00:00\", \"2020-05-11T00:00:00\", \"2020-05-12T00:00:00\", \"2020-05-13T00:00:00\", \"2020-05-14T00:00:00\", \"2020-05-15T00:00:00\", \"2020-05-16T00:00:00\", \"2020-05-17T00:00:00\", \"2020-05-18T00:00:00\", \"2020-05-19T00:00:00\", \"2020-05-20T00:00:00\", \"2020-05-21T00:00:00\", \"2020-05-22T00:00:00\", \"2020-05-23T00:00:00\", \"2020-05-24T00:00:00\", \"2020-05-25T00:00:00\", \"2020-05-26T00:00:00\", \"2020-05-27T00:00:00\", \"2020-05-28T00:00:00\", \"2020-05-29T00:00:00\", \"2020-05-30T00:00:00\", \"2020-05-31T00:00:00\", \"2020-06-01T00:00:00\", \"2020-06-02T00:00:00\", \"2020-06-03T00:00:00\", \"2020-06-04T00:00:00\", \"2020-06-05T00:00:00\", \"2020-06-06T00:00:00\", \"2020-06-07T00:00:00\", \"2020-06-08T00:00:00\", \"2020-06-09T00:00:00\", \"2020-06-10T00:00:00\", \"2020-06-11T00:00:00\", \"2020-06-12T00:00:00\", \"2020-06-13T00:00:00\", \"2020-06-14T00:00:00\", \"2020-06-15T00:00:00\", \"2020-06-16T00:00:00\", \"2020-06-17T00:00:00\", \"2020-06-18T00:00:00\", \"2020-06-19T00:00:00\", \"2020-06-20T00:00:00\", \"2020-06-21T00:00:00\", \"2020-06-22T00:00:00\", \"2020-06-23T00:00:00\", \"2020-06-24T00:00:00\", \"2020-06-25T00:00:00\", \"2020-06-26T00:00:00\", \"2020-06-27T00:00:00\", \"2020-06-28T00:00:00\", \"2020-06-29T00:00:00\", \"2020-06-30T00:00:00\", \"2020-07-01T00:00:00\", \"2020-07-02T00:00:00\", \"2020-07-03T00:00:00\", \"2020-07-04T00:00:00\", \"2020-07-05T00:00:00\", \"2020-07-06T00:00:00\", \"2020-07-07T00:00:00\", \"2020-07-08T00:00:00\", \"2020-07-09T00:00:00\", \"2020-07-10T00:00:00\", \"2020-07-11T00:00:00\", \"2020-07-12T00:00:00\", \"2020-07-13T00:00:00\", \"2020-07-14T00:00:00\", \"2020-07-15T00:00:00\", \"2020-07-16T00:00:00\", \"2020-07-17T00:00:00\", \"2020-07-18T00:00:00\", \"2020-07-19T00:00:00\", \"2020-07-20T00:00:00\", \"2020-07-21T00:00:00\", \"2020-07-22T00:00:00\", \"2020-07-23T00:00:00\", \"2020-07-24T00:00:00\", \"2020-07-25T00:00:00\", \"2020-07-26T00:00:00\", \"2020-07-27T00:00:00\", \"2020-07-28T00:00:00\", \"2020-07-29T00:00:00\", \"2020-07-30T00:00:00\", \"2020-07-31T00:00:00\", \"2020-08-01T00:00:00\", \"2020-08-02T00:00:00\", \"2020-08-03T00:00:00\", \"2020-08-04T00:00:00\", \"2020-08-05T00:00:00\", \"2020-08-06T00:00:00\", \"2020-08-07T00:00:00\", \"2020-08-08T00:00:00\", \"2020-08-09T00:00:00\", \"2020-08-10T00:00:00\", \"2020-08-11T00:00:00\", \"2020-08-12T00:00:00\", \"2020-08-13T00:00:00\", \"2020-08-14T00:00:00\", \"2020-08-15T00:00:00\", \"2020-08-16T00:00:00\", \"2020-08-17T00:00:00\", \"2020-08-18T00:00:00\", \"2020-08-19T00:00:00\", \"2020-08-20T00:00:00\", \"2020-08-21T00:00:00\", \"2020-08-22T00:00:00\", \"2020-08-23T00:00:00\", \"2020-08-24T00:00:00\", \"2020-08-25T00:00:00\", \"2020-08-26T00:00:00\", \"2020-08-27T00:00:00\", \"2020-08-28T00:00:00\", \"2020-08-29T00:00:00\", \"2020-08-30T00:00:00\", \"2020-08-31T00:00:00\", \"2020-09-01T00:00:00\", \"2020-09-02T00:00:00\", \"2020-09-03T00:00:00\", \"2020-09-04T00:00:00\", \"2020-09-05T00:00:00\", \"2020-09-06T00:00:00\", \"2020-09-07T00:00:00\", \"2020-09-08T00:00:00\", \"2020-09-09T00:00:00\", \"2020-09-10T00:00:00\", \"2020-09-11T00:00:00\", \"2020-09-12T00:00:00\", \"2020-09-13T00:00:00\", \"2020-09-14T00:00:00\", \"2020-09-15T00:00:00\", \"2020-09-16T00:00:00\", \"2020-09-17T00:00:00\", \"2020-09-18T00:00:00\", \"2020-09-19T00:00:00\", \"2020-09-20T00:00:00\", \"2020-09-21T00:00:00\", \"2020-09-22T00:00:00\", \"2020-09-23T00:00:00\", \"2020-09-24T00:00:00\", \"2020-09-25T00:00:00\", \"2020-09-26T00:00:00\", \"2020-09-27T00:00:00\", \"2020-09-28T00:00:00\", \"2020-09-29T00:00:00\", \"2020-09-30T00:00:00\", \"2020-10-01T00:00:00\", \"2020-10-02T00:00:00\", \"2020-10-03T00:00:00\", \"2020-10-04T00:00:00\", \"2020-10-05T00:00:00\", \"2020-10-06T00:00:00\", \"2020-10-07T00:00:00\", \"2020-10-08T00:00:00\", \"2020-10-09T00:00:00\", \"2020-10-10T00:00:00\", \"2020-10-11T00:00:00\", \"2020-10-12T00:00:00\", \"2020-10-13T00:00:00\", \"2020-10-14T00:00:00\", \"2020-10-15T00:00:00\", \"2020-10-16T00:00:00\", \"2020-10-17T00:00:00\", \"2020-10-18T00:00:00\", \"2020-10-19T00:00:00\", \"2020-10-20T00:00:00\", \"2020-10-21T00:00:00\", \"2020-10-22T00:00:00\", \"2020-10-23T00:00:00\", \"2020-10-24T00:00:00\", \"2020-10-25T00:00:00\", \"2020-10-26T00:00:00\", \"2020-10-27T00:00:00\", \"2020-10-28T00:00:00\", \"2020-10-29T00:00:00\", \"2020-10-30T00:00:00\", \"2020-10-31T00:00:00\", \"2020-11-01T00:00:00\", \"2020-11-02T00:00:00\", \"2020-11-03T00:00:00\", \"2020-11-04T00:00:00\", \"2020-11-05T00:00:00\", \"2020-11-06T00:00:00\", \"2020-11-07T00:00:00\", \"2020-11-08T00:00:00\", \"2020-11-09T00:00:00\", \"2020-11-10T00:00:00\", \"2020-11-11T00:00:00\", \"2020-11-12T00:00:00\", \"2020-11-13T00:00:00\", \"2020-11-14T00:00:00\", \"2020-11-15T00:00:00\", \"2020-11-16T00:00:00\", \"2020-11-17T00:00:00\", \"2020-11-18T00:00:00\", \"2020-11-19T00:00:00\", \"2020-11-20T00:00:00\", \"2020-11-21T00:00:00\", \"2020-11-22T00:00:00\", \"2020-11-23T00:00:00\", \"2020-11-24T00:00:00\", \"2020-11-25T00:00:00\", \"2020-11-26T00:00:00\", \"2020-11-27T00:00:00\", \"2020-11-28T00:00:00\", \"2020-11-29T00:00:00\", \"2020-11-30T00:00:00\", \"2020-12-01T00:00:00\", \"2020-12-02T00:00:00\", \"2020-12-03T00:00:00\", \"2020-12-04T00:00:00\", \"2020-12-05T00:00:00\", \"2020-12-06T00:00:00\", \"2020-12-07T00:00:00\", \"2020-12-08T00:00:00\", \"2020-12-09T00:00:00\", \"2020-12-10T00:00:00\", \"2020-12-11T00:00:00\", \"2020-12-12T00:00:00\", \"2020-12-13T00:00:00\", \"2020-12-14T00:00:00\", \"2020-12-15T00:00:00\", \"2020-12-16T00:00:00\", \"2020-12-17T00:00:00\", \"2020-12-18T00:00:00\", \"2020-12-19T00:00:00\", \"2020-12-20T00:00:00\", \"2020-12-21T00:00:00\", \"2020-12-22T00:00:00\", \"2020-12-23T00:00:00\", \"2020-12-24T00:00:00\", \"2020-12-25T00:00:00\", \"2020-12-26T00:00:00\", \"2020-12-27T00:00:00\", \"2020-12-28T00:00:00\", \"2020-12-29T00:00:00\", \"2020-12-30T00:00:00\", \"2020-12-31T00:00:00\", \"2021-01-01T00:00:00\", \"2021-01-02T00:00:00\", \"2021-01-03T00:00:00\", \"2021-01-04T00:00:00\", \"2021-01-05T00:00:00\", \"2021-01-06T00:00:00\", \"2021-01-07T00:00:00\", \"2021-01-08T00:00:00\", \"2021-01-09T00:00:00\", \"2021-01-10T00:00:00\", \"2021-01-11T00:00:00\", \"2021-01-12T00:00:00\", \"2021-01-13T00:00:00\", \"2021-01-14T00:00:00\", \"2021-01-15T00:00:00\", \"2021-01-16T00:00:00\", \"2021-01-17T00:00:00\", \"2021-01-18T00:00:00\", \"2021-01-19T00:00:00\", \"2021-01-20T00:00:00\", \"2021-01-21T00:00:00\", \"2021-01-22T00:00:00\", \"2021-01-23T00:00:00\", \"2021-01-24T00:00:00\", \"2021-01-25T00:00:00\", \"2021-01-26T00:00:00\", \"2021-01-27T00:00:00\", \"2021-01-28T00:00:00\", \"2021-01-29T00:00:00\", \"2021-01-30T00:00:00\", \"2021-01-31T00:00:00\", \"2021-02-01T00:00:00\", \"2021-02-02T00:00:00\", \"2021-02-03T00:00:00\", \"2021-02-04T00:00:00\", \"2021-02-05T00:00:00\", \"2021-02-06T00:00:00\", \"2021-02-07T00:00:00\", \"2021-02-08T00:00:00\", \"2021-02-09T00:00:00\", \"2021-02-10T00:00:00\", \"2021-02-11T00:00:00\", \"2021-02-12T00:00:00\", \"2021-02-13T00:00:00\", \"2021-02-14T00:00:00\", \"2021-02-15T00:00:00\"], \"y\": [0, 0, 0, 0, 0, 0, 0, 1, 1, 1, 0, 1, 0, 1, 1, 3, 3, 8, 11, 12, 16, 18, 33, 29, 35, 27, 33, 33, 36, 39, 19, 24, 26, 42, 43, 47, 55, 95, 96, 79, 96, 77, 51, 56, 72, 81, 84, 88, 104, 86, 103, 94, 89, 110, 127, 61, 112, 133, 99, 149, 293, 222, 156, 158, 202, 162, 246, 139, 230, 138, 208, 218, 151, 201, 198, 262, 286, 274, 220, 308, 277, 360, 343, 370, 359, 242, 1740, 385, 1346, 1024, 666, 879, 495, 937, 1008, 542, 1056, 644, 867, 702, 456, 346, 512, 991, 1099, 1266, 1378, 1564, 1315, 1398, 1581, 1944, 1978, 1453, 1795, 1747, 2173, 1652, 1399, 1375, 1476, 1325, 2642, 1991, 1971, 2609, 2792, 2346, 1907, 2555, 2721, 2991, 3662, 3833, 4539, 4450, 3150, 2660, 2274, 5024, 4787, 5698, 4453, 7107, 6322, 6221, 6049, 6002, 6840, 6186, 6267, 6389, 5675, 5656, 5736, 5668, 7631, 7785, 8535, 9026, 10156, 10033, 12685, 12089, 13555, 10249, 13127, 12571, 9589, 10538, 13524, 10227, 11408, 11402, 10535, 11865, 10720, 9792, 8479, 9870, 9559, 9376, 8862, 8684, 10132, 10839, 11360, 11043, 15855, 12771, 9613, 6241, 7303, 1117, 2040, 5239, 5860, 5936, 5612, 7915, 10560, 11580, 12476, 12256, 12384, 10981, 10776, 11300, 9363, 8133, 2261, 3847, 3818, 4367, 4342, 3192, 3633, 2858, 2592, 6733, 8505, 8330, 10069, 10230, 10232, 10387, 10543, 9489, 8571, 8033, 8623, 7780, 5617, 7866, 8360, 8539, 8781, 8314, 8945, 9908, 8653, 8053, 8279, 8610, 9239, 9360, 8873, 8819, 8915, 11839, 11099, 11220, 7639, 8397, 7501, 7102, 7406, 6695, 7651, 6592, 6515, 5918, 8066, 8747, 7078, 7304, 7111, 7582, 7126, 6004, 6979, 7862, 7381, 7828, 8685, 7693, 10140, 10628, 9186, 8744, 7851, 6413, 5544, 7029, 7516, 8425, 8092, 10734, 8987, 17305, 9633, 12697, 10579, 13440, 13058, 13854, 12159, 13379, 8063, 14636, 11571, 12088, 10549, 11166, 9816, 7312, 10490, 10670, 16654, 12459, 11437, 11432, 14091, 17809, 18611, 14479, 13185, 17391, 24152, 15604, 15984, 14824, 10777, 11637, 10784, 17904, 16732, 16663, 16492, 16517, 15008, 13959, 16405, 19867, 17680, 12408, 7296, 12251, 5996, 7967, 15297, 7987, 9639, 7638, 5703, 5216, 6985]}, {\"name\": \"base de datos\", \"type\": \"scatter\", \"x\": [\"2020-03-06T05:00:00\", \"2020-03-07T05:00:00\", \"2020-03-08T05:00:00\", \"2020-03-09T05:00:00\", \"2020-03-10T05:00:00\", \"2020-03-11T05:00:00\", \"2020-03-12T05:00:00\", \"2020-03-13T05:00:00\", \"2020-03-14T05:00:00\", \"2020-03-15T05:00:00\", \"2020-03-16T05:00:00\", \"2020-03-17T05:00:00\", \"2020-03-18T05:00:00\", \"2020-03-19T05:00:00\", \"2020-03-20T05:00:00\", \"2020-03-21T05:00:00\", \"2020-03-22T05:00:00\", \"2020-03-23T05:00:00\", \"2020-03-24T05:00:00\", \"2020-03-25T05:00:00\", \"2020-03-26T05:00:00\", \"2020-03-27T05:00:00\", \"2020-03-28T05:00:00\", \"2020-03-29T05:00:00\", \"2020-03-30T05:00:00\", \"2020-03-31T05:00:00\", \"2020-04-01T05:00:00\", \"2020-04-02T05:00:00\", \"2020-04-03T05:00:00\", \"2020-04-04T05:00:00\", \"2020-04-05T05:00:00\", \"2020-04-06T05:00:00\", \"2020-04-07T05:00:00\", \"2020-04-08T08:38:00\", \"2020-04-09T08:39:00\", \"2020-04-10T05:00:00\", \"2020-04-11T05:00:00\", \"2020-04-12T05:00:00\", \"2020-04-13T05:00:00\", \"2020-04-14T05:00:00\", \"2020-04-15T05:00:00\", \"2020-04-16T05:00:00\", \"2020-04-17T05:00:00\", \"2020-04-18T05:00:00\", \"2020-04-19T05:00:00\", \"2020-04-20T05:00:00\", \"2020-04-21T05:00:00\", \"2020-04-22T05:00:00\", \"2020-04-23T05:00:00\", \"2020-04-24T05:00:00\", \"2020-04-25T05:00:00\", \"2020-04-26T05:00:00\", \"2020-04-27T05:00:00\", \"2020-04-28T05:00:00\", \"2020-04-29T05:00:00\", \"2020-04-30T05:00:00\", \"2020-05-01T05:00:00\", \"2020-05-02T05:00:00\", \"2020-05-03T05:00:00\", \"2020-05-04T05:00:00\", \"2020-05-05T05:00:00\", \"2020-05-06T05:00:00\", \"2020-05-07T05:00:00\", \"2020-05-08T05:00:00\", \"2020-05-09T05:00:00\", \"2020-05-10T05:00:00\", \"2020-05-11T05:00:00\", \"2020-05-12T05:00:00\", \"2020-05-13T05:00:00\", \"2020-05-14T05:00:00\", \"2020-05-15T05:00:00\", \"2020-05-16T05:00:00\", \"2020-05-17T05:00:00\", \"2020-05-18T05:00:00\", \"2020-05-19T05:00:00\", \"2020-05-20T05:00:00\", \"2020-05-21T05:00:00\", \"2020-05-22T05:00:00\", \"2020-05-23T05:00:00\", \"2020-05-24T05:00:00\", \"2020-05-25T05:00:00\", \"2020-05-26T05:00:00\", \"2020-05-27T05:00:00\", \"2020-05-28T05:00:00\", \"2020-05-29T05:00:00\", \"2020-05-30T05:00:00\", \"2020-05-31T05:00:00\", \"2020-06-01T05:00:00\", \"2020-06-02T05:00:00\", \"2020-06-03T05:00:00\", \"2020-06-04T05:00:00\", \"2020-06-05T05:00:00\", \"2020-06-06T05:00:00\", \"2020-06-07T05:00:00\", \"2020-06-08T05:00:00\", \"2020-06-09T05:00:00\", \"2020-06-10T05:00:00\", \"2020-06-11T05:00:00\", \"2020-06-12T05:00:00\", \"2020-06-13T05:00:00\", \"2020-06-14T05:00:00\", \"2020-06-15T05:00:00\", \"2020-06-16T05:00:00\", \"2020-06-17T05:00:00\", \"2020-06-18T05:00:00\", \"2020-06-19T05:00:00\", \"2020-06-20T05:00:00\", \"2020-06-21T05:00:00\", \"2020-06-22T05:00:00\", \"2020-06-23T05:00:00\", \"2020-06-24T05:00:00\", \"2020-06-25T05:00:00\", \"2020-06-26T05:00:00\", \"2020-06-27T05:00:00\", \"2020-06-28T05:00:00\", \"2020-06-29T05:00:00\", \"2020-06-30T05:00:00\", \"2020-07-01T05:00:00\", \"2020-07-02T05:00:00\", \"2020-07-03T05:00:00\", \"2020-07-04T05:00:00\", \"2020-07-05T05:00:00\", \"2020-07-06T05:00:00\", \"2020-07-07T05:00:00\", \"2020-07-08T05:00:00\", \"2020-07-09T05:00:00\", \"2020-07-10T05:00:00\", \"2020-07-11T05:00:00\", \"2020-07-12T05:00:00\", \"2020-07-13T05:00:00\", \"2020-07-14T05:00:00\", \"2020-07-15T05:00:00\", \"2020-07-16T05:00:00\", \"2020-07-17T05:00:00\", \"2020-07-18T05:00:00\", \"2020-07-19T05:00:00\", \"2020-07-20T05:00:00\", \"2020-07-21T05:00:00\", \"2020-07-22T05:00:00\", \"2020-07-23T05:00:00\", \"2020-07-24T05:00:00\", \"2020-07-25T05:00:00\", \"2020-07-26T05:00:00\", \"2020-07-27T05:00:00\", \"2020-07-28T05:00:00\", \"2020-07-29T05:00:00\", \"2020-07-30T05:00:00\", \"2020-07-31T05:00:00\", \"2020-08-01T05:00:00\", \"2020-08-02T05:00:00\", \"2020-08-03T05:00:00\", \"2020-08-04T05:00:00\", \"2020-08-05T05:00:00\", \"2020-08-06T05:00:00\", \"2020-08-07T05:00:00\", \"2020-08-08T05:00:00\", \"2020-08-09T05:00:00\", \"2020-08-10T05:00:00\", \"2020-08-11T05:00:00\", \"2020-08-12T05:00:00\", \"2020-08-13T05:00:00\", \"2020-08-14T05:00:00\", \"2020-08-15T05:00:00\", \"2020-08-16T05:00:00\", \"2020-08-17T05:00:00\", \"2020-08-18T05:00:00\", \"2020-08-19T05:00:00\", \"2020-08-20T05:00:00\", \"2020-08-21T05:00:00\", \"2020-08-22T05:00:00\", \"2020-08-23T05:00:00\", \"2020-08-24T05:00:00\", \"2020-08-25T05:00:00\", \"2020-08-26T05:00:00\", \"2020-08-27T05:00:00\", \"2020-08-28T05:00:00\", \"2020-08-29T05:00:00\", \"2020-08-30T05:00:00\", \"2020-08-31T05:00:00\", \"2020-09-01T05:00:00\", \"2020-09-02T05:00:00\", \"2020-09-03T05:00:00\", \"2020-09-04T05:00:00\", \"2020-09-05T05:00:00\", \"2020-09-06T05:00:00\", \"2020-09-07T05:00:00\", \"2020-09-08T05:00:00\", \"2020-09-09T05:00:00\", \"2020-09-10T05:00:00\", \"2020-09-11T05:00:00\", \"2020-09-12T05:00:00\", \"2020-09-13T05:00:00\", \"2020-09-14T05:00:00\", \"2020-09-15T05:00:00\", \"2020-09-16T05:00:00\", \"2020-09-17T05:00:00\", \"2020-09-18T05:00:00\", \"2020-09-19T05:00:00\", \"2020-09-20T05:00:00\", \"2020-09-21T05:00:00\", \"2020-09-22T05:00:00\", \"2020-09-23T05:00:00\", \"2020-09-24T05:00:00\", \"2020-09-25T05:00:00\", \"2020-09-26T05:00:00\", \"2020-09-27T05:00:00\", \"2020-09-28T05:00:00\", \"2020-09-29T05:00:00\", \"2020-09-30T05:00:00\", \"2020-10-01T05:00:00\", \"2020-10-02T05:00:00\", \"2020-10-03T05:00:00\", \"2020-10-04T05:00:00\", \"2020-10-05T05:00:00\", \"2020-10-06T05:00:00\", \"2020-10-07T05:00:00\", \"2020-10-08T05:00:00\", \"2020-10-09T05:00:00\", \"2020-10-10T05:00:00\", \"2020-10-11T05:00:00\", \"2020-10-12T05:00:00\", \"2020-10-13T05:00:00\", \"2020-10-14T05:00:00\", \"2020-10-15T05:00:00\", \"2020-10-16T05:00:00\", \"2020-10-17T05:00:00\", \"2020-10-18T05:00:00\", \"2020-10-19T05:00:00\", \"2020-10-20T05:00:00\", \"2020-10-21T05:00:00\", \"2020-10-22T05:00:00\", \"2020-10-23T05:00:00\", \"2020-10-24T05:00:00\", \"2020-10-25T05:00:00\", \"2020-10-26T05:00:00\", \"2020-10-27T05:00:00\", \"2020-10-28T05:00:00\", \"2020-10-29T05:00:00\", \"2020-10-30T05:00:00\", \"2020-10-31T05:00:00\", \"2020-11-01T05:00:00\", \"2020-11-02T05:00:00\", \"2020-11-03T05:00:00\", \"2020-11-04T05:00:00\", \"2020-11-05T05:00:00\", \"2020-11-06T05:00:00\", \"2020-11-07T05:00:00\", \"2020-11-08T05:00:00\", \"2020-11-09T05:00:00\", \"2020-11-10T05:00:00\", \"2020-11-11T05:00:00\", \"2020-11-12T05:00:00\", \"2020-11-13T05:00:00\", \"2020-11-14T05:00:00\", \"2020-11-15T05:00:00\", \"2020-11-16T05:00:00\", \"2020-11-17T05:00:00\", \"2020-11-18T05:00:00\", \"2020-11-19T05:00:00\", \"2020-11-20T05:00:00\", \"2020-11-21T05:00:00\", \"2020-11-22T05:00:00\", \"2020-11-23T05:00:00\", \"2020-11-24T05:00:00\", \"2020-11-25T05:00:00\", \"2020-11-26T05:00:00\", \"2020-11-27T05:00:00\", \"2020-11-28T05:00:00\", \"2020-11-29T05:00:00\", \"2020-11-30T05:00:00\", \"2020-12-01T05:00:00\", \"2020-12-02T05:00:00\", \"2020-12-03T05:00:00\", \"2020-12-04T05:00:00\", \"2020-12-05T05:00:00\", \"2020-12-06T05:00:00\", \"2020-12-07T05:00:00\", \"2020-12-08T05:00:00\", \"2020-12-09T05:00:00\", \"2020-12-10T05:00:00\", \"2020-12-11T05:00:00\", \"2020-12-12T05:00:00\", \"2020-12-13T05:00:00\", \"2020-12-14T05:00:00\", \"2020-12-15T05:00:00\", \"2020-12-16T05:00:00\", \"2020-12-17T05:00:00\", \"2020-12-18T05:00:00\", \"2020-12-19T05:00:00\", \"2020-12-20T05:00:00\", \"2020-12-21T05:00:00\", \"2020-12-22T05:00:00\", \"2020-12-23T05:00:00\", \"2020-12-24T05:00:00\", \"2020-12-25T05:00:00\", \"2020-12-26T05:00:00\", \"2020-12-27T05:00:00\", \"2020-12-28T05:00:00\", \"2020-12-29T05:00:00\", \"2020-12-30T05:00:00\", \"2020-12-31T05:00:00\", \"2021-01-01T05:00:00\", \"2021-01-02T05:00:00\", \"2021-01-03T05:00:00\", \"2021-01-04T05:00:00\", \"2021-01-05T05:00:00\", \"2021-01-06T05:00:00\", \"2021-01-07T05:00:00\", \"2021-01-08T05:00:00\", \"2021-01-09T05:00:00\", \"2021-01-10T05:00:00\", \"2021-01-11T05:00:00\", \"2021-01-12T05:00:00\", \"2021-01-13T05:00:00\", \"2021-01-14T05:00:00\", \"2021-01-15T05:00:00\", \"2021-01-16T05:00:00\", \"2021-01-17T05:00:00\", \"2021-01-18T05:00:00\", \"2021-01-19T05:00:00\", \"2021-01-20T05:00:00\", \"2021-01-21T05:00:00\", \"2021-01-22T05:00:00\", \"2021-01-23T05:00:00\", \"2021-01-24T05:00:00\", \"2021-01-25T05:00:00\", \"2021-01-26T05:00:00\", \"2021-01-27T05:00:00\", \"2021-01-28T05:00:00\", \"2021-01-29T05:00:00\", \"2021-01-30T05:00:00\", \"2021-01-31T05:00:00\", \"2021-02-01T05:00:00\", \"2021-02-02T05:00:00\", \"2021-02-03T05:00:00\", \"2021-02-04T05:00:00\", \"2021-02-05T05:00:00\", \"2021-02-06T05:00:00\", \"2021-02-07T05:00:00\", \"2021-02-08T05:00:00\", \"2021-02-09T05:00:00\", \"2021-02-10T05:00:00\", \"2021-02-11T05:00:00\", \"2021-02-12T05:00:00\", \"2021-02-13T05:00:00\", \"2021-02-14T05:00:00\", \"2021-02-15T05:00:00\"], \"y\": [0, 0, 0, 0, 0, 0, 0, 0, 0, 0, 0, 0, 0, 0, 0, 0, 0, 6, 0, 2, 0, 2, 0, 0, 5, 16, 8, 16, 0, 0, 3, 0, 12, 23, 51, 23, 17, 56, 49, 35, 98, 98, 84, 57, 20, 93, 0, 66, 57, 76, 64, 66, 77, 58, 143, 28, 112, 115, 56, 85, 206, 135, 152, 124, 145, 136, 120, 146, 162, 225, 102, 127, 164, 152, 147, 206, 175, 144, 143, 298, 249, 246, 600, 554, 248, 208, 1422, 1118, 1481, 1146, 633, 717, 744, 940, 1105, 107, 799, 457, 925, 711, 396, 130, 414, 960, 1354, 1308, 1511, 1861, 1608, 1491, 1212, 1678, 1588, 1336, 2007, 1674, 2119, 1334, 1124, 803, 1229, 1318, 2491, 1489, 1773, 2638, 2528, 2386, 2265, 2358, 2997, 2932, 4426, 4473, 5199, 5957, 4011, 3036, 2773, 6338, 5913, 5803, 5370, 6124, 5529, 6087, 5918, 5692, 6321, 6531, 6488, 6531, 6059, 6038, 6140, 6096, 8097, 8797, 8942, 9358, 10709, 10802, 13124, 13016, 14089, 10798, 13975, 12826, 9816, 10852, 14238, 10141, 11299, 11651, 10672, 11827, 10954, 10047, 8854, 10082, 10011, 9583, 9070, 9549, 10459, 11050, 12183, 11423, 16594, 13215, 10126, 6565, 7540, 1053, 2100, 5379, 6064, 6164, 5514, 7701, 9901, 11476, 12684, 12516, 12635, 11360, 11064, 11618, 9499, 8038, 2262, 3848, 3873, 4626, 4512, 3161, 3685, 2889, 2584, 6656, 8609, 8307, 9964, 10164, 10170, 10466, 10827, 9667, 8770, 8164, 8817, 7940, 5727, 8072, 8593, 8838, 8992, 8474, 9085, 9797, 8574, 7992, 8081, 8325, 8964, 9097, 8819, 9000, 8935, 12220, 11186, 11268, 7649, 8236, 7380, 6911, 7035, 6282, 7209, 6188, 6342, 6009, 7965, 8960, 7102, 6794, 7746, 7705, 7248, 6037, 7158, 7988, 7480, 7875, 8712, 7708, 10185, 10731, 9271, 8823, 7879, 6126, 4411, 6633, 6961, 7736, 7653, 10202, 8522, 10789, 9008, 12034, 9794, 13148, 13393, 13332, 11934, 13066, 13986, 14153, 11239, 12129, 10425, 11380, 9824, 6833, 10568, 10707, 16875, 12404, 11455, 11595, 14278, 18111, 18832, 14622, 13467, 17709, 24589, 15713, 16235, 14964, 10418, 10757, 9859, 17026, 15710, 15137, 14343, 15407, 14610, 13921, 16352, 16668, 17616, 12177, 9806, 11390, 5002, 6895, 14064, 7176, 9741, 7584, 5598, 5160, 6916]}],\n",
              "                        {\"showlegend\": true, \"template\": {\"data\": {\"bar\": [{\"error_x\": {\"color\": \"#2a3f5f\"}, \"error_y\": {\"color\": \"#2a3f5f\"}, \"marker\": {\"line\": {\"color\": \"#E5ECF6\", \"width\": 0.5}}, \"type\": \"bar\"}], \"barpolar\": [{\"marker\": {\"line\": {\"color\": \"#E5ECF6\", \"width\": 0.5}}, \"type\": \"barpolar\"}], \"carpet\": [{\"aaxis\": {\"endlinecolor\": \"#2a3f5f\", \"gridcolor\": \"white\", \"linecolor\": \"white\", \"minorgridcolor\": \"white\", \"startlinecolor\": \"#2a3f5f\"}, \"baxis\": {\"endlinecolor\": \"#2a3f5f\", \"gridcolor\": \"white\", \"linecolor\": \"white\", \"minorgridcolor\": \"white\", \"startlinecolor\": \"#2a3f5f\"}, \"type\": \"carpet\"}], \"choropleth\": [{\"colorbar\": {\"outlinewidth\": 0, \"ticks\": \"\"}, \"type\": \"choropleth\"}], \"contour\": [{\"colorbar\": {\"outlinewidth\": 0, \"ticks\": \"\"}, \"colorscale\": [[0.0, \"#0d0887\"], [0.1111111111111111, \"#46039f\"], [0.2222222222222222, \"#7201a8\"], [0.3333333333333333, \"#9c179e\"], [0.4444444444444444, \"#bd3786\"], [0.5555555555555556, \"#d8576b\"], [0.6666666666666666, \"#ed7953\"], [0.7777777777777778, \"#fb9f3a\"], [0.8888888888888888, \"#fdca26\"], [1.0, \"#f0f921\"]], \"type\": \"contour\"}], \"contourcarpet\": [{\"colorbar\": {\"outlinewidth\": 0, \"ticks\": \"\"}, \"type\": \"contourcarpet\"}], \"heatmap\": [{\"colorbar\": {\"outlinewidth\": 0, \"ticks\": \"\"}, \"colorscale\": [[0.0, \"#0d0887\"], [0.1111111111111111, \"#46039f\"], [0.2222222222222222, \"#7201a8\"], [0.3333333333333333, \"#9c179e\"], [0.4444444444444444, \"#bd3786\"], [0.5555555555555556, \"#d8576b\"], [0.6666666666666666, \"#ed7953\"], [0.7777777777777778, \"#fb9f3a\"], [0.8888888888888888, \"#fdca26\"], [1.0, \"#f0f921\"]], \"type\": \"heatmap\"}], \"heatmapgl\": [{\"colorbar\": {\"outlinewidth\": 0, \"ticks\": \"\"}, \"colorscale\": [[0.0, \"#0d0887\"], [0.1111111111111111, \"#46039f\"], [0.2222222222222222, \"#7201a8\"], [0.3333333333333333, \"#9c179e\"], [0.4444444444444444, \"#bd3786\"], [0.5555555555555556, \"#d8576b\"], [0.6666666666666666, \"#ed7953\"], [0.7777777777777778, \"#fb9f3a\"], [0.8888888888888888, \"#fdca26\"], [1.0, \"#f0f921\"]], \"type\": \"heatmapgl\"}], \"histogram\": [{\"marker\": {\"colorbar\": {\"outlinewidth\": 0, \"ticks\": \"\"}}, \"type\": \"histogram\"}], \"histogram2d\": [{\"colorbar\": {\"outlinewidth\": 0, \"ticks\": \"\"}, \"colorscale\": [[0.0, \"#0d0887\"], [0.1111111111111111, \"#46039f\"], [0.2222222222222222, \"#7201a8\"], [0.3333333333333333, \"#9c179e\"], [0.4444444444444444, \"#bd3786\"], [0.5555555555555556, \"#d8576b\"], [0.6666666666666666, \"#ed7953\"], [0.7777777777777778, \"#fb9f3a\"], [0.8888888888888888, \"#fdca26\"], [1.0, \"#f0f921\"]], \"type\": \"histogram2d\"}], \"histogram2dcontour\": [{\"colorbar\": {\"outlinewidth\": 0, \"ticks\": \"\"}, \"colorscale\": [[0.0, \"#0d0887\"], [0.1111111111111111, \"#46039f\"], [0.2222222222222222, \"#7201a8\"], [0.3333333333333333, \"#9c179e\"], [0.4444444444444444, \"#bd3786\"], [0.5555555555555556, \"#d8576b\"], [0.6666666666666666, \"#ed7953\"], [0.7777777777777778, \"#fb9f3a\"], [0.8888888888888888, \"#fdca26\"], [1.0, \"#f0f921\"]], \"type\": \"histogram2dcontour\"}], \"mesh3d\": [{\"colorbar\": {\"outlinewidth\": 0, \"ticks\": \"\"}, \"type\": \"mesh3d\"}], \"parcoords\": [{\"line\": {\"colorbar\": {\"outlinewidth\": 0, \"ticks\": \"\"}}, \"type\": \"parcoords\"}], \"pie\": [{\"automargin\": true, \"type\": \"pie\"}], \"scatter\": [{\"marker\": {\"colorbar\": {\"outlinewidth\": 0, \"ticks\": \"\"}}, \"type\": \"scatter\"}], \"scatter3d\": [{\"line\": {\"colorbar\": {\"outlinewidth\": 0, \"ticks\": \"\"}}, \"marker\": {\"colorbar\": {\"outlinewidth\": 0, \"ticks\": \"\"}}, \"type\": \"scatter3d\"}], \"scattercarpet\": [{\"marker\": {\"colorbar\": {\"outlinewidth\": 0, \"ticks\": \"\"}}, \"type\": \"scattercarpet\"}], \"scattergeo\": [{\"marker\": {\"colorbar\": {\"outlinewidth\": 0, \"ticks\": \"\"}}, \"type\": \"scattergeo\"}], \"scattergl\": [{\"marker\": {\"colorbar\": {\"outlinewidth\": 0, \"ticks\": \"\"}}, \"type\": \"scattergl\"}], \"scattermapbox\": [{\"marker\": {\"colorbar\": {\"outlinewidth\": 0, \"ticks\": \"\"}}, \"type\": \"scattermapbox\"}], \"scatterpolar\": [{\"marker\": {\"colorbar\": {\"outlinewidth\": 0, \"ticks\": \"\"}}, \"type\": \"scatterpolar\"}], \"scatterpolargl\": [{\"marker\": {\"colorbar\": {\"outlinewidth\": 0, \"ticks\": \"\"}}, \"type\": \"scatterpolargl\"}], \"scatterternary\": [{\"marker\": {\"colorbar\": {\"outlinewidth\": 0, \"ticks\": \"\"}}, \"type\": \"scatterternary\"}], \"surface\": [{\"colorbar\": {\"outlinewidth\": 0, \"ticks\": \"\"}, \"colorscale\": [[0.0, \"#0d0887\"], [0.1111111111111111, \"#46039f\"], [0.2222222222222222, \"#7201a8\"], [0.3333333333333333, \"#9c179e\"], [0.4444444444444444, \"#bd3786\"], [0.5555555555555556, \"#d8576b\"], [0.6666666666666666, \"#ed7953\"], [0.7777777777777778, \"#fb9f3a\"], [0.8888888888888888, \"#fdca26\"], [1.0, \"#f0f921\"]], \"type\": \"surface\"}], \"table\": [{\"cells\": {\"fill\": {\"color\": \"#EBF0F8\"}, \"line\": {\"color\": \"white\"}}, \"header\": {\"fill\": {\"color\": \"#C8D4E3\"}, \"line\": {\"color\": \"white\"}}, \"type\": \"table\"}]}, \"layout\": {\"annotationdefaults\": {\"arrowcolor\": \"#2a3f5f\", \"arrowhead\": 0, \"arrowwidth\": 1}, \"coloraxis\": {\"colorbar\": {\"outlinewidth\": 0, \"ticks\": \"\"}}, \"colorscale\": {\"diverging\": [[0, \"#8e0152\"], [0.1, \"#c51b7d\"], [0.2, \"#de77ae\"], [0.3, \"#f1b6da\"], [0.4, \"#fde0ef\"], [0.5, \"#f7f7f7\"], [0.6, \"#e6f5d0\"], [0.7, \"#b8e186\"], [0.8, \"#7fbc41\"], [0.9, \"#4d9221\"], [1, \"#276419\"]], \"sequential\": [[0.0, \"#0d0887\"], [0.1111111111111111, \"#46039f\"], [0.2222222222222222, \"#7201a8\"], [0.3333333333333333, \"#9c179e\"], [0.4444444444444444, \"#bd3786\"], [0.5555555555555556, \"#d8576b\"], [0.6666666666666666, \"#ed7953\"], [0.7777777777777778, \"#fb9f3a\"], [0.8888888888888888, \"#fdca26\"], [1.0, \"#f0f921\"]], \"sequentialminus\": [[0.0, \"#0d0887\"], [0.1111111111111111, \"#46039f\"], [0.2222222222222222, \"#7201a8\"], [0.3333333333333333, \"#9c179e\"], [0.4444444444444444, \"#bd3786\"], [0.5555555555555556, \"#d8576b\"], [0.6666666666666666, \"#ed7953\"], [0.7777777777777778, \"#fb9f3a\"], [0.8888888888888888, \"#fdca26\"], [1.0, \"#f0f921\"]]}, \"colorway\": [\"#636efa\", \"#EF553B\", \"#00cc96\", \"#ab63fa\", \"#FFA15A\", \"#19d3f3\", \"#FF6692\", \"#B6E880\", \"#FF97FF\", \"#FECB52\"], \"font\": {\"color\": \"#2a3f5f\"}, \"geo\": {\"bgcolor\": \"white\", \"lakecolor\": \"white\", \"landcolor\": \"#E5ECF6\", \"showlakes\": true, \"showland\": true, \"subunitcolor\": \"white\"}, \"hoverlabel\": {\"align\": \"left\"}, \"hovermode\": \"closest\", \"mapbox\": {\"style\": \"light\"}, \"paper_bgcolor\": \"white\", \"plot_bgcolor\": \"#E5ECF6\", \"polar\": {\"angularaxis\": {\"gridcolor\": \"white\", \"linecolor\": \"white\", \"ticks\": \"\"}, \"bgcolor\": \"#E5ECF6\", \"radialaxis\": {\"gridcolor\": \"white\", \"linecolor\": \"white\", \"ticks\": \"\"}}, \"scene\": {\"xaxis\": {\"backgroundcolor\": \"#E5ECF6\", \"gridcolor\": \"white\", \"gridwidth\": 2, \"linecolor\": \"white\", \"showbackground\": true, \"ticks\": \"\", \"zerolinecolor\": \"white\"}, \"yaxis\": {\"backgroundcolor\": \"#E5ECF6\", \"gridcolor\": \"white\", \"gridwidth\": 2, \"linecolor\": \"white\", \"showbackground\": true, \"ticks\": \"\", \"zerolinecolor\": \"white\"}, \"zaxis\": {\"backgroundcolor\": \"#E5ECF6\", \"gridcolor\": \"white\", \"gridwidth\": 2, \"linecolor\": \"white\", \"showbackground\": true, \"ticks\": \"\", \"zerolinecolor\": \"white\"}}, \"shapedefaults\": {\"line\": {\"color\": \"#2a3f5f\"}}, \"ternary\": {\"aaxis\": {\"gridcolor\": \"white\", \"linecolor\": \"white\", \"ticks\": \"\"}, \"baxis\": {\"gridcolor\": \"white\", \"linecolor\": \"white\", \"ticks\": \"\"}, \"bgcolor\": \"#E5ECF6\", \"caxis\": {\"gridcolor\": \"white\", \"linecolor\": \"white\", \"ticks\": \"\"}}, \"title\": {\"x\": 0.05}, \"xaxis\": {\"automargin\": true, \"gridcolor\": \"white\", \"linecolor\": \"white\", \"ticks\": \"\", \"title\": {\"standoff\": 15}, \"zerolinecolor\": \"white\", \"zerolinewidth\": 2}, \"yaxis\": {\"automargin\": true, \"gridcolor\": \"white\", \"linecolor\": \"white\", \"ticks\": \"\", \"title\": {\"standoff\": 15}, \"zerolinecolor\": \"white\", \"zerolinewidth\": 2}}}, \"title\": {\"text\": \"Recuperados por dia\"}},\n",
              "                        {\"responsive\": true}\n",
              "                    ).then(function(){\n",
              "                            \n",
              "var gd = document.getElementById('d23489a8-c065-4728-8f7b-d2a57fd065c3');\n",
              "var x = new MutationObserver(function (mutations, observer) {{\n",
              "        var display = window.getComputedStyle(gd).display;\n",
              "        if (!display || display === 'none') {{\n",
              "            console.log([gd, 'removed!']);\n",
              "            Plotly.purge(gd);\n",
              "            observer.disconnect();\n",
              "        }}\n",
              "}});\n",
              "\n",
              "// Listen for the removal of the full notebook cells\n",
              "var notebookContainer = gd.closest('#notebook-container');\n",
              "if (notebookContainer) {{\n",
              "    x.observe(notebookContainer, {childList: true});\n",
              "}}\n",
              "\n",
              "// Listen for the clearing of the current output cell\n",
              "var outputEl = gd.closest('.output');\n",
              "if (outputEl) {{\n",
              "    x.observe(outputEl, {childList: true});\n",
              "}}\n",
              "\n",
              "                        })\n",
              "                };\n",
              "                \n",
              "            </script>\n",
              "        </div>\n",
              "</body>\n",
              "</html>"
            ]
          },
          "metadata": {
            "tags": []
          }
        }
      ]
    },
    {
      "cell_type": "code",
      "metadata": {
        "colab": {
          "base_uri": "https://localhost:8080/"
        },
        "id": "LX0JzF_XKGUG",
        "outputId": "658b6d3d-47cf-4822-c0f8-a9da17489441"
      },
      "source": [
        "len(results_df[(results_df[\"recuperado\"]==\"Recuperado\") & (results_df[\"tipo_recuperacion\"]==\"Tiempo\")][\"fecha_recuperado\"])/len(results_df[results_df[\"recuperado\"]==\"Recuperado\"][\"fecha_recuperado\"])"
      ],
      "execution_count": null,
      "outputs": [
        {
          "output_type": "execute_result",
          "data": {
            "text/plain": [
              "0.8882340644458869"
            ]
          },
          "metadata": {
            "tags": []
          },
          "execution_count": 162
        }
      ]
    },
    {
      "cell_type": "code",
      "metadata": {
        "colab": {
          "base_uri": "https://localhost:8080/"
        },
        "id": "iK-LEBPo2aUy",
        "outputId": "853baa5a-322e-4e6e-b956-e3564bb01e57"
      },
      "source": [
        "sum(casos_diarios_DF[\"fallecidos por dia\"])"
      ],
      "execution_count": null,
      "outputs": [
        {
          "output_type": "execute_result",
          "data": {
            "text/plain": [
              "57786"
            ]
          },
          "metadata": {
            "tags": []
          },
          "execution_count": 145
        }
      ]
    },
    {
      "cell_type": "code",
      "metadata": {
        "colab": {
          "base_uri": "https://localhost:8080/"
        },
        "id": "Ol45t7TAFXHh",
        "outputId": "605dcc1d-63e8-45fa-ef4b-d8b36172f3d3"
      },
      "source": [
        "sum(df[\"NUEVOS_MUERTOS\"])"
      ],
      "execution_count": null,
      "outputs": [
        {
          "output_type": "execute_result",
          "data": {
            "text/plain": [
              "57785"
            ]
          },
          "metadata": {
            "tags": []
          },
          "execution_count": 146
        }
      ]
    },
    {
      "cell_type": "code",
      "metadata": {
        "colab": {
          "base_uri": "https://localhost:8080/"
        },
        "id": "KwclI-hhFdlX",
        "outputId": "4182d338-add0-4446-a6f3-0f03448e72c0"
      },
      "source": [
        "sum(casos_diarios_DF[\"recuperados por dia\"])"
      ],
      "execution_count": null,
      "outputs": [
        {
          "output_type": "execute_result",
          "data": {
            "text/plain": [
              "2090467"
            ]
          },
          "metadata": {
            "tags": []
          },
          "execution_count": 155
        }
      ]
    },
    {
      "cell_type": "code",
      "metadata": {
        "id": "iaILB3FdFkU1"
      },
      "source": [
        "listaf = casos_diarios_DF[\"fallecidos por dia\"].rolling(len(casos_diarios_DF[\"fallecidos por dia\"]), min_periods=1).mean()\r\n",
        "listar = casos_diarios_DF[\"recuperados por dia\"].rolling(len(casos_diarios_DF[\"recuperados por dia\"]), min_periods=1).mean()\r\n",
        "listac = casos_diarios_DF[\"casos por dia\"].rolling(len(casos_diarios_DF[\"recuperados por dia\"]), min_periods=1).mean()"
      ],
      "execution_count": null,
      "outputs": []
    },
    {
      "cell_type": "code",
      "metadata": {
        "colab": {
          "base_uri": "https://localhost:8080/",
          "height": 542
        },
        "id": "O33y1s53H0lK",
        "outputId": "bc2d1f97-ab94-4e71-c1ba-6333020722d5"
      },
      "source": [
        "fig = go.Figure()\r\n",
        "\r\n",
        "fig.add_trace(go.Scatter(\r\n",
        "    x=casos_diarios_DF[\"fechas\"],\r\n",
        "    y=listaf,\r\n",
        "    name=\"Preprocesamiento propio\"\r\n",
        "))\r\n",
        "\r\n",
        "fig.add_trace(go.Scatter(\r\n",
        "    x=casos_diarios_DF[\"fechas\"],\r\n",
        "    y=listar,\r\n",
        "    name=\"Preprocesamiento propio\"\r\n",
        "))\r\n",
        "\r\n",
        "fig.add_trace(go.Scatter(\r\n",
        "    x=casos_diarios_DF[\"fechas\"],\r\n",
        "    y=listac,\r\n",
        "    name=\"Preprocesamiento propio\"\r\n",
        "))\r\n",
        "\r\n",
        "\r\n",
        "fig.add_trace(go.Scatter(\r\n",
        "    x=FECHA_ACTUALIZACION_DATE_FMAT,\r\n",
        "    y=df[\"TOTAL_RECUPERADOS\"],\r\n",
        "    name=\"base de datos\"\r\n",
        "))\r\n",
        "\r\n",
        "fig.update_layout(title=\"Recuperados por dia\")\r\n",
        "\r\n",
        "fig.update_layout(showlegend=True)\r\n",
        "\r\n",
        "fig.show()"
      ],
      "execution_count": null,
      "outputs": [
        {
          "output_type": "display_data",
          "data": {
            "text/html": [
              "<html>\n",
              "<head><meta charset=\"utf-8\" /></head>\n",
              "<body>\n",
              "    <div>\n",
              "            <script src=\"https://cdnjs.cloudflare.com/ajax/libs/mathjax/2.7.5/MathJax.js?config=TeX-AMS-MML_SVG\"></script><script type=\"text/javascript\">if (window.MathJax) {MathJax.Hub.Config({SVG: {font: \"STIX-Web\"}});}</script>\n",
              "                <script type=\"text/javascript\">window.PlotlyConfig = {MathJaxConfig: 'local'};</script>\n",
              "        <script src=\"https://cdn.plot.ly/plotly-latest.min.js\"></script>    \n",
              "            <div id=\"038e5982-1d58-402c-8f2e-70acafd1d407\" class=\"plotly-graph-div\" style=\"height:525px; width:100%;\"></div>\n",
              "            <script type=\"text/javascript\">\n",
              "                \n",
              "                    window.PLOTLYENV=window.PLOTLYENV || {};\n",
              "                    \n",
              "                if (document.getElementById(\"038e5982-1d58-402c-8f2e-70acafd1d407\")) {\n",
              "                    Plotly.newPlot(\n",
              "                        '038e5982-1d58-402c-8f2e-70acafd1d407',\n",
              "                        [{\"name\": \"Preprocesamiento propio\", \"type\": \"scatter\", \"x\": [\"2020-03-06T00:00:00\", \"2020-03-07T00:00:00\", \"2020-03-08T00:00:00\", \"2020-03-09T00:00:00\", \"2020-03-10T00:00:00\", \"2020-03-11T00:00:00\", \"2020-03-12T00:00:00\", \"2020-03-13T00:00:00\", \"2020-03-14T00:00:00\", \"2020-03-15T00:00:00\", \"2020-03-16T00:00:00\", \"2020-03-17T00:00:00\", \"2020-03-18T00:00:00\", \"2020-03-19T00:00:00\", \"2020-03-20T00:00:00\", \"2020-03-21T00:00:00\", \"2020-03-22T00:00:00\", \"2020-03-23T00:00:00\", \"2020-03-24T00:00:00\", \"2020-03-25T00:00:00\", \"2020-03-26T00:00:00\", \"2020-03-27T00:00:00\", \"2020-03-28T00:00:00\", \"2020-03-29T00:00:00\", \"2020-03-30T00:00:00\", \"2020-03-31T00:00:00\", \"2020-04-01T00:00:00\", \"2020-04-02T00:00:00\", \"2020-04-03T00:00:00\", \"2020-04-04T00:00:00\", \"2020-04-05T00:00:00\", \"2020-04-06T00:00:00\", \"2020-04-07T00:00:00\", \"2020-04-08T00:00:00\", \"2020-04-09T00:00:00\", \"2020-04-10T00:00:00\", \"2020-04-11T00:00:00\", \"2020-04-12T00:00:00\", \"2020-04-13T00:00:00\", \"2020-04-14T00:00:00\", \"2020-04-15T00:00:00\", \"2020-04-16T00:00:00\", \"2020-04-17T00:00:00\", \"2020-04-18T00:00:00\", \"2020-04-19T00:00:00\", \"2020-04-20T00:00:00\", \"2020-04-21T00:00:00\", \"2020-04-22T00:00:00\", \"2020-04-23T00:00:00\", \"2020-04-24T00:00:00\", \"2020-04-25T00:00:00\", \"2020-04-26T00:00:00\", \"2020-04-27T00:00:00\", \"2020-04-28T00:00:00\", \"2020-04-29T00:00:00\", \"2020-04-30T00:00:00\", \"2020-05-01T00:00:00\", \"2020-05-02T00:00:00\", \"2020-05-03T00:00:00\", \"2020-05-04T00:00:00\", \"2020-05-05T00:00:00\", \"2020-05-06T00:00:00\", \"2020-05-07T00:00:00\", \"2020-05-08T00:00:00\", \"2020-05-09T00:00:00\", \"2020-05-10T00:00:00\", \"2020-05-11T00:00:00\", \"2020-05-12T00:00:00\", \"2020-05-13T00:00:00\", \"2020-05-14T00:00:00\", \"2020-05-15T00:00:00\", \"2020-05-16T00:00:00\", \"2020-05-17T00:00:00\", \"2020-05-18T00:00:00\", \"2020-05-19T00:00:00\", \"2020-05-20T00:00:00\", \"2020-05-21T00:00:00\", \"2020-05-22T00:00:00\", \"2020-05-23T00:00:00\", \"2020-05-24T00:00:00\", \"2020-05-25T00:00:00\", \"2020-05-26T00:00:00\", \"2020-05-27T00:00:00\", \"2020-05-28T00:00:00\", \"2020-05-29T00:00:00\", \"2020-05-30T00:00:00\", \"2020-05-31T00:00:00\", \"2020-06-01T00:00:00\", \"2020-06-02T00:00:00\", \"2020-06-03T00:00:00\", \"2020-06-04T00:00:00\", \"2020-06-05T00:00:00\", \"2020-06-06T00:00:00\", \"2020-06-07T00:00:00\", \"2020-06-08T00:00:00\", \"2020-06-09T00:00:00\", \"2020-06-10T00:00:00\", \"2020-06-11T00:00:00\", \"2020-06-12T00:00:00\", \"2020-06-13T00:00:00\", \"2020-06-14T00:00:00\", \"2020-06-15T00:00:00\", \"2020-06-16T00:00:00\", \"2020-06-17T00:00:00\", \"2020-06-18T00:00:00\", \"2020-06-19T00:00:00\", \"2020-06-20T00:00:00\", \"2020-06-21T00:00:00\", \"2020-06-22T00:00:00\", \"2020-06-23T00:00:00\", \"2020-06-24T00:00:00\", \"2020-06-25T00:00:00\", \"2020-06-26T00:00:00\", \"2020-06-27T00:00:00\", \"2020-06-28T00:00:00\", \"2020-06-29T00:00:00\", \"2020-06-30T00:00:00\", \"2020-07-01T00:00:00\", \"2020-07-02T00:00:00\", \"2020-07-03T00:00:00\", \"2020-07-04T00:00:00\", \"2020-07-05T00:00:00\", \"2020-07-06T00:00:00\", \"2020-07-07T00:00:00\", \"2020-07-08T00:00:00\", \"2020-07-09T00:00:00\", \"2020-07-10T00:00:00\", \"2020-07-11T00:00:00\", \"2020-07-12T00:00:00\", \"2020-07-13T00:00:00\", \"2020-07-14T00:00:00\", \"2020-07-15T00:00:00\", \"2020-07-16T00:00:00\", \"2020-07-17T00:00:00\", \"2020-07-18T00:00:00\", \"2020-07-19T00:00:00\", \"2020-07-20T00:00:00\", \"2020-07-21T00:00:00\", \"2020-07-22T00:00:00\", \"2020-07-23T00:00:00\", \"2020-07-24T00:00:00\", \"2020-07-25T00:00:00\", \"2020-07-26T00:00:00\", \"2020-07-27T00:00:00\", \"2020-07-28T00:00:00\", \"2020-07-29T00:00:00\", \"2020-07-30T00:00:00\", \"2020-07-31T00:00:00\", \"2020-08-01T00:00:00\", \"2020-08-02T00:00:00\", \"2020-08-03T00:00:00\", \"2020-08-04T00:00:00\", \"2020-08-05T00:00:00\", \"2020-08-06T00:00:00\", \"2020-08-07T00:00:00\", \"2020-08-08T00:00:00\", \"2020-08-09T00:00:00\", \"2020-08-10T00:00:00\", \"2020-08-11T00:00:00\", \"2020-08-12T00:00:00\", \"2020-08-13T00:00:00\", \"2020-08-14T00:00:00\", \"2020-08-15T00:00:00\", \"2020-08-16T00:00:00\", \"2020-08-17T00:00:00\", \"2020-08-18T00:00:00\", \"2020-08-19T00:00:00\", \"2020-08-20T00:00:00\", \"2020-08-21T00:00:00\", \"2020-08-22T00:00:00\", \"2020-08-23T00:00:00\", \"2020-08-24T00:00:00\", \"2020-08-25T00:00:00\", \"2020-08-26T00:00:00\", \"2020-08-27T00:00:00\", \"2020-08-28T00:00:00\", \"2020-08-29T00:00:00\", \"2020-08-30T00:00:00\", \"2020-08-31T00:00:00\", \"2020-09-01T00:00:00\", \"2020-09-02T00:00:00\", \"2020-09-03T00:00:00\", \"2020-09-04T00:00:00\", \"2020-09-05T00:00:00\", \"2020-09-06T00:00:00\", \"2020-09-07T00:00:00\", \"2020-09-08T00:00:00\", \"2020-09-09T00:00:00\", \"2020-09-10T00:00:00\", \"2020-09-11T00:00:00\", \"2020-09-12T00:00:00\", \"2020-09-13T00:00:00\", \"2020-09-14T00:00:00\", \"2020-09-15T00:00:00\", \"2020-09-16T00:00:00\", \"2020-09-17T00:00:00\", \"2020-09-18T00:00:00\", \"2020-09-19T00:00:00\", \"2020-09-20T00:00:00\", \"2020-09-21T00:00:00\", \"2020-09-22T00:00:00\", \"2020-09-23T00:00:00\", \"2020-09-24T00:00:00\", \"2020-09-25T00:00:00\", \"2020-09-26T00:00:00\", \"2020-09-27T00:00:00\", \"2020-09-28T00:00:00\", \"2020-09-29T00:00:00\", \"2020-09-30T00:00:00\", \"2020-10-01T00:00:00\", \"2020-10-02T00:00:00\", \"2020-10-03T00:00:00\", \"2020-10-04T00:00:00\", \"2020-10-05T00:00:00\", \"2020-10-06T00:00:00\", \"2020-10-07T00:00:00\", \"2020-10-08T00:00:00\", \"2020-10-09T00:00:00\", \"2020-10-10T00:00:00\", \"2020-10-11T00:00:00\", \"2020-10-12T00:00:00\", \"2020-10-13T00:00:00\", \"2020-10-14T00:00:00\", \"2020-10-15T00:00:00\", \"2020-10-16T00:00:00\", \"2020-10-17T00:00:00\", \"2020-10-18T00:00:00\", \"2020-10-19T00:00:00\", \"2020-10-20T00:00:00\", \"2020-10-21T00:00:00\", \"2020-10-22T00:00:00\", \"2020-10-23T00:00:00\", \"2020-10-24T00:00:00\", \"2020-10-25T00:00:00\", \"2020-10-26T00:00:00\", \"2020-10-27T00:00:00\", \"2020-10-28T00:00:00\", \"2020-10-29T00:00:00\", \"2020-10-30T00:00:00\", \"2020-10-31T00:00:00\", \"2020-11-01T00:00:00\", \"2020-11-02T00:00:00\", \"2020-11-03T00:00:00\", \"2020-11-04T00:00:00\", \"2020-11-05T00:00:00\", \"2020-11-06T00:00:00\", \"2020-11-07T00:00:00\", \"2020-11-08T00:00:00\", \"2020-11-09T00:00:00\", \"2020-11-10T00:00:00\", \"2020-11-11T00:00:00\", \"2020-11-12T00:00:00\", \"2020-11-13T00:00:00\", \"2020-11-14T00:00:00\", \"2020-11-15T00:00:00\", \"2020-11-16T00:00:00\", \"2020-11-17T00:00:00\", \"2020-11-18T00:00:00\", \"2020-11-19T00:00:00\", \"2020-11-20T00:00:00\", \"2020-11-21T00:00:00\", \"2020-11-22T00:00:00\", \"2020-11-23T00:00:00\", \"2020-11-24T00:00:00\", \"2020-11-25T00:00:00\", \"2020-11-26T00:00:00\", \"2020-11-27T00:00:00\", \"2020-11-28T00:00:00\", \"2020-11-29T00:00:00\", \"2020-11-30T00:00:00\", \"2020-12-01T00:00:00\", \"2020-12-02T00:00:00\", \"2020-12-03T00:00:00\", \"2020-12-04T00:00:00\", \"2020-12-05T00:00:00\", \"2020-12-06T00:00:00\", \"2020-12-07T00:00:00\", \"2020-12-08T00:00:00\", \"2020-12-09T00:00:00\", \"2020-12-10T00:00:00\", \"2020-12-11T00:00:00\", \"2020-12-12T00:00:00\", \"2020-12-13T00:00:00\", \"2020-12-14T00:00:00\", \"2020-12-15T00:00:00\", \"2020-12-16T00:00:00\", \"2020-12-17T00:00:00\", \"2020-12-18T00:00:00\", \"2020-12-19T00:00:00\", \"2020-12-20T00:00:00\", \"2020-12-21T00:00:00\", \"2020-12-22T00:00:00\", \"2020-12-23T00:00:00\", \"2020-12-24T00:00:00\", \"2020-12-25T00:00:00\", \"2020-12-26T00:00:00\", \"2020-12-27T00:00:00\", \"2020-12-28T00:00:00\", \"2020-12-29T00:00:00\", \"2020-12-30T00:00:00\", \"2020-12-31T00:00:00\", \"2021-01-01T00:00:00\", \"2021-01-02T00:00:00\", \"2021-01-03T00:00:00\", \"2021-01-04T00:00:00\", \"2021-01-05T00:00:00\", \"2021-01-06T00:00:00\", \"2021-01-07T00:00:00\", \"2021-01-08T00:00:00\", \"2021-01-09T00:00:00\", \"2021-01-10T00:00:00\", \"2021-01-11T00:00:00\", \"2021-01-12T00:00:00\", \"2021-01-13T00:00:00\", \"2021-01-14T00:00:00\", \"2021-01-15T00:00:00\", \"2021-01-16T00:00:00\", \"2021-01-17T00:00:00\", \"2021-01-18T00:00:00\", \"2021-01-19T00:00:00\", \"2021-01-20T00:00:00\", \"2021-01-21T00:00:00\", \"2021-01-22T00:00:00\", \"2021-01-23T00:00:00\", \"2021-01-24T00:00:00\", \"2021-01-25T00:00:00\", \"2021-01-26T00:00:00\", \"2021-01-27T00:00:00\", \"2021-01-28T00:00:00\", \"2021-01-29T00:00:00\", \"2021-01-30T00:00:00\", \"2021-01-31T00:00:00\", \"2021-02-01T00:00:00\", \"2021-02-02T00:00:00\", \"2021-02-03T00:00:00\", \"2021-02-04T00:00:00\", \"2021-02-05T00:00:00\", \"2021-02-06T00:00:00\", \"2021-02-07T00:00:00\", \"2021-02-08T00:00:00\", \"2021-02-09T00:00:00\", \"2021-02-10T00:00:00\", \"2021-02-11T00:00:00\", \"2021-02-12T00:00:00\", \"2021-02-13T00:00:00\", \"2021-02-14T00:00:00\", \"2021-02-15T00:00:00\"], \"y\": [0.0, 0.0, 0.0, 0.0, 0.0, 0.0, 0.0, 0.0, 0.0, 0.0, 0.09090909090909091, 0.08333333333333333, 0.07692307692307693, 0.07142857142857142, 0.06666666666666667, 0.0625, 0.11764705882352941, 0.16666666666666666, 0.21052631578947367, 0.4, 0.47619047619047616, 0.5909090909090909, 0.782608695652174, 0.7916666666666666, 0.96, 1.1153846153846154, 1.2222222222222223, 1.4285714285714286, 1.8620689655172413, 2.3, 2.4838709677419355, 2.78125, 2.9696969696969697, 3.0294117647058822, 3.3142857142857145, 3.361111111111111, 3.5135135135135136, 3.736842105263158, 3.8205128205128207, 4.0, 4.195121951219512, 4.476190476190476, 4.465116279069767, 4.659090909090909, 4.7555555555555555, 4.869565217391305, 4.9787234042553195, 5.041666666666667, 5.122448979591836, 5.32, 5.411764705882353, 5.653846153846154, 5.754716981132075, 5.888888888888889, 6.1454545454545455, 6.428571428571429, 6.543859649122807, 6.793103448275862, 6.983050847457627, 7.216666666666667, 7.426229508196721, 7.693548387096774, 7.984126984126984, 8.171875, 8.323076923076924, 8.484848484848484, 8.791044776119403, 8.823529411764707, 8.898550724637682, 9.042857142857143, 9.253521126760564, 9.38888888888889, 9.547945205479452, 9.77027027027027, 10.04, 10.31578947368421, 10.519480519480519, 10.91025641025641, 11.316455696202532, 11.675, 11.876543209876543, 12.317073170731707, 12.55421686746988, 12.880952380952381, 13.294117647058824, 13.732558139534884, 14.10344827586207, 14.534090909090908, 14.98876404494382, 15.71111111111111, 16.21978021978022, 16.858695652173914, 17.365591397849464, 17.93617021276596, 18.50526315789474, 19.15625, 19.690721649484537, 20.255102040816325, 20.858585858585858, 21.47, 22.366336633663366, 23.11764705882353, 23.961165048543688, 24.75, 25.685714285714287, 26.5, 27.30841121495327, 28.36111111111111, 29.376146788990827, 30.3, 31.306306306306308, 32.285714285714285, 33.203539823008846, 34.19298245614035, 35.02608695652174, 36.008620689655174, 36.98290598290598, 37.8728813559322, 38.96638655462185, 40.13333333333333, 40.95867768595041, 42.032786885245905, 43.27642276422764, 44.604838709677416, 45.752, 47.03968253968254, 48.275590551181104, 49.546875, 50.751937984496124, 52.261538461538464, 53.55725190839695, 54.946969696969695, 56.37593984962406, 58.04477611940298, 59.525925925925925, 60.93382352941177, 62.34306569343066, 64.1376811594203, 65.80575539568345, 67.5, 69.14893617021276, 70.67605633802818, 72.27272727272727, 73.99305555555556, 75.69655172413793, 77.45890410958904, 79.36734693877551, 81.08783783783784, 82.55704697986577, 83.94, 85.65562913907284, 87.07236842105263, 88.56209150326798, 90.02597402597402, 91.59354838709677, 93.27564102564102, 94.70700636942675, 96.06962025316456, 97.50314465408805, 98.70625, 100.11180124223603, 101.19753086419753, 102.3558282208589, 103.41463414634147, 104.44242424242424, 105.63253012048193, 106.8562874251497, 107.77380952380952, 108.84023668639053, 109.7235294117647, 110.5672514619883, 111.45930232558139, 112.39884393063583, 113.15517241379311, 114.13142857142857, 115.05681818181819, 115.87005649717514, 116.36516853932584, 117.05586592178771, 117.72222222222223, 118.353591160221, 118.96153846153847, 119.60655737704919, 120.1195652173913, 120.66486486486487, 121.20430107526882, 121.67914438502673, 122.07446808510639, 122.4920634920635, 122.9, 123.20942408376963, 123.53125, 123.83937823834196, 124.1340206185567, 124.48205128205129, 124.80102040816327, 124.99492385786802, 125.34343434343434, 125.46733668341709, 125.83, 126.13432835820896, 126.27722772277228, 126.45320197044335, 126.61274509803921, 126.86829268292684, 127.07766990291262, 127.29468599033817, 127.50961538461539, 127.7177033492823, 127.95238095238095, 128.14691943127963, 128.2688679245283, 128.4694835680751, 128.63084112149534, 128.8232558139535, 128.85185185185185, 128.9815668202765, 129.08256880733944, 129.2785388127854, 129.48181818181817, 129.67420814479638, 129.8918918918919, 130.02690582959642, 130.19196428571428, 130.39111111111112, 130.5486725663717, 130.65198237885463, 130.8640350877193, 131.06113537117903, 131.23043478260868, 131.35497835497836, 131.64224137931035, 131.84549356223175, 132.06410256410257, 132.3063829787234, 132.54661016949152, 132.71308016877637, 132.99159663865547, 133.2510460251046, 133.40833333333333, 133.5186721991701, 133.70661157024793, 133.96707818930042, 134.24590163934425, 134.43673469387755, 134.6178861788618, 134.8582995951417, 134.9233870967742, 135.04016064257027, 135.176, 135.32669322709162, 135.51190476190476, 135.65217391304347, 135.81102362204723, 136.01176470588234, 136.19921875, 136.30350194552528, 136.46511627906978, 136.6138996138996, 136.76923076923077, 136.94252873563218, 137.16030534351145, 137.35361216730038, 137.59848484848484, 137.7056603773585, 137.86466165413535, 138.05992509363296, 138.23880597014926, 138.39776951672863, 138.5074074074074, 138.61992619926198, 138.7610294117647, 138.87912087912088, 138.97445255474452, 139.12363636363636, 139.2427536231884, 139.4187725631769, 139.60071942446044, 139.7921146953405, 139.925, 140.17081850533808, 140.3049645390071, 140.48409893992934, 140.6267605633803, 140.83508771929826, 141.08041958041957, 141.3588850174216, 141.62152777777777, 141.96539792387543, 142.3206896551724, 142.69072164948454, 142.98972602739727, 143.3174061433447, 143.7108843537415, 144.01694915254237, 144.45945945945945, 144.76767676767676, 145.1208053691275, 145.66889632107024, 146.16, 146.55149501661128, 147.12582781456953, 147.54785478547853, 147.9046052631579, 148.35737704918031, 148.84640522875816, 149.45602605863192, 150.15584415584416, 150.67637540453075, 151.34193548387097, 151.94855305466237, 152.65064102564102, 153.3258785942492, 154.0859872611465, 154.76825396825396, 155.46835443037975, 156.14511041009465, 156.92767295597486, 157.6551724137931, 158.453125, 159.17445482866043, 159.93788819875778, 160.57275541795664, 161.08333333333334, 161.68923076923076, 162.37423312883436, 162.9571865443425, 163.46341463414635, 163.91489361702128, 164.36969696969697, 164.76737160120845, 165.12048192771084, 165.43843843843842, 165.7245508982036, 166.00597014925373, 166.2797619047619, 166.48961424332344, 166.66272189349112, 166.905604719764, 166.98823529411766, 167.0909090909091, 167.12573099415204, 167.05830903790087, 167.09593023255815, 167.02898550724638, 166.9479768786127, 166.53025936599423]}, {\"name\": \"Preprocesamiento propio\", \"type\": \"scatter\", \"x\": [\"2020-03-06T00:00:00\", \"2020-03-07T00:00:00\", \"2020-03-08T00:00:00\", \"2020-03-09T00:00:00\", \"2020-03-10T00:00:00\", \"2020-03-11T00:00:00\", \"2020-03-12T00:00:00\", \"2020-03-13T00:00:00\", \"2020-03-14T00:00:00\", \"2020-03-15T00:00:00\", \"2020-03-16T00:00:00\", \"2020-03-17T00:00:00\", \"2020-03-18T00:00:00\", \"2020-03-19T00:00:00\", \"2020-03-20T00:00:00\", \"2020-03-21T00:00:00\", \"2020-03-22T00:00:00\", \"2020-03-23T00:00:00\", \"2020-03-24T00:00:00\", \"2020-03-25T00:00:00\", \"2020-03-26T00:00:00\", \"2020-03-27T00:00:00\", \"2020-03-28T00:00:00\", \"2020-03-29T00:00:00\", \"2020-03-30T00:00:00\", \"2020-03-31T00:00:00\", \"2020-04-01T00:00:00\", \"2020-04-02T00:00:00\", \"2020-04-03T00:00:00\", \"2020-04-04T00:00:00\", \"2020-04-05T00:00:00\", \"2020-04-06T00:00:00\", \"2020-04-07T00:00:00\", \"2020-04-08T00:00:00\", \"2020-04-09T00:00:00\", \"2020-04-10T00:00:00\", \"2020-04-11T00:00:00\", \"2020-04-12T00:00:00\", \"2020-04-13T00:00:00\", \"2020-04-14T00:00:00\", \"2020-04-15T00:00:00\", \"2020-04-16T00:00:00\", \"2020-04-17T00:00:00\", \"2020-04-18T00:00:00\", \"2020-04-19T00:00:00\", \"2020-04-20T00:00:00\", \"2020-04-21T00:00:00\", \"2020-04-22T00:00:00\", \"2020-04-23T00:00:00\", \"2020-04-24T00:00:00\", \"2020-04-25T00:00:00\", \"2020-04-26T00:00:00\", \"2020-04-27T00:00:00\", \"2020-04-28T00:00:00\", \"2020-04-29T00:00:00\", \"2020-04-30T00:00:00\", \"2020-05-01T00:00:00\", \"2020-05-02T00:00:00\", \"2020-05-03T00:00:00\", \"2020-05-04T00:00:00\", \"2020-05-05T00:00:00\", \"2020-05-06T00:00:00\", \"2020-05-07T00:00:00\", \"2020-05-08T00:00:00\", \"2020-05-09T00:00:00\", \"2020-05-10T00:00:00\", \"2020-05-11T00:00:00\", \"2020-05-12T00:00:00\", \"2020-05-13T00:00:00\", \"2020-05-14T00:00:00\", \"2020-05-15T00:00:00\", \"2020-05-16T00:00:00\", \"2020-05-17T00:00:00\", \"2020-05-18T00:00:00\", \"2020-05-19T00:00:00\", \"2020-05-20T00:00:00\", \"2020-05-21T00:00:00\", \"2020-05-22T00:00:00\", \"2020-05-23T00:00:00\", \"2020-05-24T00:00:00\", \"2020-05-25T00:00:00\", \"2020-05-26T00:00:00\", \"2020-05-27T00:00:00\", \"2020-05-28T00:00:00\", \"2020-05-29T00:00:00\", \"2020-05-30T00:00:00\", \"2020-05-31T00:00:00\", \"2020-06-01T00:00:00\", \"2020-06-02T00:00:00\", \"2020-06-03T00:00:00\", \"2020-06-04T00:00:00\", \"2020-06-05T00:00:00\", \"2020-06-06T00:00:00\", \"2020-06-07T00:00:00\", \"2020-06-08T00:00:00\", \"2020-06-09T00:00:00\", \"2020-06-10T00:00:00\", \"2020-06-11T00:00:00\", \"2020-06-12T00:00:00\", \"2020-06-13T00:00:00\", \"2020-06-14T00:00:00\", \"2020-06-15T00:00:00\", \"2020-06-16T00:00:00\", \"2020-06-17T00:00:00\", \"2020-06-18T00:00:00\", \"2020-06-19T00:00:00\", \"2020-06-20T00:00:00\", \"2020-06-21T00:00:00\", \"2020-06-22T00:00:00\", \"2020-06-23T00:00:00\", \"2020-06-24T00:00:00\", \"2020-06-25T00:00:00\", \"2020-06-26T00:00:00\", \"2020-06-27T00:00:00\", \"2020-06-28T00:00:00\", \"2020-06-29T00:00:00\", \"2020-06-30T00:00:00\", \"2020-07-01T00:00:00\", \"2020-07-02T00:00:00\", \"2020-07-03T00:00:00\", \"2020-07-04T00:00:00\", \"2020-07-05T00:00:00\", \"2020-07-06T00:00:00\", \"2020-07-07T00:00:00\", \"2020-07-08T00:00:00\", \"2020-07-09T00:00:00\", \"2020-07-10T00:00:00\", \"2020-07-11T00:00:00\", \"2020-07-12T00:00:00\", \"2020-07-13T00:00:00\", \"2020-07-14T00:00:00\", \"2020-07-15T00:00:00\", \"2020-07-16T00:00:00\", \"2020-07-17T00:00:00\", \"2020-07-18T00:00:00\", \"2020-07-19T00:00:00\", \"2020-07-20T00:00:00\", \"2020-07-21T00:00:00\", \"2020-07-22T00:00:00\", \"2020-07-23T00:00:00\", \"2020-07-24T00:00:00\", \"2020-07-25T00:00:00\", \"2020-07-26T00:00:00\", \"2020-07-27T00:00:00\", \"2020-07-28T00:00:00\", \"2020-07-29T00:00:00\", \"2020-07-30T00:00:00\", \"2020-07-31T00:00:00\", \"2020-08-01T00:00:00\", \"2020-08-02T00:00:00\", \"2020-08-03T00:00:00\", \"2020-08-04T00:00:00\", \"2020-08-05T00:00:00\", \"2020-08-06T00:00:00\", \"2020-08-07T00:00:00\", \"2020-08-08T00:00:00\", \"2020-08-09T00:00:00\", \"2020-08-10T00:00:00\", \"2020-08-11T00:00:00\", \"2020-08-12T00:00:00\", \"2020-08-13T00:00:00\", \"2020-08-14T00:00:00\", \"2020-08-15T00:00:00\", \"2020-08-16T00:00:00\", \"2020-08-17T00:00:00\", \"2020-08-18T00:00:00\", \"2020-08-19T00:00:00\", \"2020-08-20T00:00:00\", \"2020-08-21T00:00:00\", \"2020-08-22T00:00:00\", \"2020-08-23T00:00:00\", \"2020-08-24T00:00:00\", \"2020-08-25T00:00:00\", \"2020-08-26T00:00:00\", \"2020-08-27T00:00:00\", \"2020-08-28T00:00:00\", \"2020-08-29T00:00:00\", \"2020-08-30T00:00:00\", \"2020-08-31T00:00:00\", \"2020-09-01T00:00:00\", \"2020-09-02T00:00:00\", \"2020-09-03T00:00:00\", \"2020-09-04T00:00:00\", \"2020-09-05T00:00:00\", \"2020-09-06T00:00:00\", \"2020-09-07T00:00:00\", \"2020-09-08T00:00:00\", \"2020-09-09T00:00:00\", \"2020-09-10T00:00:00\", \"2020-09-11T00:00:00\", \"2020-09-12T00:00:00\", \"2020-09-13T00:00:00\", \"2020-09-14T00:00:00\", \"2020-09-15T00:00:00\", \"2020-09-16T00:00:00\", \"2020-09-17T00:00:00\", \"2020-09-18T00:00:00\", \"2020-09-19T00:00:00\", \"2020-09-20T00:00:00\", \"2020-09-21T00:00:00\", \"2020-09-22T00:00:00\", \"2020-09-23T00:00:00\", \"2020-09-24T00:00:00\", \"2020-09-25T00:00:00\", \"2020-09-26T00:00:00\", \"2020-09-27T00:00:00\", \"2020-09-28T00:00:00\", \"2020-09-29T00:00:00\", \"2020-09-30T00:00:00\", \"2020-10-01T00:00:00\", \"2020-10-02T00:00:00\", \"2020-10-03T00:00:00\", \"2020-10-04T00:00:00\", \"2020-10-05T00:00:00\", \"2020-10-06T00:00:00\", \"2020-10-07T00:00:00\", \"2020-10-08T00:00:00\", \"2020-10-09T00:00:00\", \"2020-10-10T00:00:00\", \"2020-10-11T00:00:00\", \"2020-10-12T00:00:00\", \"2020-10-13T00:00:00\", \"2020-10-14T00:00:00\", \"2020-10-15T00:00:00\", \"2020-10-16T00:00:00\", \"2020-10-17T00:00:00\", \"2020-10-18T00:00:00\", \"2020-10-19T00:00:00\", \"2020-10-20T00:00:00\", \"2020-10-21T00:00:00\", \"2020-10-22T00:00:00\", \"2020-10-23T00:00:00\", \"2020-10-24T00:00:00\", \"2020-10-25T00:00:00\", \"2020-10-26T00:00:00\", \"2020-10-27T00:00:00\", \"2020-10-28T00:00:00\", \"2020-10-29T00:00:00\", \"2020-10-30T00:00:00\", \"2020-10-31T00:00:00\", \"2020-11-01T00:00:00\", \"2020-11-02T00:00:00\", \"2020-11-03T00:00:00\", \"2020-11-04T00:00:00\", \"2020-11-05T00:00:00\", \"2020-11-06T00:00:00\", \"2020-11-07T00:00:00\", \"2020-11-08T00:00:00\", \"2020-11-09T00:00:00\", \"2020-11-10T00:00:00\", \"2020-11-11T00:00:00\", \"2020-11-12T00:00:00\", \"2020-11-13T00:00:00\", \"2020-11-14T00:00:00\", \"2020-11-15T00:00:00\", \"2020-11-16T00:00:00\", \"2020-11-17T00:00:00\", \"2020-11-18T00:00:00\", \"2020-11-19T00:00:00\", \"2020-11-20T00:00:00\", \"2020-11-21T00:00:00\", \"2020-11-22T00:00:00\", \"2020-11-23T00:00:00\", \"2020-11-24T00:00:00\", \"2020-11-25T00:00:00\", \"2020-11-26T00:00:00\", \"2020-11-27T00:00:00\", \"2020-11-28T00:00:00\", \"2020-11-29T00:00:00\", \"2020-11-30T00:00:00\", \"2020-12-01T00:00:00\", \"2020-12-02T00:00:00\", \"2020-12-03T00:00:00\", \"2020-12-04T00:00:00\", \"2020-12-05T00:00:00\", \"2020-12-06T00:00:00\", \"2020-12-07T00:00:00\", \"2020-12-08T00:00:00\", \"2020-12-09T00:00:00\", \"2020-12-10T00:00:00\", \"2020-12-11T00:00:00\", \"2020-12-12T00:00:00\", \"2020-12-13T00:00:00\", \"2020-12-14T00:00:00\", \"2020-12-15T00:00:00\", \"2020-12-16T00:00:00\", \"2020-12-17T00:00:00\", \"2020-12-18T00:00:00\", \"2020-12-19T00:00:00\", \"2020-12-20T00:00:00\", \"2020-12-21T00:00:00\", \"2020-12-22T00:00:00\", \"2020-12-23T00:00:00\", \"2020-12-24T00:00:00\", \"2020-12-25T00:00:00\", \"2020-12-26T00:00:00\", \"2020-12-27T00:00:00\", \"2020-12-28T00:00:00\", \"2020-12-29T00:00:00\", \"2020-12-30T00:00:00\", \"2020-12-31T00:00:00\", \"2021-01-01T00:00:00\", \"2021-01-02T00:00:00\", \"2021-01-03T00:00:00\", \"2021-01-04T00:00:00\", \"2021-01-05T00:00:00\", \"2021-01-06T00:00:00\", \"2021-01-07T00:00:00\", \"2021-01-08T00:00:00\", \"2021-01-09T00:00:00\", \"2021-01-10T00:00:00\", \"2021-01-11T00:00:00\", \"2021-01-12T00:00:00\", \"2021-01-13T00:00:00\", \"2021-01-14T00:00:00\", \"2021-01-15T00:00:00\", \"2021-01-16T00:00:00\", \"2021-01-17T00:00:00\", \"2021-01-18T00:00:00\", \"2021-01-19T00:00:00\", \"2021-01-20T00:00:00\", \"2021-01-21T00:00:00\", \"2021-01-22T00:00:00\", \"2021-01-23T00:00:00\", \"2021-01-24T00:00:00\", \"2021-01-25T00:00:00\", \"2021-01-26T00:00:00\", \"2021-01-27T00:00:00\", \"2021-01-28T00:00:00\", \"2021-01-29T00:00:00\", \"2021-01-30T00:00:00\", \"2021-01-31T00:00:00\", \"2021-02-01T00:00:00\", \"2021-02-02T00:00:00\", \"2021-02-03T00:00:00\", \"2021-02-04T00:00:00\", \"2021-02-05T00:00:00\", \"2021-02-06T00:00:00\", \"2021-02-07T00:00:00\", \"2021-02-08T00:00:00\", \"2021-02-09T00:00:00\", \"2021-02-10T00:00:00\", \"2021-02-11T00:00:00\", \"2021-02-12T00:00:00\", \"2021-02-13T00:00:00\", \"2021-02-14T00:00:00\", \"2021-02-15T00:00:00\"], \"y\": [0.0, 0.0, 0.0, 0.0, 0.0, 0.0, 0.0, 0.125, 0.2222222222222222, 0.3, 0.2727272727272727, 0.3333333333333333, 0.3076923076923077, 0.35714285714285715, 0.4, 0.5625, 0.7058823529411765, 1.1111111111111112, 1.631578947368421, 2.15, 2.8095238095238093, 3.5, 4.782608695652174, 5.791666666666667, 6.96, 7.730769230769231, 8.666666666666666, 9.535714285714286, 10.448275862068966, 11.4, 11.64516129032258, 12.03125, 12.454545454545455, 13.323529411764707, 14.17142857142857, 15.083333333333334, 16.16216216216216, 18.236842105263158, 20.23076923076923, 21.7, 23.51219512195122, 24.785714285714285, 25.3953488372093, 26.09090909090909, 27.11111111111111, 28.282608695652176, 29.46808510638298, 30.6875, 32.183673469387756, 33.26, 34.627450980392155, 35.76923076923077, 36.77358490566038, 38.129629629629626, 39.74545454545454, 40.125, 41.3859649122807, 42.96551724137931, 43.91525423728814, 45.666666666666664, 49.721311475409834, 52.5, 54.142857142857146, 55.765625, 58.01538461538462, 59.59090909090909, 62.37313432835821, 63.5, 65.91304347826087, 66.94285714285714, 68.92957746478874, 71.0, 72.0958904109589, 73.83783783783784, 75.49333333333334, 77.94736842105263, 80.64935064935065, 83.12820512820512, 84.86075949367088, 87.65, 89.98765432098766, 93.28048780487805, 96.28915662650603, 99.54761904761905, 102.6, 104.22093023255815, 123.02298850574712, 126.0, 139.7078651685393, 149.53333333333333, 155.2087912087912, 163.07608695652175, 166.6451612903226, 174.8404255319149, 183.61052631578949, 187.34375, 196.29896907216494, 200.8673469387755, 207.59595959595958, 212.54, 214.95049504950495, 216.23529411764707, 219.10679611650485, 226.52884615384616, 234.83809523809524, 244.56603773584905, 255.15887850467288, 267.27777777777777, 276.88990825688074, 287.08181818181816, 298.73873873873873, 313.42857142857144, 328.1592920353982, 338.0263157894737, 350.69565217391306, 362.73275862068965, 378.20512820512823, 389.0, 397.4873949579832, 405.6333333333333, 414.4793388429752, 421.94262295081967, 439.9918699186992, 452.5, 464.648, 481.6666666666667, 499.8582677165354, 514.28125, 525.077519379845, 540.6923076923077, 557.3358778625955, 575.7727272727273, 598.9774436090225, 623.1119402985074, 652.1185185185185, 680.0441176470588, 698.07299270073, 712.2898550724638, 723.5251798561151, 754.2428571428571, 782.8439716312057, 817.4577464788732, 842.8811188811189, 886.3819444444445, 923.8689655172413, 960.1506849315068, 994.7687074829932, 1028.6013513513512, 1067.6040268456377, 1101.7266666666667, 1135.9337748344371, 1170.4934210526317, 1199.9346405228757, 1228.8701298701299, 1257.9483870967742, 1286.2179487179487, 1326.6305732484077, 1367.506329113924, 1412.5849056603774, 1460.16875, 1514.1801242236024, 1566.7654320987654, 1634.9754601226994, 1698.719512195122, 1770.5757575757575, 1821.6506024096386, 1889.3473053892214, 1952.9285714285713, 1998.112426035503, 2048.3470588235296, 2115.4561403508774, 2162.6162790697676, 2216.057803468208, 2268.8505747126437, 2316.0857142857144, 2370.340909090909, 2417.5141242937852, 2458.9438202247193, 2492.575418994413, 2533.561111111111, 2572.3756906077347, 2609.7582417582416, 2643.9234972677596, 2676.75, 2717.048648648649, 2760.7150537634407, 2806.700534759358, 2850.5106382978724, 2919.3174603174602, 2971.1684210526314, 3005.942408376963, 3022.7916666666665, 3044.9689119170985, 3035.0309278350514, 3029.9282051282053, 3041.1989795918366, 3055.507614213198, 3070.0555555555557, 3082.829145728643, 3106.99, 3144.0696517412935, 3185.831683168317, 3231.5960591133003, 3275.8333333333335, 3320.2634146341466, 3357.4514563106795, 3393.289855072464, 3431.3028846153848, 3459.684210526316, 3481.9380952380952, 3476.1516587677725, 3477.9009433962265, 3479.49765258216, 3483.644859813084, 3487.6372093023256, 3486.2685185185187, 3486.9447004608296, 3484.059633027523, 3479.986301369863, 3494.7727272727275, 3517.443438914027, 3539.1216216216217, 3568.403587443946, 3598.1428571428573, 3627.6266666666666, 3657.5353982300885, 3687.8678414096917, 3713.311403508772, 3734.524017467249, 3753.2130434782607, 3774.2943722943724, 3791.560344827586, 3799.3948497854076, 3816.7735042735044, 3836.1063829787236, 3856.0338983050847, 3876.8143459915614, 3895.4579831932774, 3916.5857740585775, 3941.55, 3961.0995850622407, 3978.00826446281, 3995.707818930041, 4014.6188524590166, 4035.942857142857, 4057.5853658536585, 4077.080971659919, 4096.201612903225, 4115.55421686747, 4146.448, 4174.147410358566, 4202.107142857143, 4215.691699604743, 4232.153543307087, 4244.972549019608, 4256.1328125, 4268.389105058366, 4277.794573643411, 4290.818532818533, 4299.669230769231, 4308.157088122605, 4314.301526717557, 4328.566539923954, 4345.30303030303, 4355.615094339622, 4366.699248120301, 4376.9775280898875, 4388.936567164179, 4399.111524163569, 4405.055555555556, 4414.553505535056, 4427.22794117647, 4438.047619047619, 4450.419708029197, 4465.818181818182, 4477.510869565217, 4497.953068592058, 4520.003597122302, 4536.727598566308, 4551.753571428571, 4563.494661921708, 4570.053191489362, 4573.494699646643, 4582.140845070423, 4592.435087719298, 4605.835664335665, 4617.982578397213, 4639.21875, 4654.262975778547, 4697.886206896552, 4714.845360824742, 4742.181506849315, 4762.102389078498, 4791.619047619048, 4819.640677966102, 4850.1621621621625, 4874.771043771044, 4903.3087248322145, 4913.876254180602, 4946.283333333334, 4968.292358803987, 4991.867549668874, 5010.207920792079, 5030.457236842105, 5046.147540983607, 5053.5522875817, 5071.260586319218, 5089.438311688312, 5126.864077669903, 5150.5161290322585, 5170.729903536978, 5190.798076923077, 5219.233226837061, 5259.328025477707, 5301.714285714285, 5330.756329113924, 5355.533123028391, 5393.3805031446545, 5452.184952978057, 5483.909375, 5516.619937694704, 5545.524844720497, 5561.721362229102, 5580.472222222223, 5596.483076923077, 5634.236196319019, 5668.174311926606, 5701.695121951219, 5734.492401215805, 5767.166666666667, 5795.084592145015, 5819.674698795181, 5851.462462462462, 5893.425149700599, 5928.608955223881, 5947.892857142857, 5951.893175074184, 5970.529585798817, 5970.604719764012, 5976.476470588235, 6003.809384164223, 6009.608187134503, 6020.189504373177, 6024.892441860465, 6023.959420289855, 6021.624277456647, 6024.4005763688765]}, {\"name\": \"Preprocesamiento propio\", \"type\": \"scatter\", \"x\": [\"2020-03-06T00:00:00\", \"2020-03-07T00:00:00\", \"2020-03-08T00:00:00\", \"2020-03-09T00:00:00\", \"2020-03-10T00:00:00\", \"2020-03-11T00:00:00\", \"2020-03-12T00:00:00\", \"2020-03-13T00:00:00\", \"2020-03-14T00:00:00\", \"2020-03-15T00:00:00\", \"2020-03-16T00:00:00\", \"2020-03-17T00:00:00\", \"2020-03-18T00:00:00\", \"2020-03-19T00:00:00\", \"2020-03-20T00:00:00\", \"2020-03-21T00:00:00\", \"2020-03-22T00:00:00\", \"2020-03-23T00:00:00\", \"2020-03-24T00:00:00\", \"2020-03-25T00:00:00\", \"2020-03-26T00:00:00\", \"2020-03-27T00:00:00\", \"2020-03-28T00:00:00\", \"2020-03-29T00:00:00\", \"2020-03-30T00:00:00\", \"2020-03-31T00:00:00\", \"2020-04-01T00:00:00\", \"2020-04-02T00:00:00\", \"2020-04-03T00:00:00\", \"2020-04-04T00:00:00\", \"2020-04-05T00:00:00\", \"2020-04-06T00:00:00\", \"2020-04-07T00:00:00\", \"2020-04-08T00:00:00\", \"2020-04-09T00:00:00\", \"2020-04-10T00:00:00\", \"2020-04-11T00:00:00\", \"2020-04-12T00:00:00\", \"2020-04-13T00:00:00\", \"2020-04-14T00:00:00\", \"2020-04-15T00:00:00\", \"2020-04-16T00:00:00\", \"2020-04-17T00:00:00\", \"2020-04-18T00:00:00\", \"2020-04-19T00:00:00\", \"2020-04-20T00:00:00\", \"2020-04-21T00:00:00\", \"2020-04-22T00:00:00\", \"2020-04-23T00:00:00\", \"2020-04-24T00:00:00\", \"2020-04-25T00:00:00\", \"2020-04-26T00:00:00\", \"2020-04-27T00:00:00\", \"2020-04-28T00:00:00\", \"2020-04-29T00:00:00\", \"2020-04-30T00:00:00\", \"2020-05-01T00:00:00\", \"2020-05-02T00:00:00\", \"2020-05-03T00:00:00\", \"2020-05-04T00:00:00\", \"2020-05-05T00:00:00\", \"2020-05-06T00:00:00\", \"2020-05-07T00:00:00\", \"2020-05-08T00:00:00\", \"2020-05-09T00:00:00\", \"2020-05-10T00:00:00\", \"2020-05-11T00:00:00\", \"2020-05-12T00:00:00\", \"2020-05-13T00:00:00\", \"2020-05-14T00:00:00\", \"2020-05-15T00:00:00\", \"2020-05-16T00:00:00\", \"2020-05-17T00:00:00\", \"2020-05-18T00:00:00\", \"2020-05-19T00:00:00\", \"2020-05-20T00:00:00\", \"2020-05-21T00:00:00\", \"2020-05-22T00:00:00\", \"2020-05-23T00:00:00\", \"2020-05-24T00:00:00\", \"2020-05-25T00:00:00\", \"2020-05-26T00:00:00\", \"2020-05-27T00:00:00\", \"2020-05-28T00:00:00\", \"2020-05-29T00:00:00\", \"2020-05-30T00:00:00\", \"2020-05-31T00:00:00\", \"2020-06-01T00:00:00\", \"2020-06-02T00:00:00\", \"2020-06-03T00:00:00\", \"2020-06-04T00:00:00\", \"2020-06-05T00:00:00\", \"2020-06-06T00:00:00\", \"2020-06-07T00:00:00\", \"2020-06-08T00:00:00\", \"2020-06-09T00:00:00\", \"2020-06-10T00:00:00\", \"2020-06-11T00:00:00\", \"2020-06-12T00:00:00\", \"2020-06-13T00:00:00\", \"2020-06-14T00:00:00\", \"2020-06-15T00:00:00\", \"2020-06-16T00:00:00\", \"2020-06-17T00:00:00\", \"2020-06-18T00:00:00\", \"2020-06-19T00:00:00\", \"2020-06-20T00:00:00\", \"2020-06-21T00:00:00\", \"2020-06-22T00:00:00\", \"2020-06-23T00:00:00\", \"2020-06-24T00:00:00\", \"2020-06-25T00:00:00\", \"2020-06-26T00:00:00\", \"2020-06-27T00:00:00\", \"2020-06-28T00:00:00\", \"2020-06-29T00:00:00\", \"2020-06-30T00:00:00\", \"2020-07-01T00:00:00\", \"2020-07-02T00:00:00\", \"2020-07-03T00:00:00\", \"2020-07-04T00:00:00\", \"2020-07-05T00:00:00\", \"2020-07-06T00:00:00\", \"2020-07-07T00:00:00\", \"2020-07-08T00:00:00\", \"2020-07-09T00:00:00\", \"2020-07-10T00:00:00\", \"2020-07-11T00:00:00\", \"2020-07-12T00:00:00\", \"2020-07-13T00:00:00\", \"2020-07-14T00:00:00\", \"2020-07-15T00:00:00\", \"2020-07-16T00:00:00\", \"2020-07-17T00:00:00\", \"2020-07-18T00:00:00\", \"2020-07-19T00:00:00\", \"2020-07-20T00:00:00\", \"2020-07-21T00:00:00\", \"2020-07-22T00:00:00\", \"2020-07-23T00:00:00\", \"2020-07-24T00:00:00\", \"2020-07-25T00:00:00\", \"2020-07-26T00:00:00\", \"2020-07-27T00:00:00\", \"2020-07-28T00:00:00\", \"2020-07-29T00:00:00\", \"2020-07-30T00:00:00\", \"2020-07-31T00:00:00\", \"2020-08-01T00:00:00\", \"2020-08-02T00:00:00\", \"2020-08-03T00:00:00\", \"2020-08-04T00:00:00\", \"2020-08-05T00:00:00\", \"2020-08-06T00:00:00\", \"2020-08-07T00:00:00\", \"2020-08-08T00:00:00\", \"2020-08-09T00:00:00\", \"2020-08-10T00:00:00\", \"2020-08-11T00:00:00\", \"2020-08-12T00:00:00\", \"2020-08-13T00:00:00\", \"2020-08-14T00:00:00\", \"2020-08-15T00:00:00\", \"2020-08-16T00:00:00\", \"2020-08-17T00:00:00\", \"2020-08-18T00:00:00\", \"2020-08-19T00:00:00\", \"2020-08-20T00:00:00\", \"2020-08-21T00:00:00\", \"2020-08-22T00:00:00\", \"2020-08-23T00:00:00\", \"2020-08-24T00:00:00\", \"2020-08-25T00:00:00\", \"2020-08-26T00:00:00\", \"2020-08-27T00:00:00\", \"2020-08-28T00:00:00\", \"2020-08-29T00:00:00\", \"2020-08-30T00:00:00\", \"2020-08-31T00:00:00\", \"2020-09-01T00:00:00\", \"2020-09-02T00:00:00\", \"2020-09-03T00:00:00\", \"2020-09-04T00:00:00\", \"2020-09-05T00:00:00\", \"2020-09-06T00:00:00\", \"2020-09-07T00:00:00\", \"2020-09-08T00:00:00\", \"2020-09-09T00:00:00\", \"2020-09-10T00:00:00\", \"2020-09-11T00:00:00\", \"2020-09-12T00:00:00\", \"2020-09-13T00:00:00\", \"2020-09-14T00:00:00\", \"2020-09-15T00:00:00\", \"2020-09-16T00:00:00\", \"2020-09-17T00:00:00\", \"2020-09-18T00:00:00\", \"2020-09-19T00:00:00\", \"2020-09-20T00:00:00\", \"2020-09-21T00:00:00\", \"2020-09-22T00:00:00\", \"2020-09-23T00:00:00\", \"2020-09-24T00:00:00\", \"2020-09-25T00:00:00\", \"2020-09-26T00:00:00\", \"2020-09-27T00:00:00\", \"2020-09-28T00:00:00\", \"2020-09-29T00:00:00\", \"2020-09-30T00:00:00\", \"2020-10-01T00:00:00\", \"2020-10-02T00:00:00\", \"2020-10-03T00:00:00\", \"2020-10-04T00:00:00\", \"2020-10-05T00:00:00\", \"2020-10-06T00:00:00\", \"2020-10-07T00:00:00\", \"2020-10-08T00:00:00\", \"2020-10-09T00:00:00\", \"2020-10-10T00:00:00\", \"2020-10-11T00:00:00\", \"2020-10-12T00:00:00\", \"2020-10-13T00:00:00\", \"2020-10-14T00:00:00\", \"2020-10-15T00:00:00\", \"2020-10-16T00:00:00\", \"2020-10-17T00:00:00\", \"2020-10-18T00:00:00\", \"2020-10-19T00:00:00\", \"2020-10-20T00:00:00\", \"2020-10-21T00:00:00\", \"2020-10-22T00:00:00\", \"2020-10-23T00:00:00\", \"2020-10-24T00:00:00\", \"2020-10-25T00:00:00\", \"2020-10-26T00:00:00\", \"2020-10-27T00:00:00\", \"2020-10-28T00:00:00\", \"2020-10-29T00:00:00\", \"2020-10-30T00:00:00\", \"2020-10-31T00:00:00\", \"2020-11-01T00:00:00\", \"2020-11-02T00:00:00\", \"2020-11-03T00:00:00\", \"2020-11-04T00:00:00\", \"2020-11-05T00:00:00\", \"2020-11-06T00:00:00\", \"2020-11-07T00:00:00\", \"2020-11-08T00:00:00\", \"2020-11-09T00:00:00\", \"2020-11-10T00:00:00\", \"2020-11-11T00:00:00\", \"2020-11-12T00:00:00\", \"2020-11-13T00:00:00\", \"2020-11-14T00:00:00\", \"2020-11-15T00:00:00\", \"2020-11-16T00:00:00\", \"2020-11-17T00:00:00\", \"2020-11-18T00:00:00\", \"2020-11-19T00:00:00\", \"2020-11-20T00:00:00\", \"2020-11-21T00:00:00\", \"2020-11-22T00:00:00\", \"2020-11-23T00:00:00\", \"2020-11-24T00:00:00\", \"2020-11-25T00:00:00\", \"2020-11-26T00:00:00\", \"2020-11-27T00:00:00\", \"2020-11-28T00:00:00\", \"2020-11-29T00:00:00\", \"2020-11-30T00:00:00\", \"2020-12-01T00:00:00\", \"2020-12-02T00:00:00\", \"2020-12-03T00:00:00\", \"2020-12-04T00:00:00\", \"2020-12-05T00:00:00\", \"2020-12-06T00:00:00\", \"2020-12-07T00:00:00\", \"2020-12-08T00:00:00\", \"2020-12-09T00:00:00\", \"2020-12-10T00:00:00\", \"2020-12-11T00:00:00\", \"2020-12-12T00:00:00\", \"2020-12-13T00:00:00\", \"2020-12-14T00:00:00\", \"2020-12-15T00:00:00\", \"2020-12-16T00:00:00\", \"2020-12-17T00:00:00\", \"2020-12-18T00:00:00\", \"2020-12-19T00:00:00\", \"2020-12-20T00:00:00\", \"2020-12-21T00:00:00\", \"2020-12-22T00:00:00\", \"2020-12-23T00:00:00\", \"2020-12-24T00:00:00\", \"2020-12-25T00:00:00\", \"2020-12-26T00:00:00\", \"2020-12-27T00:00:00\", \"2020-12-28T00:00:00\", \"2020-12-29T00:00:00\", \"2020-12-30T00:00:00\", \"2020-12-31T00:00:00\", \"2021-01-01T00:00:00\", \"2021-01-02T00:00:00\", \"2021-01-03T00:00:00\", \"2021-01-04T00:00:00\", \"2021-01-05T00:00:00\", \"2021-01-06T00:00:00\", \"2021-01-07T00:00:00\", \"2021-01-08T00:00:00\", \"2021-01-09T00:00:00\", \"2021-01-10T00:00:00\", \"2021-01-11T00:00:00\", \"2021-01-12T00:00:00\", \"2021-01-13T00:00:00\", \"2021-01-14T00:00:00\", \"2021-01-15T00:00:00\", \"2021-01-16T00:00:00\", \"2021-01-17T00:00:00\", \"2021-01-18T00:00:00\", \"2021-01-19T00:00:00\", \"2021-01-20T00:00:00\", \"2021-01-21T00:00:00\", \"2021-01-22T00:00:00\", \"2021-01-23T00:00:00\", \"2021-01-24T00:00:00\", \"2021-01-25T00:00:00\", \"2021-01-26T00:00:00\", \"2021-01-27T00:00:00\", \"2021-01-28T00:00:00\", \"2021-01-29T00:00:00\", \"2021-01-30T00:00:00\", \"2021-01-31T00:00:00\", \"2021-02-01T00:00:00\", \"2021-02-02T00:00:00\", \"2021-02-03T00:00:00\", \"2021-02-04T00:00:00\", \"2021-02-05T00:00:00\", \"2021-02-06T00:00:00\", \"2021-02-07T00:00:00\", \"2021-02-08T00:00:00\", \"2021-02-09T00:00:00\", \"2021-02-10T00:00:00\", \"2021-02-11T00:00:00\", \"2021-02-12T00:00:00\", \"2021-02-13T00:00:00\", \"2021-02-14T00:00:00\", \"2021-02-15T00:00:00\"], \"y\": [1.0, 1.0, 1.3333333333333333, 1.75, 2.2, 3.1666666666666665, 4.285714285714286, 5.375, 7.0, 8.2, 10.090909090909092, 12.75, 15.153846153846153, 19.0, 22.933333333333334, 26.5, 29.764705882352942, 33.333333333333336, 38.94736842105263, 45.1, 50.523809523809526, 55.5, 60.30434782608695, 63.583333333333336, 68.8, 73.46153846153847, 78.0, 81.14285714285714, 84.79310344827586, 87.3, 87.74193548387096, 89.75, 91.78787878787878, 92.79411764705883, 94.2, 94.94444444444444, 99.08108108108108, 100.60526315789474, 102.82051282051282, 106.2, 107.70731707317073, 111.21428571428571, 112.76744186046511, 114.86363636363636, 117.22222222222223, 119.3695652173913, 121.51063829787235, 124.14583333333333, 127.75510204081633, 131.36, 134.7450980392157, 137.01923076923077, 142.11320754716982, 149.0185185185185, 153.23636363636365, 158.98214285714286, 164.3859649122807, 169.5, 173.35593220338984, 178.98333333333332, 188.98360655737704, 198.03225806451613, 207.17460317460316, 219.234375, 227.27692307692308, 231.04545454545453, 238.50746268656715, 247.85294117647058, 256.5217391304348, 268.01428571428573, 278.0422535211268, 286.80555555555554, 294.4109589041096, 306.64864864864865, 318.05333333333334, 332.2368421052632, 345.64935064935065, 359.3333333333333, 372.8101265822785, 379.5125, 389.38271604938274, 403.1341463414634, 414.71084337349396, 426.6190476190476, 438.16470588235296, 448.1860465116279, 455.0919540229885, 469.72727272727275, 483.0112359550562, 498.6777777777778, 512.8241758241758, 529.2065217391304, 542.9032258064516, 552.7446808510638, 573.6105263157895, 592.96875, 615.6288659793814, 639.5102040816327, 662.9090909090909, 681.08, 690.8118811881188, 702.5980392156863, 732.2718446601941, 763.625, 793.4571428571429, 823.7830188679245, 848.6448598130842, 864.9444444444445, 884.045871559633, 921.9818181818182, 959.6576576576576, 997.4107142857143, 1038.1150442477876, 1070.0438596491229, 1091.8608695652174, 1115.4741379310344, 1157.4273504273503, 1200.822033898305, 1243.5294117647059, 1290.95, 1333.0661157024792, 1360.311475409836, 1409.1626016260163, 1454.9354838709678, 1506.456, 1551.2142857142858, 1603.4881889763778, 1643.0859375, 1672.1860465116279, 1732.6538461538462, 1789.526717557252, 1841.9318181818182, 1899.2706766917292, 1958.089552238806, 2014.2, 2046.1617647058824, 2081.810218978102, 2142.413043478261, 2201.6906474820144, 2260.864285714286, 2319.2624113475176, 2369.176056338028, 2400.4405594405594, 2468.1111111111113, 2532.689655172414, 2589.753424657534, 2647.285714285714, 2707.7702702702704, 2753.3422818791946, 2778.326666666667, 2833.317880794702, 2884.6381578947367, 2933.274509803922, 2991.6103896103896, 3022.4193548387098, 3060.75641025641, 3078.292993630573, 3123.1582278481014, 3165.251572327044, 3207.54375, 3254.6521739130435, 3297.185185185185, 3327.8159509202455, 3349.6036585365855, 3368.551515151515, 3409.620481927711, 3446.4071856287424, 3480.7678571428573, 3515.5562130177514, 3541.035294117647, 3549.9824561403507, 3597.1686046511627, 3631.1098265895953, 3677.902298850575, 3703.76, 3727.7102272727275, 3747.5706214689267, 3757.438202247191, 3782.5195530726255, 3807.1444444444446, 3826.2872928176794, 3849.912087912088, 3882.0601092896177, 3894.9510869565215, 3900.2486486486487, 3923.510752688172, 3942.8770053475937, 3960.494680851064, 3982.5238095238096, 4001.057894736842, 4015.2303664921465, 4021.4739583333335, 4042.6373056994817, 4060.1649484536083, 4071.892307692308, 4083.316326530612, 4099.411167512691, 4108.469696969697, 4109.065326633166, 4127.1, 4141.228855721393, 4152.584158415842, 4166.029556650246, 4184.490196078431, 4196.751219512195, 4203.849514563107, 4229.386473429951, 4245.4375, 4263.555023923445, 4279.090476190476, 4301.440758293839, 4314.103773584906, 4318.629107981221, 4345.154205607477, 4364.367441860465, 4379.680555555556, 4396.8110599078345, 4412.0091743119265, 4420.315068493151, 4422.018181818182, 4423.538461538462, 4438.288288288289, 4452.928251121076, 4472.066964285715, 4491.302222222223, 4506.185840707964, 4512.070484581498, 4545.105263157895, 4582.563318777293, 4606.191304347826, 4633.121212121212, 4662.353448275862, 4676.742489270387, 4688.709401709401, 4715.374468085106, 4736.453389830508, 4750.987341772152, 4769.16806722689, 4786.594142259414, 4796.429166666667, 4799.236514522821, 4802.264462809917, 4817.716049382716, 4827.815573770492, 4838.089795918368, 4852.752032520325, 4860.0, 4863.104838709677, 4884.04016064257, 4895.02, 4901.525896414342, 4917.6150793650795, 4932.604743083004, 4938.145669291339, 4938.274509803921, 4941.984375, 4953.404669260701, 4961.290697674419, 4978.007722007722, 4991.753846153846, 4999.137931034483, 5001.2900763358775, 5022.954372623574, 5035.420454545455, 5047.169811320755, 5064.334586466165, 5076.651685393258, 5084.641791044776, 5082.026022304833, 5097.444444444444, 5111.265682656826, 5125.036764705882, 5143.465201465201, 5165.065693430657, 5179.992727272727, 5183.728260869565, 5209.624548736462, 5213.3345323741005, 5236.333333333333, 5267.3892857142855, 5296.074733096086, 5317.209219858156, 5324.197879858657, 5351.221830985915, 5384.870175438597, 5410.29020979021, 5442.529616724739, 5470.197916666667, 5495.269896193771, 5510.579310344828, 5541.171821305842, 5575.845890410959, 5603.177474402731, 5629.789115646258, 5636.661016949152, 5665.074324324324, 5677.841750841751, 5725.912751677853, 5764.872909698996, 5803.256666666667, 5817.647840531561, 5814.807947019867, 5833.16501650165, 5847.950657894737, 5898.583606557377, 5947.431372549019, 5989.459283387622, 6036.435064935065, 6082.355987055016, 6114.032258064516, 6127.016077170418, 6143.554487179487, 6194.274760383387, 6241.130573248408, 6281.892063492063, 6309.655063291139, 6327.08832807571, 6331.481132075472, 6352.0188087774295, 6370.5125, 6425.644859813084, 6441.503105590062, 6456.736842105263, 6470.145061728395, 6468.606153846154, 6479.0337423312885, 6485.80122324159, 6490.432926829269, 6493.562310030396, 6496.215151515152, 6494.084592145015, 6485.8975903614455, 6486.216216216216, 6482.053892215569, 6476.835820895522, 6469.973214285715, 6462.783382789317, 6452.754437869822, 6439.722713864307, 6432.511764705882, 6423.24633431085, 6413.5730994152045, 6402.871720116618, 6389.136627906977, 6372.36231884058, 6354.158959537573, 6335.873198847262]}, {\"name\": \"base de datos\", \"type\": \"scatter\", \"x\": [\"2020-03-06T05:00:00\", \"2020-03-07T05:00:00\", \"2020-03-08T05:00:00\", \"2020-03-09T05:00:00\", \"2020-03-10T05:00:00\", \"2020-03-11T05:00:00\", \"2020-03-12T05:00:00\", \"2020-03-13T05:00:00\", \"2020-03-14T05:00:00\", \"2020-03-15T05:00:00\", \"2020-03-16T05:00:00\", \"2020-03-17T05:00:00\", \"2020-03-18T05:00:00\", \"2020-03-19T05:00:00\", \"2020-03-20T05:00:00\", \"2020-03-21T05:00:00\", \"2020-03-22T05:00:00\", \"2020-03-23T05:00:00\", \"2020-03-24T05:00:00\", \"2020-03-25T05:00:00\", \"2020-03-26T05:00:00\", \"2020-03-27T05:00:00\", \"2020-03-28T05:00:00\", \"2020-03-29T05:00:00\", \"2020-03-30T05:00:00\", \"2020-03-31T05:00:00\", \"2020-04-01T05:00:00\", \"2020-04-02T05:00:00\", \"2020-04-03T05:00:00\", \"2020-04-04T05:00:00\", \"2020-04-05T05:00:00\", \"2020-04-06T05:00:00\", \"2020-04-07T05:00:00\", \"2020-04-08T08:38:00\", \"2020-04-09T08:39:00\", \"2020-04-10T05:00:00\", \"2020-04-11T05:00:00\", \"2020-04-12T05:00:00\", \"2020-04-13T05:00:00\", \"2020-04-14T05:00:00\", \"2020-04-15T05:00:00\", \"2020-04-16T05:00:00\", \"2020-04-17T05:00:00\", \"2020-04-18T05:00:00\", \"2020-04-19T05:00:00\", \"2020-04-20T05:00:00\", \"2020-04-21T05:00:00\", \"2020-04-22T05:00:00\", \"2020-04-23T05:00:00\", \"2020-04-24T05:00:00\", \"2020-04-25T05:00:00\", \"2020-04-26T05:00:00\", \"2020-04-27T05:00:00\", \"2020-04-28T05:00:00\", \"2020-04-29T05:00:00\", \"2020-04-30T05:00:00\", \"2020-05-01T05:00:00\", \"2020-05-02T05:00:00\", \"2020-05-03T05:00:00\", \"2020-05-04T05:00:00\", \"2020-05-05T05:00:00\", \"2020-05-06T05:00:00\", \"2020-05-07T05:00:00\", \"2020-05-08T05:00:00\", \"2020-05-09T05:00:00\", \"2020-05-10T05:00:00\", \"2020-05-11T05:00:00\", \"2020-05-12T05:00:00\", \"2020-05-13T05:00:00\", \"2020-05-14T05:00:00\", \"2020-05-15T05:00:00\", \"2020-05-16T05:00:00\", \"2020-05-17T05:00:00\", \"2020-05-18T05:00:00\", \"2020-05-19T05:00:00\", \"2020-05-20T05:00:00\", \"2020-05-21T05:00:00\", \"2020-05-22T05:00:00\", \"2020-05-23T05:00:00\", \"2020-05-24T05:00:00\", \"2020-05-25T05:00:00\", \"2020-05-26T05:00:00\", \"2020-05-27T05:00:00\", \"2020-05-28T05:00:00\", \"2020-05-29T05:00:00\", \"2020-05-30T05:00:00\", \"2020-05-31T05:00:00\", \"2020-06-01T05:00:00\", \"2020-06-02T05:00:00\", \"2020-06-03T05:00:00\", \"2020-06-04T05:00:00\", \"2020-06-05T05:00:00\", \"2020-06-06T05:00:00\", \"2020-06-07T05:00:00\", \"2020-06-08T05:00:00\", \"2020-06-09T05:00:00\", \"2020-06-10T05:00:00\", \"2020-06-11T05:00:00\", \"2020-06-12T05:00:00\", \"2020-06-13T05:00:00\", \"2020-06-14T05:00:00\", \"2020-06-15T05:00:00\", \"2020-06-16T05:00:00\", \"2020-06-17T05:00:00\", \"2020-06-18T05:00:00\", \"2020-06-19T05:00:00\", \"2020-06-20T05:00:00\", \"2020-06-21T05:00:00\", \"2020-06-22T05:00:00\", \"2020-06-23T05:00:00\", \"2020-06-24T05:00:00\", \"2020-06-25T05:00:00\", \"2020-06-26T05:00:00\", \"2020-06-27T05:00:00\", \"2020-06-28T05:00:00\", \"2020-06-29T05:00:00\", \"2020-06-30T05:00:00\", \"2020-07-01T05:00:00\", \"2020-07-02T05:00:00\", \"2020-07-03T05:00:00\", \"2020-07-04T05:00:00\", \"2020-07-05T05:00:00\", \"2020-07-06T05:00:00\", \"2020-07-07T05:00:00\", \"2020-07-08T05:00:00\", \"2020-07-09T05:00:00\", \"2020-07-10T05:00:00\", \"2020-07-11T05:00:00\", \"2020-07-12T05:00:00\", \"2020-07-13T05:00:00\", \"2020-07-14T05:00:00\", \"2020-07-15T05:00:00\", \"2020-07-16T05:00:00\", \"2020-07-17T05:00:00\", \"2020-07-18T05:00:00\", \"2020-07-19T05:00:00\", \"2020-07-20T05:00:00\", \"2020-07-21T05:00:00\", \"2020-07-22T05:00:00\", \"2020-07-23T05:00:00\", \"2020-07-24T05:00:00\", \"2020-07-25T05:00:00\", \"2020-07-26T05:00:00\", \"2020-07-27T05:00:00\", \"2020-07-28T05:00:00\", \"2020-07-29T05:00:00\", \"2020-07-30T05:00:00\", \"2020-07-31T05:00:00\", \"2020-08-01T05:00:00\", \"2020-08-02T05:00:00\", \"2020-08-03T05:00:00\", \"2020-08-04T05:00:00\", \"2020-08-05T05:00:00\", \"2020-08-06T05:00:00\", \"2020-08-07T05:00:00\", \"2020-08-08T05:00:00\", \"2020-08-09T05:00:00\", \"2020-08-10T05:00:00\", \"2020-08-11T05:00:00\", \"2020-08-12T05:00:00\", \"2020-08-13T05:00:00\", \"2020-08-14T05:00:00\", \"2020-08-15T05:00:00\", \"2020-08-16T05:00:00\", \"2020-08-17T05:00:00\", \"2020-08-18T05:00:00\", \"2020-08-19T05:00:00\", \"2020-08-20T05:00:00\", \"2020-08-21T05:00:00\", \"2020-08-22T05:00:00\", \"2020-08-23T05:00:00\", \"2020-08-24T05:00:00\", \"2020-08-25T05:00:00\", \"2020-08-26T05:00:00\", \"2020-08-27T05:00:00\", \"2020-08-28T05:00:00\", \"2020-08-29T05:00:00\", \"2020-08-30T05:00:00\", \"2020-08-31T05:00:00\", \"2020-09-01T05:00:00\", \"2020-09-02T05:00:00\", \"2020-09-03T05:00:00\", \"2020-09-04T05:00:00\", \"2020-09-05T05:00:00\", \"2020-09-06T05:00:00\", \"2020-09-07T05:00:00\", \"2020-09-08T05:00:00\", \"2020-09-09T05:00:00\", \"2020-09-10T05:00:00\", \"2020-09-11T05:00:00\", \"2020-09-12T05:00:00\", \"2020-09-13T05:00:00\", \"2020-09-14T05:00:00\", \"2020-09-15T05:00:00\", \"2020-09-16T05:00:00\", \"2020-09-17T05:00:00\", \"2020-09-18T05:00:00\", \"2020-09-19T05:00:00\", \"2020-09-20T05:00:00\", \"2020-09-21T05:00:00\", \"2020-09-22T05:00:00\", \"2020-09-23T05:00:00\", \"2020-09-24T05:00:00\", \"2020-09-25T05:00:00\", \"2020-09-26T05:00:00\", \"2020-09-27T05:00:00\", \"2020-09-28T05:00:00\", \"2020-09-29T05:00:00\", \"2020-09-30T05:00:00\", \"2020-10-01T05:00:00\", \"2020-10-02T05:00:00\", \"2020-10-03T05:00:00\", \"2020-10-04T05:00:00\", \"2020-10-05T05:00:00\", \"2020-10-06T05:00:00\", \"2020-10-07T05:00:00\", \"2020-10-08T05:00:00\", \"2020-10-09T05:00:00\", \"2020-10-10T05:00:00\", \"2020-10-11T05:00:00\", \"2020-10-12T05:00:00\", \"2020-10-13T05:00:00\", \"2020-10-14T05:00:00\", \"2020-10-15T05:00:00\", \"2020-10-16T05:00:00\", \"2020-10-17T05:00:00\", \"2020-10-18T05:00:00\", \"2020-10-19T05:00:00\", \"2020-10-20T05:00:00\", \"2020-10-21T05:00:00\", \"2020-10-22T05:00:00\", \"2020-10-23T05:00:00\", \"2020-10-24T05:00:00\", \"2020-10-25T05:00:00\", \"2020-10-26T05:00:00\", \"2020-10-27T05:00:00\", \"2020-10-28T05:00:00\", \"2020-10-29T05:00:00\", \"2020-10-30T05:00:00\", \"2020-10-31T05:00:00\", \"2020-11-01T05:00:00\", \"2020-11-02T05:00:00\", \"2020-11-03T05:00:00\", \"2020-11-04T05:00:00\", \"2020-11-05T05:00:00\", \"2020-11-06T05:00:00\", \"2020-11-07T05:00:00\", \"2020-11-08T05:00:00\", \"2020-11-09T05:00:00\", \"2020-11-10T05:00:00\", \"2020-11-11T05:00:00\", \"2020-11-12T05:00:00\", \"2020-11-13T05:00:00\", \"2020-11-14T05:00:00\", \"2020-11-15T05:00:00\", \"2020-11-16T05:00:00\", \"2020-11-17T05:00:00\", \"2020-11-18T05:00:00\", \"2020-11-19T05:00:00\", \"2020-11-20T05:00:00\", \"2020-11-21T05:00:00\", \"2020-11-22T05:00:00\", \"2020-11-23T05:00:00\", \"2020-11-24T05:00:00\", \"2020-11-25T05:00:00\", \"2020-11-26T05:00:00\", \"2020-11-27T05:00:00\", \"2020-11-28T05:00:00\", \"2020-11-29T05:00:00\", \"2020-11-30T05:00:00\", \"2020-12-01T05:00:00\", \"2020-12-02T05:00:00\", \"2020-12-03T05:00:00\", \"2020-12-04T05:00:00\", \"2020-12-05T05:00:00\", \"2020-12-06T05:00:00\", \"2020-12-07T05:00:00\", \"2020-12-08T05:00:00\", \"2020-12-09T05:00:00\", \"2020-12-10T05:00:00\", \"2020-12-11T05:00:00\", \"2020-12-12T05:00:00\", \"2020-12-13T05:00:00\", \"2020-12-14T05:00:00\", \"2020-12-15T05:00:00\", \"2020-12-16T05:00:00\", \"2020-12-17T05:00:00\", \"2020-12-18T05:00:00\", \"2020-12-19T05:00:00\", \"2020-12-20T05:00:00\", \"2020-12-21T05:00:00\", \"2020-12-22T05:00:00\", \"2020-12-23T05:00:00\", \"2020-12-24T05:00:00\", \"2020-12-25T05:00:00\", \"2020-12-26T05:00:00\", \"2020-12-27T05:00:00\", \"2020-12-28T05:00:00\", \"2020-12-29T05:00:00\", \"2020-12-30T05:00:00\", \"2020-12-31T05:00:00\", \"2021-01-01T05:00:00\", \"2021-01-02T05:00:00\", \"2021-01-03T05:00:00\", \"2021-01-04T05:00:00\", \"2021-01-05T05:00:00\", \"2021-01-06T05:00:00\", \"2021-01-07T05:00:00\", \"2021-01-08T05:00:00\", \"2021-01-09T05:00:00\", \"2021-01-10T05:00:00\", \"2021-01-11T05:00:00\", \"2021-01-12T05:00:00\", \"2021-01-13T05:00:00\", \"2021-01-14T05:00:00\", \"2021-01-15T05:00:00\", \"2021-01-16T05:00:00\", \"2021-01-17T05:00:00\", \"2021-01-18T05:00:00\", \"2021-01-19T05:00:00\", \"2021-01-20T05:00:00\", \"2021-01-21T05:00:00\", \"2021-01-22T05:00:00\", \"2021-01-23T05:00:00\", \"2021-01-24T05:00:00\", \"2021-01-25T05:00:00\", \"2021-01-26T05:00:00\", \"2021-01-27T05:00:00\", \"2021-01-28T05:00:00\", \"2021-01-29T05:00:00\", \"2021-01-30T05:00:00\", \"2021-01-31T05:00:00\", \"2021-02-01T05:00:00\", \"2021-02-02T05:00:00\", \"2021-02-03T05:00:00\", \"2021-02-04T05:00:00\", \"2021-02-05T05:00:00\", \"2021-02-06T05:00:00\", \"2021-02-07T05:00:00\", \"2021-02-08T05:00:00\", \"2021-02-09T05:00:00\", \"2021-02-10T05:00:00\", \"2021-02-11T05:00:00\", \"2021-02-12T05:00:00\", \"2021-02-13T05:00:00\", \"2021-02-14T05:00:00\", \"2021-02-15T05:00:00\"], \"y\": [0, 0, 0, 0, 0, 0, 0, 0, 0, 0, 0, 0, 0, 0, 0, 0, 0, 6, 6, 8, 8, 10, 10, 10, 15, 31, 39, 55, 55, 55, 88, 88, 100, 123, 174, 197, 214, 270, 319, 354, 452, 550, 634, 691, 711, 804, 804, 870, 927, 1003, 1067, 1133, 1210, 1268, 1411, 1439, 1551, 1666, 1722, 1807, 2013, 2148, 2300, 2424, 2569, 2705, 2825, 2971, 3133, 3358, 3460, 3587, 3751, 3903, 4050, 4256, 4431, 4575, 4718, 5016, 5265, 5511, 6111, 6665, 6913, 7121, 8543, 9661, 11142, 12288, 12921, 13638, 14382, 15322, 16427, 16534, 17333, 17790, 18715, 19426, 19822, 19952, 20366, 21326, 22680, 23988, 25499, 27360, 28968, 30459, 31671, 33349, 34937, 36273, 38280, 39954, 42073, 43407, 44531, 45334, 46563, 47881, 50372, 51861, 53634, 56272, 58800, 61186, 63451, 65809, 68806, 71738, 76164, 80637, 85836, 91793, 95804, 98840, 101613, 107951, 113864, 119667, 125037, 131161, 136690, 142777, 148695, 154387, 160708, 167239, 173727, 180258, 186317, 192355, 198495, 204591, 212688, 221485, 230427, 239785, 250494, 261296, 274420, 287436, 301525, 312323, 326298, 339124, 348940, 359792, 374030, 384171, 395470, 407121, 417793, 429620, 440574, 450621, 459475, 469557, 479568, 489151, 498221, 507770, 518229, 529279, 541462, 552885, 569479, 582694, 592820, 599385, 606925, 607978, 610078, 615457, 621521, 627685, 633199, 640900, 650801, 662277, 674961, 687477, 700112, 711472, 722536, 734154, 743653, 751691, 753953, 757801, 761674, 766300, 770812, 773973, 777658, 780547, 783131, 789787, 798396, 806703, 816667, 826831, 837001, 847467, 858294, 867961, 876731, 884895, 893712, 901652, 907379, 915451, 924044, 932882, 941874, 950348, 959433, 969230, 977804, 985796, 993877, 1002202, 1011166, 1020263, 1029082, 1038082, 1047017, 1059237, 1070423, 1081691, 1089340, 1097576, 1104956, 1111867, 1118902, 1125184, 1132393, 1138581, 1144923, 1150932, 1158897, 1167857, 1174959, 1181753, 1189499, 1197204, 1204452, 1210489, 1217647, 1225635, 1233115, 1240990, 1249702, 1257410, 1267595, 1278326, 1287597, 1296420, 1304299, 1310425, 1314836, 1321469, 1328430, 1336166, 1343819, 1354021, 1362543, 1373332, 1382340, 1394374, 1404168, 1417316, 1430709, 1444041, 1455975, 1469041, 1483027, 1497180, 1508419, 1520548, 1530973, 1542353, 1552177, 1559010, 1569578, 1580285, 1597160, 1609564, 1621019, 1632614, 1646892, 1665003, 1683835, 1698457, 1711924, 1729633, 1754222, 1769935, 1786170, 1801134, 1811552, 1822309, 1832168, 1849194, 1864904, 1880041, 1894384, 1909791, 1924401, 1938322, 1954674, 1971342, 1988958, 2001135, 2010941, 2022331, 2027333, 2034228, 2048292, 2055468, 2065209, 2072793, 2078391, 2083551, 2090467]}],\n",
              "                        {\"showlegend\": true, \"template\": {\"data\": {\"bar\": [{\"error_x\": {\"color\": \"#2a3f5f\"}, \"error_y\": {\"color\": \"#2a3f5f\"}, \"marker\": {\"line\": {\"color\": \"#E5ECF6\", \"width\": 0.5}}, \"type\": \"bar\"}], \"barpolar\": [{\"marker\": {\"line\": {\"color\": \"#E5ECF6\", \"width\": 0.5}}, \"type\": \"barpolar\"}], \"carpet\": [{\"aaxis\": {\"endlinecolor\": \"#2a3f5f\", \"gridcolor\": \"white\", \"linecolor\": \"white\", \"minorgridcolor\": \"white\", \"startlinecolor\": \"#2a3f5f\"}, \"baxis\": {\"endlinecolor\": \"#2a3f5f\", \"gridcolor\": \"white\", \"linecolor\": \"white\", \"minorgridcolor\": \"white\", \"startlinecolor\": \"#2a3f5f\"}, \"type\": \"carpet\"}], \"choropleth\": [{\"colorbar\": {\"outlinewidth\": 0, \"ticks\": \"\"}, \"type\": \"choropleth\"}], \"contour\": [{\"colorbar\": {\"outlinewidth\": 0, \"ticks\": \"\"}, \"colorscale\": [[0.0, \"#0d0887\"], [0.1111111111111111, \"#46039f\"], [0.2222222222222222, \"#7201a8\"], [0.3333333333333333, \"#9c179e\"], [0.4444444444444444, \"#bd3786\"], [0.5555555555555556, \"#d8576b\"], [0.6666666666666666, \"#ed7953\"], [0.7777777777777778, \"#fb9f3a\"], [0.8888888888888888, \"#fdca26\"], [1.0, \"#f0f921\"]], \"type\": \"contour\"}], \"contourcarpet\": [{\"colorbar\": {\"outlinewidth\": 0, \"ticks\": \"\"}, \"type\": \"contourcarpet\"}], \"heatmap\": [{\"colorbar\": {\"outlinewidth\": 0, \"ticks\": \"\"}, \"colorscale\": [[0.0, \"#0d0887\"], [0.1111111111111111, \"#46039f\"], [0.2222222222222222, \"#7201a8\"], [0.3333333333333333, \"#9c179e\"], [0.4444444444444444, \"#bd3786\"], [0.5555555555555556, \"#d8576b\"], [0.6666666666666666, \"#ed7953\"], [0.7777777777777778, \"#fb9f3a\"], [0.8888888888888888, \"#fdca26\"], [1.0, \"#f0f921\"]], \"type\": \"heatmap\"}], \"heatmapgl\": [{\"colorbar\": {\"outlinewidth\": 0, \"ticks\": \"\"}, \"colorscale\": [[0.0, \"#0d0887\"], [0.1111111111111111, \"#46039f\"], [0.2222222222222222, \"#7201a8\"], [0.3333333333333333, \"#9c179e\"], [0.4444444444444444, \"#bd3786\"], [0.5555555555555556, \"#d8576b\"], [0.6666666666666666, \"#ed7953\"], [0.7777777777777778, \"#fb9f3a\"], [0.8888888888888888, \"#fdca26\"], [1.0, \"#f0f921\"]], \"type\": \"heatmapgl\"}], \"histogram\": [{\"marker\": {\"colorbar\": {\"outlinewidth\": 0, \"ticks\": \"\"}}, \"type\": \"histogram\"}], \"histogram2d\": [{\"colorbar\": {\"outlinewidth\": 0, \"ticks\": \"\"}, \"colorscale\": [[0.0, \"#0d0887\"], [0.1111111111111111, \"#46039f\"], [0.2222222222222222, \"#7201a8\"], [0.3333333333333333, \"#9c179e\"], [0.4444444444444444, \"#bd3786\"], [0.5555555555555556, \"#d8576b\"], [0.6666666666666666, \"#ed7953\"], [0.7777777777777778, \"#fb9f3a\"], [0.8888888888888888, \"#fdca26\"], [1.0, \"#f0f921\"]], \"type\": \"histogram2d\"}], \"histogram2dcontour\": [{\"colorbar\": {\"outlinewidth\": 0, \"ticks\": \"\"}, \"colorscale\": [[0.0, \"#0d0887\"], [0.1111111111111111, \"#46039f\"], [0.2222222222222222, \"#7201a8\"], [0.3333333333333333, \"#9c179e\"], [0.4444444444444444, \"#bd3786\"], [0.5555555555555556, \"#d8576b\"], [0.6666666666666666, \"#ed7953\"], [0.7777777777777778, \"#fb9f3a\"], [0.8888888888888888, \"#fdca26\"], [1.0, \"#f0f921\"]], \"type\": \"histogram2dcontour\"}], \"mesh3d\": [{\"colorbar\": {\"outlinewidth\": 0, \"ticks\": \"\"}, \"type\": \"mesh3d\"}], \"parcoords\": [{\"line\": {\"colorbar\": {\"outlinewidth\": 0, \"ticks\": \"\"}}, \"type\": \"parcoords\"}], \"pie\": [{\"automargin\": true, \"type\": \"pie\"}], \"scatter\": [{\"marker\": {\"colorbar\": {\"outlinewidth\": 0, \"ticks\": \"\"}}, \"type\": \"scatter\"}], \"scatter3d\": [{\"line\": {\"colorbar\": {\"outlinewidth\": 0, \"ticks\": \"\"}}, \"marker\": {\"colorbar\": {\"outlinewidth\": 0, \"ticks\": \"\"}}, \"type\": \"scatter3d\"}], \"scattercarpet\": [{\"marker\": {\"colorbar\": {\"outlinewidth\": 0, \"ticks\": \"\"}}, \"type\": \"scattercarpet\"}], \"scattergeo\": [{\"marker\": {\"colorbar\": {\"outlinewidth\": 0, \"ticks\": \"\"}}, \"type\": \"scattergeo\"}], \"scattergl\": [{\"marker\": {\"colorbar\": {\"outlinewidth\": 0, \"ticks\": \"\"}}, \"type\": \"scattergl\"}], \"scattermapbox\": [{\"marker\": {\"colorbar\": {\"outlinewidth\": 0, \"ticks\": \"\"}}, \"type\": \"scattermapbox\"}], \"scatterpolar\": [{\"marker\": {\"colorbar\": {\"outlinewidth\": 0, \"ticks\": \"\"}}, \"type\": \"scatterpolar\"}], \"scatterpolargl\": [{\"marker\": {\"colorbar\": {\"outlinewidth\": 0, \"ticks\": \"\"}}, \"type\": \"scatterpolargl\"}], \"scatterternary\": [{\"marker\": {\"colorbar\": {\"outlinewidth\": 0, \"ticks\": \"\"}}, \"type\": \"scatterternary\"}], \"surface\": [{\"colorbar\": {\"outlinewidth\": 0, \"ticks\": \"\"}, \"colorscale\": [[0.0, \"#0d0887\"], [0.1111111111111111, \"#46039f\"], [0.2222222222222222, \"#7201a8\"], [0.3333333333333333, \"#9c179e\"], [0.4444444444444444, \"#bd3786\"], [0.5555555555555556, \"#d8576b\"], [0.6666666666666666, \"#ed7953\"], [0.7777777777777778, \"#fb9f3a\"], [0.8888888888888888, \"#fdca26\"], [1.0, \"#f0f921\"]], \"type\": \"surface\"}], \"table\": [{\"cells\": {\"fill\": {\"color\": \"#EBF0F8\"}, \"line\": {\"color\": \"white\"}}, \"header\": {\"fill\": {\"color\": \"#C8D4E3\"}, \"line\": {\"color\": \"white\"}}, \"type\": \"table\"}]}, \"layout\": {\"annotationdefaults\": {\"arrowcolor\": \"#2a3f5f\", \"arrowhead\": 0, \"arrowwidth\": 1}, \"coloraxis\": {\"colorbar\": {\"outlinewidth\": 0, \"ticks\": \"\"}}, \"colorscale\": {\"diverging\": [[0, \"#8e0152\"], [0.1, \"#c51b7d\"], [0.2, \"#de77ae\"], [0.3, \"#f1b6da\"], [0.4, \"#fde0ef\"], [0.5, \"#f7f7f7\"], [0.6, \"#e6f5d0\"], [0.7, \"#b8e186\"], [0.8, \"#7fbc41\"], [0.9, \"#4d9221\"], [1, \"#276419\"]], \"sequential\": [[0.0, \"#0d0887\"], [0.1111111111111111, \"#46039f\"], [0.2222222222222222, \"#7201a8\"], [0.3333333333333333, \"#9c179e\"], [0.4444444444444444, \"#bd3786\"], [0.5555555555555556, \"#d8576b\"], [0.6666666666666666, \"#ed7953\"], [0.7777777777777778, \"#fb9f3a\"], [0.8888888888888888, \"#fdca26\"], [1.0, \"#f0f921\"]], \"sequentialminus\": [[0.0, \"#0d0887\"], [0.1111111111111111, \"#46039f\"], [0.2222222222222222, \"#7201a8\"], [0.3333333333333333, \"#9c179e\"], [0.4444444444444444, \"#bd3786\"], [0.5555555555555556, \"#d8576b\"], [0.6666666666666666, \"#ed7953\"], [0.7777777777777778, \"#fb9f3a\"], [0.8888888888888888, \"#fdca26\"], [1.0, \"#f0f921\"]]}, \"colorway\": [\"#636efa\", \"#EF553B\", \"#00cc96\", \"#ab63fa\", \"#FFA15A\", \"#19d3f3\", \"#FF6692\", \"#B6E880\", \"#FF97FF\", \"#FECB52\"], \"font\": {\"color\": \"#2a3f5f\"}, \"geo\": {\"bgcolor\": \"white\", \"lakecolor\": \"white\", \"landcolor\": \"#E5ECF6\", \"showlakes\": true, \"showland\": true, \"subunitcolor\": \"white\"}, \"hoverlabel\": {\"align\": \"left\"}, \"hovermode\": \"closest\", \"mapbox\": {\"style\": \"light\"}, \"paper_bgcolor\": \"white\", \"plot_bgcolor\": \"#E5ECF6\", \"polar\": {\"angularaxis\": {\"gridcolor\": \"white\", \"linecolor\": \"white\", \"ticks\": \"\"}, \"bgcolor\": \"#E5ECF6\", \"radialaxis\": {\"gridcolor\": \"white\", \"linecolor\": \"white\", \"ticks\": \"\"}}, \"scene\": {\"xaxis\": {\"backgroundcolor\": \"#E5ECF6\", \"gridcolor\": \"white\", \"gridwidth\": 2, \"linecolor\": \"white\", \"showbackground\": true, \"ticks\": \"\", \"zerolinecolor\": \"white\"}, \"yaxis\": {\"backgroundcolor\": \"#E5ECF6\", \"gridcolor\": \"white\", \"gridwidth\": 2, \"linecolor\": \"white\", \"showbackground\": true, \"ticks\": \"\", \"zerolinecolor\": \"white\"}, \"zaxis\": {\"backgroundcolor\": \"#E5ECF6\", \"gridcolor\": \"white\", \"gridwidth\": 2, \"linecolor\": \"white\", \"showbackground\": true, \"ticks\": \"\", \"zerolinecolor\": \"white\"}}, \"shapedefaults\": {\"line\": {\"color\": \"#2a3f5f\"}}, \"ternary\": {\"aaxis\": {\"gridcolor\": \"white\", \"linecolor\": \"white\", \"ticks\": \"\"}, \"baxis\": {\"gridcolor\": \"white\", \"linecolor\": \"white\", \"ticks\": \"\"}, \"bgcolor\": \"#E5ECF6\", \"caxis\": {\"gridcolor\": \"white\", \"linecolor\": \"white\", \"ticks\": \"\"}}, \"title\": {\"x\": 0.05}, \"xaxis\": {\"automargin\": true, \"gridcolor\": \"white\", \"linecolor\": \"white\", \"ticks\": \"\", \"title\": {\"standoff\": 15}, \"zerolinecolor\": \"white\", \"zerolinewidth\": 2}, \"yaxis\": {\"automargin\": true, \"gridcolor\": \"white\", \"linecolor\": \"white\", \"ticks\": \"\", \"title\": {\"standoff\": 15}, \"zerolinecolor\": \"white\", \"zerolinewidth\": 2}}}, \"title\": {\"text\": \"Recuperados por dia\"}},\n",
              "                        {\"responsive\": true}\n",
              "                    ).then(function(){\n",
              "                            \n",
              "var gd = document.getElementById('038e5982-1d58-402c-8f2e-70acafd1d407');\n",
              "var x = new MutationObserver(function (mutations, observer) {{\n",
              "        var display = window.getComputedStyle(gd).display;\n",
              "        if (!display || display === 'none') {{\n",
              "            console.log([gd, 'removed!']);\n",
              "            Plotly.purge(gd);\n",
              "            observer.disconnect();\n",
              "        }}\n",
              "}});\n",
              "\n",
              "// Listen for the removal of the full notebook cells\n",
              "var notebookContainer = gd.closest('#notebook-container');\n",
              "if (notebookContainer) {{\n",
              "    x.observe(notebookContainer, {childList: true});\n",
              "}}\n",
              "\n",
              "// Listen for the clearing of the current output cell\n",
              "var outputEl = gd.closest('.output');\n",
              "if (outputEl) {{\n",
              "    x.observe(outputEl, {childList: true});\n",
              "}}\n",
              "\n",
              "                        })\n",
              "                };\n",
              "                \n",
              "            </script>\n",
              "        </div>\n",
              "</body>\n",
              "</html>"
            ]
          },
          "metadata": {
            "tags": []
          }
        }
      ]
    },
    {
      "cell_type": "code",
      "metadata": {
        "id": "H-u8jvYSH7BJ"
      },
      "source": [
        ""
      ],
      "execution_count": null,
      "outputs": []
    }
  ]
}