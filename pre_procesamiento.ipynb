{
  "nbformat": 4,
  "nbformat_minor": 0,
  "metadata": {
    "colab": {
      "name": "pre_procesamiento.ipynb",
      "provenance": [],
      "collapsed_sections": [],
      "include_colab_link": true
    },
    "kernelspec": {
      "name": "python3",
      "display_name": "Python 3"
    }
  },
  "cells": [
    {
      "cell_type": "markdown",
      "metadata": {
        "id": "view-in-github",
        "colab_type": "text"
      },
      "source": [
        "<a href=\"https://colab.research.google.com/github/santiagoprado12/Tesis/blob/main/pre_procesamiento.ipynb\" target=\"_parent\"><img src=\"https://colab.research.google.com/assets/colab-badge.svg\" alt=\"Open In Colab\"/></a>"
      ]
    },
    {
      "cell_type": "code",
      "metadata": {
        "colab": {
          "base_uri": "https://localhost:8080/"
        },
        "id": "wmnn0mHftfts",
        "outputId": "ab2594de-cd84-4236-88c7-6d3f5187415d"
      },
      "source": [
        "# make sure to install these packages before running:\n",
        "#!pip install pandas\n",
        "!pip install sodapy\n",
        "##\n",
        "##\n",
        "import pandas as pd\n",
        "from sodapy import Socrata\n",
        " \n",
        "# Unauthenticated client only works with public data sets. Note 'None'\n",
        "# in place of application token, and no username or password:\n",
        "client = Socrata(\"www.datos.gov.co\", None)\n",
        " \n",
        "# Example authenticated client (needed for non-public datasets):\n",
        "# client = Socrata(www.datos.gov.co,\n",
        "#                  MyAppToken,\n",
        "#                  userame=\"user@example.com\",\n",
        "#                  password=\"AFakePassword\")\n",
        " \n",
        "# First 2000 results, returned as JSON from API / converted to Python list of\n",
        "# dictionaries by sodapy.\n",
        "results = client.get(\"gt2j-8ykr\",limit=2100000) \n",
        " \n",
        "# Convert to pandas DataFrame\n",
        "results_df = pd.DataFrame.from_records(results)"
      ],
      "execution_count": 1,
      "outputs": [
        {
          "output_type": "stream",
          "text": [
            "Collecting sodapy\n",
            "  Downloading https://files.pythonhosted.org/packages/9e/74/95fb7d45bbe7f1de43caac45d7dd4807ef1e15881564a00eef489a3bb5c6/sodapy-2.1.0-py2.py3-none-any.whl\n",
            "Requirement already satisfied: requests>=2.20.0 in /usr/local/lib/python3.6/dist-packages (from sodapy) (2.23.0)\n",
            "Requirement already satisfied: certifi>=2017.4.17 in /usr/local/lib/python3.6/dist-packages (from requests>=2.20.0->sodapy) (2020.12.5)\n",
            "Requirement already satisfied: chardet<4,>=3.0.2 in /usr/local/lib/python3.6/dist-packages (from requests>=2.20.0->sodapy) (3.0.4)\n",
            "Requirement already satisfied: idna<3,>=2.5 in /usr/local/lib/python3.6/dist-packages (from requests>=2.20.0->sodapy) (2.10)\n",
            "Requirement already satisfied: urllib3!=1.25.0,!=1.25.1,<1.26,>=1.21.1 in /usr/local/lib/python3.6/dist-packages (from requests>=2.20.0->sodapy) (1.24.3)\n",
            "Installing collected packages: sodapy\n",
            "Successfully installed sodapy-2.1.0\n"
          ],
          "name": "stdout"
        },
        {
          "output_type": "stream",
          "text": [
            "WARNING:root:Requests made without an app_token will be subject to strict throttling limits.\n"
          ],
          "name": "stderr"
        }
      ]
    },
    {
      "cell_type": "code",
      "metadata": {
        "id": "NT8Htj1mcHKf"
      },
      "source": [
        "import datetime \r\n",
        "import numpy as np"
      ],
      "execution_count": 2,
      "outputs": []
    },
    {
      "cell_type": "code",
      "metadata": {
        "colab": {
          "base_uri": "https://localhost:8080/"
        },
        "id": "dxpiXLHimkAd",
        "outputId": "78e3d767-7a7e-4832-a5ac-e095136a032b"
      },
      "source": [
        "print(pd.isnull(results_df[\"fecha_diagnostico\"]).values.ravel().sum())#Cuantos NA hay en la columna de fecha de diagnóstico\n",
        " \n",
        "results_df[\"fecha_diagnostico\"]=results_df[\"fecha_diagnostico\"].fillna(method=\"ffill\")#rellenar con el ultimo valor diferente de NAN"
      ],
      "execution_count": 3,
      "outputs": [
        {
          "output_type": "stream",
          "text": [
            "4283\n"
          ],
          "name": "stdout"
        }
      ]
    },
    {
      "cell_type": "code",
      "metadata": {
        "id": "APDkV59bmtAC"
      },
      "source": [
        "results_df[\"muerte/recuperacion\"]=results_df[\"fecha_recuperado\"] #Creando una columna Muertos/Recuperados donde se pone la fecha de recuperado o en su defecto la de muerte\r\n",
        "results_df[\"muerte/recuperacion\"].fillna(results_df[\"fecha_muerte\"], inplace=True) #Rellenar valores faltantes con las fechas de fallecimientos\r\n",
        "results_df[\"muerte/recuperacion\"]=results_df[\"muerte/recuperacion\"].fillna(method=\"ffill\")#rellenar con el ultimo valor diferente de NAN"
      ],
      "execution_count": 4,
      "outputs": []
    },
    {
      "cell_type": "code",
      "metadata": {
        "id": "cX7ITxSHHZUF"
      },
      "source": [
        "results_df[\"Fecha_diag_date_fmat\"]=[datetime.datetime.strptime(str(x),\"%d/%m/%Y %H:%M:%S\") for x in results_df[\"fecha_diagnostico\"]]#Creando una nueva columna formato datetime\r\n",
        "results_df[\"Fecha_M/R_date_fmat\"]=[datetime.datetime.strptime(str(x),\"%d/%m/%Y %H:%M:%S\") for x in results_df[\"muerte/recuperacion\"]]#Creando una nueva columna formato datetime"
      ],
      "execution_count": 5,
      "outputs": []
    },
    {
      "cell_type": "code",
      "metadata": {
        "colab": {
          "base_uri": "https://localhost:8080/",
          "height": 473
        },
        "id": "Ef9F6y3Z9igA",
        "outputId": "b6f24006-68ad-45ae-edf5-51eb8382e30c"
      },
      "source": [
        "results_df[results_df[\"recuperado\"]==\"Activo\"]"
      ],
      "execution_count": 6,
      "outputs": [
        {
          "output_type": "execute_result",
          "data": {
            "text/html": [
              "<div>\n",
              "<style scoped>\n",
              "    .dataframe tbody tr th:only-of-type {\n",
              "        vertical-align: middle;\n",
              "    }\n",
              "\n",
              "    .dataframe tbody tr th {\n",
              "        vertical-align: top;\n",
              "    }\n",
              "\n",
              "    .dataframe thead th {\n",
              "        text-align: right;\n",
              "    }\n",
              "</style>\n",
              "<table border=\"1\" class=\"dataframe\">\n",
              "  <thead>\n",
              "    <tr style=\"text-align: right;\">\n",
              "      <th></th>\n",
              "      <th>fecha_reporte_web</th>\n",
              "      <th>id_de_caso</th>\n",
              "      <th>fecha_de_notificaci_n</th>\n",
              "      <th>departamento</th>\n",
              "      <th>departamento_nom</th>\n",
              "      <th>ciudad_municipio</th>\n",
              "      <th>ciudad_municipio_nom</th>\n",
              "      <th>edad</th>\n",
              "      <th>unidad_medida</th>\n",
              "      <th>sexo</th>\n",
              "      <th>fuente_tipo_contagio</th>\n",
              "      <th>ubicacion</th>\n",
              "      <th>estado</th>\n",
              "      <th>pais_viajo_1_cod</th>\n",
              "      <th>pais_viajo_1_nom</th>\n",
              "      <th>recuperado</th>\n",
              "      <th>fecha_inicio_sintomas</th>\n",
              "      <th>fecha_diagnostico</th>\n",
              "      <th>fecha_recuperado</th>\n",
              "      <th>tipo_recuperacion</th>\n",
              "      <th>per_etn_</th>\n",
              "      <th>nom_grupo_</th>\n",
              "      <th>fecha_muerte</th>\n",
              "      <th>muerte/recuperacion</th>\n",
              "      <th>Fecha_diag_date_fmat</th>\n",
              "      <th>Fecha_M/R_date_fmat</th>\n",
              "    </tr>\n",
              "  </thead>\n",
              "  <tbody>\n",
              "    <tr>\n",
              "      <th>701528</th>\n",
              "      <td>11/9/2020 0:00:00</td>\n",
              "      <td>701569</td>\n",
              "      <td>9/9/2020 0:00:00</td>\n",
              "      <td>11</td>\n",
              "      <td>BOGOTA</td>\n",
              "      <td>11001</td>\n",
              "      <td>BOGOTA</td>\n",
              "      <td>56</td>\n",
              "      <td>1</td>\n",
              "      <td>M</td>\n",
              "      <td>En estudio</td>\n",
              "      <td>Hospital</td>\n",
              "      <td>Moderado</td>\n",
              "      <td>NaN</td>\n",
              "      <td>NaN</td>\n",
              "      <td>Activo</td>\n",
              "      <td>9/9/2020 0:00:00</td>\n",
              "      <td>10/9/2020 0:00:00</td>\n",
              "      <td>NaN</td>\n",
              "      <td>NaN</td>\n",
              "      <td>6</td>\n",
              "      <td>NaN</td>\n",
              "      <td>NaN</td>\n",
              "      <td>27/9/2020 0:00:00</td>\n",
              "      <td>2020-09-10</td>\n",
              "      <td>2020-09-27</td>\n",
              "    </tr>\n",
              "    <tr>\n",
              "      <th>701865</th>\n",
              "      <td>11/9/2020 0:00:00</td>\n",
              "      <td>701906</td>\n",
              "      <td>8/9/2020 0:00:00</td>\n",
              "      <td>11</td>\n",
              "      <td>BOGOTA</td>\n",
              "      <td>11001</td>\n",
              "      <td>BOGOTA</td>\n",
              "      <td>30</td>\n",
              "      <td>1</td>\n",
              "      <td>F</td>\n",
              "      <td>En estudio</td>\n",
              "      <td>Hospital</td>\n",
              "      <td>Moderado</td>\n",
              "      <td>NaN</td>\n",
              "      <td>NaN</td>\n",
              "      <td>Activo</td>\n",
              "      <td>4/9/2020 0:00:00</td>\n",
              "      <td>8/9/2020 0:00:00</td>\n",
              "      <td>NaN</td>\n",
              "      <td>NaN</td>\n",
              "      <td>6</td>\n",
              "      <td>NaN</td>\n",
              "      <td>NaN</td>\n",
              "      <td>26/9/2020 0:00:00</td>\n",
              "      <td>2020-09-08</td>\n",
              "      <td>2020-09-26</td>\n",
              "    </tr>\n",
              "    <tr>\n",
              "      <th>715508</th>\n",
              "      <td>13/9/2020 0:00:00</td>\n",
              "      <td>715549</td>\n",
              "      <td>10/9/2020 0:00:00</td>\n",
              "      <td>11</td>\n",
              "      <td>BOGOTA</td>\n",
              "      <td>11001</td>\n",
              "      <td>BOGOTA</td>\n",
              "      <td>57</td>\n",
              "      <td>1</td>\n",
              "      <td>M</td>\n",
              "      <td>En estudio</td>\n",
              "      <td>Hospital</td>\n",
              "      <td>Moderado</td>\n",
              "      <td>NaN</td>\n",
              "      <td>NaN</td>\n",
              "      <td>Activo</td>\n",
              "      <td>9/9/2020 0:00:00</td>\n",
              "      <td>11/9/2020 0:00:00</td>\n",
              "      <td>NaN</td>\n",
              "      <td>NaN</td>\n",
              "      <td>6</td>\n",
              "      <td>NaN</td>\n",
              "      <td>NaN</td>\n",
              "      <td>5/10/2020 0:00:00</td>\n",
              "      <td>2020-09-11</td>\n",
              "      <td>2020-10-05</td>\n",
              "    </tr>\n",
              "    <tr>\n",
              "      <th>719560</th>\n",
              "      <td>14/9/2020 0:00:00</td>\n",
              "      <td>719601</td>\n",
              "      <td>11/9/2020 0:00:00</td>\n",
              "      <td>11</td>\n",
              "      <td>BOGOTA</td>\n",
              "      <td>11001</td>\n",
              "      <td>BOGOTA</td>\n",
              "      <td>58</td>\n",
              "      <td>1</td>\n",
              "      <td>M</td>\n",
              "      <td>En estudio</td>\n",
              "      <td>Hospital</td>\n",
              "      <td>Moderado</td>\n",
              "      <td>NaN</td>\n",
              "      <td>NaN</td>\n",
              "      <td>Activo</td>\n",
              "      <td>2/9/2020 0:00:00</td>\n",
              "      <td>13/9/2020 0:00:00</td>\n",
              "      <td>NaN</td>\n",
              "      <td>NaN</td>\n",
              "      <td>6</td>\n",
              "      <td>NaN</td>\n",
              "      <td>NaN</td>\n",
              "      <td>30/10/2020 0:00:00</td>\n",
              "      <td>2020-09-13</td>\n",
              "      <td>2020-10-30</td>\n",
              "    </tr>\n",
              "    <tr>\n",
              "      <th>726719</th>\n",
              "      <td>15/9/2020 0:00:00</td>\n",
              "      <td>726760</td>\n",
              "      <td>12/9/2020 0:00:00</td>\n",
              "      <td>11</td>\n",
              "      <td>BOGOTA</td>\n",
              "      <td>11001</td>\n",
              "      <td>BOGOTA</td>\n",
              "      <td>69</td>\n",
              "      <td>1</td>\n",
              "      <td>M</td>\n",
              "      <td>En estudio</td>\n",
              "      <td>Hospital</td>\n",
              "      <td>Moderado</td>\n",
              "      <td>NaN</td>\n",
              "      <td>NaN</td>\n",
              "      <td>Activo</td>\n",
              "      <td>6/9/2020 0:00:00</td>\n",
              "      <td>14/9/2020 0:00:00</td>\n",
              "      <td>NaN</td>\n",
              "      <td>NaN</td>\n",
              "      <td>6</td>\n",
              "      <td>NaN</td>\n",
              "      <td>NaN</td>\n",
              "      <td>26/9/2020 0:00:00</td>\n",
              "      <td>2020-09-14</td>\n",
              "      <td>2020-09-26</td>\n",
              "    </tr>\n",
              "    <tr>\n",
              "      <th>...</th>\n",
              "      <td>...</td>\n",
              "      <td>...</td>\n",
              "      <td>...</td>\n",
              "      <td>...</td>\n",
              "      <td>...</td>\n",
              "      <td>...</td>\n",
              "      <td>...</td>\n",
              "      <td>...</td>\n",
              "      <td>...</td>\n",
              "      <td>...</td>\n",
              "      <td>...</td>\n",
              "      <td>...</td>\n",
              "      <td>...</td>\n",
              "      <td>...</td>\n",
              "      <td>...</td>\n",
              "      <td>...</td>\n",
              "      <td>...</td>\n",
              "      <td>...</td>\n",
              "      <td>...</td>\n",
              "      <td>...</td>\n",
              "      <td>...</td>\n",
              "      <td>...</td>\n",
              "      <td>...</td>\n",
              "      <td>...</td>\n",
              "      <td>...</td>\n",
              "      <td>...</td>\n",
              "    </tr>\n",
              "    <tr>\n",
              "      <th>2099667</th>\n",
              "      <td>1/2/2021 0:00:00</td>\n",
              "      <td>2099708</td>\n",
              "      <td>25/1/2021 0:00:00</td>\n",
              "      <td>11</td>\n",
              "      <td>BOGOTA</td>\n",
              "      <td>11001</td>\n",
              "      <td>BOGOTA</td>\n",
              "      <td>62</td>\n",
              "      <td>1</td>\n",
              "      <td>M</td>\n",
              "      <td>En estudio</td>\n",
              "      <td>Hospital UCI</td>\n",
              "      <td>Grave</td>\n",
              "      <td>NaN</td>\n",
              "      <td>NaN</td>\n",
              "      <td>Activo</td>\n",
              "      <td>19/1/2021 0:00:00</td>\n",
              "      <td>28/1/2021 0:00:00</td>\n",
              "      <td>NaN</td>\n",
              "      <td>NaN</td>\n",
              "      <td>6</td>\n",
              "      <td>NaN</td>\n",
              "      <td>NaN</td>\n",
              "      <td>3/2/2021 0:00:00</td>\n",
              "      <td>2021-01-28</td>\n",
              "      <td>2021-02-03</td>\n",
              "    </tr>\n",
              "    <tr>\n",
              "      <th>2099687</th>\n",
              "      <td>1/2/2021 0:00:00</td>\n",
              "      <td>2099728</td>\n",
              "      <td>25/1/2021 0:00:00</td>\n",
              "      <td>11</td>\n",
              "      <td>BOGOTA</td>\n",
              "      <td>11001</td>\n",
              "      <td>BOGOTA</td>\n",
              "      <td>69</td>\n",
              "      <td>1</td>\n",
              "      <td>F</td>\n",
              "      <td>En estudio</td>\n",
              "      <td>Hospital UCI</td>\n",
              "      <td>Grave</td>\n",
              "      <td>NaN</td>\n",
              "      <td>NaN</td>\n",
              "      <td>Activo</td>\n",
              "      <td>20/1/2021 0:00:00</td>\n",
              "      <td>29/1/2021 0:00:00</td>\n",
              "      <td>NaN</td>\n",
              "      <td>NaN</td>\n",
              "      <td>6</td>\n",
              "      <td>NaN</td>\n",
              "      <td>NaN</td>\n",
              "      <td>8/2/2021 0:00:00</td>\n",
              "      <td>2021-01-29</td>\n",
              "      <td>2021-02-08</td>\n",
              "    </tr>\n",
              "    <tr>\n",
              "      <th>2099704</th>\n",
              "      <td>1/2/2021 0:00:00</td>\n",
              "      <td>2099745</td>\n",
              "      <td>27/1/2021 0:00:00</td>\n",
              "      <td>11</td>\n",
              "      <td>BOGOTA</td>\n",
              "      <td>11001</td>\n",
              "      <td>BOGOTA</td>\n",
              "      <td>72</td>\n",
              "      <td>1</td>\n",
              "      <td>M</td>\n",
              "      <td>En estudio</td>\n",
              "      <td>Hospital</td>\n",
              "      <td>Moderado</td>\n",
              "      <td>NaN</td>\n",
              "      <td>NaN</td>\n",
              "      <td>Activo</td>\n",
              "      <td>23/1/2021 0:00:00</td>\n",
              "      <td>28/1/2021 0:00:00</td>\n",
              "      <td>NaN</td>\n",
              "      <td>NaN</td>\n",
              "      <td>6</td>\n",
              "      <td>NaN</td>\n",
              "      <td>NaN</td>\n",
              "      <td>9/2/2021 0:00:00</td>\n",
              "      <td>2021-01-28</td>\n",
              "      <td>2021-02-09</td>\n",
              "    </tr>\n",
              "    <tr>\n",
              "      <th>2099870</th>\n",
              "      <td>1/2/2021 0:00:00</td>\n",
              "      <td>2099911</td>\n",
              "      <td>28/1/2021 0:00:00</td>\n",
              "      <td>11</td>\n",
              "      <td>BOGOTA</td>\n",
              "      <td>11001</td>\n",
              "      <td>BOGOTA</td>\n",
              "      <td>61</td>\n",
              "      <td>1</td>\n",
              "      <td>M</td>\n",
              "      <td>En estudio</td>\n",
              "      <td>Hospital</td>\n",
              "      <td>Moderado</td>\n",
              "      <td>NaN</td>\n",
              "      <td>NaN</td>\n",
              "      <td>Activo</td>\n",
              "      <td>27/1/2021 0:00:00</td>\n",
              "      <td>29/1/2021 0:00:00</td>\n",
              "      <td>NaN</td>\n",
              "      <td>NaN</td>\n",
              "      <td>6</td>\n",
              "      <td>NaN</td>\n",
              "      <td>NaN</td>\n",
              "      <td>10/2/2021 0:00:00</td>\n",
              "      <td>2021-01-29</td>\n",
              "      <td>2021-02-10</td>\n",
              "    </tr>\n",
              "    <tr>\n",
              "      <th>2099891</th>\n",
              "      <td>1/2/2021 0:00:00</td>\n",
              "      <td>2099932</td>\n",
              "      <td>27/1/2021 0:00:00</td>\n",
              "      <td>11</td>\n",
              "      <td>BOGOTA</td>\n",
              "      <td>11001</td>\n",
              "      <td>BOGOTA</td>\n",
              "      <td>65</td>\n",
              "      <td>1</td>\n",
              "      <td>F</td>\n",
              "      <td>En estudio</td>\n",
              "      <td>Hospital</td>\n",
              "      <td>Moderado</td>\n",
              "      <td>NaN</td>\n",
              "      <td>NaN</td>\n",
              "      <td>Activo</td>\n",
              "      <td>20/1/2021 0:00:00</td>\n",
              "      <td>29/1/2021 0:00:00</td>\n",
              "      <td>NaN</td>\n",
              "      <td>NaN</td>\n",
              "      <td>6</td>\n",
              "      <td>NaN</td>\n",
              "      <td>NaN</td>\n",
              "      <td>10/2/2021 0:00:00</td>\n",
              "      <td>2021-01-29</td>\n",
              "      <td>2021-02-10</td>\n",
              "    </tr>\n",
              "  </tbody>\n",
              "</table>\n",
              "<p>16737 rows × 26 columns</p>\n",
              "</div>"
            ],
            "text/plain": [
              "         fecha_reporte_web id_de_caso  ... Fecha_diag_date_fmat Fecha_M/R_date_fmat\n",
              "701528   11/9/2020 0:00:00     701569  ...           2020-09-10          2020-09-27\n",
              "701865   11/9/2020 0:00:00     701906  ...           2020-09-08          2020-09-26\n",
              "715508   13/9/2020 0:00:00     715549  ...           2020-09-11          2020-10-05\n",
              "719560   14/9/2020 0:00:00     719601  ...           2020-09-13          2020-10-30\n",
              "726719   15/9/2020 0:00:00     726760  ...           2020-09-14          2020-09-26\n",
              "...                    ...        ...  ...                  ...                 ...\n",
              "2099667   1/2/2021 0:00:00    2099708  ...           2021-01-28          2021-02-03\n",
              "2099687   1/2/2021 0:00:00    2099728  ...           2021-01-29          2021-02-08\n",
              "2099704   1/2/2021 0:00:00    2099745  ...           2021-01-28          2021-02-09\n",
              "2099870   1/2/2021 0:00:00    2099911  ...           2021-01-29          2021-02-10\n",
              "2099891   1/2/2021 0:00:00    2099932  ...           2021-01-29          2021-02-10\n",
              "\n",
              "[16737 rows x 26 columns]"
            ]
          },
          "metadata": {
            "tags": []
          },
          "execution_count": 6
        }
      ]
    },
    {
      "cell_type": "code",
      "metadata": {
        "colab": {
          "base_uri": "https://localhost:8080/",
          "height": 224
        },
        "id": "AquP989Pilvs",
        "outputId": "6db4127b-b0d4-4e1a-9cbf-ff72d8c7a148"
      },
      "source": [
        "results_df.head()"
      ],
      "execution_count": 7,
      "outputs": [
        {
          "output_type": "execute_result",
          "data": {
            "text/html": [
              "<div>\n",
              "<style scoped>\n",
              "    .dataframe tbody tr th:only-of-type {\n",
              "        vertical-align: middle;\n",
              "    }\n",
              "\n",
              "    .dataframe tbody tr th {\n",
              "        vertical-align: top;\n",
              "    }\n",
              "\n",
              "    .dataframe thead th {\n",
              "        text-align: right;\n",
              "    }\n",
              "</style>\n",
              "<table border=\"1\" class=\"dataframe\">\n",
              "  <thead>\n",
              "    <tr style=\"text-align: right;\">\n",
              "      <th></th>\n",
              "      <th>fecha_reporte_web</th>\n",
              "      <th>id_de_caso</th>\n",
              "      <th>fecha_de_notificaci_n</th>\n",
              "      <th>departamento</th>\n",
              "      <th>departamento_nom</th>\n",
              "      <th>ciudad_municipio</th>\n",
              "      <th>ciudad_municipio_nom</th>\n",
              "      <th>edad</th>\n",
              "      <th>unidad_medida</th>\n",
              "      <th>sexo</th>\n",
              "      <th>fuente_tipo_contagio</th>\n",
              "      <th>ubicacion</th>\n",
              "      <th>estado</th>\n",
              "      <th>pais_viajo_1_cod</th>\n",
              "      <th>pais_viajo_1_nom</th>\n",
              "      <th>recuperado</th>\n",
              "      <th>fecha_inicio_sintomas</th>\n",
              "      <th>fecha_diagnostico</th>\n",
              "      <th>fecha_recuperado</th>\n",
              "      <th>tipo_recuperacion</th>\n",
              "      <th>per_etn_</th>\n",
              "      <th>nom_grupo_</th>\n",
              "      <th>fecha_muerte</th>\n",
              "      <th>muerte/recuperacion</th>\n",
              "      <th>Fecha_diag_date_fmat</th>\n",
              "      <th>Fecha_M/R_date_fmat</th>\n",
              "    </tr>\n",
              "  </thead>\n",
              "  <tbody>\n",
              "    <tr>\n",
              "      <th>0</th>\n",
              "      <td>6/3/2020 0:00:00</td>\n",
              "      <td>1</td>\n",
              "      <td>2/3/2020 0:00:00</td>\n",
              "      <td>11</td>\n",
              "      <td>BOGOTA</td>\n",
              "      <td>11001</td>\n",
              "      <td>BOGOTA</td>\n",
              "      <td>19</td>\n",
              "      <td>1</td>\n",
              "      <td>F</td>\n",
              "      <td>Importado</td>\n",
              "      <td>Casa</td>\n",
              "      <td>Leve</td>\n",
              "      <td>380</td>\n",
              "      <td>ITALIA</td>\n",
              "      <td>Recuperado</td>\n",
              "      <td>27/2/2020 0:00:00</td>\n",
              "      <td>6/3/2020 0:00:00</td>\n",
              "      <td>13/3/2020 0:00:00</td>\n",
              "      <td>PCR</td>\n",
              "      <td>6</td>\n",
              "      <td>NaN</td>\n",
              "      <td>NaN</td>\n",
              "      <td>13/3/2020 0:00:00</td>\n",
              "      <td>2020-03-06</td>\n",
              "      <td>2020-03-13</td>\n",
              "    </tr>\n",
              "    <tr>\n",
              "      <th>1</th>\n",
              "      <td>9/3/2020 0:00:00</td>\n",
              "      <td>2</td>\n",
              "      <td>6/3/2020 0:00:00</td>\n",
              "      <td>76</td>\n",
              "      <td>VALLE</td>\n",
              "      <td>76111</td>\n",
              "      <td>BUGA</td>\n",
              "      <td>34</td>\n",
              "      <td>1</td>\n",
              "      <td>M</td>\n",
              "      <td>Importado</td>\n",
              "      <td>Casa</td>\n",
              "      <td>Leve</td>\n",
              "      <td>724</td>\n",
              "      <td>ESPAÑA</td>\n",
              "      <td>Recuperado</td>\n",
              "      <td>4/3/2020 0:00:00</td>\n",
              "      <td>9/3/2020 0:00:00</td>\n",
              "      <td>19/3/2020 0:00:00</td>\n",
              "      <td>PCR</td>\n",
              "      <td>5</td>\n",
              "      <td>NaN</td>\n",
              "      <td>NaN</td>\n",
              "      <td>19/3/2020 0:00:00</td>\n",
              "      <td>2020-03-09</td>\n",
              "      <td>2020-03-19</td>\n",
              "    </tr>\n",
              "    <tr>\n",
              "      <th>2</th>\n",
              "      <td>9/3/2020 0:00:00</td>\n",
              "      <td>3</td>\n",
              "      <td>7/3/2020 0:00:00</td>\n",
              "      <td>5</td>\n",
              "      <td>ANTIOQUIA</td>\n",
              "      <td>5001</td>\n",
              "      <td>MEDELLIN</td>\n",
              "      <td>50</td>\n",
              "      <td>1</td>\n",
              "      <td>F</td>\n",
              "      <td>Importado</td>\n",
              "      <td>Casa</td>\n",
              "      <td>Leve</td>\n",
              "      <td>724</td>\n",
              "      <td>ESPAÑA</td>\n",
              "      <td>Recuperado</td>\n",
              "      <td>29/2/2020 0:00:00</td>\n",
              "      <td>9/3/2020 0:00:00</td>\n",
              "      <td>15/3/2020 0:00:00</td>\n",
              "      <td>PCR</td>\n",
              "      <td>6</td>\n",
              "      <td>NaN</td>\n",
              "      <td>NaN</td>\n",
              "      <td>15/3/2020 0:00:00</td>\n",
              "      <td>2020-03-09</td>\n",
              "      <td>2020-03-15</td>\n",
              "    </tr>\n",
              "    <tr>\n",
              "      <th>3</th>\n",
              "      <td>11/3/2020 0:00:00</td>\n",
              "      <td>4</td>\n",
              "      <td>9/3/2020 0:00:00</td>\n",
              "      <td>5</td>\n",
              "      <td>ANTIOQUIA</td>\n",
              "      <td>5001</td>\n",
              "      <td>MEDELLIN</td>\n",
              "      <td>55</td>\n",
              "      <td>1</td>\n",
              "      <td>M</td>\n",
              "      <td>Relacionado</td>\n",
              "      <td>Casa</td>\n",
              "      <td>Leve</td>\n",
              "      <td>NaN</td>\n",
              "      <td>NaN</td>\n",
              "      <td>Recuperado</td>\n",
              "      <td>6/3/2020 0:00:00</td>\n",
              "      <td>11/3/2020 0:00:00</td>\n",
              "      <td>26/3/2020 0:00:00</td>\n",
              "      <td>PCR</td>\n",
              "      <td>6</td>\n",
              "      <td>NaN</td>\n",
              "      <td>NaN</td>\n",
              "      <td>26/3/2020 0:00:00</td>\n",
              "      <td>2020-03-11</td>\n",
              "      <td>2020-03-26</td>\n",
              "    </tr>\n",
              "    <tr>\n",
              "      <th>4</th>\n",
              "      <td>11/3/2020 0:00:00</td>\n",
              "      <td>5</td>\n",
              "      <td>9/3/2020 0:00:00</td>\n",
              "      <td>5</td>\n",
              "      <td>ANTIOQUIA</td>\n",
              "      <td>5001</td>\n",
              "      <td>MEDELLIN</td>\n",
              "      <td>25</td>\n",
              "      <td>1</td>\n",
              "      <td>M</td>\n",
              "      <td>Relacionado</td>\n",
              "      <td>Casa</td>\n",
              "      <td>Leve</td>\n",
              "      <td>NaN</td>\n",
              "      <td>NaN</td>\n",
              "      <td>Recuperado</td>\n",
              "      <td>8/3/2020 0:00:00</td>\n",
              "      <td>11/3/2020 0:00:00</td>\n",
              "      <td>23/3/2020 0:00:00</td>\n",
              "      <td>PCR</td>\n",
              "      <td>6</td>\n",
              "      <td>NaN</td>\n",
              "      <td>NaN</td>\n",
              "      <td>23/3/2020 0:00:00</td>\n",
              "      <td>2020-03-11</td>\n",
              "      <td>2020-03-23</td>\n",
              "    </tr>\n",
              "  </tbody>\n",
              "</table>\n",
              "</div>"
            ],
            "text/plain": [
              "   fecha_reporte_web id_de_caso  ... Fecha_diag_date_fmat Fecha_M/R_date_fmat\n",
              "0   6/3/2020 0:00:00          1  ...           2020-03-06          2020-03-13\n",
              "1   9/3/2020 0:00:00          2  ...           2020-03-09          2020-03-19\n",
              "2   9/3/2020 0:00:00          3  ...           2020-03-09          2020-03-15\n",
              "3  11/3/2020 0:00:00          4  ...           2020-03-11          2020-03-26\n",
              "4  11/3/2020 0:00:00          5  ...           2020-03-11          2020-03-23\n",
              "\n",
              "[5 rows x 26 columns]"
            ]
          },
          "metadata": {
            "tags": []
          },
          "execution_count": 7
        }
      ]
    },
    {
      "cell_type": "code",
      "metadata": {
        "colab": {
          "base_uri": "https://localhost:8080/"
        },
        "id": "tkHxYU7FTe-6",
        "outputId": "7eaa6fe8-80c0-4ad2-fc9e-ec1724bb58c0"
      },
      "source": [
        "results_df[\"recuperado\"].unique()"
      ],
      "execution_count": 8,
      "outputs": [
        {
          "output_type": "execute_result",
          "data": {
            "text/plain": [
              "array(['Recuperado', 'Fallecido', 'N/A', 'fallecido', 'Activo'],\n",
              "      dtype=object)"
            ]
          },
          "metadata": {
            "tags": []
          },
          "execution_count": 8
        }
      ]
    },
    {
      "cell_type": "code",
      "metadata": {
        "colab": {
          "base_uri": "https://localhost:8080/",
          "height": 224
        },
        "id": "c1ihJvJVT0Y3",
        "outputId": "e336b3c5-1df2-48a5-f903-513a27a8d4e9"
      },
      "source": [
        "results_df[(results_df[\"recuperado\"]=='N/A') & pd.isnull(results_df[\"fecha_muerte\"])]"
      ],
      "execution_count": 9,
      "outputs": [
        {
          "output_type": "execute_result",
          "data": {
            "text/html": [
              "<div>\n",
              "<style scoped>\n",
              "    .dataframe tbody tr th:only-of-type {\n",
              "        vertical-align: middle;\n",
              "    }\n",
              "\n",
              "    .dataframe tbody tr th {\n",
              "        vertical-align: top;\n",
              "    }\n",
              "\n",
              "    .dataframe thead th {\n",
              "        text-align: right;\n",
              "    }\n",
              "</style>\n",
              "<table border=\"1\" class=\"dataframe\">\n",
              "  <thead>\n",
              "    <tr style=\"text-align: right;\">\n",
              "      <th></th>\n",
              "      <th>fecha_reporte_web</th>\n",
              "      <th>id_de_caso</th>\n",
              "      <th>fecha_de_notificaci_n</th>\n",
              "      <th>departamento</th>\n",
              "      <th>departamento_nom</th>\n",
              "      <th>ciudad_municipio</th>\n",
              "      <th>ciudad_municipio_nom</th>\n",
              "      <th>edad</th>\n",
              "      <th>unidad_medida</th>\n",
              "      <th>sexo</th>\n",
              "      <th>fuente_tipo_contagio</th>\n",
              "      <th>ubicacion</th>\n",
              "      <th>estado</th>\n",
              "      <th>pais_viajo_1_cod</th>\n",
              "      <th>pais_viajo_1_nom</th>\n",
              "      <th>recuperado</th>\n",
              "      <th>fecha_inicio_sintomas</th>\n",
              "      <th>fecha_diagnostico</th>\n",
              "      <th>fecha_recuperado</th>\n",
              "      <th>tipo_recuperacion</th>\n",
              "      <th>per_etn_</th>\n",
              "      <th>nom_grupo_</th>\n",
              "      <th>fecha_muerte</th>\n",
              "      <th>muerte/recuperacion</th>\n",
              "      <th>Fecha_diag_date_fmat</th>\n",
              "      <th>Fecha_M/R_date_fmat</th>\n",
              "    </tr>\n",
              "  </thead>\n",
              "  <tbody>\n",
              "    <tr>\n",
              "      <th>15582</th>\n",
              "      <td>18/5/2020 0:00:00</td>\n",
              "      <td>15623</td>\n",
              "      <td>12/5/2020 0:00:00</td>\n",
              "      <td>13001</td>\n",
              "      <td>CARTAGENA</td>\n",
              "      <td>13001</td>\n",
              "      <td>CARTAGENA</td>\n",
              "      <td>31</td>\n",
              "      <td>1</td>\n",
              "      <td>F</td>\n",
              "      <td>Relacionado</td>\n",
              "      <td>N/A</td>\n",
              "      <td>N/A</td>\n",
              "      <td>NaN</td>\n",
              "      <td>NaN</td>\n",
              "      <td>N/A</td>\n",
              "      <td>5/5/2020 0:00:00</td>\n",
              "      <td>18/5/2020 0:00:00</td>\n",
              "      <td>NaN</td>\n",
              "      <td>NaN</td>\n",
              "      <td>6</td>\n",
              "      <td>NaN</td>\n",
              "      <td>NaN</td>\n",
              "      <td>5/6/2020 0:00:00</td>\n",
              "      <td>2020-05-18</td>\n",
              "      <td>2020-06-05</td>\n",
              "    </tr>\n",
              "    <tr>\n",
              "      <th>36029</th>\n",
              "      <td>5/6/2020 0:00:00</td>\n",
              "      <td>36070</td>\n",
              "      <td>5/6/2020 0:00:00</td>\n",
              "      <td>5</td>\n",
              "      <td>ANTIOQUIA</td>\n",
              "      <td>5154</td>\n",
              "      <td>CAUCASIA</td>\n",
              "      <td>64</td>\n",
              "      <td>1</td>\n",
              "      <td>F</td>\n",
              "      <td>En estudio</td>\n",
              "      <td>N/A</td>\n",
              "      <td>N/A</td>\n",
              "      <td>NaN</td>\n",
              "      <td>NaN</td>\n",
              "      <td>N/A</td>\n",
              "      <td>1/6/2020 0:00:00</td>\n",
              "      <td>5/6/2020 0:00:00</td>\n",
              "      <td>NaN</td>\n",
              "      <td>NaN</td>\n",
              "      <td>6</td>\n",
              "      <td>NaN</td>\n",
              "      <td>NaN</td>\n",
              "      <td>11/6/2020 0:00:00</td>\n",
              "      <td>2020-06-05</td>\n",
              "      <td>2020-06-11</td>\n",
              "    </tr>\n",
              "    <tr>\n",
              "      <th>36197</th>\n",
              "      <td>5/6/2020 0:00:00</td>\n",
              "      <td>36238</td>\n",
              "      <td>31/5/2020 0:00:00</td>\n",
              "      <td>8001</td>\n",
              "      <td>BARRANQUILLA</td>\n",
              "      <td>8001</td>\n",
              "      <td>BARRANQUILLA</td>\n",
              "      <td>41</td>\n",
              "      <td>1</td>\n",
              "      <td>M</td>\n",
              "      <td>En estudio</td>\n",
              "      <td>N/A</td>\n",
              "      <td>N/A</td>\n",
              "      <td>NaN</td>\n",
              "      <td>NaN</td>\n",
              "      <td>N/A</td>\n",
              "      <td>28/5/2020 0:00:00</td>\n",
              "      <td>5/6/2020 0:00:00</td>\n",
              "      <td>NaN</td>\n",
              "      <td>NaN</td>\n",
              "      <td>6</td>\n",
              "      <td>NaN</td>\n",
              "      <td>NaN</td>\n",
              "      <td>1/7/2020 0:00:00</td>\n",
              "      <td>2020-06-05</td>\n",
              "      <td>2020-07-01</td>\n",
              "    </tr>\n",
              "    <tr>\n",
              "      <th>42777</th>\n",
              "      <td>10/6/2020 0:00:00</td>\n",
              "      <td>42818</td>\n",
              "      <td>4/6/2020 0:00:00</td>\n",
              "      <td>76</td>\n",
              "      <td>VALLE</td>\n",
              "      <td>76109</td>\n",
              "      <td>BUENAVENTURA</td>\n",
              "      <td>78</td>\n",
              "      <td>1</td>\n",
              "      <td>F</td>\n",
              "      <td>En estudio</td>\n",
              "      <td>N/A</td>\n",
              "      <td>N/A</td>\n",
              "      <td>NaN</td>\n",
              "      <td>NaN</td>\n",
              "      <td>N/A</td>\n",
              "      <td>29/4/2020 0:00:00</td>\n",
              "      <td>10/6/2020 0:00:00</td>\n",
              "      <td>NaN</td>\n",
              "      <td>NaN</td>\n",
              "      <td>5</td>\n",
              "      <td>NaN</td>\n",
              "      <td>NaN</td>\n",
              "      <td>22/6/2020 0:00:00</td>\n",
              "      <td>2020-06-10</td>\n",
              "      <td>2020-06-22</td>\n",
              "    </tr>\n",
              "    <tr>\n",
              "      <th>53976</th>\n",
              "      <td>16/6/2020 0:00:00</td>\n",
              "      <td>54017</td>\n",
              "      <td>12/6/2020 0:00:00</td>\n",
              "      <td>13001</td>\n",
              "      <td>CARTAGENA</td>\n",
              "      <td>13001</td>\n",
              "      <td>CARTAGENA</td>\n",
              "      <td>61</td>\n",
              "      <td>1</td>\n",
              "      <td>F</td>\n",
              "      <td>En estudio</td>\n",
              "      <td>N/A</td>\n",
              "      <td>N/A</td>\n",
              "      <td>NaN</td>\n",
              "      <td>NaN</td>\n",
              "      <td>N/A</td>\n",
              "      <td>11/6/2020 0:00:00</td>\n",
              "      <td>16/6/2020 0:00:00</td>\n",
              "      <td>NaN</td>\n",
              "      <td>NaN</td>\n",
              "      <td>6</td>\n",
              "      <td>NaN</td>\n",
              "      <td>NaN</td>\n",
              "      <td>30/6/2020 0:00:00</td>\n",
              "      <td>2020-06-16</td>\n",
              "      <td>2020-06-30</td>\n",
              "    </tr>\n",
              "  </tbody>\n",
              "</table>\n",
              "</div>"
            ],
            "text/plain": [
              "       fecha_reporte_web id_de_caso  ... Fecha_diag_date_fmat Fecha_M/R_date_fmat\n",
              "15582  18/5/2020 0:00:00      15623  ...           2020-05-18          2020-06-05\n",
              "36029   5/6/2020 0:00:00      36070  ...           2020-06-05          2020-06-11\n",
              "36197   5/6/2020 0:00:00      36238  ...           2020-06-05          2020-07-01\n",
              "42777  10/6/2020 0:00:00      42818  ...           2020-06-10          2020-06-22\n",
              "53976  16/6/2020 0:00:00      54017  ...           2020-06-16          2020-06-30\n",
              "\n",
              "[5 rows x 26 columns]"
            ]
          },
          "metadata": {
            "tags": []
          },
          "execution_count": 9
        }
      ]
    },
    {
      "cell_type": "code",
      "metadata": {
        "id": "40NrsqDbJHpi"
      },
      "source": [
        "def ta_todo(f):\r\n",
        "    e=results_df[(results_df[\"Fecha_diag_date_fmat\"]<f) & (f<results_df[\"Fecha_M/R_date_fmat\"])].shape[0]\r\n",
        "    r=results_df[(results_df[\"Fecha_M/R_date_fmat\"]<f) & pd.isnull(results_df[\"fecha_muerte\"])].shape[0]\r\n",
        "    fa=results_df[(results_df[\"Fecha_M/R_date_fmat\"]<f) & ~pd.isnull(results_df[\"fecha_muerte\"])].shape[0]\r\n",
        "    mr=results_df[results_df[\"Fecha_M/R_date_fmat\"]<f].shape[0]\r\n",
        "    return e, r, fa, mr"
      ],
      "execution_count": 10,
      "outputs": []
    },
    {
      "cell_type": "code",
      "metadata": {
        "id": "USIedfEG8pX_"
      },
      "source": [
        "fecha_mayor=str(results_df[\"fecha_de_notificaci_n\"].unique()[-1])\r\n",
        "fecha_mayor1=datetime.datetime.strptime(str(fecha_mayor),\"%d/%m/%Y %H:%M:%S\")"
      ],
      "execution_count": 11,
      "outputs": []
    },
    {
      "cell_type": "code",
      "metadata": {
        "id": "GJyCzO2M11EK"
      },
      "source": [
        "c=str(results_df[\"fecha_de_notificaci_n\"][0])\r\n",
        "c1=datetime.datetime.strptime(c,\"%d/%m/%Y %H:%M:%S\")\r\n",
        "c2=[c1]\r\n",
        "i=1\r\n",
        "while c2[-1] != fecha_mayor1:\r\n",
        "    c2.append(c2[0]+datetime.timedelta(days=i))\r\n",
        "    i+=1"
      ],
      "execution_count": 12,
      "outputs": []
    },
    {
      "cell_type": "code",
      "metadata": {
        "id": "X7hSHghf9Vel"
      },
      "source": [
        "casos_diarios={}"
      ],
      "execution_count": 13,
      "outputs": []
    },
    {
      "cell_type": "code",
      "metadata": {
        "id": "ilNYz2nP1xrH"
      },
      "source": [
        "casos_diarios[\"fechas\"]=c2"
      ],
      "execution_count": 14,
      "outputs": []
    },
    {
      "cell_type": "code",
      "metadata": {
        "id": "HaJWY7qF2cuD"
      },
      "source": [
        "casos_diarios_DF=pd.DataFrame(data=casos_diarios)"
      ],
      "execution_count": 15,
      "outputs": []
    },
    {
      "cell_type": "code",
      "metadata": {
        "colab": {
          "base_uri": "https://localhost:8080/",
          "height": 419
        },
        "id": "zNFadhql2nvA",
        "outputId": "e18fd098-0b21-4031-8880-14648ffd645b"
      },
      "source": [
        "casos_diarios_DF"
      ],
      "execution_count": 16,
      "outputs": [
        {
          "output_type": "execute_result",
          "data": {
            "text/html": [
              "<div>\n",
              "<style scoped>\n",
              "    .dataframe tbody tr th:only-of-type {\n",
              "        vertical-align: middle;\n",
              "    }\n",
              "\n",
              "    .dataframe tbody tr th {\n",
              "        vertical-align: top;\n",
              "    }\n",
              "\n",
              "    .dataframe thead th {\n",
              "        text-align: right;\n",
              "    }\n",
              "</style>\n",
              "<table border=\"1\" class=\"dataframe\">\n",
              "  <thead>\n",
              "    <tr style=\"text-align: right;\">\n",
              "      <th></th>\n",
              "      <th>fechas</th>\n",
              "    </tr>\n",
              "  </thead>\n",
              "  <tbody>\n",
              "    <tr>\n",
              "      <th>0</th>\n",
              "      <td>2020-03-02</td>\n",
              "    </tr>\n",
              "    <tr>\n",
              "      <th>1</th>\n",
              "      <td>2020-03-03</td>\n",
              "    </tr>\n",
              "    <tr>\n",
              "      <th>2</th>\n",
              "      <td>2020-03-04</td>\n",
              "    </tr>\n",
              "    <tr>\n",
              "      <th>3</th>\n",
              "      <td>2020-03-05</td>\n",
              "    </tr>\n",
              "    <tr>\n",
              "      <th>4</th>\n",
              "      <td>2020-03-06</td>\n",
              "    </tr>\n",
              "    <tr>\n",
              "      <th>...</th>\n",
              "      <td>...</td>\n",
              "    </tr>\n",
              "    <tr>\n",
              "      <th>332</th>\n",
              "      <td>2021-01-28</td>\n",
              "    </tr>\n",
              "    <tr>\n",
              "      <th>333</th>\n",
              "      <td>2021-01-29</td>\n",
              "    </tr>\n",
              "    <tr>\n",
              "      <th>334</th>\n",
              "      <td>2021-01-30</td>\n",
              "    </tr>\n",
              "    <tr>\n",
              "      <th>335</th>\n",
              "      <td>2021-01-31</td>\n",
              "    </tr>\n",
              "    <tr>\n",
              "      <th>336</th>\n",
              "      <td>2021-02-01</td>\n",
              "    </tr>\n",
              "  </tbody>\n",
              "</table>\n",
              "<p>337 rows × 1 columns</p>\n",
              "</div>"
            ],
            "text/plain": [
              "        fechas\n",
              "0   2020-03-02\n",
              "1   2020-03-03\n",
              "2   2020-03-04\n",
              "3   2020-03-05\n",
              "4   2020-03-06\n",
              "..         ...\n",
              "332 2021-01-28\n",
              "333 2021-01-29\n",
              "334 2021-01-30\n",
              "335 2021-01-31\n",
              "336 2021-02-01\n",
              "\n",
              "[337 rows x 1 columns]"
            ]
          },
          "metadata": {
            "tags": []
          },
          "execution_count": 16
        }
      ]
    },
    {
      "cell_type": "code",
      "metadata": {
        "id": "8fbv-mwa_UbA"
      },
      "source": [
        "a=np.array(list(map(ta_todo, casos_diarios_DF[\"fechas\"])))"
      ],
      "execution_count": 17,
      "outputs": []
    },
    {
      "cell_type": "code",
      "metadata": {
        "id": "A2wVWmcUEO6z"
      },
      "source": [
        "casos_diarios_DF[\"enfermos_diarios\"]=list(a[:,0])\r\n",
        "casos_diarios_DF[\"recuperados_diarios\"]=list(a[:,1])\r\n",
        "casos_diarios_DF[\"fallecidos_diarios\"]=list(a[:,2])\r\n",
        "casos_diarios_DF[\"m/r_diarios\"]=list(a[:,3])"
      ],
      "execution_count": 18,
      "outputs": []
    },
    {
      "cell_type": "code",
      "metadata": {
        "id": "QWB2FY5xPkWV"
      },
      "source": [
        "casos_diarios_DF[\"comprobacion\"]=list(map(lambda x, y, z: x+y==z, casos_diarios_DF[\"recuperados_diarios\"],casos_diarios_DF[\"fallecidos_diarios\"],casos_diarios_DF[\"m/r_diarios\"]))"
      ],
      "execution_count": 19,
      "outputs": []
    },
    {
      "cell_type": "code",
      "metadata": {
        "id": "k7eTM0yIP6b_",
        "colab": {
          "base_uri": "https://localhost:8080/"
        },
        "outputId": "064a62cb-a1b2-43ba-d4af-af86922aa105"
      },
      "source": [
        "sum(~casos_diarios_DF[\"comprobacion\"])"
      ],
      "execution_count": 20,
      "outputs": [
        {
          "output_type": "execute_result",
          "data": {
            "text/plain": [
              "0"
            ]
          },
          "metadata": {
            "tags": []
          },
          "execution_count": 20
        }
      ]
    },
    {
      "cell_type": "code",
      "metadata": {
        "id": "H2ix1hswYLmN"
      },
      "source": [
        "casos_diarios_DF[\"casos diarios\"]=list(map(lambda f: (results_df[results_df[\"Fecha_diag_date_fmat\"]==f].shape[0]), casos_diarios_DF[\"fechas\"]))"
      ],
      "execution_count": 21,
      "outputs": []
    },
    {
      "cell_type": "code",
      "metadata": {
        "id": "bUIE_2JdeK_6",
        "colab": {
          "base_uri": "https://localhost:8080/"
        },
        "outputId": "58fbd48a-38cb-41a9-d9ef-2c297e41b733"
      },
      "source": [
        "results_df[results_df[\"Fecha_diag_date_fmat\"]==casos_diarios_DF[\"fechas\"][300]].shape"
      ],
      "execution_count": 22,
      "outputs": [
        {
          "output_type": "execute_result",
          "data": {
            "text/plain": [
              "(8513, 26)"
            ]
          },
          "metadata": {
            "tags": []
          },
          "execution_count": 22
        }
      ]
    },
    {
      "cell_type": "code",
      "metadata": {
        "id": "zvvH6JprN4g3",
        "colab": {
          "base_uri": "https://localhost:8080/",
          "height": 419
        },
        "outputId": "bcd09931-f48a-4802-a283-509f99d6396c"
      },
      "source": [
        "casos_diarios_DF"
      ],
      "execution_count": 31,
      "outputs": [
        {
          "output_type": "execute_result",
          "data": {
            "text/html": [
              "<div>\n",
              "<style scoped>\n",
              "    .dataframe tbody tr th:only-of-type {\n",
              "        vertical-align: middle;\n",
              "    }\n",
              "\n",
              "    .dataframe tbody tr th {\n",
              "        vertical-align: top;\n",
              "    }\n",
              "\n",
              "    .dataframe thead th {\n",
              "        text-align: right;\n",
              "    }\n",
              "</style>\n",
              "<table border=\"1\" class=\"dataframe\">\n",
              "  <thead>\n",
              "    <tr style=\"text-align: right;\">\n",
              "      <th></th>\n",
              "      <th>fechas</th>\n",
              "      <th>enfermos_diarios</th>\n",
              "      <th>recuperados_diarios</th>\n",
              "      <th>fallecidos_diarios</th>\n",
              "      <th>m/r_diarios</th>\n",
              "      <th>comprobacion</th>\n",
              "      <th>casos diarios</th>\n",
              "    </tr>\n",
              "  </thead>\n",
              "  <tbody>\n",
              "    <tr>\n",
              "      <th>0</th>\n",
              "      <td>2020-03-02</td>\n",
              "      <td>0</td>\n",
              "      <td>0</td>\n",
              "      <td>0</td>\n",
              "      <td>0</td>\n",
              "      <td>True</td>\n",
              "      <td>0</td>\n",
              "    </tr>\n",
              "    <tr>\n",
              "      <th>1</th>\n",
              "      <td>2020-03-03</td>\n",
              "      <td>0</td>\n",
              "      <td>0</td>\n",
              "      <td>0</td>\n",
              "      <td>0</td>\n",
              "      <td>True</td>\n",
              "      <td>0</td>\n",
              "    </tr>\n",
              "    <tr>\n",
              "      <th>2</th>\n",
              "      <td>2020-03-04</td>\n",
              "      <td>0</td>\n",
              "      <td>0</td>\n",
              "      <td>0</td>\n",
              "      <td>0</td>\n",
              "      <td>True</td>\n",
              "      <td>0</td>\n",
              "    </tr>\n",
              "    <tr>\n",
              "      <th>3</th>\n",
              "      <td>2020-03-05</td>\n",
              "      <td>0</td>\n",
              "      <td>0</td>\n",
              "      <td>0</td>\n",
              "      <td>0</td>\n",
              "      <td>True</td>\n",
              "      <td>0</td>\n",
              "    </tr>\n",
              "    <tr>\n",
              "      <th>4</th>\n",
              "      <td>2020-03-06</td>\n",
              "      <td>0</td>\n",
              "      <td>0</td>\n",
              "      <td>0</td>\n",
              "      <td>0</td>\n",
              "      <td>True</td>\n",
              "      <td>1</td>\n",
              "    </tr>\n",
              "    <tr>\n",
              "      <th>...</th>\n",
              "      <td>...</td>\n",
              "      <td>...</td>\n",
              "      <td>...</td>\n",
              "      <td>...</td>\n",
              "      <td>...</td>\n",
              "      <td>...</td>\n",
              "      <td>...</td>\n",
              "    </tr>\n",
              "    <tr>\n",
              "      <th>332</th>\n",
              "      <td>2021-01-28</td>\n",
              "      <td>120053</td>\n",
              "      <td>1882846</td>\n",
              "      <td>60377</td>\n",
              "      <td>1943223</td>\n",
              "      <td>True</td>\n",
              "      <td>8637</td>\n",
              "    </tr>\n",
              "    <tr>\n",
              "      <th>333</th>\n",
              "      <td>2021-01-29</td>\n",
              "      <td>111596</td>\n",
              "      <td>1899551</td>\n",
              "      <td>60717</td>\n",
              "      <td>1960268</td>\n",
              "      <td>True</td>\n",
              "      <td>5988</td>\n",
              "    </tr>\n",
              "    <tr>\n",
              "      <th>334</th>\n",
              "      <td>2021-01-30</td>\n",
              "      <td>102002</td>\n",
              "      <td>1916302</td>\n",
              "      <td>61042</td>\n",
              "      <td>1977344</td>\n",
              "      <td>True</td>\n",
              "      <td>3521</td>\n",
              "    </tr>\n",
              "    <tr>\n",
              "      <th>335</th>\n",
              "      <td>2021-01-31</td>\n",
              "      <td>91011</td>\n",
              "      <td>1931547</td>\n",
              "      <td>61351</td>\n",
              "      <td>1992898</td>\n",
              "      <td>True</td>\n",
              "      <td>1609</td>\n",
              "    </tr>\n",
              "    <tr>\n",
              "      <th>336</th>\n",
              "      <td>2021-02-01</td>\n",
              "      <td>75672</td>\n",
              "      <td>1945749</td>\n",
              "      <td>61632</td>\n",
              "      <td>2007381</td>\n",
              "      <td>True</td>\n",
              "      <td>12</td>\n",
              "    </tr>\n",
              "  </tbody>\n",
              "</table>\n",
              "<p>337 rows × 7 columns</p>\n",
              "</div>"
            ],
            "text/plain": [
              "        fechas  enfermos_diarios  ...  comprobacion  casos diarios\n",
              "0   2020-03-02                 0  ...          True              0\n",
              "1   2020-03-03                 0  ...          True              0\n",
              "2   2020-03-04                 0  ...          True              0\n",
              "3   2020-03-05                 0  ...          True              0\n",
              "4   2020-03-06                 0  ...          True              1\n",
              "..         ...               ...  ...           ...            ...\n",
              "332 2021-01-28            120053  ...          True           8637\n",
              "333 2021-01-29            111596  ...          True           5988\n",
              "334 2021-01-30            102002  ...          True           3521\n",
              "335 2021-01-31             91011  ...          True           1609\n",
              "336 2021-02-01             75672  ...          True             12\n",
              "\n",
              "[337 rows x 7 columns]"
            ]
          },
          "metadata": {
            "tags": []
          },
          "execution_count": 31
        }
      ]
    },
    {
      "cell_type": "code",
      "metadata": {
        "id": "tI9p8hFCTbMc"
      },
      "source": [
        "import matplotlib.pyplot as plt"
      ],
      "execution_count": 24,
      "outputs": []
    },
    {
      "cell_type": "code",
      "metadata": {
        "id": "r92RS0jbTc_F",
        "colab": {
          "base_uri": "https://localhost:8080/",
          "height": 282
        },
        "outputId": "a73d2e99-7a7d-46af-fce3-1c9fba4cdcd8"
      },
      "source": [
        "plt.plot(casos_diarios_DF[\"fechas\"],casos_diarios_DF[\"enfermos_diarios\"])"
      ],
      "execution_count": 25,
      "outputs": [
        {
          "output_type": "execute_result",
          "data": {
            "text/plain": [
              "[<matplotlib.lines.Line2D at 0x7f5931f37b00>]"
            ]
          },
          "metadata": {
            "tags": []
          },
          "execution_count": 25
        },
        {
          "output_type": "display_data",
          "data": {
            "image/png": "[encoded data removed]",
            "text/plain": [
              "<Figure size 432x288 with 1 Axes>"
            ]
          },
          "metadata": {
            "tags": [],
            "needs_background": "light"
          }
        }
      ]
    },
    {
      "cell_type": "code",
      "metadata": {
        "id": "fDWIhZDgTk0c",
        "colab": {
          "base_uri": "https://localhost:8080/",
          "height": 293
        },
        "outputId": "ae269801-5fbd-4b76-cac6-f67d61e8e007"
      },
      "source": [
        "plt.plot(casos_diarios_DF[\"fechas\"],casos_diarios_DF[\"recuperados_diarios\"])"
      ],
      "execution_count": 26,
      "outputs": [
        {
          "output_type": "execute_result",
          "data": {
            "text/plain": [
              "[<matplotlib.lines.Line2D at 0x7f5936aa3cc0>]"
            ]
          },
          "metadata": {
            "tags": []
          },
          "execution_count": 26
        },
        {
          "output_type": "display_data",
          "data": {
            "image/png": "[encoded data removed]",
            "text/plain": [
              "<Figure size 432x288 with 1 Axes>"
            ]
          },
          "metadata": {
            "tags": [],
            "needs_background": "light"
          }
        }
      ]
    },
    {
      "cell_type": "code",
      "metadata": {
        "id": "fXjm0tWdWkdY",
        "colab": {
          "base_uri": "https://localhost:8080/",
          "height": 282
        },
        "outputId": "9626d7ed-9b50-483a-e04a-6afce81e20c9"
      },
      "source": [
        "plt.plot(casos_diarios_DF[\"fechas\"],casos_diarios_DF[\"fallecidos_diarios\"])"
      ],
      "execution_count": 27,
      "outputs": [
        {
          "output_type": "execute_result",
          "data": {
            "text/plain": [
              "[<matplotlib.lines.Line2D at 0x7f5936a9c7b8>]"
            ]
          },
          "metadata": {
            "tags": []
          },
          "execution_count": 27
        },
        {
          "output_type": "display_data",
          "data": {
            "image/png": "[encoded data removed]",
            "text/plain": [
              "<Figure size 432x288 with 1 Axes>"
            ]
          },
          "metadata": {
            "tags": [],
            "needs_background": "light"
          }
        }
      ]
    },
    {
      "cell_type": "code",
      "metadata": {
        "id": "pw9tGObqWnV_",
        "colab": {
          "base_uri": "https://localhost:8080/",
          "height": 282
        },
        "outputId": "b9d86458-04d9-40cc-c7c8-cbaacab74fb0"
      },
      "source": [
        "plt.plot(casos_diarios_DF[\"fechas\"],casos_diarios_DF[\"casos diarios\"])"
      ],
      "execution_count": 36,
      "outputs": [
        {
          "output_type": "execute_result",
          "data": {
            "text/plain": [
              "[<matplotlib.lines.Line2D at 0x7f593660b4a8>]"
            ]
          },
          "metadata": {
            "tags": []
          },
          "execution_count": 36
        },
        {
          "output_type": "display_data",
          "data": {
            "image/png": "[encoded data removed]",
            "text/plain": [
              "<Figure size 432x288 with 1 Axes>"
            ]
          },
          "metadata": {
            "tags": [],
            "needs_background": "light"
          }
        }
      ]
    },
    {
      "cell_type": "code",
      "metadata": {
        "id": "6MWbIANxfDYk",
        "colab": {
          "base_uri": "https://localhost:8080/"
        },
        "outputId": "120cedc8-22aa-402e-a5ad-27e95abdf8c2"
      },
      "source": [
        "casos_diarios_DF[\"casos diarios\"].max()"
      ],
      "execution_count": 29,
      "outputs": [
        {
          "output_type": "execute_result",
          "data": {
            "text/plain": [
              "21251"
            ]
          },
          "metadata": {
            "tags": []
          },
          "execution_count": 29
        }
      ]
    },
    {
      "cell_type": "code",
      "metadata": {
        "id": "C9kZVUQxDcTs"
      },
      "source": [
        "casos_diarios_DF[\"casos diarios 7 dias\"] = casos_diarios_DF[\"casos diarios\"].rolling(7, min_periods=1).mean()"
      ],
      "execution_count": 32,
      "outputs": []
    },
    {
      "cell_type": "code",
      "metadata": {
        "colab": {
          "base_uri": "https://localhost:8080/",
          "height": 282
        },
        "id": "stsGpIIwOdro",
        "outputId": "1df408e3-939d-4d4b-89c7-81efebcbc15f"
      },
      "source": [
        "plt.plot(casos_diarios_DF[\"fechas\"],casos_diarios_DF[\"casos diarios\"])\r\n",
        "plt.plot(casos_diarios_DF[\"fechas\"],casos_diarios_DF[\"casos diarios 7 dias\"],linewidth=5)"
      ],
      "execution_count": 61,
      "outputs": [
        {
          "output_type": "execute_result",
          "data": {
            "text/plain": [
              "[<matplotlib.lines.Line2D at 0x7f592ba04cf8>]"
            ]
          },
          "metadata": {
            "tags": []
          },
          "execution_count": 61
        },
        {
          "output_type": "display_data",
          "data": {
            "image/png": "[encoded data removed]",
            "text/plain": [
              "<Figure size 432x288 with 1 Axes>"
            ]
          },
          "metadata": {
            "tags": [],
            "needs_background": "light"
          }
        }
      ]
    },
    {
      "cell_type": "code",
      "metadata": {
        "colab": {
          "base_uri": "https://localhost:8080/",
          "height": 265
        },
        "id": "0r5Ehc4eOfrF",
        "outputId": "ef6faef6-7714-4f26-d114-bfbfbe554bac"
      },
      "source": [
        "data=plt.hist(results_df[\"fecha_reporte_web\"],bins=len(results_df[\"fecha_reporte_web\"].unique())-1)"
      ],
      "execution_count": 57,
      "outputs": [
        {
          "output_type": "display_data",
          "data": {
            "image/png": "[encoded data removed]",
            "text/plain": [
              "<Figure size 432x288 with 1 Axes>"
            ]
          },
          "metadata": {
            "tags": [],
            "needs_background": "light"
          }
        }
      ]
    },
    {
      "cell_type": "code",
      "metadata": {
        "id": "vVnclDOtQ4aa"
      },
      "source": [
        "dataFrameAux={}\r\n",
        "dataFrameAux[\"enfermos dias\"]=data[0]\r\n",
        "dataFrameAux_DF=pd.DataFrame(data=dataFrameAux)\r\n",
        "dataFrameAux_DF[\"enfermos dias media 7 dias\"] = dataFrameAux_DF[\"enfermos dias\"].rolling(7, min_periods=1).mean()\r\n"
      ],
      "execution_count": 66,
      "outputs": []
    },
    {
      "cell_type": "code",
      "metadata": {
        "colab": {
          "base_uri": "https://localhost:8080/",
          "height": 282
        },
        "id": "XiT8yLvoSKb_",
        "outputId": "aa91e49a-9fed-4f77-dc93-8d5896cc699e"
      },
      "source": [
        "plt.plot(dataFrameAux_DF[\"enfermos dias\"],)\r\n",
        "plt.plot(dataFrameAux_DF[\"enfermos dias media 7 dias\"], linewidth=5)"
      ],
      "execution_count": 69,
      "outputs": [
        {
          "output_type": "execute_result",
          "data": {
            "text/plain": [
              "[<matplotlib.lines.Line2D at 0x7f592b70efd0>]"
            ]
          },
          "metadata": {
            "tags": []
          },
          "execution_count": 69
        },
        {
          "output_type": "display_data",
          "data": {
            "image/png": "[encoded data removed]",
            "text/plain": [
              "<Figure size 432x288 with 1 Axes>"
            ]
          },
          "metadata": {
            "tags": [],
            "needs_background": "light"
          }
        }
      ]
    },
    {
      "cell_type": "code",
      "metadata": {
        "colab": {
          "base_uri": "https://localhost:8080/",
          "height": 282
        },
        "id": "Xm1X36eTVaaq",
        "outputId": "1cca852c-73c9-4924-a0c8-a86bc3693e72"
      },
      "source": [
        "data=plt.hist(results_df[\"fecha_reporte_web\"],bins=len(results_df[\"fecha_reporte_web\"].unique())-1)\r\n",
        "plt.plot(dataFrameAux_DF[\"enfermos dias media 7 dias\"], linewidth=5)"
      ],
      "execution_count": 70,
      "outputs": [
        {
          "output_type": "execute_result",
          "data": {
            "text/plain": [
              "[<matplotlib.lines.Line2D at 0x7f592b876ba8>]"
            ]
          },
          "metadata": {
            "tags": []
          },
          "execution_count": 70
        },
        {
          "output_type": "display_data",
          "data": {
            "image/png": "[encoded data removed]",
            "text/plain": [
              "<Figure size 432x288 with 1 Axes>"
            ]
          },
          "metadata": {
            "tags": [],
            "needs_background": "light"
          }
        }
      ]
    },
    {
      "cell_type": "code",
      "metadata": {
        "colab": {
          "base_uri": "https://localhost:8080/",
          "height": 266
        },
        "id": "tRsEeYJqXHQt",
        "outputId": "ef305865-fac7-4cd8-a4b9-c96176ca17b7"
      },
      "source": [
        "dataR=plt.hist(results_df[pd.notna(results_df[\"fecha_recuperado\"])][\"fecha_recuperado\"],bins=len(results_df[pd.notna(results_df[\"fecha_recuperado\"])][\"fecha_recuperado\"].unique())-1)"
      ],
      "execution_count": 76,
      "outputs": [
        {
          "output_type": "display_data",
          "data": {
            "image/png": "[encoded data removed]",
            "text/plain": [
              "<Figure size 432x288 with 1 Axes>"
            ]
          },
          "metadata": {
            "tags": [],
            "needs_background": "light"
          }
        }
      ]
    },
    {
      "cell_type": "code",
      "metadata": {
        "id": "5wDDZ3BBY9GU"
      },
      "source": [
        "dataFrameAuxR={}\r\n",
        "dataFrameAuxR[\"recuperados dias\"]=dataR[0]\r\n",
        "dataFrameAuxR_DF=pd.DataFrame(data=dataFrameAuxR)\r\n",
        "dataFrameAuxR_DF[\"recuperados dias media 7 dias\"] = dataFrameAuxR_DF[\"recuperados dias\"].rolling(7, min_periods=1).mean()"
      ],
      "execution_count": 81,
      "outputs": []
    },
    {
      "cell_type": "code",
      "metadata": {
        "colab": {
          "base_uri": "https://localhost:8080/",
          "height": 283
        },
        "id": "ghSLCN2ZaQ0o",
        "outputId": "4ed45265-99bd-48c3-f60c-8de66d92ca6e"
      },
      "source": [
        "dataR=plt.hist(results_df[pd.notna(results_df[\"fecha_recuperado\"])][\"fecha_recuperado\"],bins=len(results_df[pd.notna(results_df[\"fecha_recuperado\"])][\"fecha_recuperado\"].unique())-1)\r\n",
        "plt.plot(dataFrameAuxR_DF[\"recuperados dias media 7 dias\"], linewidth=5)"
      ],
      "execution_count": 82,
      "outputs": [
        {
          "output_type": "execute_result",
          "data": {
            "text/plain": [
              "[<matplotlib.lines.Line2D at 0x7f592b63ba90>]"
            ]
          },
          "metadata": {
            "tags": []
          },
          "execution_count": 82
        },
        {
          "output_type": "display_data",
          "data": {
            "image/png": "[encoded data removed]",
            "text/plain": [
              "<Figure size 432x288 with 1 Axes>"
            ]
          },
          "metadata": {
            "tags": [],
            "needs_background": "light"
          }
        }
      ]
    },
    {
      "cell_type": "code",
      "metadata": {
        "colab": {
          "base_uri": "https://localhost:8080/",
          "height": 265
        },
        "id": "PVcuKUw9bHjO",
        "outputId": "ce8119aa-60ac-4a0d-a527-59048c3310f2"
      },
      "source": [
        "dataM=plt.hist(results_df[pd.notna(results_df[\"fecha_muerte\"])][\"fecha_muerte\"],bins=len(results_df[pd.notna(results_df[\"fecha_muerte\"])][\"fecha_muerte\"].unique())-1)"
      ],
      "execution_count": 90,
      "outputs": [
        {
          "output_type": "display_data",
          "data": {
            "image/png": "[encoded data removed]",
            "text/plain": [
              "<Figure size 432x288 with 1 Axes>"
            ]
          },
          "metadata": {
            "tags": [],
            "needs_background": "light"
          }
        }
      ]
    },
    {
      "cell_type": "code",
      "metadata": {
        "id": "VHQlNMnnbdeL"
      },
      "source": [
        "dataFrameAuxM={}\r\n",
        "dataFrameAuxM[\"muertos dias\"]=dataM[0]\r\n",
        "dataFrameAuxM_DF=pd.DataFrame(data=dataFrameAuxM)\r\n",
        "dataFrameAuxM_DF[\"muertos dias media 7 dias\"] = dataFrameAuxM_DF[\"muertos dias\"].rolling(7, min_periods=1).mean()"
      ],
      "execution_count": 91,
      "outputs": []
    },
    {
      "cell_type": "code",
      "metadata": {
        "colab": {
          "base_uri": "https://localhost:8080/",
          "height": 282
        },
        "id": "WzVX-HHyd2ir",
        "outputId": "1c65e84c-3d5a-41ed-ad4e-08136610b7c9"
      },
      "source": [
        "dataM=plt.hist(results_df[pd.notna(results_df[\"fecha_muerte\"])][\"fecha_muerte\"],bins=len(results_df[pd.notna(results_df[\"fecha_muerte\"])][\"fecha_muerte\"].unique())-1)\r\n",
        "plt.plot(dataFrameAuxM_DF[\"muertos dias media 7 dias\"], linewidth=5)"
      ],
      "execution_count": 92,
      "outputs": [
        {
          "output_type": "execute_result",
          "data": {
            "text/plain": [
              "[<matplotlib.lines.Line2D at 0x7f592a463b38>]"
            ]
          },
          "metadata": {
            "tags": []
          },
          "execution_count": 92
        },
        {
          "output_type": "display_data",
          "data": {
            "image/png": "[encoded data removed]",
            "text/plain": [
              "<Figure size 432x288 with 1 Axes>"
            ]
          },
          "metadata": {
            "tags": [],
            "needs_background": "light"
          }
        }
      ]
    },
    {
      "cell_type": "code",
      "metadata": {
        "id": "tqho1fHwd8WJ"
      },
      "source": [
        ""
      ],
      "execution_count": null,
      "outputs": []
    }
  ]
}