{
  "nbformat": 4,
  "nbformat_minor": 0,
  "metadata": {
    "colab": {
      "name": "Hallando Beta.ipynb",
      "provenance": [],
      "include_colab_link": true
    },
    "kernelspec": {
      "name": "python3",
      "display_name": "Python 3"
    }
  },
  "cells": [
    {
      "cell_type": "markdown",
      "metadata": {
        "id": "view-in-github",
        "colab_type": "text"
      },
      "source": [
        "<a href=\"https://colab.research.google.com/github/santiagoprado12/Tesis/blob/main/Hallando_Beta.ipynb\" target=\"_parent\"><img src=\"https://colab.research.google.com/assets/colab-badge.svg\" alt=\"Open In Colab\"/></a>"
      ]
    },
    {
      "cell_type": "code",
      "metadata": {
        "id": "c36DphaQq3wJ"
      },
      "source": [
        "import numpy as np\r\n",
        "import pandas as pd\r\n",
        "import matplotlib.pyplot as plt\r\n",
        "from scipy.integrate import odeint\r\n",
        "from scipy.optimize import minimize"
      ],
      "execution_count": 84,
      "outputs": []
    },
    {
      "cell_type": "code",
      "metadata": {
        "id": "zWLeo7V-z378"
      },
      "source": [
        "df = pd.read_csv(r'Casos diarios.csv')"
      ],
      "execution_count": 85,
      "outputs": []
    },
    {
      "cell_type": "code",
      "metadata": {
        "id": "HNUWpxLJqtqR"
      },
      "source": [
        "def derivSIR(y, t, N, beta, gamma):\r\n",
        "    S, I, R = y\r\n",
        "    dSdt = -beta * S * I / N\r\n",
        "    dIdt = beta * S * I / N - gamma * I\r\n",
        "    dRdt = gamma * I\r\n",
        "    return dSdt, dIdt, dRdt\r\n",
        "\r\n"
      ],
      "execution_count": 86,
      "outputs": []
    },
    {
      "cell_type": "code",
      "metadata": {
        "id": "VJn5Kzn04I7U"
      },
      "source": [
        "def modelSIR(V,R,N,beta,gamma):\r\n",
        "    t = np.linspace(0,len(V)-1,len(V))\r\n",
        "    y0 = N-V[0]-R[0],V[0],R[0]\r\n",
        "    S,I,R = odeint(derivSIR, y0, t, args=(N, beta, gamma)).T\r\n",
        "    dV = V\r\n",
        "    dI = I\r\n",
        "    return np.linalg.norm(dV-dI)"
      ],
      "execution_count": 87,
      "outputs": []
    },
    {
      "cell_type": "code",
      "metadata": {
        "id": "FhV6aoH04Mfp"
      },
      "source": [
        "the_gamma = 1/21\r\n",
        "def fitSIR(V,R,N):\r\n",
        "    res = minimize(lambda x:modelSIR(V,R,N,x,the_gamma),\r\n",
        "                            x0=0.5,method='powell')\r\n",
        "    return res.x"
      ],
      "execution_count": 88,
      "outputs": []
    },
    {
      "cell_type": "code",
      "metadata": {
        "id": "9GLiGve64Pa6"
      },
      "source": [
        "def compute_paramsSIR(df,population, start_index, ndays):\r\n",
        "  for i in range(start_index,len(df)-ndays):\r\n",
        "      V = df['Infected'][i:i+ndays].to_numpy()\r\n",
        "      R = df['Removed'][i:i+ndays].to_numpy()\r\n",
        "      beta = fitSIR(V,R,population)\r\n",
        "      df.loc[i,'Beta'] = beta\r\n",
        "      df.loc[i,'Gamma'] = the_gamma"
      ],
      "execution_count": 89,
      "outputs": []
    },
    {
      "cell_type": "markdown",
      "metadata": {
        "id": "1YxPpaB9zdZv"
      },
      "source": [
        "S=Poblacion total - Activos - recuperados - muertos\r\n",
        "\r\n",
        "I=Activos\r\n",
        "\r\n",
        "R=Recuperados + Muertos"
      ]
    },
    {
      "cell_type": "code",
      "metadata": {
        "colab": {
          "base_uri": "https://localhost:8080/",
          "height": 293
        },
        "id": "LUq8Scpczy5h",
        "outputId": "2ee38b0a-36af-4c39-82ad-a179c7d89072"
      },
      "source": [
        "n=2500000\r\n",
        "plt.plot(n-df['activos por dia']-df['acumulado recuperados']-df['acumulado muertes'])\r\n",
        "plt.plot(df['activos por dia'])\r\n",
        "plt.plot(df['acumulado recuperados']+df['acumulado muertes'])"
      ],
      "execution_count": 90,
      "outputs": [
        {
          "output_type": "execute_result",
          "data": {
            "text/plain": [
              "[<matplotlib.lines.Line2D at 0x7f95eb7e7950>]"
            ]
          },
          "metadata": {
            "tags": []
          },
          "execution_count": 90
        },
        {
          "output_type": "display_data",
          "data": {
            "image/png": "[encoded data removed]",
            "text/plain": [
              "<Figure size 432x288 with 1 Axes>"
            ]
          },
          "metadata": {
            "tags": [],
            "needs_background": "light"
          }
        }
      ]
    },
    {
      "cell_type": "code",
      "metadata": {
        "id": "N2A9U4Xots2H"
      },
      "source": [
        "df['Infected']=df['activos por dia']\r\n",
        "df['Recovered']=df['acumulado recuperados']\r\n",
        "df['Deaths']=df['acumulado muertes']\r\n",
        "df['Removed'] = df['Recovered']+df['Deaths']"
      ],
      "execution_count": 91,
      "outputs": []
    },
    {
      "cell_type": "code",
      "metadata": {
        "id": "EtQJCD_f4vlH"
      },
      "source": [
        "init_index=20\r\n",
        "compute_paramsSIR(df,48200000, init_index, 3)\r\n",
        "df['Rt'] = df['Beta'] / df['Gamma']"
      ],
      "execution_count": 92,
      "outputs": []
    },
    {
      "cell_type": "code",
      "metadata": {
        "id": "jPCd2MpY8bW4"
      },
      "source": [
        "res=[]\r\n",
        "N= 48200000\r\n",
        "the_gamma = 1/21\r\n",
        "I_a=df['Infected'][init_index]\r\n",
        "res=[I_a]\r\n",
        "R_a=df['Removed'][init_index]\r\n",
        "S_a=N-I_a-R_a\r\n",
        "\r\n",
        "for be in df['Beta'][init_index:]:\r\n",
        "  t = np.linspace(0,1,2)\r\n",
        "  y0 = S_a,I_a,R_a\r\n",
        "  S,I,R = odeint(derivSIR, y0, t, args=(N, be, the_gamma)).T\r\n",
        "  I_a=I[1]\r\n",
        "  R_a=R[1]\r\n",
        "  S_a=S[1]\r\n",
        "  res.append(I[1])"
      ],
      "execution_count": 93,
      "outputs": []
    },
    {
      "cell_type": "code",
      "metadata": {
        "colab": {
          "base_uri": "https://localhost:8080/",
          "height": 285
        },
        "id": "QaWV4s-f8b6G",
        "outputId": "6261c5fe-854d-4afd-a334-80fdf3a103a0"
      },
      "source": [
        "plt.plot(range(0,len(df['activos por dia'][init_index:])),df['activos por dia'][init_index:])\r\n",
        "plt.plot(res)"
      ],
      "execution_count": 94,
      "outputs": [
        {
          "output_type": "execute_result",
          "data": {
            "text/plain": [
              "[<matplotlib.lines.Line2D at 0x7f95eb7660d0>]"
            ]
          },
          "metadata": {
            "tags": []
          },
          "execution_count": 94
        },
        {
          "output_type": "display_data",
          "data": {
            "image/png": "[encoded data removed]",
            "text/plain": [
              "<Figure size 432x288 with 1 Axes>"
            ]
          },
          "metadata": {
            "tags": [],
            "needs_background": "light"
          }
        }
      ]
    },
    {
      "cell_type": "code",
      "metadata": {
        "id": "6mE0PgrHvfPQ"
      },
      "source": [
        "df1 = pd.read_csv(r'Casos diarios.csv')"
      ],
      "execution_count": 95,
      "outputs": []
    },
    {
      "cell_type": "code",
      "metadata": {
        "id": "Y_HV0krH0TFi"
      },
      "source": [
        "df1[\"Gamma\"]=df[\"Gamma\"]"
      ],
      "execution_count": 96,
      "outputs": []
    },
    {
      "cell_type": "code",
      "metadata": {
        "id": "KdpUxmE40ZPq"
      },
      "source": [
        "df1[\"Beta\"]=df[\"Beta\"]"
      ],
      "execution_count": 97,
      "outputs": []
    },
    {
      "cell_type": "code",
      "metadata": {
        "id": "blAuANCdQ4Nf"
      },
      "source": [
        "df1=df1[20:337]"
      ],
      "execution_count": 98,
      "outputs": []
    },
    {
      "cell_type": "code",
      "metadata": {
        "id": "pnhmWbrPRSkm",
        "colab": {
          "base_uri": "https://localhost:8080/",
          "height": 623
        },
        "outputId": "ab6f4af2-5eb3-43ed-c3b6-135c78266bef"
      },
      "source": [
        "df1"
      ],
      "execution_count": 99,
      "outputs": [
        {
          "output_type": "execute_result",
          "data": {
            "text/html": [
              "<div>\n",
              "<style scoped>\n",
              "    .dataframe tbody tr th:only-of-type {\n",
              "        vertical-align: middle;\n",
              "    }\n",
              "\n",
              "    .dataframe tbody tr th {\n",
              "        vertical-align: top;\n",
              "    }\n",
              "\n",
              "    .dataframe thead th {\n",
              "        text-align: right;\n",
              "    }\n",
              "</style>\n",
              "<table border=\"1\" class=\"dataframe\">\n",
              "  <thead>\n",
              "    <tr style=\"text-align: right;\">\n",
              "      <th></th>\n",
              "      <th>fechas</th>\n",
              "      <th>casos por dia</th>\n",
              "      <th>fallecidos por dia</th>\n",
              "      <th>recuperados por dia</th>\n",
              "      <th>sintomaticos activos</th>\n",
              "      <th>acumulado muertes</th>\n",
              "      <th>acumulado recuperados</th>\n",
              "      <th>acumulado casos</th>\n",
              "      <th>acumulado sintomaticos</th>\n",
              "      <th>activos por dia</th>\n",
              "      <th>asintomaticos</th>\n",
              "      <th>Gamma</th>\n",
              "      <th>Beta</th>\n",
              "    </tr>\n",
              "  </thead>\n",
              "  <tbody>\n",
              "    <tr>\n",
              "      <th>20</th>\n",
              "      <td>2020-03-26</td>\n",
              "      <td>154</td>\n",
              "      <td>2</td>\n",
              "      <td>16</td>\n",
              "      <td>132</td>\n",
              "      <td>8</td>\n",
              "      <td>43</td>\n",
              "      <td>2003</td>\n",
              "      <td>1930</td>\n",
              "      <td>1952</td>\n",
              "      <td>22</td>\n",
              "      <td>0.047619</td>\n",
              "      <td>0.111758</td>\n",
              "    </tr>\n",
              "    <tr>\n",
              "      <th>21</th>\n",
              "      <td>2020-03-27</td>\n",
              "      <td>149</td>\n",
              "      <td>3</td>\n",
              "      <td>18</td>\n",
              "      <td>124</td>\n",
              "      <td>10</td>\n",
              "      <td>59</td>\n",
              "      <td>2157</td>\n",
              "      <td>2062</td>\n",
              "      <td>2088</td>\n",
              "      <td>26</td>\n",
              "      <td>0.047619</td>\n",
              "      <td>0.105232</td>\n",
              "    </tr>\n",
              "    <tr>\n",
              "      <th>22</th>\n",
              "      <td>2020-03-28</td>\n",
              "      <td>163</td>\n",
              "      <td>5</td>\n",
              "      <td>33</td>\n",
              "      <td>113</td>\n",
              "      <td>13</td>\n",
              "      <td>77</td>\n",
              "      <td>2306</td>\n",
              "      <td>2186</td>\n",
              "      <td>2216</td>\n",
              "      <td>30</td>\n",
              "      <td>0.047619</td>\n",
              "      <td>0.094348</td>\n",
              "    </tr>\n",
              "    <tr>\n",
              "      <th>23</th>\n",
              "      <td>2020-03-29</td>\n",
              "      <td>113</td>\n",
              "      <td>1</td>\n",
              "      <td>29</td>\n",
              "      <td>82</td>\n",
              "      <td>18</td>\n",
              "      <td>110</td>\n",
              "      <td>2469</td>\n",
              "      <td>2299</td>\n",
              "      <td>2341</td>\n",
              "      <td>42</td>\n",
              "      <td>0.047619</td>\n",
              "      <td>0.085215</td>\n",
              "    </tr>\n",
              "    <tr>\n",
              "      <th>24</th>\n",
              "      <td>2020-03-30</td>\n",
              "      <td>143</td>\n",
              "      <td>5</td>\n",
              "      <td>35</td>\n",
              "      <td>100</td>\n",
              "      <td>19</td>\n",
              "      <td>139</td>\n",
              "      <td>2582</td>\n",
              "      <td>2381</td>\n",
              "      <td>2424</td>\n",
              "      <td>43</td>\n",
              "      <td>0.047619</td>\n",
              "      <td>0.084224</td>\n",
              "    </tr>\n",
              "    <tr>\n",
              "      <th>...</th>\n",
              "      <td>...</td>\n",
              "      <td>...</td>\n",
              "      <td>...</td>\n",
              "      <td>...</td>\n",
              "      <td>...</td>\n",
              "      <td>...</td>\n",
              "      <td>...</td>\n",
              "      <td>...</td>\n",
              "      <td>...</td>\n",
              "      <td>...</td>\n",
              "      <td>...</td>\n",
              "      <td>...</td>\n",
              "      <td>...</td>\n",
              "    </tr>\n",
              "    <tr>\n",
              "      <th>332</th>\n",
              "      <td>2021-02-01</td>\n",
              "      <td>5413</td>\n",
              "      <td>271</td>\n",
              "      <td>16321</td>\n",
              "      <td>-9476</td>\n",
              "      <td>54941</td>\n",
              "      <td>1925350</td>\n",
              "      <td>2174215</td>\n",
              "      <td>169745</td>\n",
              "      <td>193924</td>\n",
              "      <td>24179</td>\n",
              "      <td>0.047619</td>\n",
              "      <td>-0.023994</td>\n",
              "    </tr>\n",
              "    <tr>\n",
              "      <th>333</th>\n",
              "      <td>2021-02-02</td>\n",
              "      <td>4594</td>\n",
              "      <td>265</td>\n",
              "      <td>19752</td>\n",
              "      <td>-16066</td>\n",
              "      <td>55212</td>\n",
              "      <td>1941671</td>\n",
              "      <td>2179628</td>\n",
              "      <td>160269</td>\n",
              "      <td>182745</td>\n",
              "      <td>22476</td>\n",
              "      <td>0.047619</td>\n",
              "      <td>-0.042456</td>\n",
              "    </tr>\n",
              "    <tr>\n",
              "      <th>334</th>\n",
              "      <td>2021-02-03</td>\n",
              "      <td>3731</td>\n",
              "      <td>266</td>\n",
              "      <td>17582</td>\n",
              "      <td>-11616</td>\n",
              "      <td>55477</td>\n",
              "      <td>1961423</td>\n",
              "      <td>2184222</td>\n",
              "      <td>144203</td>\n",
              "      <td>167322</td>\n",
              "      <td>23119</td>\n",
              "      <td>0.047619</td>\n",
              "      <td>-0.031196</td>\n",
              "    </tr>\n",
              "    <tr>\n",
              "      <th>335</th>\n",
              "      <td>2021-02-04</td>\n",
              "      <td>3588</td>\n",
              "      <td>264</td>\n",
              "      <td>12311</td>\n",
              "      <td>-6988</td>\n",
              "      <td>55743</td>\n",
              "      <td>1979005</td>\n",
              "      <td>2187953</td>\n",
              "      <td>132587</td>\n",
              "      <td>153205</td>\n",
              "      <td>20618</td>\n",
              "      <td>0.047619</td>\n",
              "      <td>-0.000387</td>\n",
              "    </tr>\n",
              "    <tr>\n",
              "      <th>336</th>\n",
              "      <td>2021-02-05</td>\n",
              "      <td>3417</td>\n",
              "      <td>242</td>\n",
              "      <td>7260</td>\n",
              "      <td>-2990</td>\n",
              "      <td>56007</td>\n",
              "      <td>1991316</td>\n",
              "      <td>2191541</td>\n",
              "      <td>125599</td>\n",
              "      <td>144218</td>\n",
              "      <td>18619</td>\n",
              "      <td>0.047619</td>\n",
              "      <td>0.002931</td>\n",
              "    </tr>\n",
              "  </tbody>\n",
              "</table>\n",
              "<p>317 rows × 13 columns</p>\n",
              "</div>"
            ],
            "text/plain": [
              "         fechas  casos por dia  ...     Gamma      Beta\n",
              "20   2020-03-26            154  ...  0.047619  0.111758\n",
              "21   2020-03-27            149  ...  0.047619  0.105232\n",
              "22   2020-03-28            163  ...  0.047619  0.094348\n",
              "23   2020-03-29            113  ...  0.047619  0.085215\n",
              "24   2020-03-30            143  ...  0.047619  0.084224\n",
              "..          ...            ...  ...       ...       ...\n",
              "332  2021-02-01           5413  ...  0.047619 -0.023994\n",
              "333  2021-02-02           4594  ...  0.047619 -0.042456\n",
              "334  2021-02-03           3731  ...  0.047619 -0.031196\n",
              "335  2021-02-04           3588  ...  0.047619 -0.000387\n",
              "336  2021-02-05           3417  ...  0.047619  0.002931\n",
              "\n",
              "[317 rows x 13 columns]"
            ]
          },
          "metadata": {
            "tags": []
          },
          "execution_count": 99
        }
      ]
    },
    {
      "cell_type": "code",
      "metadata": {
        "id": "WhpAo7pg0qbN"
      },
      "source": [
        "df1.to_csv(r'Casos diarios y Beta.csv', index = False)"
      ],
      "execution_count": 100,
      "outputs": []
    }
  ]
}